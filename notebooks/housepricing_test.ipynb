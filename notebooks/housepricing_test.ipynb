{
 "cells": [
  {
   "cell_type": "code",
   "execution_count": 1,
   "metadata": {},
   "outputs": [
    {
     "data": {
      "text/plain": [
       "'/root/repos/lightning/HousePricing'"
      ]
     },
     "execution_count": 1,
     "metadata": {},
     "output_type": "execute_result"
    }
   ],
   "source": [
    "import os\n",
    "from pathlib import Path\n",
    "\n",
    "p = Path.cwd()\n",
    "os.chdir(p.parent)\n",
    "os.getcwd()"
   ]
  },
  {
   "cell_type": "code",
   "execution_count": 2,
   "metadata": {},
   "outputs": [
    {
     "name": "stdout",
     "output_type": "stream",
     "text": [
      "odict_keys(['WANDB_API_KEY', 'WANDB_NAME'])\n",
      "odict_keys(['WANDB_NOTEBOOK_NAME'])\n"
     ]
    }
   ],
   "source": [
    "from dotenv import dotenv_values\n",
    "import os\n",
    "\n",
    "envs = [\"secret.env\", \"test.env\"]\n",
    "\n",
    "for fenv in envs:\n",
    "    file = os.path.join(\"env\", fenv)\n",
    "    config = dotenv_values(file)  # load sensitive variables\n",
    "    print(config.keys())\n",
    "    for c, v in config.items():\n",
    "        os.environ[c] = v"
   ]
  },
  {
   "cell_type": "code",
   "execution_count": 3,
   "metadata": {},
   "outputs": [
    {
     "name": "stderr",
     "output_type": "stream",
     "text": [
      "\u001b[34m\u001b[1mwandb\u001b[0m: Currently logged in as: \u001b[33mwilber-quito\u001b[0m (\u001b[33mdeepsat\u001b[0m). Use \u001b[1m`wandb login --relogin`\u001b[0m to force relogin\n",
      "\u001b[34m\u001b[1mwandb\u001b[0m: \u001b[33mWARNING\u001b[0m If you're specifying your api key in code, ensure this code is not shared publicly.\n",
      "\u001b[34m\u001b[1mwandb\u001b[0m: \u001b[33mWARNING\u001b[0m Consider setting the WANDB_API_KEY environment variable, or running `wandb login` from the command line.\n",
      "\u001b[34m\u001b[1mwandb\u001b[0m: Appending key for api.wandb.ai to your netrc file: /root/.netrc\n"
     ]
    },
    {
     "data": {
      "text/plain": [
       "True"
      ]
     },
     "execution_count": 3,
     "metadata": {},
     "output_type": "execute_result"
    }
   ],
   "source": [
    "import wandb\n",
    "import os\n",
    "\n",
    "wandb_key = os.environ[\"WANDB_API_KEY\"]\n",
    "wandb.login(key=wandb_key)"
   ]
  },
  {
   "cell_type": "code",
   "execution_count": 4,
   "metadata": {},
   "outputs": [
    {
     "name": "stdout",
     "output_type": "stream",
     "text": [
      "[INFO]: Skipping downloading data. Data is already downloaded\n",
      "[INFO]: Reloading set up data...\n"
     ]
    }
   ],
   "source": [
    "# Preparing data to be used\n",
    "from src.data import HousePricingDataModule\n",
    "\n",
    "data_module = HousePricingDataModule()\n",
    "data_module.prepare_data()"
   ]
  },
  {
   "cell_type": "code",
   "execution_count": 5,
   "metadata": {},
   "outputs": [
    {
     "data": {
      "text/html": [
       "<div>\n",
       "<style scoped>\n",
       "    .dataframe tbody tr th:only-of-type {\n",
       "        vertical-align: middle;\n",
       "    }\n",
       "\n",
       "    .dataframe tbody tr th {\n",
       "        vertical-align: top;\n",
       "    }\n",
       "\n",
       "    .dataframe thead th {\n",
       "        text-align: right;\n",
       "    }\n",
       "</style>\n",
       "<table border=\"1\" class=\"dataframe\">\n",
       "  <thead>\n",
       "    <tr style=\"text-align: right;\">\n",
       "      <th></th>\n",
       "      <th>run_name</th>\n",
       "      <th>best_model</th>\n",
       "      <th>fit_accelerator</th>\n",
       "      <th>fit_max_epochs</th>\n",
       "      <th>fit_patience</th>\n",
       "      <th>fit_lr</th>\n",
       "      <th>fit_batch_size</th>\n",
       "      <th>fit_in_features</th>\n",
       "      <th>fit_validation_size</th>\n",
       "    </tr>\n",
       "  </thead>\n",
       "  <tbody>\n",
       "    <tr>\n",
       "      <th>0</th>\n",
       "      <td>Mr._ZI1EUZUC</td>\n",
       "      <td>./lightning_logs/mrsat7bm/checkpoints/house_pr...</td>\n",
       "      <td>gpu</td>\n",
       "      <td>1000</td>\n",
       "      <td>100</td>\n",
       "      <td>0.001</td>\n",
       "      <td>256</td>\n",
       "      <td>244</td>\n",
       "      <td>0.1</td>\n",
       "    </tr>\n",
       "    <tr>\n",
       "      <th>1</th>\n",
       "      <td>Gerald_4LIP1BLK</td>\n",
       "      <td>./lightning_logs/3478itnz/checkpoints/house_pr...</td>\n",
       "      <td>gpu</td>\n",
       "      <td>1000</td>\n",
       "      <td>100</td>\n",
       "      <td>0.001</td>\n",
       "      <td>256</td>\n",
       "      <td>244</td>\n",
       "      <td>0.1</td>\n",
       "    </tr>\n",
       "    <tr>\n",
       "      <th>2</th>\n",
       "      <td>Stacey_Y41HGQZW</td>\n",
       "      <td>./lightning_logs/27yrkxwa/checkpoints/house_pr...</td>\n",
       "      <td>gpu</td>\n",
       "      <td>1000</td>\n",
       "      <td>100</td>\n",
       "      <td>0.001</td>\n",
       "      <td>256</td>\n",
       "      <td>244</td>\n",
       "      <td>0.1</td>\n",
       "    </tr>\n",
       "  </tbody>\n",
       "</table>\n",
       "</div>"
      ],
      "text/plain": [
       "          run_name                                         best_model  \\\n",
       "0     Mr._ZI1EUZUC  ./lightning_logs/mrsat7bm/checkpoints/house_pr...   \n",
       "1  Gerald_4LIP1BLK  ./lightning_logs/3478itnz/checkpoints/house_pr...   \n",
       "2  Stacey_Y41HGQZW  ./lightning_logs/27yrkxwa/checkpoints/house_pr...   \n",
       "\n",
       "  fit_accelerator  fit_max_epochs  fit_patience  fit_lr  fit_batch_size  \\\n",
       "0             gpu            1000           100   0.001             256   \n",
       "1             gpu            1000           100   0.001             256   \n",
       "2             gpu            1000           100   0.001             256   \n",
       "\n",
       "   fit_in_features  fit_validation_size  \n",
       "0              244                  0.1  \n",
       "1              244                  0.1  \n",
       "2              244                  0.1  "
      ]
     },
     "execution_count": 5,
     "metadata": {},
     "output_type": "execute_result"
    }
   ],
   "source": [
    "import pandas as pd\n",
    "\n",
    "artifacts = pd.read_csv(\"artifacts.csv\")\n",
    "artifacts"
   ]
  },
  {
   "cell_type": "code",
   "execution_count": 6,
   "metadata": {},
   "outputs": [
    {
     "data": {
      "text/plain": [
       "[{'run_name': 'Mr._ZI1EUZUC',\n",
       "  'best_model': './lightning_logs/mrsat7bm/checkpoints/house_pricing-epoch=956-val_loss=383568800.00.ckpt',\n",
       "  'fit_accelerator': 'gpu',\n",
       "  'fit_max_epochs': 1000,\n",
       "  'fit_patience': 100,\n",
       "  'fit_lr': 0.001,\n",
       "  'fit_batch_size': 256,\n",
       "  'fit_in_features': 244,\n",
       "  'fit_validation_size': 0.1},\n",
       " {'run_name': 'Gerald_4LIP1BLK',\n",
       "  'best_model': './lightning_logs/3478itnz/checkpoints/house_pricing-epoch=831-val_loss=389454272.00.ckpt',\n",
       "  'fit_accelerator': 'gpu',\n",
       "  'fit_max_epochs': 1000,\n",
       "  'fit_patience': 100,\n",
       "  'fit_lr': 0.001,\n",
       "  'fit_batch_size': 256,\n",
       "  'fit_in_features': 244,\n",
       "  'fit_validation_size': 0.1},\n",
       " {'run_name': 'Stacey_Y41HGQZW',\n",
       "  'best_model': './lightning_logs/27yrkxwa/checkpoints/house_pricing-epoch=818-val_loss=392531328.00.ckpt',\n",
       "  'fit_accelerator': 'gpu',\n",
       "  'fit_max_epochs': 1000,\n",
       "  'fit_patience': 100,\n",
       "  'fit_lr': 0.001,\n",
       "  'fit_batch_size': 256,\n",
       "  'fit_in_features': 244,\n",
       "  'fit_validation_size': 0.1}]"
      ]
     },
     "execution_count": 6,
     "metadata": {},
     "output_type": "execute_result"
    }
   ],
   "source": [
    "artifacts = artifacts.to_dict(orient=\"records\")\n",
    "artifacts"
   ]
  },
  {
   "cell_type": "code",
   "execution_count": 7,
   "metadata": {},
   "outputs": [
    {
     "data": {
      "text/html": [
       "Tracking run with wandb version 0.16.6"
      ],
      "text/plain": [
       "<IPython.core.display.HTML object>"
      ]
     },
     "metadata": {},
     "output_type": "display_data"
    },
    {
     "data": {
      "text/html": [
       "Run data is saved locally in <code>/root/repos/lightning/HousePricing/wandb/run-20240422_132731-7tlmq252</code>"
      ],
      "text/plain": [
       "<IPython.core.display.HTML object>"
      ]
     },
     "metadata": {},
     "output_type": "display_data"
    },
    {
     "data": {
      "text/html": [
       "Syncing run <strong><a href='https://wandb.ai/deepsat/House%20Pricing/runs/7tlmq252' target=\"_blank\">Mr._ZI1EUZUC</a></strong> to <a href='https://wandb.ai/deepsat/House%20Pricing' target=\"_blank\">Weights & Biases</a> (<a href='https://wandb.me/run' target=\"_blank\">docs</a>)<br/>"
      ],
      "text/plain": [
       "<IPython.core.display.HTML object>"
      ]
     },
     "metadata": {},
     "output_type": "display_data"
    },
    {
     "data": {
      "text/html": [
       " View project at <a href='https://wandb.ai/deepsat/House%20Pricing' target=\"_blank\">https://wandb.ai/deepsat/House%20Pricing</a>"
      ],
      "text/plain": [
       "<IPython.core.display.HTML object>"
      ]
     },
     "metadata": {},
     "output_type": "display_data"
    },
    {
     "data": {
      "text/html": [
       " View run at <a href='https://wandb.ai/deepsat/House%20Pricing/runs/7tlmq252' target=\"_blank\">https://wandb.ai/deepsat/House%20Pricing/runs/7tlmq252</a>"
      ],
      "text/plain": [
       "<IPython.core.display.HTML object>"
      ]
     },
     "metadata": {},
     "output_type": "display_data"
    },
    {
     "name": "stderr",
     "output_type": "stream",
     "text": [
      "GPU available: True (cuda), used: True\n",
      "TPU available: False, using: 0 TPU cores\n",
      "IPU available: False, using: 0 IPUs\n",
      "HPU available: False, using: 0 HPUs\n"
     ]
    },
    {
     "name": "stdout",
     "output_type": "stream",
     "text": [
      "[INFO]: Input size: 244\n"
     ]
    },
    {
     "name": "stderr",
     "output_type": "stream",
     "text": [
      "/root/miniconda3/envs/pricehousing/lib/python3.9/site-packages/pytorch_lightning/loggers/wandb.py:391: There is a wandb run already in progress and newly created instances of `WandbLogger` will reuse this run. If this is not desired, call `wandb.finish()` before instantiating `WandbLogger`.\n",
      "LOCAL_RANK: 0 - CUDA_VISIBLE_DEVICES: [0]\n",
      "/root/miniconda3/envs/pricehousing/lib/python3.9/site-packages/lightning/pytorch/trainer/connectors/data_connector.py:441: The 'test_dataloader' does not have many workers which may be a bottleneck. Consider increasing the value of the `num_workers` argument` to `num_workers=11` in the `DataLoader` to improve performance.\n"
     ]
    },
    {
     "name": "stdout",
     "output_type": "stream",
     "text": [
      "[INFO]: Skipping downloading data. Data is already downloaded\n",
      "[INFO]: Reloading set up data...\n",
      "[INFO]: Setting up test dataset/s\n",
      "[INFO]: Test dataloader size: 2\n",
      "Testing DataLoader 0: 100%|██████████| 2/2 [00:00<00:00, 21.34it/s]\n",
      "────────────────────────────────────────────────────────────────────────────────────────────────────────────────────────\n",
      "       Test metric             DataLoader 0\n",
      "────────────────────────────────────────────────────────────────────────────────────────────────────────────────────────\n",
      "        test_loss               633113280.0\n",
      "────────────────────────────────────────────────────────────────────────────────────────────────────────────────────────\n"
     ]
    },
    {
     "data": {
      "text/html": [
       "<style>\n",
       "    table.wandb td:nth-child(1) { padding: 0 10px; text-align: left ; width: auto;} td:nth-child(2) {text-align: left ; width: 100%}\n",
       "    .wandb-row { display: flex; flex-direction: row; flex-wrap: wrap; justify-content: flex-start; width: 100% }\n",
       "    .wandb-col { display: flex; flex-direction: column; flex-basis: 100%; flex: 1; padding: 10px; }\n",
       "    </style>\n",
       "<div class=\"wandb-row\"><div class=\"wandb-col\"><h3>Run history:</h3><br/><table class=\"wandb\"><tr><td>epoch</td><td>▁</td></tr><tr><td>test_loss</td><td>▁</td></tr><tr><td>trainer/global_step</td><td>▁</td></tr></table><br/></div><div class=\"wandb-col\"><h3>Run summary:</h3><br/><table class=\"wandb\"><tr><td>epoch</td><td>0</td></tr><tr><td>test_loss</td><td>633113280.0</td></tr><tr><td>trainer/global_step</td><td>0</td></tr></table><br/></div></div>"
      ],
      "text/plain": [
       "<IPython.core.display.HTML object>"
      ]
     },
     "metadata": {},
     "output_type": "display_data"
    },
    {
     "data": {
      "text/html": [
       " View run <strong style=\"color:#cdcd00\">Mr._ZI1EUZUC</strong> at: <a href='https://wandb.ai/deepsat/House%20Pricing/runs/7tlmq252' target=\"_blank\">https://wandb.ai/deepsat/House%20Pricing/runs/7tlmq252</a><br/> View project at: <a href='https://wandb.ai/deepsat/House%20Pricing' target=\"_blank\">https://wandb.ai/deepsat/House%20Pricing</a><br/>Synced 6 W&B file(s), 0 media file(s), 0 artifact file(s) and 0 other file(s)"
      ],
      "text/plain": [
       "<IPython.core.display.HTML object>"
      ]
     },
     "metadata": {},
     "output_type": "display_data"
    },
    {
     "data": {
      "text/html": [
       "Find logs at: <code>./wandb/run-20240422_132731-7tlmq252/logs</code>"
      ],
      "text/plain": [
       "<IPython.core.display.HTML object>"
      ]
     },
     "metadata": {},
     "output_type": "display_data"
    },
    {
     "data": {
      "text/html": [
       "Tracking run with wandb version 0.16.6"
      ],
      "text/plain": [
       "<IPython.core.display.HTML object>"
      ]
     },
     "metadata": {},
     "output_type": "display_data"
    },
    {
     "data": {
      "text/html": [
       "Run data is saved locally in <code>/root/repos/lightning/HousePricing/wandb/run-20240422_132739-t2un29gl</code>"
      ],
      "text/plain": [
       "<IPython.core.display.HTML object>"
      ]
     },
     "metadata": {},
     "output_type": "display_data"
    },
    {
     "data": {
      "text/html": [
       "Syncing run <strong><a href='https://wandb.ai/deepsat/House%20Pricing/runs/t2un29gl' target=\"_blank\">Gerald_4LIP1BLK</a></strong> to <a href='https://wandb.ai/deepsat/House%20Pricing' target=\"_blank\">Weights & Biases</a> (<a href='https://wandb.me/run' target=\"_blank\">docs</a>)<br/>"
      ],
      "text/plain": [
       "<IPython.core.display.HTML object>"
      ]
     },
     "metadata": {},
     "output_type": "display_data"
    },
    {
     "data": {
      "text/html": [
       " View project at <a href='https://wandb.ai/deepsat/House%20Pricing' target=\"_blank\">https://wandb.ai/deepsat/House%20Pricing</a>"
      ],
      "text/plain": [
       "<IPython.core.display.HTML object>"
      ]
     },
     "metadata": {},
     "output_type": "display_data"
    },
    {
     "data": {
      "text/html": [
       " View run at <a href='https://wandb.ai/deepsat/House%20Pricing/runs/t2un29gl' target=\"_blank\">https://wandb.ai/deepsat/House%20Pricing/runs/t2un29gl</a>"
      ],
      "text/plain": [
       "<IPython.core.display.HTML object>"
      ]
     },
     "metadata": {},
     "output_type": "display_data"
    },
    {
     "name": "stderr",
     "output_type": "stream",
     "text": [
      "GPU available: True (cuda), used: True\n",
      "TPU available: False, using: 0 TPU cores\n",
      "IPU available: False, using: 0 IPUs\n",
      "HPU available: False, using: 0 HPUs\n",
      "/root/miniconda3/envs/pricehousing/lib/python3.9/site-packages/pytorch_lightning/loggers/wandb.py:391: There is a wandb run already in progress and newly created instances of `WandbLogger` will reuse this run. If this is not desired, call `wandb.finish()` before instantiating `WandbLogger`.\n",
      "LOCAL_RANK: 0 - CUDA_VISIBLE_DEVICES: [0]\n",
      "/root/miniconda3/envs/pricehousing/lib/python3.9/site-packages/lightning/pytorch/trainer/connectors/data_connector.py:441: The 'test_dataloader' does not have many workers which may be a bottleneck. Consider increasing the value of the `num_workers` argument` to `num_workers=11` in the `DataLoader` to improve performance.\n"
     ]
    },
    {
     "name": "stdout",
     "output_type": "stream",
     "text": [
      "[INFO]: Input size: 244\n",
      "[INFO]: Skipping downloading data. Data is already downloaded\n",
      "[INFO]: Reloading set up data...\n",
      "[INFO]: Setting up test dataset/s\n",
      "[INFO]: Test dataloader size: 2\n",
      "Testing DataLoader 0: 100%|██████████| 2/2 [00:00<00:00, 69.72it/s] \n",
      "────────────────────────────────────────────────────────────────────────────────────────────────────────────────────────\n",
      "       Test metric             DataLoader 0\n",
      "────────────────────────────────────────────────────────────────────────────────────────────────────────────────────────\n",
      "        test_loss               654472576.0\n",
      "────────────────────────────────────────────────────────────────────────────────────────────────────────────────────────\n"
     ]
    },
    {
     "data": {
      "text/html": [
       "<style>\n",
       "    table.wandb td:nth-child(1) { padding: 0 10px; text-align: left ; width: auto;} td:nth-child(2) {text-align: left ; width: 100%}\n",
       "    .wandb-row { display: flex; flex-direction: row; flex-wrap: wrap; justify-content: flex-start; width: 100% }\n",
       "    .wandb-col { display: flex; flex-direction: column; flex-basis: 100%; flex: 1; padding: 10px; }\n",
       "    </style>\n",
       "<div class=\"wandb-row\"><div class=\"wandb-col\"><h3>Run history:</h3><br/><table class=\"wandb\"><tr><td>epoch</td><td>▁</td></tr><tr><td>test_loss</td><td>▁</td></tr><tr><td>trainer/global_step</td><td>▁</td></tr></table><br/></div><div class=\"wandb-col\"><h3>Run summary:</h3><br/><table class=\"wandb\"><tr><td>epoch</td><td>0</td></tr><tr><td>test_loss</td><td>654472576.0</td></tr><tr><td>trainer/global_step</td><td>0</td></tr></table><br/></div></div>"
      ],
      "text/plain": [
       "<IPython.core.display.HTML object>"
      ]
     },
     "metadata": {},
     "output_type": "display_data"
    },
    {
     "data": {
      "text/html": [
       " View run <strong style=\"color:#cdcd00\">Gerald_4LIP1BLK</strong> at: <a href='https://wandb.ai/deepsat/House%20Pricing/runs/t2un29gl' target=\"_blank\">https://wandb.ai/deepsat/House%20Pricing/runs/t2un29gl</a><br/> View project at: <a href='https://wandb.ai/deepsat/House%20Pricing' target=\"_blank\">https://wandb.ai/deepsat/House%20Pricing</a><br/>Synced 6 W&B file(s), 0 media file(s), 0 artifact file(s) and 0 other file(s)"
      ],
      "text/plain": [
       "<IPython.core.display.HTML object>"
      ]
     },
     "metadata": {},
     "output_type": "display_data"
    },
    {
     "data": {
      "text/html": [
       "Find logs at: <code>./wandb/run-20240422_132739-t2un29gl/logs</code>"
      ],
      "text/plain": [
       "<IPython.core.display.HTML object>"
      ]
     },
     "metadata": {},
     "output_type": "display_data"
    },
    {
     "data": {
      "text/html": [
       "Tracking run with wandb version 0.16.6"
      ],
      "text/plain": [
       "<IPython.core.display.HTML object>"
      ]
     },
     "metadata": {},
     "output_type": "display_data"
    },
    {
     "data": {
      "text/html": [
       "Run data is saved locally in <code>/root/repos/lightning/HousePricing/wandb/run-20240422_132749-bomb1hgu</code>"
      ],
      "text/plain": [
       "<IPython.core.display.HTML object>"
      ]
     },
     "metadata": {},
     "output_type": "display_data"
    },
    {
     "data": {
      "text/html": [
       "Syncing run <strong><a href='https://wandb.ai/deepsat/House%20Pricing/runs/bomb1hgu' target=\"_blank\">Stacey_Y41HGQZW</a></strong> to <a href='https://wandb.ai/deepsat/House%20Pricing' target=\"_blank\">Weights & Biases</a> (<a href='https://wandb.me/run' target=\"_blank\">docs</a>)<br/>"
      ],
      "text/plain": [
       "<IPython.core.display.HTML object>"
      ]
     },
     "metadata": {},
     "output_type": "display_data"
    },
    {
     "data": {
      "text/html": [
       " View project at <a href='https://wandb.ai/deepsat/House%20Pricing' target=\"_blank\">https://wandb.ai/deepsat/House%20Pricing</a>"
      ],
      "text/plain": [
       "<IPython.core.display.HTML object>"
      ]
     },
     "metadata": {},
     "output_type": "display_data"
    },
    {
     "data": {
      "text/html": [
       " View run at <a href='https://wandb.ai/deepsat/House%20Pricing/runs/bomb1hgu' target=\"_blank\">https://wandb.ai/deepsat/House%20Pricing/runs/bomb1hgu</a>"
      ],
      "text/plain": [
       "<IPython.core.display.HTML object>"
      ]
     },
     "metadata": {},
     "output_type": "display_data"
    },
    {
     "name": "stderr",
     "output_type": "stream",
     "text": [
      "GPU available: True (cuda), used: True\n",
      "TPU available: False, using: 0 TPU cores\n",
      "IPU available: False, using: 0 IPUs\n",
      "HPU available: False, using: 0 HPUs\n",
      "/root/miniconda3/envs/pricehousing/lib/python3.9/site-packages/pytorch_lightning/loggers/wandb.py:391: There is a wandb run already in progress and newly created instances of `WandbLogger` will reuse this run. If this is not desired, call `wandb.finish()` before instantiating `WandbLogger`.\n",
      "LOCAL_RANK: 0 - CUDA_VISIBLE_DEVICES: [0]\n",
      "/root/miniconda3/envs/pricehousing/lib/python3.9/site-packages/lightning/pytorch/trainer/connectors/data_connector.py:441: The 'test_dataloader' does not have many workers which may be a bottleneck. Consider increasing the value of the `num_workers` argument` to `num_workers=11` in the `DataLoader` to improve performance.\n"
     ]
    },
    {
     "name": "stdout",
     "output_type": "stream",
     "text": [
      "[INFO]: Input size: 244\n",
      "[INFO]: Skipping downloading data. Data is already downloaded\n",
      "[INFO]: Reloading set up data...\n",
      "[INFO]: Setting up test dataset/s\n",
      "[INFO]: Test dataloader size: 2\n",
      "Testing DataLoader 0: 100%|██████████| 2/2 [00:00<00:00, 147.96it/s]\n",
      "────────────────────────────────────────────────────────────────────────────────────────────────────────────────────────\n",
      "       Test metric             DataLoader 0\n",
      "────────────────────────────────────────────────────────────────────────────────────────────────────────────────────────\n",
      "        test_loss               642005888.0\n",
      "────────────────────────────────────────────────────────────────────────────────────────────────────────────────────────\n"
     ]
    },
    {
     "data": {
      "text/html": [
       "<style>\n",
       "    table.wandb td:nth-child(1) { padding: 0 10px; text-align: left ; width: auto;} td:nth-child(2) {text-align: left ; width: 100%}\n",
       "    .wandb-row { display: flex; flex-direction: row; flex-wrap: wrap; justify-content: flex-start; width: 100% }\n",
       "    .wandb-col { display: flex; flex-direction: column; flex-basis: 100%; flex: 1; padding: 10px; }\n",
       "    </style>\n",
       "<div class=\"wandb-row\"><div class=\"wandb-col\"><h3>Run history:</h3><br/><table class=\"wandb\"><tr><td>epoch</td><td>▁</td></tr><tr><td>test_loss</td><td>▁</td></tr><tr><td>trainer/global_step</td><td>▁</td></tr></table><br/></div><div class=\"wandb-col\"><h3>Run summary:</h3><br/><table class=\"wandb\"><tr><td>epoch</td><td>0</td></tr><tr><td>test_loss</td><td>642005888.0</td></tr><tr><td>trainer/global_step</td><td>0</td></tr></table><br/></div></div>"
      ],
      "text/plain": [
       "<IPython.core.display.HTML object>"
      ]
     },
     "metadata": {},
     "output_type": "display_data"
    },
    {
     "data": {
      "text/html": [
       " View run <strong style=\"color:#cdcd00\">Stacey_Y41HGQZW</strong> at: <a href='https://wandb.ai/deepsat/House%20Pricing/runs/bomb1hgu' target=\"_blank\">https://wandb.ai/deepsat/House%20Pricing/runs/bomb1hgu</a><br/> View project at: <a href='https://wandb.ai/deepsat/House%20Pricing' target=\"_blank\">https://wandb.ai/deepsat/House%20Pricing</a><br/>Synced 6 W&B file(s), 0 media file(s), 0 artifact file(s) and 0 other file(s)"
      ],
      "text/plain": [
       "<IPython.core.display.HTML object>"
      ]
     },
     "metadata": {},
     "output_type": "display_data"
    },
    {
     "data": {
      "text/html": [
       "Find logs at: <code>./wandb/run-20240422_132749-bomb1hgu/logs</code>"
      ],
      "text/plain": [
       "<IPython.core.display.HTML object>"
      ]
     },
     "metadata": {},
     "output_type": "display_data"
    }
   ],
   "source": [
    "import os\n",
    "from lightning import Trainer\n",
    "import torch\n",
    "\n",
    "from pytorch_lightning.loggers import WandbLogger\n",
    "\n",
    "from src.model import NeuralNetwork\n",
    "\n",
    "project_name = os.environ[\"WANDB_NAME\"]\n",
    "\n",
    "accelerator = \"gpu\" if torch.cuda.is_available() else \"cpu\"\n",
    "in_features = data_module.data_features()\n",
    "\n",
    "config = {\n",
    "    \"accelerator\": accelerator,\n",
    "    \"in_features\": in_features,\n",
    "}\n",
    "\n",
    "test_results = list()\n",
    "\n",
    "for artifact in artifacts:\n",
    "\n",
    "    run_name = artifact[\"run_name\"]\n",
    "    best_model = artifact[\"best_model\"]\n",
    "\n",
    "    wandb.init(\n",
    "        job_type=\"test\",\n",
    "        name=run_name,\n",
    "        project=project_name,\n",
    "        config=config,\n",
    "    )\n",
    "\n",
    "    model = NeuralNetwork.load_from_checkpoint(\n",
    "        checkpoint_path=best_model, input_size=in_features\n",
    "    )\n",
    "\n",
    "    logger = WandbLogger(checkpoint_name=run_name)\n",
    "\n",
    "    trainer = Trainer(\n",
    "        accelerator=wandb.config[\"accelerator\"], logger=logger, log_every_n_steps=1\n",
    "    )\n",
    "\n",
    "    test_loss = trainer.test(model, datamodule=data_module)\n",
    "\n",
    "    data = {\"run_name\": run_name, \"best_model\": best_model, \"test_loss\": test_loss}\n",
    "\n",
    "    test_results.append(data)\n",
    "\n",
    "    wandb.finish()"
   ]
  },
  {
   "cell_type": "code",
   "execution_count": 8,
   "metadata": {},
   "outputs": [
    {
     "data": {
      "text/plain": [
       "[{'run_name': 'Mr._ZI1EUZUC',\n",
       "  'best_model': './lightning_logs/mrsat7bm/checkpoints/house_pricing-epoch=956-val_loss=383568800.00.ckpt',\n",
       "  'test_loss': [{'test_loss': 633113280.0}]},\n",
       " {'run_name': 'Gerald_4LIP1BLK',\n",
       "  'best_model': './lightning_logs/3478itnz/checkpoints/house_pricing-epoch=831-val_loss=389454272.00.ckpt',\n",
       "  'test_loss': [{'test_loss': 654472576.0}]},\n",
       " {'run_name': 'Stacey_Y41HGQZW',\n",
       "  'best_model': './lightning_logs/27yrkxwa/checkpoints/house_pricing-epoch=818-val_loss=392531328.00.ckpt',\n",
       "  'test_loss': [{'test_loss': 642005888.0}]}]"
      ]
     },
     "execution_count": 8,
     "metadata": {},
     "output_type": "execute_result"
    }
   ],
   "source": [
    "test_results"
   ]
  }
 ],
 "metadata": {
  "kernelspec": {
   "display_name": "pricehousing",
   "language": "python",
   "name": "python3"
  },
  "language_info": {
   "codemirror_mode": {
    "name": "ipython",
    "version": 3
   },
   "file_extension": ".py",
   "mimetype": "text/x-python",
   "name": "python",
   "nbconvert_exporter": "python",
   "pygments_lexer": "ipython3",
   "version": "3.9.19"
  }
 },
 "nbformat": 4,
 "nbformat_minor": 2
}
