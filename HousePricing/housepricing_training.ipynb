{
 "cells": [
  {
   "cell_type": "code",
   "execution_count": 1,
   "metadata": {},
   "outputs": [
    {
     "name": "stdout",
     "output_type": "stream",
     "text": [
      "odict_keys(['WANDB_API_KEY', 'WANDB_NAME', 'WANDB_NOTES', 'WANDB_NOTEBOOK_NAME'])\n"
     ]
    }
   ],
   "source": [
    "from dotenv import dotenv_values\n",
    "import os\n",
    "\n",
    "config = dotenv_values(\".env.secret\")  # load sensitive variables\n",
    "print(config.keys())\n",
    "\n",
    "for c, v in config.items():\n",
    "    os.environ[c] = v"
   ]
  },
  {
   "cell_type": "code",
   "execution_count": 2,
   "metadata": {},
   "outputs": [
    {
     "name": "stderr",
     "output_type": "stream",
     "text": [
      "\u001b[34m\u001b[1mwandb\u001b[0m: Currently logged in as: \u001b[33mwilber-quito\u001b[0m (\u001b[33mdeepsat\u001b[0m). Use \u001b[1m`wandb login --relogin`\u001b[0m to force relogin\n",
      "\u001b[34m\u001b[1mwandb\u001b[0m: \u001b[33mWARNING\u001b[0m If you're specifying your api key in code, ensure this code is not shared publicly.\n",
      "\u001b[34m\u001b[1mwandb\u001b[0m: \u001b[33mWARNING\u001b[0m Consider setting the WANDB_API_KEY environment variable, or running `wandb login` from the command line.\n",
      "\u001b[34m\u001b[1mwandb\u001b[0m: Appending key for api.wandb.ai to your netrc file: /root/.netrc\n"
     ]
    },
    {
     "data": {
      "text/plain": [
       "True"
      ]
     },
     "execution_count": 2,
     "metadata": {},
     "output_type": "execute_result"
    }
   ],
   "source": [
    "import wandb\n",
    "\n",
    "wandb_key = os.environ[\"WANDB_API_KEY\"]\n",
    "wandb.login(key=wandb_key)"
   ]
  },
  {
   "cell_type": "code",
   "execution_count": 3,
   "metadata": {},
   "outputs": [
    {
     "data": {
      "text/plain": [
       "True"
      ]
     },
     "execution_count": 3,
     "metadata": {},
     "output_type": "execute_result"
    }
   ],
   "source": [
    "import torch\n",
    "\n",
    "torch.cuda.is_available()"
   ]
  },
  {
   "cell_type": "code",
   "execution_count": 4,
   "metadata": {},
   "outputs": [
    {
     "data": {
      "text/plain": [
       "1"
      ]
     },
     "execution_count": 4,
     "metadata": {},
     "output_type": "execute_result"
    }
   ],
   "source": [
    "import torch\n",
    "\n",
    "torch.cuda.device_count()"
   ]
  },
  {
   "cell_type": "code",
   "execution_count": 5,
   "metadata": {},
   "outputs": [
    {
     "data": {
      "text/plain": [
       "'NVIDIA GeForce GTX 1650'"
      ]
     },
     "execution_count": 5,
     "metadata": {},
     "output_type": "execute_result"
    }
   ],
   "source": [
    "import torch\n",
    "\n",
    "torch.cuda.get_device_name()"
   ]
  },
  {
   "cell_type": "code",
   "execution_count": 6,
   "metadata": {},
   "outputs": [
    {
     "data": {
      "text/plain": [
       "11"
      ]
     },
     "execution_count": 6,
     "metadata": {},
     "output_type": "execute_result"
    }
   ],
   "source": [
    "import os\n",
    "\n",
    "max(1, os.cpu_count() -1)"
   ]
  },
  {
   "cell_type": "code",
   "execution_count": 7,
   "metadata": {},
   "outputs": [
    {
     "name": "stdout",
     "output_type": "stream",
     "text": [
      "[INFO]: Preprocessing training dataframe...\n",
      "[INFO]: Dropping columns with full of NA or Identifiers. Current dataframe shape: (1460, 81)\n",
      "[INFO]: Dropped columns with full of NA or Identifiers. Current dataframe shape: (1460, 74)\n",
      "[INFO]: Dropping categories types with few ocurrence. Current dataframe shape: (1460, 74)\n",
      "[INFO]: Few ocurrences removed. Current dataframe shape: (1443, 74)\n",
      "[INFO]: Dropping columns which contains just one type of category. Current dataframe shape: (1443, 74)\n",
      "[INFO]: Columns with just one type of categroy dropped. Current dataframe shape: (1443, 73)\n",
      "[INFO]: Preprocessing predict dataframe...\n",
      "[INFO]: Dropping columns with full of NA or Identifiers. Current dataframe shape: (1459, 80)\n",
      "[INFO]: Dropped columns with full of NA or Identifiers. Current dataframe shape: (1459, 73)\n",
      "[INFO]: Input size: 244\n"
     ]
    },
    {
     "data": {
      "text/html": [
       "Tracking run with wandb version 0.16.6"
      ],
      "text/plain": [
       "<IPython.core.display.HTML object>"
      ]
     },
     "metadata": {},
     "output_type": "display_data"
    },
    {
     "data": {
      "text/html": [
       "Run data is saved locally in <code>./wandb/run-20240417_160350-oowkn7p4</code>"
      ],
      "text/plain": [
       "<IPython.core.display.HTML object>"
      ]
     },
     "metadata": {},
     "output_type": "display_data"
    },
    {
     "data": {
      "text/html": [
       "Syncing run <strong><a href='https://wandb.ai/deepsat/housepricing-lighning/runs/oowkn7p4' target=\"_blank\">batch_size_256_run_id_0</a></strong> to <a href='https://wandb.ai/deepsat/housepricing-lighning' target=\"_blank\">Weights & Biases</a> (<a href='https://wandb.me/run' target=\"_blank\">docs</a>)<br/>"
      ],
      "text/plain": [
       "<IPython.core.display.HTML object>"
      ]
     },
     "metadata": {},
     "output_type": "display_data"
    },
    {
     "data": {
      "text/html": [
       " View project at <a href='https://wandb.ai/deepsat/housepricing-lighning' target=\"_blank\">https://wandb.ai/deepsat/housepricing-lighning</a>"
      ],
      "text/plain": [
       "<IPython.core.display.HTML object>"
      ]
     },
     "metadata": {},
     "output_type": "display_data"
    },
    {
     "data": {
      "text/html": [
       " View run at <a href='https://wandb.ai/deepsat/housepricing-lighning/runs/oowkn7p4' target=\"_blank\">https://wandb.ai/deepsat/housepricing-lighning/runs/oowkn7p4</a>"
      ],
      "text/plain": [
       "<IPython.core.display.HTML object>"
      ]
     },
     "metadata": {},
     "output_type": "display_data"
    },
    {
     "name": "stderr",
     "output_type": "stream",
     "text": [
      "GPU available: True (cuda), used: True\n",
      "TPU available: False, using: 0 TPU cores\n",
      "IPU available: False, using: 0 IPUs\n",
      "HPU available: False, using: 0 HPUs\n"
     ]
    },
    {
     "name": "stdout",
     "output_type": "stream",
     "text": [
      "[INFO]: Preprocessing training dataframe...\n",
      "[INFO]: Dropping columns with full of NA or Identifiers. Current dataframe shape: (1460, 81)\n",
      "[INFO]: Dropped columns with full of NA or Identifiers. Current dataframe shape: (1460, 74)\n",
      "[INFO]: Dropping categories types with few ocurrence. Current dataframe shape: (1460, 74)\n",
      "[INFO]: Few ocurrences removed. Current dataframe shape: (1443, 74)\n",
      "[INFO]: Dropping columns which contains just one type of category. Current dataframe shape: (1443, 74)\n",
      "[INFO]: Columns with just one type of categroy dropped. Current dataframe shape: (1443, 73)\n",
      "[INFO]: Preprocessing predict dataframe...\n",
      "[INFO]: Dropping columns with full of NA or Identifiers. Current dataframe shape: (1459, 80)\n",
      "[INFO]: Dropped columns with full of NA or Identifiers. Current dataframe shape: (1459, 73)\n"
     ]
    },
    {
     "name": "stderr",
     "output_type": "stream",
     "text": [
      "LOCAL_RANK: 0 - CUDA_VISIBLE_DEVICES: [0]\n",
      "\n",
      "  | Name | Type       | Params\n",
      "------------------------------------\n",
      "0 | net  | Sequential | 215 K \n",
      "------------------------------------\n",
      "215 K     Trainable params\n",
      "0         Non-trainable params\n",
      "215 K     Total params\n",
      "0.864     Total estimated model params size (MB)\n"
     ]
    },
    {
     "name": "stdout",
     "output_type": "stream",
     "text": [
      "[INFO]: Setting up fit dataset/s\n",
      "[INFO]: Train dataset size: 981\n",
      "[INFO]: Validation dataset size: 173\n",
      "Sanity Checking: |          | 0/? [00:00<?, ?it/s][INFO]: Validation dataloader size: 1\n",
      "Sanity Checking DataLoader 0:   0%|          | 0/1 [00:00<?, ?it/s]"
     ]
    },
    {
     "name": "stderr",
     "output_type": "stream",
     "text": [
      "/root/miniconda3/envs/pricehousing/lib/python3.9/site-packages/lightning/pytorch/trainer/connectors/data_connector.py:492: Your `val_dataloader`'s sampler has shuffling enabled, it is strongly recommended that you turn shuffling off for val/test dataloaders.\n",
      "/root/miniconda3/envs/pricehousing/lib/python3.9/site-packages/lightning/pytorch/trainer/connectors/data_connector.py:441: The 'val_dataloader' does not have many workers which may be a bottleneck. Consider increasing the value of the `num_workers` argument` to `num_workers=11` in the `DataLoader` to improve performance.\n"
     ]
    },
    {
     "name": "stdout",
     "output_type": "stream",
     "text": [
      "                                                                           "
     ]
    },
    {
     "name": "stderr",
     "output_type": "stream",
     "text": [
      "/root/miniconda3/envs/pricehousing/lib/python3.9/site-packages/lightning/pytorch/trainer/connectors/data_connector.py:441: The 'train_dataloader' does not have many workers which may be a bottleneck. Consider increasing the value of the `num_workers` argument` to `num_workers=11` in the `DataLoader` to improve performance.\n"
     ]
    },
    {
     "name": "stdout",
     "output_type": "stream",
     "text": [
      "[INFO]: Train dataloader size: 4\n",
      "Epoch 499: 100%|██████████| 4/4 [00:00<00:00, 36.04it/s, v_num=n7p4]"
     ]
    },
    {
     "name": "stderr",
     "output_type": "stream",
     "text": [
      "`Trainer.fit` stopped: `max_epochs=500` reached.\n"
     ]
    },
    {
     "name": "stdout",
     "output_type": "stream",
     "text": [
      "Epoch 499: 100%|██████████| 4/4 [00:00<00:00, 32.91it/s, v_num=n7p4]\n",
      "[INFO]: Preprocessing training dataframe...\n",
      "[INFO]: Dropping columns with full of NA or Identifiers. Current dataframe shape: (1460, 81)\n",
      "[INFO]: Dropped columns with full of NA or Identifiers. Current dataframe shape: (1460, 74)\n",
      "[INFO]: Dropping categories types with few ocurrence. Current dataframe shape: (1460, 74)\n",
      "[INFO]: Few ocurrences removed. Current dataframe shape: (1443, 74)\n",
      "[INFO]: Dropping columns which contains just one type of category. Current dataframe shape: (1443, 74)\n",
      "[INFO]: Columns with just one type of categroy dropped. Current dataframe shape: (1443, 73)\n",
      "[INFO]: Preprocessing predict dataframe...\n",
      "[INFO]: Dropping columns with full of NA or Identifiers. Current dataframe shape: (1459, 80)\n",
      "[INFO]: Dropped columns with full of NA or Identifiers. Current dataframe shape: (1459, 73)\n"
     ]
    },
    {
     "name": "stderr",
     "output_type": "stream",
     "text": [
      "LOCAL_RANK: 0 - CUDA_VISIBLE_DEVICES: [0]\n",
      "/root/miniconda3/envs/pricehousing/lib/python3.9/site-packages/lightning/pytorch/trainer/connectors/data_connector.py:441: The 'test_dataloader' does not have many workers which may be a bottleneck. Consider increasing the value of the `num_workers` argument` to `num_workers=11` in the `DataLoader` to improve performance.\n"
     ]
    },
    {
     "name": "stdout",
     "output_type": "stream",
     "text": [
      "[INFO]: Setting up test dataset/s\n",
      "[INFO]: Test dataloader size: 2\n",
      "Testing DataLoader 0: 100%|██████████| 2/2 [00:00<00:00, 151.74it/s]\n",
      "────────────────────────────────────────────────────────────────────────────────────────────────────────────────────────\n",
      "       Test metric             DataLoader 0\n",
      "────────────────────────────────────────────────────────────────────────────────────────────────────────────────────────\n",
      "        test_loss               864627072.0\n",
      "────────────────────────────────────────────────────────────────────────────────────────────────────────────────────────\n",
      "[INFO]: Preprocessing training dataframe...\n",
      "[INFO]: Dropping columns with full of NA or Identifiers. Current dataframe shape: (1460, 81)\n",
      "[INFO]: Dropped columns with full of NA or Identifiers. Current dataframe shape: (1460, 74)\n",
      "[INFO]: Dropping categories types with few ocurrence. Current dataframe shape: (1460, 74)\n",
      "[INFO]: Few ocurrences removed. Current dataframe shape: (1443, 74)\n",
      "[INFO]: Dropping columns which contains just one type of category. Current dataframe shape: (1443, 74)\n",
      "[INFO]: Columns with just one type of categroy dropped. Current dataframe shape: (1443, 73)\n",
      "[INFO]: Preprocessing predict dataframe...\n",
      "[INFO]: Dropping columns with full of NA or Identifiers. Current dataframe shape: (1459, 80)\n",
      "[INFO]: Dropped columns with full of NA or Identifiers. Current dataframe shape: (1459, 73)\n"
     ]
    },
    {
     "name": "stderr",
     "output_type": "stream",
     "text": [
      "LOCAL_RANK: 0 - CUDA_VISIBLE_DEVICES: [0]\n",
      "/root/miniconda3/envs/pricehousing/lib/python3.9/site-packages/lightning/pytorch/trainer/connectors/data_connector.py:441: The 'predict_dataloader' does not have many workers which may be a bottleneck. Consider increasing the value of the `num_workers` argument` to `num_workers=11` in the `DataLoader` to improve performance.\n"
     ]
    },
    {
     "name": "stdout",
     "output_type": "stream",
     "text": [
      "[INFO]: Setting up predict dataset/s\n",
      "[INFO]: Predict dataloader size: 6\n",
      "Predicting DataLoader 0: 100%|██████████| 6/6 [00:00<00:00, 101.13it/s]\n",
      "tensor([[127336.6328],\n",
      "        [167635.1250],\n",
      "        [190072.6719],\n",
      "        [199972.1250],\n",
      "        [186025.4219]])\n"
     ]
    },
    {
     "data": {
      "text/html": [
       "<style>\n",
       "    table.wandb td:nth-child(1) { padding: 0 10px; text-align: left ; width: auto;} td:nth-child(2) {text-align: left ; width: 100%}\n",
       "    .wandb-row { display: flex; flex-direction: row; flex-wrap: wrap; justify-content: flex-start; width: 100% }\n",
       "    .wandb-col { display: flex; flex-direction: column; flex-basis: 100%; flex: 1; padding: 10px; }\n",
       "    </style>\n",
       "<div class=\"wandb-row\"><div class=\"wandb-col\"><h3>Run history:</h3><br/><table class=\"wandb\"><tr><td>epoch</td><td>▁▁▁▁▂▂▂▂▂▃▃▃▃▃▃▄▄▄▄▄▅▅▅▅▅▅▆▆▆▆▆▇▇▇▇▇▇███</td></tr><tr><td>test_loss</td><td>▁</td></tr><tr><td>train_loss</td><td>█▁▁▁▁▁▁▁▁▁▁▁▁▁▁▁▁▁▁▁▁▁▁▁▁▁▁▁▁▁▁▁▁▁▁▁▁▁▁▁</td></tr><tr><td>trainer/global_step</td><td>▁▁▁▁▂▂▂▂▂▃▃▃▃▃▃▄▄▄▄▄▅▅▅▅▅▅▆▆▆▆▆▇▇▇▇▇▇███</td></tr><tr><td>val_loss</td><td>█▁▁▁▁▁▁▁▁▁▁▁▁▁▁▁▁▁▁▁▁▁▁▁▁▁▁▁▁▁▁▁▁▁▁▁▁▁▁▁</td></tr></table><br/></div><div class=\"wandb-col\"><h3>Run summary:</h3><br/><table class=\"wandb\"><tr><td>epoch</td><td>500</td></tr><tr><td>test_loss</td><td>864627072.0</td></tr><tr><td>train_loss</td><td>152219440.0</td></tr><tr><td>trainer/global_step</td><td>2000</td></tr><tr><td>val_loss</td><td>1346718976.0</td></tr></table><br/></div></div>"
      ],
      "text/plain": [
       "<IPython.core.display.HTML object>"
      ]
     },
     "metadata": {},
     "output_type": "display_data"
    },
    {
     "data": {
      "text/html": [
       " View run <strong style=\"color:#cdcd00\">batch_size_256_run_id_0</strong> at: <a href='https://wandb.ai/deepsat/housepricing-lighning/runs/oowkn7p4' target=\"_blank\">https://wandb.ai/deepsat/housepricing-lighning/runs/oowkn7p4</a><br/> View project at: <a href='https://wandb.ai/deepsat/housepricing-lighning' target=\"_blank\">https://wandb.ai/deepsat/housepricing-lighning</a><br/>Synced 6 W&B file(s), 0 media file(s), 0 artifact file(s) and 0 other file(s)"
      ],
      "text/plain": [
       "<IPython.core.display.HTML object>"
      ]
     },
     "metadata": {},
     "output_type": "display_data"
    },
    {
     "data": {
      "text/html": [
       "Find logs at: <code>./wandb/run-20240417_160350-oowkn7p4/logs</code>"
      ],
      "text/plain": [
       "<IPython.core.display.HTML object>"
      ]
     },
     "metadata": {},
     "output_type": "display_data"
    },
    {
     "name": "stdout",
     "output_type": "stream",
     "text": [
      "[INFO]: Preprocessing training dataframe...\n",
      "[INFO]: Dropping columns with full of NA or Identifiers. Current dataframe shape: (1460, 81)\n",
      "[INFO]: Dropped columns with full of NA or Identifiers. Current dataframe shape: (1460, 74)\n",
      "[INFO]: Dropping categories types with few ocurrence. Current dataframe shape: (1460, 74)\n",
      "[INFO]: Few ocurrences removed. Current dataframe shape: (1443, 74)\n",
      "[INFO]: Dropping columns which contains just one type of category. Current dataframe shape: (1443, 74)\n",
      "[INFO]: Columns with just one type of categroy dropped. Current dataframe shape: (1443, 73)\n",
      "[INFO]: Preprocessing predict dataframe...\n",
      "[INFO]: Dropping columns with full of NA or Identifiers. Current dataframe shape: (1459, 80)\n",
      "[INFO]: Dropped columns with full of NA or Identifiers. Current dataframe shape: (1459, 73)\n",
      "[INFO]: Input size: 244\n"
     ]
    },
    {
     "data": {
      "text/html": [
       "Tracking run with wandb version 0.16.6"
      ],
      "text/plain": [
       "<IPython.core.display.HTML object>"
      ]
     },
     "metadata": {},
     "output_type": "display_data"
    },
    {
     "data": {
      "text/html": [
       "Run data is saved locally in <code>./wandb/run-20240417_160506-9xxkq8s6</code>"
      ],
      "text/plain": [
       "<IPython.core.display.HTML object>"
      ]
     },
     "metadata": {},
     "output_type": "display_data"
    },
    {
     "data": {
      "text/html": [
       "Syncing run <strong><a href='https://wandb.ai/deepsat/housepricing-lighning/runs/9xxkq8s6' target=\"_blank\">batch_size_256_run_id_1</a></strong> to <a href='https://wandb.ai/deepsat/housepricing-lighning' target=\"_blank\">Weights & Biases</a> (<a href='https://wandb.me/run' target=\"_blank\">docs</a>)<br/>"
      ],
      "text/plain": [
       "<IPython.core.display.HTML object>"
      ]
     },
     "metadata": {},
     "output_type": "display_data"
    },
    {
     "data": {
      "text/html": [
       " View project at <a href='https://wandb.ai/deepsat/housepricing-lighning' target=\"_blank\">https://wandb.ai/deepsat/housepricing-lighning</a>"
      ],
      "text/plain": [
       "<IPython.core.display.HTML object>"
      ]
     },
     "metadata": {},
     "output_type": "display_data"
    },
    {
     "data": {
      "text/html": [
       " View run at <a href='https://wandb.ai/deepsat/housepricing-lighning/runs/9xxkq8s6' target=\"_blank\">https://wandb.ai/deepsat/housepricing-lighning/runs/9xxkq8s6</a>"
      ],
      "text/plain": [
       "<IPython.core.display.HTML object>"
      ]
     },
     "metadata": {},
     "output_type": "display_data"
    },
    {
     "name": "stderr",
     "output_type": "stream",
     "text": [
      "GPU available: True (cuda), used: True\n",
      "TPU available: False, using: 0 TPU cores\n",
      "IPU available: False, using: 0 IPUs\n",
      "HPU available: False, using: 0 HPUs\n"
     ]
    },
    {
     "name": "stdout",
     "output_type": "stream",
     "text": [
      "[INFO]: Preprocessing training dataframe...\n",
      "[INFO]: Dropping columns with full of NA or Identifiers. Current dataframe shape: (1460, 81)\n",
      "[INFO]: Dropped columns with full of NA or Identifiers. Current dataframe shape: (1460, 74)\n",
      "[INFO]: Dropping categories types with few ocurrence. Current dataframe shape: (1460, 74)\n",
      "[INFO]: Few ocurrences removed. Current dataframe shape: (1443, 74)\n",
      "[INFO]: Dropping columns which contains just one type of category. Current dataframe shape: (1443, 74)\n",
      "[INFO]: Columns with just one type of categroy dropped. Current dataframe shape: (1443, 73)\n",
      "[INFO]: Preprocessing predict dataframe...\n",
      "[INFO]: Dropping columns with full of NA or Identifiers. Current dataframe shape: (1459, 80)\n",
      "[INFO]: Dropped columns with full of NA or Identifiers. Current dataframe shape: (1459, 73)\n"
     ]
    },
    {
     "name": "stderr",
     "output_type": "stream",
     "text": [
      "LOCAL_RANK: 0 - CUDA_VISIBLE_DEVICES: [0]\n",
      "\n",
      "  | Name | Type       | Params\n",
      "------------------------------------\n",
      "0 | net  | Sequential | 215 K \n",
      "------------------------------------\n",
      "215 K     Trainable params\n",
      "0         Non-trainable params\n",
      "215 K     Total params\n",
      "0.864     Total estimated model params size (MB)\n"
     ]
    },
    {
     "name": "stdout",
     "output_type": "stream",
     "text": [
      "[INFO]: Setting up fit dataset/s\n",
      "[INFO]: Train dataset size: 981\n",
      "[INFO]: Validation dataset size: 173\n",
      "Sanity Checking: |          | 0/? [00:00<?, ?it/s][INFO]: Validation dataloader size: 1\n",
      "                                                                            "
     ]
    },
    {
     "name": "stderr",
     "output_type": "stream",
     "text": [
      "/root/miniconda3/envs/pricehousing/lib/python3.9/site-packages/lightning/pytorch/trainer/connectors/data_connector.py:492: Your `val_dataloader`'s sampler has shuffling enabled, it is strongly recommended that you turn shuffling off for val/test dataloaders.\n",
      "/root/miniconda3/envs/pricehousing/lib/python3.9/site-packages/lightning/pytorch/trainer/connectors/data_connector.py:441: The 'val_dataloader' does not have many workers which may be a bottleneck. Consider increasing the value of the `num_workers` argument` to `num_workers=11` in the `DataLoader` to improve performance.\n",
      "/root/miniconda3/envs/pricehousing/lib/python3.9/site-packages/lightning/pytorch/trainer/connectors/data_connector.py:441: The 'train_dataloader' does not have many workers which may be a bottleneck. Consider increasing the value of the `num_workers` argument` to `num_workers=11` in the `DataLoader` to improve performance.\n"
     ]
    },
    {
     "name": "stdout",
     "output_type": "stream",
     "text": [
      "[INFO]: Train dataloader size: 4\n",
      "Epoch 499: 100%|██████████| 4/4 [00:00<00:00, 27.32it/s, v_num=q8s6]"
     ]
    },
    {
     "name": "stderr",
     "output_type": "stream",
     "text": [
      "`Trainer.fit` stopped: `max_epochs=500` reached.\n"
     ]
    },
    {
     "name": "stdout",
     "output_type": "stream",
     "text": [
      "Epoch 499: 100%|██████████| 4/4 [00:00<00:00, 25.27it/s, v_num=q8s6]\n",
      "[INFO]: Preprocessing training dataframe...\n",
      "[INFO]: Dropping columns with full of NA or Identifiers. Current dataframe shape: (1460, 81)\n",
      "[INFO]: Dropped columns with full of NA or Identifiers. Current dataframe shape: (1460, 74)\n",
      "[INFO]: Dropping categories types with few ocurrence. Current dataframe shape: (1460, 74)\n",
      "[INFO]: Few ocurrences removed. Current dataframe shape: (1443, 74)\n",
      "[INFO]: Dropping columns which contains just one type of category. Current dataframe shape: (1443, 74)\n",
      "[INFO]: Columns with just one type of categroy dropped. Current dataframe shape: (1443, 73)\n",
      "[INFO]: Preprocessing predict dataframe...\n",
      "[INFO]: Dropping columns with full of NA or Identifiers. Current dataframe shape: (1459, 80)\n",
      "[INFO]: Dropped columns with full of NA or Identifiers. Current dataframe shape: (1459, 73)\n"
     ]
    },
    {
     "name": "stderr",
     "output_type": "stream",
     "text": [
      "LOCAL_RANK: 0 - CUDA_VISIBLE_DEVICES: [0]\n",
      "/root/miniconda3/envs/pricehousing/lib/python3.9/site-packages/lightning/pytorch/trainer/connectors/data_connector.py:441: The 'test_dataloader' does not have many workers which may be a bottleneck. Consider increasing the value of the `num_workers` argument` to `num_workers=11` in the `DataLoader` to improve performance.\n"
     ]
    },
    {
     "name": "stdout",
     "output_type": "stream",
     "text": [
      "[INFO]: Setting up test dataset/s\n",
      "[INFO]: Test dataloader size: 2\n",
      "Testing DataLoader 0: 100%|██████████| 2/2 [00:00<00:00, 133.36it/s]\n",
      "────────────────────────────────────────────────────────────────────────────────────────────────────────────────────────\n",
      "       Test metric             DataLoader 0\n",
      "────────────────────────────────────────────────────────────────────────────────────────────────────────────────────────\n",
      "        test_loss               682410752.0\n",
      "────────────────────────────────────────────────────────────────────────────────────────────────────────────────────────\n",
      "[INFO]: Preprocessing training dataframe...\n",
      "[INFO]: Dropping columns with full of NA or Identifiers. Current dataframe shape: (1460, 81)\n",
      "[INFO]: Dropped columns with full of NA or Identifiers. Current dataframe shape: (1460, 74)\n",
      "[INFO]: Dropping categories types with few ocurrence. Current dataframe shape: (1460, 74)\n",
      "[INFO]: Few ocurrences removed. Current dataframe shape: (1443, 74)\n",
      "[INFO]: Dropping columns which contains just one type of category. Current dataframe shape: (1443, 74)\n",
      "[INFO]: Columns with just one type of categroy dropped. Current dataframe shape: (1443, 73)\n",
      "[INFO]: Preprocessing predict dataframe...\n",
      "[INFO]: Dropping columns with full of NA or Identifiers. Current dataframe shape: (1459, 80)\n",
      "[INFO]: Dropped columns with full of NA or Identifiers. Current dataframe shape: (1459, 73)\n"
     ]
    },
    {
     "name": "stderr",
     "output_type": "stream",
     "text": [
      "LOCAL_RANK: 0 - CUDA_VISIBLE_DEVICES: [0]\n",
      "/root/miniconda3/envs/pricehousing/lib/python3.9/site-packages/lightning/pytorch/trainer/connectors/data_connector.py:441: The 'predict_dataloader' does not have many workers which may be a bottleneck. Consider increasing the value of the `num_workers` argument` to `num_workers=11` in the `DataLoader` to improve performance.\n"
     ]
    },
    {
     "name": "stdout",
     "output_type": "stream",
     "text": [
      "[INFO]: Setting up predict dataset/s\n",
      "[INFO]: Predict dataloader size: 6\n",
      "Predicting DataLoader 0: 100%|██████████| 6/6 [00:00<00:00, 96.20it/s] \n",
      "tensor([[125499.2266],\n",
      "        [161667.5625],\n",
      "        [185685.5000],\n",
      "        [196320.5312],\n",
      "        [184237.7344]])\n"
     ]
    },
    {
     "data": {
      "text/html": [
       "<style>\n",
       "    table.wandb td:nth-child(1) { padding: 0 10px; text-align: left ; width: auto;} td:nth-child(2) {text-align: left ; width: 100%}\n",
       "    .wandb-row { display: flex; flex-direction: row; flex-wrap: wrap; justify-content: flex-start; width: 100% }\n",
       "    .wandb-col { display: flex; flex-direction: column; flex-basis: 100%; flex: 1; padding: 10px; }\n",
       "    </style>\n",
       "<div class=\"wandb-row\"><div class=\"wandb-col\"><h3>Run history:</h3><br/><table class=\"wandb\"><tr><td>epoch</td><td>▁▁▁▁▂▂▂▂▂▃▃▃▃▃▃▄▄▄▄▄▅▅▅▅▅▅▆▆▆▆▆▇▇▇▇▇▇███</td></tr><tr><td>test_loss</td><td>▁</td></tr><tr><td>train_loss</td><td>█▁▁▁▁▁▁▁▁▁▁▁▁▁▁▁▁▁▁▁▁▁▁▁▁▁▁▁▁▁▁▁▁▁▁▁▁▁▁▁</td></tr><tr><td>trainer/global_step</td><td>▁▁▁▁▂▂▂▂▂▃▃▃▃▃▃▄▄▄▄▄▅▅▅▅▅▅▆▆▆▆▆▇▇▇▇▇▇███</td></tr><tr><td>val_loss</td><td>█▁▁▁▁▁▁▁▁▁▁▁▁▁▁▁▁▁▁▁▁▁▁▁▁▁▁▁▁▁▁▁▁▁▁▁▁▁▁▁</td></tr></table><br/></div><div class=\"wandb-col\"><h3>Run summary:</h3><br/><table class=\"wandb\"><tr><td>epoch</td><td>500</td></tr><tr><td>test_loss</td><td>682410752.0</td></tr><tr><td>train_loss</td><td>203733200.0</td></tr><tr><td>trainer/global_step</td><td>2000</td></tr><tr><td>val_loss</td><td>1117693952.0</td></tr></table><br/></div></div>"
      ],
      "text/plain": [
       "<IPython.core.display.HTML object>"
      ]
     },
     "metadata": {},
     "output_type": "display_data"
    },
    {
     "data": {
      "text/html": [
       " View run <strong style=\"color:#cdcd00\">batch_size_256_run_id_1</strong> at: <a href='https://wandb.ai/deepsat/housepricing-lighning/runs/9xxkq8s6' target=\"_blank\">https://wandb.ai/deepsat/housepricing-lighning/runs/9xxkq8s6</a><br/> View project at: <a href='https://wandb.ai/deepsat/housepricing-lighning' target=\"_blank\">https://wandb.ai/deepsat/housepricing-lighning</a><br/>Synced 6 W&B file(s), 0 media file(s), 0 artifact file(s) and 0 other file(s)"
      ],
      "text/plain": [
       "<IPython.core.display.HTML object>"
      ]
     },
     "metadata": {},
     "output_type": "display_data"
    },
    {
     "data": {
      "text/html": [
       "Find logs at: <code>./wandb/run-20240417_160506-9xxkq8s6/logs</code>"
      ],
      "text/plain": [
       "<IPython.core.display.HTML object>"
      ]
     },
     "metadata": {},
     "output_type": "display_data"
    },
    {
     "name": "stdout",
     "output_type": "stream",
     "text": [
      "[INFO]: Preprocessing training dataframe...\n",
      "[INFO]: Dropping columns with full of NA or Identifiers. Current dataframe shape: (1460, 81)\n",
      "[INFO]: Dropped columns with full of NA or Identifiers. Current dataframe shape: (1460, 74)\n",
      "[INFO]: Dropping categories types with few ocurrence. Current dataframe shape: (1460, 74)\n",
      "[INFO]: Few ocurrences removed. Current dataframe shape: (1443, 74)\n",
      "[INFO]: Dropping columns which contains just one type of category. Current dataframe shape: (1443, 74)\n",
      "[INFO]: Columns with just one type of categroy dropped. Current dataframe shape: (1443, 73)\n",
      "[INFO]: Preprocessing predict dataframe...\n",
      "[INFO]: Dropping columns with full of NA or Identifiers. Current dataframe shape: (1459, 80)\n",
      "[INFO]: Dropped columns with full of NA or Identifiers. Current dataframe shape: (1459, 73)\n",
      "[INFO]: Input size: 244\n"
     ]
    },
    {
     "data": {
      "text/html": [
       "Tracking run with wandb version 0.16.6"
      ],
      "text/plain": [
       "<IPython.core.display.HTML object>"
      ]
     },
     "metadata": {},
     "output_type": "display_data"
    },
    {
     "data": {
      "text/html": [
       "Run data is saved locally in <code>./wandb/run-20240417_160626-gpknonst</code>"
      ],
      "text/plain": [
       "<IPython.core.display.HTML object>"
      ]
     },
     "metadata": {},
     "output_type": "display_data"
    },
    {
     "data": {
      "text/html": [
       "Syncing run <strong><a href='https://wandb.ai/deepsat/housepricing-lighning/runs/gpknonst' target=\"_blank\">batch_size_256_run_id_2</a></strong> to <a href='https://wandb.ai/deepsat/housepricing-lighning' target=\"_blank\">Weights & Biases</a> (<a href='https://wandb.me/run' target=\"_blank\">docs</a>)<br/>"
      ],
      "text/plain": [
       "<IPython.core.display.HTML object>"
      ]
     },
     "metadata": {},
     "output_type": "display_data"
    },
    {
     "data": {
      "text/html": [
       " View project at <a href='https://wandb.ai/deepsat/housepricing-lighning' target=\"_blank\">https://wandb.ai/deepsat/housepricing-lighning</a>"
      ],
      "text/plain": [
       "<IPython.core.display.HTML object>"
      ]
     },
     "metadata": {},
     "output_type": "display_data"
    },
    {
     "data": {
      "text/html": [
       " View run at <a href='https://wandb.ai/deepsat/housepricing-lighning/runs/gpknonst' target=\"_blank\">https://wandb.ai/deepsat/housepricing-lighning/runs/gpknonst</a>"
      ],
      "text/plain": [
       "<IPython.core.display.HTML object>"
      ]
     },
     "metadata": {},
     "output_type": "display_data"
    },
    {
     "name": "stderr",
     "output_type": "stream",
     "text": [
      "GPU available: True (cuda), used: True\n",
      "TPU available: False, using: 0 TPU cores\n",
      "IPU available: False, using: 0 IPUs\n",
      "HPU available: False, using: 0 HPUs\n"
     ]
    },
    {
     "name": "stdout",
     "output_type": "stream",
     "text": [
      "[INFO]: Preprocessing training dataframe...\n",
      "[INFO]: Dropping columns with full of NA or Identifiers. Current dataframe shape: (1460, 81)\n",
      "[INFO]: Dropped columns with full of NA or Identifiers. Current dataframe shape: (1460, 74)\n",
      "[INFO]: Dropping categories types with few ocurrence. Current dataframe shape: (1460, 74)\n",
      "[INFO]: Few ocurrences removed. Current dataframe shape: (1443, 74)\n",
      "[INFO]: Dropping columns which contains just one type of category. Current dataframe shape: (1443, 74)\n",
      "[INFO]: Columns with just one type of categroy dropped. Current dataframe shape: (1443, 73)\n",
      "[INFO]: Preprocessing predict dataframe...\n",
      "[INFO]: Dropping columns with full of NA or Identifiers. Current dataframe shape: (1459, 80)\n",
      "[INFO]: Dropped columns with full of NA or Identifiers. Current dataframe shape: (1459, 73)\n"
     ]
    },
    {
     "name": "stderr",
     "output_type": "stream",
     "text": [
      "LOCAL_RANK: 0 - CUDA_VISIBLE_DEVICES: [0]\n",
      "\n",
      "  | Name | Type       | Params\n",
      "------------------------------------\n",
      "0 | net  | Sequential | 215 K \n",
      "------------------------------------\n",
      "215 K     Trainable params\n",
      "0         Non-trainable params\n",
      "215 K     Total params\n",
      "0.864     Total estimated model params size (MB)\n"
     ]
    },
    {
     "name": "stdout",
     "output_type": "stream",
     "text": [
      "[INFO]: Setting up fit dataset/s\n",
      "[INFO]: Train dataset size: 981\n",
      "[INFO]: Validation dataset size: 173\n",
      "Sanity Checking: |          | 0/? [00:00<?, ?it/s][INFO]: Validation dataloader size: 1\n",
      "                                                                            "
     ]
    },
    {
     "name": "stderr",
     "output_type": "stream",
     "text": [
      "/root/miniconda3/envs/pricehousing/lib/python3.9/site-packages/lightning/pytorch/trainer/connectors/data_connector.py:492: Your `val_dataloader`'s sampler has shuffling enabled, it is strongly recommended that you turn shuffling off for val/test dataloaders.\n",
      "/root/miniconda3/envs/pricehousing/lib/python3.9/site-packages/lightning/pytorch/trainer/connectors/data_connector.py:441: The 'val_dataloader' does not have many workers which may be a bottleneck. Consider increasing the value of the `num_workers` argument` to `num_workers=11` in the `DataLoader` to improve performance.\n",
      "/root/miniconda3/envs/pricehousing/lib/python3.9/site-packages/lightning/pytorch/trainer/connectors/data_connector.py:441: The 'train_dataloader' does not have many workers which may be a bottleneck. Consider increasing the value of the `num_workers` argument` to `num_workers=11` in the `DataLoader` to improve performance.\n"
     ]
    },
    {
     "name": "stdout",
     "output_type": "stream",
     "text": [
      "[INFO]: Train dataloader size: 4\n",
      "Epoch 499: 100%|██████████| 4/4 [00:00<00:00, 31.83it/s, v_num=onst]"
     ]
    },
    {
     "name": "stderr",
     "output_type": "stream",
     "text": [
      "`Trainer.fit` stopped: `max_epochs=500` reached.\n"
     ]
    },
    {
     "name": "stdout",
     "output_type": "stream",
     "text": [
      "Epoch 499: 100%|██████████| 4/4 [00:00<00:00, 29.27it/s, v_num=onst]\n",
      "[INFO]: Preprocessing training dataframe...\n",
      "[INFO]: Dropping columns with full of NA or Identifiers. Current dataframe shape: (1460, 81)\n",
      "[INFO]: Dropped columns with full of NA or Identifiers. Current dataframe shape: (1460, 74)\n",
      "[INFO]: Dropping categories types with few ocurrence. Current dataframe shape: (1460, 74)\n",
      "[INFO]: Few ocurrences removed. Current dataframe shape: (1443, 74)\n",
      "[INFO]: Dropping columns which contains just one type of category. Current dataframe shape: (1443, 74)\n",
      "[INFO]: Columns with just one type of categroy dropped. Current dataframe shape: (1443, 73)\n",
      "[INFO]: Preprocessing predict dataframe...\n",
      "[INFO]: Dropping columns with full of NA or Identifiers. Current dataframe shape: (1459, 80)\n",
      "[INFO]: Dropped columns with full of NA or Identifiers. Current dataframe shape: (1459, 73)\n"
     ]
    },
    {
     "name": "stderr",
     "output_type": "stream",
     "text": [
      "LOCAL_RANK: 0 - CUDA_VISIBLE_DEVICES: [0]\n",
      "/root/miniconda3/envs/pricehousing/lib/python3.9/site-packages/lightning/pytorch/trainer/connectors/data_connector.py:441: The 'test_dataloader' does not have many workers which may be a bottleneck. Consider increasing the value of the `num_workers` argument` to `num_workers=11` in the `DataLoader` to improve performance.\n"
     ]
    },
    {
     "name": "stdout",
     "output_type": "stream",
     "text": [
      "[INFO]: Setting up test dataset/s\n",
      "[INFO]: Test dataloader size: 2\n",
      "Testing DataLoader 0: 100%|██████████| 2/2 [00:00<00:00, 125.48it/s]\n",
      "────────────────────────────────────────────────────────────────────────────────────────────────────────────────────────\n",
      "       Test metric             DataLoader 0\n",
      "────────────────────────────────────────────────────────────────────────────────────────────────────────────────────────\n",
      "        test_loss               559503424.0\n",
      "────────────────────────────────────────────────────────────────────────────────────────────────────────────────────────\n",
      "[INFO]: Preprocessing training dataframe...\n",
      "[INFO]: Dropping columns with full of NA or Identifiers. Current dataframe shape: (1460, 81)\n",
      "[INFO]: Dropped columns with full of NA or Identifiers. Current dataframe shape: (1460, 74)\n",
      "[INFO]: Dropping categories types with few ocurrence. Current dataframe shape: (1460, 74)\n",
      "[INFO]: Few ocurrences removed. Current dataframe shape: (1443, 74)\n",
      "[INFO]: Dropping columns which contains just one type of category. Current dataframe shape: (1443, 74)\n",
      "[INFO]: Columns with just one type of categroy dropped. Current dataframe shape: (1443, 73)\n",
      "[INFO]: Preprocessing predict dataframe...\n",
      "[INFO]: Dropping columns with full of NA or Identifiers. Current dataframe shape: (1459, 80)\n",
      "[INFO]: Dropped columns with full of NA or Identifiers. Current dataframe shape: (1459, 73)\n"
     ]
    },
    {
     "name": "stderr",
     "output_type": "stream",
     "text": [
      "LOCAL_RANK: 0 - CUDA_VISIBLE_DEVICES: [0]\n",
      "/root/miniconda3/envs/pricehousing/lib/python3.9/site-packages/lightning/pytorch/trainer/connectors/data_connector.py:441: The 'predict_dataloader' does not have many workers which may be a bottleneck. Consider increasing the value of the `num_workers` argument` to `num_workers=11` in the `DataLoader` to improve performance.\n"
     ]
    },
    {
     "name": "stdout",
     "output_type": "stream",
     "text": [
      "[INFO]: Setting up predict dataset/s\n",
      "[INFO]: Predict dataloader size: 6\n",
      "Predicting DataLoader 0: 100%|██████████| 6/6 [00:00<00:00, 98.04it/s] \n",
      "tensor([[105958.5547],\n",
      "        [147092.7031],\n",
      "        [186905.2188],\n",
      "        [194166.5156],\n",
      "        [191725.3906]])\n"
     ]
    },
    {
     "data": {
      "text/html": [
       "<style>\n",
       "    table.wandb td:nth-child(1) { padding: 0 10px; text-align: left ; width: auto;} td:nth-child(2) {text-align: left ; width: 100%}\n",
       "    .wandb-row { display: flex; flex-direction: row; flex-wrap: wrap; justify-content: flex-start; width: 100% }\n",
       "    .wandb-col { display: flex; flex-direction: column; flex-basis: 100%; flex: 1; padding: 10px; }\n",
       "    </style>\n",
       "<div class=\"wandb-row\"><div class=\"wandb-col\"><h3>Run history:</h3><br/><table class=\"wandb\"><tr><td>epoch</td><td>▁▁▁▁▂▂▂▂▂▃▃▃▃▃▃▄▄▄▄▄▅▅▅▅▅▅▆▆▆▆▆▇▇▇▇▇▇███</td></tr><tr><td>test_loss</td><td>▁</td></tr><tr><td>train_loss</td><td>█▁▁▁▁▁▁▁▁▁▁▁▁▁▁▁▁▁▁▁▁▁▁▁▁▁▁▁▁▁▁▁▁▁▁▁▁▁▁▁</td></tr><tr><td>trainer/global_step</td><td>▁▁▁▁▂▂▂▂▂▃▃▃▃▃▃▄▄▄▄▄▅▅▅▅▅▅▆▆▆▆▆▇▇▇▇▇▇███</td></tr><tr><td>val_loss</td><td>█▁▁▁▁▁▁▁▁▁▁▁▁▁▁▁▁▁▁▁▁▁▁▁▁▁▁▁▁▁▁▁▁▁▁▁▁▁▁▁</td></tr></table><br/></div><div class=\"wandb-col\"><h3>Run summary:</h3><br/><table class=\"wandb\"><tr><td>epoch</td><td>500</td></tr><tr><td>test_loss</td><td>559503424.0</td></tr><tr><td>train_loss</td><td>449364960.0</td></tr><tr><td>trainer/global_step</td><td>2000</td></tr><tr><td>val_loss</td><td>1415955968.0</td></tr></table><br/></div></div>"
      ],
      "text/plain": [
       "<IPython.core.display.HTML object>"
      ]
     },
     "metadata": {},
     "output_type": "display_data"
    },
    {
     "data": {
      "text/html": [
       " View run <strong style=\"color:#cdcd00\">batch_size_256_run_id_2</strong> at: <a href='https://wandb.ai/deepsat/housepricing-lighning/runs/gpknonst' target=\"_blank\">https://wandb.ai/deepsat/housepricing-lighning/runs/gpknonst</a><br/> View project at: <a href='https://wandb.ai/deepsat/housepricing-lighning' target=\"_blank\">https://wandb.ai/deepsat/housepricing-lighning</a><br/>Synced 6 W&B file(s), 0 media file(s), 0 artifact file(s) and 0 other file(s)"
      ],
      "text/plain": [
       "<IPython.core.display.HTML object>"
      ]
     },
     "metadata": {},
     "output_type": "display_data"
    },
    {
     "data": {
      "text/html": [
       "Find logs at: <code>./wandb/run-20240417_160626-gpknonst/logs</code>"
      ],
      "text/plain": [
       "<IPython.core.display.HTML object>"
      ]
     },
     "metadata": {},
     "output_type": "display_data"
    },
    {
     "name": "stdout",
     "output_type": "stream",
     "text": [
      "[INFO]: Preprocessing training dataframe...\n",
      "[INFO]: Dropping columns with full of NA or Identifiers. Current dataframe shape: (1460, 81)\n",
      "[INFO]: Dropped columns with full of NA or Identifiers. Current dataframe shape: (1460, 74)\n",
      "[INFO]: Dropping categories types with few ocurrence. Current dataframe shape: (1460, 74)\n",
      "[INFO]: Few ocurrences removed. Current dataframe shape: (1443, 74)\n",
      "[INFO]: Dropping columns which contains just one type of category. Current dataframe shape: (1443, 74)\n",
      "[INFO]: Columns with just one type of categroy dropped. Current dataframe shape: (1443, 73)\n",
      "[INFO]: Preprocessing predict dataframe...\n",
      "[INFO]: Dropping columns with full of NA or Identifiers. Current dataframe shape: (1459, 80)\n",
      "[INFO]: Dropped columns with full of NA or Identifiers. Current dataframe shape: (1459, 73)\n",
      "[INFO]: Input size: 244\n"
     ]
    },
    {
     "data": {
      "text/html": [
       "Tracking run with wandb version 0.16.6"
      ],
      "text/plain": [
       "<IPython.core.display.HTML object>"
      ]
     },
     "metadata": {},
     "output_type": "display_data"
    },
    {
     "data": {
      "text/html": [
       "Run data is saved locally in <code>./wandb/run-20240417_160744-pal6kbhj</code>"
      ],
      "text/plain": [
       "<IPython.core.display.HTML object>"
      ]
     },
     "metadata": {},
     "output_type": "display_data"
    },
    {
     "data": {
      "text/html": [
       "Syncing run <strong><a href='https://wandb.ai/deepsat/housepricing-lighning/runs/pal6kbhj' target=\"_blank\">batch_size_512_run_id_0</a></strong> to <a href='https://wandb.ai/deepsat/housepricing-lighning' target=\"_blank\">Weights & Biases</a> (<a href='https://wandb.me/run' target=\"_blank\">docs</a>)<br/>"
      ],
      "text/plain": [
       "<IPython.core.display.HTML object>"
      ]
     },
     "metadata": {},
     "output_type": "display_data"
    },
    {
     "data": {
      "text/html": [
       " View project at <a href='https://wandb.ai/deepsat/housepricing-lighning' target=\"_blank\">https://wandb.ai/deepsat/housepricing-lighning</a>"
      ],
      "text/plain": [
       "<IPython.core.display.HTML object>"
      ]
     },
     "metadata": {},
     "output_type": "display_data"
    },
    {
     "data": {
      "text/html": [
       " View run at <a href='https://wandb.ai/deepsat/housepricing-lighning/runs/pal6kbhj' target=\"_blank\">https://wandb.ai/deepsat/housepricing-lighning/runs/pal6kbhj</a>"
      ],
      "text/plain": [
       "<IPython.core.display.HTML object>"
      ]
     },
     "metadata": {},
     "output_type": "display_data"
    },
    {
     "name": "stderr",
     "output_type": "stream",
     "text": [
      "GPU available: True (cuda), used: True\n",
      "TPU available: False, using: 0 TPU cores\n",
      "IPU available: False, using: 0 IPUs\n",
      "HPU available: False, using: 0 HPUs\n"
     ]
    },
    {
     "name": "stdout",
     "output_type": "stream",
     "text": [
      "[INFO]: Preprocessing training dataframe...\n",
      "[INFO]: Dropping columns with full of NA or Identifiers. Current dataframe shape: (1460, 81)\n",
      "[INFO]: Dropped columns with full of NA or Identifiers. Current dataframe shape: (1460, 74)\n",
      "[INFO]: Dropping categories types with few ocurrence. Current dataframe shape: (1460, 74)\n",
      "[INFO]: Few ocurrences removed. Current dataframe shape: (1443, 74)\n",
      "[INFO]: Dropping columns which contains just one type of category. Current dataframe shape: (1443, 74)\n",
      "[INFO]: Columns with just one type of categroy dropped. Current dataframe shape: (1443, 73)\n",
      "[INFO]: Preprocessing predict dataframe...\n",
      "[INFO]: Dropping columns with full of NA or Identifiers. Current dataframe shape: (1459, 80)\n",
      "[INFO]: Dropped columns with full of NA or Identifiers. Current dataframe shape: (1459, 73)\n"
     ]
    },
    {
     "name": "stderr",
     "output_type": "stream",
     "text": [
      "LOCAL_RANK: 0 - CUDA_VISIBLE_DEVICES: [0]\n",
      "\n",
      "  | Name | Type       | Params\n",
      "------------------------------------\n",
      "0 | net  | Sequential | 215 K \n",
      "------------------------------------\n",
      "215 K     Trainable params\n",
      "0         Non-trainable params\n",
      "215 K     Total params\n",
      "0.864     Total estimated model params size (MB)\n"
     ]
    },
    {
     "name": "stdout",
     "output_type": "stream",
     "text": [
      "[INFO]: Setting up fit dataset/s\n",
      "[INFO]: Train dataset size: 981\n",
      "[INFO]: Validation dataset size: 173\n",
      "Sanity Checking: |          | 0/? [00:00<?, ?it/s][INFO]: Validation dataloader size: 1\n",
      "                                                                            "
     ]
    },
    {
     "name": "stderr",
     "output_type": "stream",
     "text": [
      "/root/miniconda3/envs/pricehousing/lib/python3.9/site-packages/lightning/pytorch/trainer/connectors/data_connector.py:492: Your `val_dataloader`'s sampler has shuffling enabled, it is strongly recommended that you turn shuffling off for val/test dataloaders.\n",
      "/root/miniconda3/envs/pricehousing/lib/python3.9/site-packages/lightning/pytorch/trainer/connectors/data_connector.py:441: The 'val_dataloader' does not have many workers which may be a bottleneck. Consider increasing the value of the `num_workers` argument` to `num_workers=11` in the `DataLoader` to improve performance.\n",
      "/root/miniconda3/envs/pricehousing/lib/python3.9/site-packages/lightning/pytorch/trainer/connectors/data_connector.py:441: The 'train_dataloader' does not have many workers which may be a bottleneck. Consider increasing the value of the `num_workers` argument` to `num_workers=11` in the `DataLoader` to improve performance.\n"
     ]
    },
    {
     "name": "stdout",
     "output_type": "stream",
     "text": [
      "[INFO]: Train dataloader size: 2\n",
      "Epoch 499: 100%|██████████| 2/2 [00:00<00:00,  7.52it/s, v_num=kbhj]"
     ]
    },
    {
     "name": "stderr",
     "output_type": "stream",
     "text": [
      "`Trainer.fit` stopped: `max_epochs=500` reached.\n"
     ]
    },
    {
     "name": "stdout",
     "output_type": "stream",
     "text": [
      "Epoch 499: 100%|██████████| 2/2 [00:00<00:00,  7.18it/s, v_num=kbhj]\n",
      "[INFO]: Preprocessing training dataframe...\n",
      "[INFO]: Dropping columns with full of NA or Identifiers. Current dataframe shape: (1460, 81)\n",
      "[INFO]: Dropped columns with full of NA or Identifiers. Current dataframe shape: (1460, 74)\n",
      "[INFO]: Dropping categories types with few ocurrence. Current dataframe shape: (1460, 74)\n",
      "[INFO]: Few ocurrences removed. Current dataframe shape: (1443, 74)\n",
      "[INFO]: Dropping columns which contains just one type of category. Current dataframe shape: (1443, 74)\n",
      "[INFO]: Columns with just one type of categroy dropped. Current dataframe shape: (1443, 73)\n",
      "[INFO]: Preprocessing predict dataframe...\n",
      "[INFO]: Dropping columns with full of NA or Identifiers. Current dataframe shape: (1459, 80)\n",
      "[INFO]: Dropped columns with full of NA or Identifiers. Current dataframe shape: (1459, 73)\n"
     ]
    },
    {
     "name": "stderr",
     "output_type": "stream",
     "text": [
      "LOCAL_RANK: 0 - CUDA_VISIBLE_DEVICES: [0]\n",
      "/root/miniconda3/envs/pricehousing/lib/python3.9/site-packages/lightning/pytorch/trainer/connectors/data_connector.py:441: The 'test_dataloader' does not have many workers which may be a bottleneck. Consider increasing the value of the `num_workers` argument` to `num_workers=11` in the `DataLoader` to improve performance.\n"
     ]
    },
    {
     "name": "stdout",
     "output_type": "stream",
     "text": [
      "[INFO]: Setting up test dataset/s\n",
      "[INFO]: Test dataloader size: 1\n",
      "Testing DataLoader 0: 100%|██████████| 1/1 [00:00<00:00, 124.41it/s]\n",
      "────────────────────────────────────────────────────────────────────────────────────────────────────────────────────────\n",
      "       Test metric             DataLoader 0\n",
      "────────────────────────────────────────────────────────────────────────────────────────────────────────────────────────\n",
      "        test_loss              5282807808.0\n",
      "────────────────────────────────────────────────────────────────────────────────────────────────────────────────────────\n",
      "[INFO]: Preprocessing training dataframe...\n",
      "[INFO]: Dropping columns with full of NA or Identifiers. Current dataframe shape: (1460, 81)\n",
      "[INFO]: Dropped columns with full of NA or Identifiers. Current dataframe shape: (1460, 74)\n",
      "[INFO]: Dropping categories types with few ocurrence. Current dataframe shape: (1460, 74)\n",
      "[INFO]: Few ocurrences removed. Current dataframe shape: (1443, 74)\n",
      "[INFO]: Dropping columns which contains just one type of category. Current dataframe shape: (1443, 74)\n",
      "[INFO]: Columns with just one type of categroy dropped. Current dataframe shape: (1443, 73)\n",
      "[INFO]: Preprocessing predict dataframe...\n",
      "[INFO]: Dropping columns with full of NA or Identifiers. Current dataframe shape: (1459, 80)\n",
      "[INFO]: Dropped columns with full of NA or Identifiers. Current dataframe shape: (1459, 73)\n"
     ]
    },
    {
     "name": "stderr",
     "output_type": "stream",
     "text": [
      "LOCAL_RANK: 0 - CUDA_VISIBLE_DEVICES: [0]\n",
      "/root/miniconda3/envs/pricehousing/lib/python3.9/site-packages/lightning/pytorch/trainer/connectors/data_connector.py:441: The 'predict_dataloader' does not have many workers which may be a bottleneck. Consider increasing the value of the `num_workers` argument` to `num_workers=11` in the `DataLoader` to improve performance.\n"
     ]
    },
    {
     "name": "stdout",
     "output_type": "stream",
     "text": [
      "[INFO]: Setting up predict dataset/s\n",
      "[INFO]: Predict dataloader size: 3\n",
      "Predicting DataLoader 0: 100%|██████████| 3/3 [00:00<00:00, 73.01it/s] \n",
      "tensor([[183050.8281],\n",
      "        [183050.8281],\n",
      "        [183050.8281],\n",
      "        [183050.8281],\n",
      "        [183050.8281]])\n"
     ]
    },
    {
     "data": {
      "text/html": [
       "<style>\n",
       "    table.wandb td:nth-child(1) { padding: 0 10px; text-align: left ; width: auto;} td:nth-child(2) {text-align: left ; width: 100%}\n",
       "    .wandb-row { display: flex; flex-direction: row; flex-wrap: wrap; justify-content: flex-start; width: 100% }\n",
       "    .wandb-col { display: flex; flex-direction: column; flex-basis: 100%; flex: 1; padding: 10px; }\n",
       "    </style>\n",
       "<div class=\"wandb-row\"><div class=\"wandb-col\"><h3>Run history:</h3><br/><table class=\"wandb\"><tr><td>epoch</td><td>▁▁▁▂▂▂▂▂▂▃▃▃▃▃▄▄▄▄▄▄▅▅▅▅▅▅▆▆▆▆▆▇▇▇▇▇▇███</td></tr><tr><td>test_loss</td><td>▁</td></tr><tr><td>train_loss</td><td>█▇▅▁▁▁▁▂▂▁▁▁▁▁▁▁▁▁▁▁▁▁▁▁▁▁▁▁▁▁▁▂▂▁▂▁▁▁▁▁</td></tr><tr><td>trainer/global_step</td><td>▁▁▁▂▂▂▂▂▂▃▃▃▃▃▄▄▄▄▄▄▅▅▅▅▅▅▆▆▆▆▆▇▇▇▇▇▇███</td></tr><tr><td>val_loss</td><td>██▄▁▁▁▁▁▁▁▁▁▁▁▁▁▁▁▁▁▁▁▁▁▁▁▁▁▁▁▁▁▁▁▁▁▁▁▁▁</td></tr></table><br/></div><div class=\"wandb-col\"><h3>Run summary:</h3><br/><table class=\"wandb\"><tr><td>epoch</td><td>500</td></tr><tr><td>test_loss</td><td>5282807808.0</td></tr><tr><td>train_loss</td><td>6049674752.0</td></tr><tr><td>trainer/global_step</td><td>1000</td></tr><tr><td>val_loss</td><td>6845837312.0</td></tr></table><br/></div></div>"
      ],
      "text/plain": [
       "<IPython.core.display.HTML object>"
      ]
     },
     "metadata": {},
     "output_type": "display_data"
    },
    {
     "data": {
      "text/html": [
       " View run <strong style=\"color:#cdcd00\">batch_size_512_run_id_0</strong> at: <a href='https://wandb.ai/deepsat/housepricing-lighning/runs/pal6kbhj' target=\"_blank\">https://wandb.ai/deepsat/housepricing-lighning/runs/pal6kbhj</a><br/> View project at: <a href='https://wandb.ai/deepsat/housepricing-lighning' target=\"_blank\">https://wandb.ai/deepsat/housepricing-lighning</a><br/>Synced 6 W&B file(s), 0 media file(s), 0 artifact file(s) and 0 other file(s)"
      ],
      "text/plain": [
       "<IPython.core.display.HTML object>"
      ]
     },
     "metadata": {},
     "output_type": "display_data"
    },
    {
     "data": {
      "text/html": [
       "Find logs at: <code>./wandb/run-20240417_160744-pal6kbhj/logs</code>"
      ],
      "text/plain": [
       "<IPython.core.display.HTML object>"
      ]
     },
     "metadata": {},
     "output_type": "display_data"
    },
    {
     "name": "stdout",
     "output_type": "stream",
     "text": [
      "[INFO]: Preprocessing training dataframe...\n",
      "[INFO]: Dropping columns with full of NA or Identifiers. Current dataframe shape: (1460, 81)\n",
      "[INFO]: Dropped columns with full of NA or Identifiers. Current dataframe shape: (1460, 74)\n",
      "[INFO]: Dropping categories types with few ocurrence. Current dataframe shape: (1460, 74)\n",
      "[INFO]: Few ocurrences removed. Current dataframe shape: (1443, 74)\n",
      "[INFO]: Dropping columns which contains just one type of category. Current dataframe shape: (1443, 74)\n",
      "[INFO]: Columns with just one type of categroy dropped. Current dataframe shape: (1443, 73)\n",
      "[INFO]: Preprocessing predict dataframe...\n",
      "[INFO]: Dropping columns with full of NA or Identifiers. Current dataframe shape: (1459, 80)\n",
      "[INFO]: Dropped columns with full of NA or Identifiers. Current dataframe shape: (1459, 73)\n",
      "[INFO]: Input size: 244\n"
     ]
    },
    {
     "data": {
      "text/html": [
       "Tracking run with wandb version 0.16.6"
      ],
      "text/plain": [
       "<IPython.core.display.HTML object>"
      ]
     },
     "metadata": {},
     "output_type": "display_data"
    },
    {
     "data": {
      "text/html": [
       "Run data is saved locally in <code>./wandb/run-20240417_160854-quernfjy</code>"
      ],
      "text/plain": [
       "<IPython.core.display.HTML object>"
      ]
     },
     "metadata": {},
     "output_type": "display_data"
    },
    {
     "data": {
      "text/html": [
       "Syncing run <strong><a href='https://wandb.ai/deepsat/housepricing-lighning/runs/quernfjy' target=\"_blank\">batch_size_512_run_id_1</a></strong> to <a href='https://wandb.ai/deepsat/housepricing-lighning' target=\"_blank\">Weights & Biases</a> (<a href='https://wandb.me/run' target=\"_blank\">docs</a>)<br/>"
      ],
      "text/plain": [
       "<IPython.core.display.HTML object>"
      ]
     },
     "metadata": {},
     "output_type": "display_data"
    },
    {
     "data": {
      "text/html": [
       " View project at <a href='https://wandb.ai/deepsat/housepricing-lighning' target=\"_blank\">https://wandb.ai/deepsat/housepricing-lighning</a>"
      ],
      "text/plain": [
       "<IPython.core.display.HTML object>"
      ]
     },
     "metadata": {},
     "output_type": "display_data"
    },
    {
     "data": {
      "text/html": [
       " View run at <a href='https://wandb.ai/deepsat/housepricing-lighning/runs/quernfjy' target=\"_blank\">https://wandb.ai/deepsat/housepricing-lighning/runs/quernfjy</a>"
      ],
      "text/plain": [
       "<IPython.core.display.HTML object>"
      ]
     },
     "metadata": {},
     "output_type": "display_data"
    },
    {
     "name": "stderr",
     "output_type": "stream",
     "text": [
      "GPU available: True (cuda), used: True\n",
      "TPU available: False, using: 0 TPU cores\n",
      "IPU available: False, using: 0 IPUs\n",
      "HPU available: False, using: 0 HPUs\n"
     ]
    },
    {
     "name": "stdout",
     "output_type": "stream",
     "text": [
      "[INFO]: Preprocessing training dataframe...\n",
      "[INFO]: Dropping columns with full of NA or Identifiers. Current dataframe shape: (1460, 81)\n",
      "[INFO]: Dropped columns with full of NA or Identifiers. Current dataframe shape: (1460, 74)\n",
      "[INFO]: Dropping categories types with few ocurrence. Current dataframe shape: (1460, 74)\n",
      "[INFO]: Few ocurrences removed. Current dataframe shape: (1443, 74)\n",
      "[INFO]: Dropping columns which contains just one type of category. Current dataframe shape: (1443, 74)\n",
      "[INFO]: Columns with just one type of categroy dropped. Current dataframe shape: (1443, 73)\n",
      "[INFO]: Preprocessing predict dataframe...\n",
      "[INFO]: Dropping columns with full of NA or Identifiers. Current dataframe shape: (1459, 80)\n",
      "[INFO]: Dropped columns with full of NA or Identifiers. Current dataframe shape: (1459, 73)\n"
     ]
    },
    {
     "name": "stderr",
     "output_type": "stream",
     "text": [
      "LOCAL_RANK: 0 - CUDA_VISIBLE_DEVICES: [0]\n",
      "\n",
      "  | Name | Type       | Params\n",
      "------------------------------------\n",
      "0 | net  | Sequential | 215 K \n",
      "------------------------------------\n",
      "215 K     Trainable params\n",
      "0         Non-trainable params\n",
      "215 K     Total params\n",
      "0.864     Total estimated model params size (MB)\n"
     ]
    },
    {
     "name": "stdout",
     "output_type": "stream",
     "text": [
      "[INFO]: Setting up fit dataset/s\n",
      "[INFO]: Train dataset size: 981\n",
      "[INFO]: Validation dataset size: 173\n",
      "Sanity Checking: |          | 0/? [00:00<?, ?it/s][INFO]: Validation dataloader size: 1\n",
      "                                                                            "
     ]
    },
    {
     "name": "stderr",
     "output_type": "stream",
     "text": [
      "/root/miniconda3/envs/pricehousing/lib/python3.9/site-packages/lightning/pytorch/trainer/connectors/data_connector.py:492: Your `val_dataloader`'s sampler has shuffling enabled, it is strongly recommended that you turn shuffling off for val/test dataloaders.\n",
      "/root/miniconda3/envs/pricehousing/lib/python3.9/site-packages/lightning/pytorch/trainer/connectors/data_connector.py:441: The 'val_dataloader' does not have many workers which may be a bottleneck. Consider increasing the value of the `num_workers` argument` to `num_workers=11` in the `DataLoader` to improve performance.\n",
      "/root/miniconda3/envs/pricehousing/lib/python3.9/site-packages/lightning/pytorch/trainer/connectors/data_connector.py:441: The 'train_dataloader' does not have many workers which may be a bottleneck. Consider increasing the value of the `num_workers` argument` to `num_workers=11` in the `DataLoader` to improve performance.\n"
     ]
    },
    {
     "name": "stdout",
     "output_type": "stream",
     "text": [
      "[INFO]: Train dataloader size: 2\n",
      "Epoch 499: 100%|██████████| 2/2 [00:00<00:00, 15.46it/s, v_num=nfjy]"
     ]
    },
    {
     "name": "stderr",
     "output_type": "stream",
     "text": [
      "`Trainer.fit` stopped: `max_epochs=500` reached.\n"
     ]
    },
    {
     "name": "stdout",
     "output_type": "stream",
     "text": [
      "Epoch 499: 100%|██████████| 2/2 [00:00<00:00, 13.91it/s, v_num=nfjy]\n",
      "[INFO]: Preprocessing training dataframe...\n",
      "[INFO]: Dropping columns with full of NA or Identifiers. Current dataframe shape: (1460, 81)\n",
      "[INFO]: Dropped columns with full of NA or Identifiers. Current dataframe shape: (1460, 74)\n",
      "[INFO]: Dropping categories types with few ocurrence. Current dataframe shape: (1460, 74)\n",
      "[INFO]: Few ocurrences removed. Current dataframe shape: (1443, 74)\n",
      "[INFO]: Dropping columns which contains just one type of category. Current dataframe shape: (1443, 74)\n",
      "[INFO]: Columns with just one type of categroy dropped. Current dataframe shape: (1443, 73)\n",
      "[INFO]: Preprocessing predict dataframe...\n",
      "[INFO]: Dropping columns with full of NA or Identifiers. Current dataframe shape: (1459, 80)\n",
      "[INFO]: Dropped columns with full of NA or Identifiers. Current dataframe shape: (1459, 73)\n"
     ]
    },
    {
     "name": "stderr",
     "output_type": "stream",
     "text": [
      "LOCAL_RANK: 0 - CUDA_VISIBLE_DEVICES: [0]\n",
      "/root/miniconda3/envs/pricehousing/lib/python3.9/site-packages/lightning/pytorch/trainer/connectors/data_connector.py:441: The 'test_dataloader' does not have many workers which may be a bottleneck. Consider increasing the value of the `num_workers` argument` to `num_workers=11` in the `DataLoader` to improve performance.\n"
     ]
    },
    {
     "name": "stdout",
     "output_type": "stream",
     "text": [
      "[INFO]: Setting up test dataset/s\n",
      "[INFO]: Test dataloader size: 1\n",
      "Testing DataLoader 0: 100%|██████████| 1/1 [00:00<00:00, 75.62it/s] \n",
      "────────────────────────────────────────────────────────────────────────────────────────────────────────────────────────\n",
      "       Test metric             DataLoader 0\n",
      "────────────────────────────────────────────────────────────────────────────────────────────────────────────────────────\n",
      "        test_loss              5272226304.0\n",
      "────────────────────────────────────────────────────────────────────────────────────────────────────────────────────────\n",
      "[INFO]: Preprocessing training dataframe...\n",
      "[INFO]: Dropping columns with full of NA or Identifiers. Current dataframe shape: (1460, 81)\n",
      "[INFO]: Dropped columns with full of NA or Identifiers. Current dataframe shape: (1460, 74)\n",
      "[INFO]: Dropping categories types with few ocurrence. Current dataframe shape: (1460, 74)\n",
      "[INFO]: Few ocurrences removed. Current dataframe shape: (1443, 74)\n",
      "[INFO]: Dropping columns which contains just one type of category. Current dataframe shape: (1443, 74)\n",
      "[INFO]: Columns with just one type of categroy dropped. Current dataframe shape: (1443, 73)\n",
      "[INFO]: Preprocessing predict dataframe...\n",
      "[INFO]: Dropping columns with full of NA or Identifiers. Current dataframe shape: (1459, 80)\n",
      "[INFO]: Dropped columns with full of NA or Identifiers. Current dataframe shape: (1459, 73)\n"
     ]
    },
    {
     "name": "stderr",
     "output_type": "stream",
     "text": [
      "LOCAL_RANK: 0 - CUDA_VISIBLE_DEVICES: [0]\n",
      "/root/miniconda3/envs/pricehousing/lib/python3.9/site-packages/lightning/pytorch/trainer/connectors/data_connector.py:441: The 'predict_dataloader' does not have many workers which may be a bottleneck. Consider increasing the value of the `num_workers` argument` to `num_workers=11` in the `DataLoader` to improve performance.\n"
     ]
    },
    {
     "name": "stdout",
     "output_type": "stream",
     "text": [
      "[INFO]: Setting up predict dataset/s\n",
      "[INFO]: Predict dataloader size: 3\n",
      "Predicting DataLoader 0: 100%|██████████| 3/3 [00:00<00:00, 28.14it/s] \n",
      "tensor([[182044.1250],\n",
      "        [182044.1250],\n",
      "        [182044.1250],\n",
      "        [182044.1250],\n",
      "        [182044.1250]])\n"
     ]
    },
    {
     "data": {
      "text/html": [
       "<style>\n",
       "    table.wandb td:nth-child(1) { padding: 0 10px; text-align: left ; width: auto;} td:nth-child(2) {text-align: left ; width: 100%}\n",
       "    .wandb-row { display: flex; flex-direction: row; flex-wrap: wrap; justify-content: flex-start; width: 100% }\n",
       "    .wandb-col { display: flex; flex-direction: column; flex-basis: 100%; flex: 1; padding: 10px; }\n",
       "    </style>\n",
       "<div class=\"wandb-row\"><div class=\"wandb-col\"><h3>Run history:</h3><br/><table class=\"wandb\"><tr><td>epoch</td><td>▁▁▁▂▂▂▂▂▂▃▃▃▃▃▄▄▄▄▄▄▅▅▅▅▅▅▆▆▆▆▆▇▇▇▇▇▇███</td></tr><tr><td>test_loss</td><td>▁</td></tr><tr><td>train_loss</td><td>██▅▁▁▁▁▁▁▁▁▁▁▁▁▁▁▁▁▁▁▁▁▁▁▂▁▁▁▁▂▁▁▁▁▁▁▁▁▁</td></tr><tr><td>trainer/global_step</td><td>▁▁▁▂▂▂▂▂▂▃▃▃▃▃▄▄▄▄▄▄▅▅▅▅▅▅▆▆▆▆▆▇▇▇▇▇▇███</td></tr><tr><td>val_loss</td><td>██▅▁▁▁▁▁▁▁▁▁▁▁▁▁▁▁▁▁▁▁▁▁▁▁▁▁▁▁▁▁▁▁▁▁▁▁▁▁</td></tr></table><br/></div><div class=\"wandb-col\"><h3>Run summary:</h3><br/><table class=\"wandb\"><tr><td>epoch</td><td>500</td></tr><tr><td>test_loss</td><td>5272226304.0</td></tr><tr><td>train_loss</td><td>6505432576.0</td></tr><tr><td>trainer/global_step</td><td>1000</td></tr><tr><td>val_loss</td><td>6833751040.0</td></tr></table><br/></div></div>"
      ],
      "text/plain": [
       "<IPython.core.display.HTML object>"
      ]
     },
     "metadata": {},
     "output_type": "display_data"
    },
    {
     "data": {
      "text/html": [
       " View run <strong style=\"color:#cdcd00\">batch_size_512_run_id_1</strong> at: <a href='https://wandb.ai/deepsat/housepricing-lighning/runs/quernfjy' target=\"_blank\">https://wandb.ai/deepsat/housepricing-lighning/runs/quernfjy</a><br/> View project at: <a href='https://wandb.ai/deepsat/housepricing-lighning' target=\"_blank\">https://wandb.ai/deepsat/housepricing-lighning</a><br/>Synced 6 W&B file(s), 0 media file(s), 0 artifact file(s) and 0 other file(s)"
      ],
      "text/plain": [
       "<IPython.core.display.HTML object>"
      ]
     },
     "metadata": {},
     "output_type": "display_data"
    },
    {
     "data": {
      "text/html": [
       "Find logs at: <code>./wandb/run-20240417_160854-quernfjy/logs</code>"
      ],
      "text/plain": [
       "<IPython.core.display.HTML object>"
      ]
     },
     "metadata": {},
     "output_type": "display_data"
    },
    {
     "name": "stdout",
     "output_type": "stream",
     "text": [
      "[INFO]: Preprocessing training dataframe...\n",
      "[INFO]: Dropping columns with full of NA or Identifiers. Current dataframe shape: (1460, 81)\n",
      "[INFO]: Dropped columns with full of NA or Identifiers. Current dataframe shape: (1460, 74)\n",
      "[INFO]: Dropping categories types with few ocurrence. Current dataframe shape: (1460, 74)\n",
      "[INFO]: Few ocurrences removed. Current dataframe shape: (1443, 74)\n",
      "[INFO]: Dropping columns which contains just one type of category. Current dataframe shape: (1443, 74)\n",
      "[INFO]: Columns with just one type of categroy dropped. Current dataframe shape: (1443, 73)\n",
      "[INFO]: Preprocessing predict dataframe...\n",
      "[INFO]: Dropping columns with full of NA or Identifiers. Current dataframe shape: (1459, 80)\n",
      "[INFO]: Dropped columns with full of NA or Identifiers. Current dataframe shape: (1459, 73)\n",
      "[INFO]: Input size: 244\n"
     ]
    },
    {
     "data": {
      "text/html": [
       "Tracking run with wandb version 0.16.6"
      ],
      "text/plain": [
       "<IPython.core.display.HTML object>"
      ]
     },
     "metadata": {},
     "output_type": "display_data"
    },
    {
     "data": {
      "text/html": [
       "Run data is saved locally in <code>./wandb/run-20240417_161007-fdaxg74t</code>"
      ],
      "text/plain": [
       "<IPython.core.display.HTML object>"
      ]
     },
     "metadata": {},
     "output_type": "display_data"
    },
    {
     "data": {
      "text/html": [
       "Syncing run <strong><a href='https://wandb.ai/deepsat/housepricing-lighning/runs/fdaxg74t' target=\"_blank\">batch_size_512_run_id_2</a></strong> to <a href='https://wandb.ai/deepsat/housepricing-lighning' target=\"_blank\">Weights & Biases</a> (<a href='https://wandb.me/run' target=\"_blank\">docs</a>)<br/>"
      ],
      "text/plain": [
       "<IPython.core.display.HTML object>"
      ]
     },
     "metadata": {},
     "output_type": "display_data"
    },
    {
     "data": {
      "text/html": [
       " View project at <a href='https://wandb.ai/deepsat/housepricing-lighning' target=\"_blank\">https://wandb.ai/deepsat/housepricing-lighning</a>"
      ],
      "text/plain": [
       "<IPython.core.display.HTML object>"
      ]
     },
     "metadata": {},
     "output_type": "display_data"
    },
    {
     "data": {
      "text/html": [
       " View run at <a href='https://wandb.ai/deepsat/housepricing-lighning/runs/fdaxg74t' target=\"_blank\">https://wandb.ai/deepsat/housepricing-lighning/runs/fdaxg74t</a>"
      ],
      "text/plain": [
       "<IPython.core.display.HTML object>"
      ]
     },
     "metadata": {},
     "output_type": "display_data"
    },
    {
     "name": "stderr",
     "output_type": "stream",
     "text": [
      "GPU available: True (cuda), used: True\n",
      "TPU available: False, using: 0 TPU cores\n",
      "IPU available: False, using: 0 IPUs\n",
      "HPU available: False, using: 0 HPUs\n"
     ]
    },
    {
     "name": "stdout",
     "output_type": "stream",
     "text": [
      "[INFO]: Preprocessing training dataframe...\n",
      "[INFO]: Dropping columns with full of NA or Identifiers. Current dataframe shape: (1460, 81)\n",
      "[INFO]: Dropped columns with full of NA or Identifiers. Current dataframe shape: (1460, 74)\n",
      "[INFO]: Dropping categories types with few ocurrence. Current dataframe shape: (1460, 74)\n",
      "[INFO]: Few ocurrences removed. Current dataframe shape: (1443, 74)\n",
      "[INFO]: Dropping columns which contains just one type of category. Current dataframe shape: (1443, 74)\n",
      "[INFO]: Columns with just one type of categroy dropped. Current dataframe shape: (1443, 73)\n",
      "[INFO]: Preprocessing predict dataframe...\n",
      "[INFO]: Dropping columns with full of NA or Identifiers. Current dataframe shape: (1459, 80)\n",
      "[INFO]: Dropped columns with full of NA or Identifiers. Current dataframe shape: (1459, 73)\n"
     ]
    },
    {
     "name": "stderr",
     "output_type": "stream",
     "text": [
      "LOCAL_RANK: 0 - CUDA_VISIBLE_DEVICES: [0]\n",
      "\n",
      "  | Name | Type       | Params\n",
      "------------------------------------\n",
      "0 | net  | Sequential | 215 K \n",
      "------------------------------------\n",
      "215 K     Trainable params\n",
      "0         Non-trainable params\n",
      "215 K     Total params\n",
      "0.864     Total estimated model params size (MB)\n"
     ]
    },
    {
     "name": "stdout",
     "output_type": "stream",
     "text": [
      "[INFO]: Setting up fit dataset/s\n",
      "[INFO]: Train dataset size: 981\n",
      "[INFO]: Validation dataset size: 173\n",
      "Sanity Checking: |          | 0/? [00:00<?, ?it/s][INFO]: Validation dataloader size: 1\n",
      "                                                                            "
     ]
    },
    {
     "name": "stderr",
     "output_type": "stream",
     "text": [
      "/root/miniconda3/envs/pricehousing/lib/python3.9/site-packages/lightning/pytorch/trainer/connectors/data_connector.py:492: Your `val_dataloader`'s sampler has shuffling enabled, it is strongly recommended that you turn shuffling off for val/test dataloaders.\n",
      "/root/miniconda3/envs/pricehousing/lib/python3.9/site-packages/lightning/pytorch/trainer/connectors/data_connector.py:441: The 'val_dataloader' does not have many workers which may be a bottleneck. Consider increasing the value of the `num_workers` argument` to `num_workers=11` in the `DataLoader` to improve performance.\n",
      "/root/miniconda3/envs/pricehousing/lib/python3.9/site-packages/lightning/pytorch/trainer/connectors/data_connector.py:441: The 'train_dataloader' does not have many workers which may be a bottleneck. Consider increasing the value of the `num_workers` argument` to `num_workers=11` in the `DataLoader` to improve performance.\n"
     ]
    },
    {
     "name": "stdout",
     "output_type": "stream",
     "text": [
      "[INFO]: Train dataloader size: 2\n",
      "Epoch 499: 100%|██████████| 2/2 [00:00<00:00, 20.82it/s, v_num=g74t]"
     ]
    },
    {
     "name": "stderr",
     "output_type": "stream",
     "text": [
      "`Trainer.fit` stopped: `max_epochs=500` reached.\n"
     ]
    },
    {
     "name": "stdout",
     "output_type": "stream",
     "text": [
      "Epoch 499: 100%|██████████| 2/2 [00:00<00:00, 18.11it/s, v_num=g74t]\n",
      "[INFO]: Preprocessing training dataframe...\n",
      "[INFO]: Dropping columns with full of NA or Identifiers. Current dataframe shape: (1460, 81)\n",
      "[INFO]: Dropped columns with full of NA or Identifiers. Current dataframe shape: (1460, 74)\n",
      "[INFO]: Dropping categories types with few ocurrence. Current dataframe shape: (1460, 74)\n",
      "[INFO]: Few ocurrences removed. Current dataframe shape: (1443, 74)\n",
      "[INFO]: Dropping columns which contains just one type of category. Current dataframe shape: (1443, 74)\n",
      "[INFO]: Columns with just one type of categroy dropped. Current dataframe shape: (1443, 73)\n",
      "[INFO]: Preprocessing predict dataframe...\n",
      "[INFO]: Dropping columns with full of NA or Identifiers. Current dataframe shape: (1459, 80)\n",
      "[INFO]: Dropped columns with full of NA or Identifiers. Current dataframe shape: (1459, 73)\n"
     ]
    },
    {
     "name": "stderr",
     "output_type": "stream",
     "text": [
      "LOCAL_RANK: 0 - CUDA_VISIBLE_DEVICES: [0]\n",
      "/root/miniconda3/envs/pricehousing/lib/python3.9/site-packages/lightning/pytorch/trainer/connectors/data_connector.py:441: The 'test_dataloader' does not have many workers which may be a bottleneck. Consider increasing the value of the `num_workers` argument` to `num_workers=11` in the `DataLoader` to improve performance.\n"
     ]
    },
    {
     "name": "stdout",
     "output_type": "stream",
     "text": [
      "[INFO]: Setting up test dataset/s\n",
      "[INFO]: Test dataloader size: 1\n",
      "Testing DataLoader 0: 100%|██████████| 1/1 [00:00<00:00, 119.72it/s]\n",
      "────────────────────────────────────────────────────────────────────────────────────────────────────────────────────────\n",
      "       Test metric             DataLoader 0\n",
      "────────────────────────────────────────────────────────────────────────────────────────────────────────────────────────\n",
      "        test_loss              5273616384.0\n",
      "────────────────────────────────────────────────────────────────────────────────────────────────────────────────────────\n",
      "[INFO]: Preprocessing training dataframe...\n",
      "[INFO]: Dropping columns with full of NA or Identifiers. Current dataframe shape: (1460, 81)\n",
      "[INFO]: Dropped columns with full of NA or Identifiers. Current dataframe shape: (1460, 74)\n",
      "[INFO]: Dropping categories types with few ocurrence. Current dataframe shape: (1460, 74)\n",
      "[INFO]: Few ocurrences removed. Current dataframe shape: (1443, 74)\n",
      "[INFO]: Dropping columns which contains just one type of category. Current dataframe shape: (1443, 74)\n",
      "[INFO]: Columns with just one type of categroy dropped. Current dataframe shape: (1443, 73)\n",
      "[INFO]: Preprocessing predict dataframe...\n",
      "[INFO]: Dropping columns with full of NA or Identifiers. Current dataframe shape: (1459, 80)\n",
      "[INFO]: Dropped columns with full of NA or Identifiers. Current dataframe shape: (1459, 73)\n"
     ]
    },
    {
     "name": "stderr",
     "output_type": "stream",
     "text": [
      "LOCAL_RANK: 0 - CUDA_VISIBLE_DEVICES: [0]\n",
      "/root/miniconda3/envs/pricehousing/lib/python3.9/site-packages/lightning/pytorch/trainer/connectors/data_connector.py:441: The 'predict_dataloader' does not have many workers which may be a bottleneck. Consider increasing the value of the `num_workers` argument` to `num_workers=11` in the `DataLoader` to improve performance.\n"
     ]
    },
    {
     "name": "stdout",
     "output_type": "stream",
     "text": [
      "[INFO]: Setting up predict dataset/s\n",
      "[INFO]: Predict dataloader size: 3\n",
      "Predicting DataLoader 0: 100%|██████████| 3/3 [00:00<00:00, 62.28it/s] \n",
      "tensor([[182188.2969],\n",
      "        [182188.2969],\n",
      "        [182188.2969],\n",
      "        [182188.2969],\n",
      "        [182188.2969]])\n"
     ]
    },
    {
     "data": {
      "text/html": [
       "<style>\n",
       "    table.wandb td:nth-child(1) { padding: 0 10px; text-align: left ; width: auto;} td:nth-child(2) {text-align: left ; width: 100%}\n",
       "    .wandb-row { display: flex; flex-direction: row; flex-wrap: wrap; justify-content: flex-start; width: 100% }\n",
       "    .wandb-col { display: flex; flex-direction: column; flex-basis: 100%; flex: 1; padding: 10px; }\n",
       "    </style>\n",
       "<div class=\"wandb-row\"><div class=\"wandb-col\"><h3>Run history:</h3><br/><table class=\"wandb\"><tr><td>epoch</td><td>▁▁▁▂▂▂▂▂▂▃▃▃▃▃▄▄▄▄▄▄▅▅▅▅▅▅▆▆▆▆▆▇▇▇▇▇▇███</td></tr><tr><td>test_loss</td><td>▁</td></tr><tr><td>train_loss</td><td>▇██▆▄▂▁▁▁▂▁▁▁▁▁▁▁▁▁▁▁▁▁▁▁▁▁▁▁▁▁▁▁▁▁▁▁▁▁▁</td></tr><tr><td>trainer/global_step</td><td>▁▁▁▂▂▂▂▂▂▃▃▃▃▃▄▄▄▄▄▄▅▅▅▅▅▅▆▆▆▆▆▇▇▇▇▇▇███</td></tr><tr><td>val_loss</td><td>███▇▄▁▁▁▁▁▁▁▁▁▁▁▁▁▁▁▁▁▁▁▁▁▁▁▁▁▁▁▁▁▁▁▁▁▁▁</td></tr></table><br/></div><div class=\"wandb-col\"><h3>Run summary:</h3><br/><table class=\"wandb\"><tr><td>epoch</td><td>500</td></tr><tr><td>test_loss</td><td>5273616384.0</td></tr><tr><td>train_loss</td><td>6052269568.0</td></tr><tr><td>trainer/global_step</td><td>1000</td></tr><tr><td>val_loss</td><td>6835359232.0</td></tr></table><br/></div></div>"
      ],
      "text/plain": [
       "<IPython.core.display.HTML object>"
      ]
     },
     "metadata": {},
     "output_type": "display_data"
    },
    {
     "data": {
      "text/html": [
       " View run <strong style=\"color:#cdcd00\">batch_size_512_run_id_2</strong> at: <a href='https://wandb.ai/deepsat/housepricing-lighning/runs/fdaxg74t' target=\"_blank\">https://wandb.ai/deepsat/housepricing-lighning/runs/fdaxg74t</a><br/> View project at: <a href='https://wandb.ai/deepsat/housepricing-lighning' target=\"_blank\">https://wandb.ai/deepsat/housepricing-lighning</a><br/>Synced 6 W&B file(s), 0 media file(s), 0 artifact file(s) and 0 other file(s)"
      ],
      "text/plain": [
       "<IPython.core.display.HTML object>"
      ]
     },
     "metadata": {},
     "output_type": "display_data"
    },
    {
     "data": {
      "text/html": [
       "Find logs at: <code>./wandb/run-20240417_161007-fdaxg74t/logs</code>"
      ],
      "text/plain": [
       "<IPython.core.display.HTML object>"
      ]
     },
     "metadata": {},
     "output_type": "display_data"
    }
   ],
   "source": [
    "import os\n",
    "import wandb\n",
    "import torch\n",
    "from lightning import Trainer\n",
    "from pytorch_lightning.loggers import WandbLogger\n",
    "from src.model import NeuralNetwork\n",
    "from src.data import HousePricingDataModule\n",
    "\n",
    "project_name = os.environ[\"WANDB_NAME\"]\n",
    "\n",
    "for _, batch_size in enumerate([256, 512]):\n",
    "\n",
    "    for i in range(3):\n",
    "\n",
    "        wandb_logger = WandbLogger(project=project_name, name=f\"batch_size_{batch_size}_run_id_{i}\")\n",
    "\n",
    "        data_module = HousePricingDataModule(batch_size=batch_size)\n",
    "        data_module.prepare_data()\n",
    "\n",
    "        in_features = data_module.in_features()\n",
    "        model = NeuralNetwork(in_features)\n",
    "\n",
    "        max_epochs = 500\n",
    "\n",
    "        H = {\n",
    "            \"accelerator\": \"gpu\" if torch.cuda.is_available() else \"cpu\",\n",
    "            \"in_features\": in_features,\n",
    "            \"max_epochs\": max_epochs,\n",
    "            \"batch_size\": batch_size\n",
    "        }\n",
    "\n",
    "        for c, v in H.items():\n",
    "            wandb_logger.experiment.config[c] = v\n",
    "\n",
    "        trainer = Trainer(\n",
    "            accelerator=H[\"accelerator\"],\n",
    "            max_epochs=H[\"max_epochs\"],\n",
    "            logger=wandb_logger,\n",
    "            log_every_n_steps=1)\n",
    "\n",
    "        trainer.fit(model, datamodule=data_module)\n",
    "        trainer.test(model, datamodule=data_module)\n",
    "        preds = trainer.predict(model, datamodule=data_module)\n",
    "\n",
    "        print(preds[0][:5])\n",
    "\n",
    "        wandb.finish()"
   ]
  }
 ],
 "metadata": {
  "kernelspec": {
   "display_name": "pricehousing",
   "language": "python",
   "name": "python3"
  },
  "language_info": {
   "codemirror_mode": {
    "name": "ipython",
    "version": 3
   },
   "file_extension": ".py",
   "mimetype": "text/x-python",
   "name": "python",
   "nbconvert_exporter": "python",
   "pygments_lexer": "ipython3",
   "version": "3.9.19"
  }
 },
 "nbformat": 4,
 "nbformat_minor": 2
}
