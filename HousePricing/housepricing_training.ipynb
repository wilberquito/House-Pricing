{
 "cells": [
  {
   "cell_type": "code",
   "execution_count": 18,
   "metadata": {},
   "outputs": [
    {
     "name": "stdout",
     "output_type": "stream",
     "text": [
      "odict_keys(['WANDB_API_KEY', 'WANDB_NAME', 'WANDB_NOTES', 'WANDB_NOTEBOOK_NAME'])\n"
     ]
    }
   ],
   "source": [
    "from dotenv import dotenv_values\n",
    "import os\n",
    "\n",
    "config = dotenv_values(\".env.secret\")  # load sensitive variables\n",
    "print(config.keys())\n",
    "\n",
    "for c, v in config.items():\n",
    "    os.environ[c] = v"
   ]
  },
  {
   "cell_type": "code",
   "execution_count": 19,
   "metadata": {},
   "outputs": [
    {
     "name": "stderr",
     "output_type": "stream",
     "text": [
      "\u001b[34m\u001b[1mwandb\u001b[0m: \u001b[33mWARNING\u001b[0m If you're specifying your api key in code, ensure this code is not shared publicly.\n",
      "\u001b[34m\u001b[1mwandb\u001b[0m: \u001b[33mWARNING\u001b[0m Consider setting the WANDB_API_KEY environment variable, or running `wandb login` from the command line.\n",
      "\u001b[34m\u001b[1mwandb\u001b[0m: Appending key for api.wandb.ai to your netrc file: /root/.netrc\n"
     ]
    },
    {
     "data": {
      "text/plain": [
       "True"
      ]
     },
     "execution_count": 19,
     "metadata": {},
     "output_type": "execute_result"
    }
   ],
   "source": [
    "import wandb\n",
    "\n",
    "wandb_key = os.environ[\"WANDB_API_KEY\"]\n",
    "wandb.login(key=wandb_key)"
   ]
  },
  {
   "cell_type": "code",
   "execution_count": 20,
   "metadata": {},
   "outputs": [
    {
     "data": {
      "text/plain": [
       "True"
      ]
     },
     "execution_count": 20,
     "metadata": {},
     "output_type": "execute_result"
    }
   ],
   "source": [
    "import torch\n",
    "\n",
    "torch.cuda.is_available()"
   ]
  },
  {
   "cell_type": "code",
   "execution_count": 21,
   "metadata": {},
   "outputs": [
    {
     "data": {
      "text/plain": [
       "1"
      ]
     },
     "execution_count": 21,
     "metadata": {},
     "output_type": "execute_result"
    }
   ],
   "source": [
    "import torch\n",
    "\n",
    "torch.cuda.device_count()"
   ]
  },
  {
   "cell_type": "code",
   "execution_count": 22,
   "metadata": {},
   "outputs": [
    {
     "data": {
      "text/plain": [
       "'NVIDIA GeForce GTX 1650'"
      ]
     },
     "execution_count": 22,
     "metadata": {},
     "output_type": "execute_result"
    }
   ],
   "source": [
    "import torch\n",
    "\n",
    "torch.cuda.get_device_name()"
   ]
  },
  {
   "cell_type": "code",
   "execution_count": 23,
   "metadata": {},
   "outputs": [
    {
     "data": {
      "text/plain": [
       "11"
      ]
     },
     "execution_count": 23,
     "metadata": {},
     "output_type": "execute_result"
    }
   ],
   "source": [
    "import os\n",
    "\n",
    "max(1, os.cpu_count() -1)"
   ]
  },
  {
   "cell_type": "code",
   "execution_count": 24,
   "metadata": {},
   "outputs": [
    {
     "name": "stdout",
     "output_type": "stream",
     "text": [
      "[INFO]: Preprocessing training dataframe...\n",
      "[INFO]: Dropping columns with full of NA or Identifiers. Current dataframe shape: (1460, 81)\n",
      "[INFO]: Dropped columns with full of NA or Identifiers. Current dataframe shape: (1460, 74)\n",
      "[INFO]: Dropping categories types with few ocurrence. Current dataframe shape: (1460, 74)\n",
      "[INFO]: Few ocurrences removed. Current dataframe shape: (1443, 74)\n",
      "[INFO]: Dropping columns which contains just one type of category. Current dataframe shape: (1443, 74)\n",
      "[INFO]: Columns with just one type of categroy dropped. Current dataframe shape: (1443, 73)\n",
      "[INFO]: Preprocessing predict dataframe...\n",
      "[INFO]: Dropping columns with full of NA or Identifiers. Current dataframe shape: (1459, 80)\n",
      "[INFO]: Dropped columns with full of NA or Identifiers. Current dataframe shape: (1459, 73)\n"
     ]
    },
    {
     "data": {
      "text/html": [
       "Tracking run with wandb version 0.16.6"
      ],
      "text/plain": [
       "<IPython.core.display.HTML object>"
      ]
     },
     "metadata": {},
     "output_type": "display_data"
    },
    {
     "data": {
      "text/html": [
       "Run data is saved locally in <code>/root/repos/lightning/HousePricing/wandb/run-20240418_103110-7pyxyr9j</code>"
      ],
      "text/plain": [
       "<IPython.core.display.HTML object>"
      ]
     },
     "metadata": {},
     "output_type": "display_data"
    },
    {
     "data": {
      "text/html": [
       "Syncing run <strong><a href='https://wandb.ai/deepsat/House%20Pricing/runs/7pyxyr9j' target=\"_blank\">Jennifer_1Z54Q60B</a></strong> to <a href='https://wandb.ai/deepsat/House%20Pricing' target=\"_blank\">Weights & Biases</a> (<a href='https://wandb.me/run' target=\"_blank\">docs</a>)<br/>"
      ],
      "text/plain": [
       "<IPython.core.display.HTML object>"
      ]
     },
     "metadata": {},
     "output_type": "display_data"
    },
    {
     "data": {
      "text/html": [
       " View project at <a href='https://wandb.ai/deepsat/House%20Pricing' target=\"_blank\">https://wandb.ai/deepsat/House%20Pricing</a>"
      ],
      "text/plain": [
       "<IPython.core.display.HTML object>"
      ]
     },
     "metadata": {},
     "output_type": "display_data"
    },
    {
     "data": {
      "text/html": [
       " View run at <a href='https://wandb.ai/deepsat/House%20Pricing/runs/7pyxyr9j' target=\"_blank\">https://wandb.ai/deepsat/House%20Pricing/runs/7pyxyr9j</a>"
      ],
      "text/plain": [
       "<IPython.core.display.HTML object>"
      ]
     },
     "metadata": {},
     "output_type": "display_data"
    },
    {
     "name": "stderr",
     "output_type": "stream",
     "text": [
      "GPU available: True (cuda), used: True\n",
      "TPU available: False, using: 0 TPU cores\n",
      "IPU available: False, using: 0 IPUs\n",
      "HPU available: False, using: 0 HPUs\n"
     ]
    },
    {
     "name": "stdout",
     "output_type": "stream",
     "text": [
      "[INFO]: Input size: 244\n",
      "[INFO]: Preprocessing training dataframe...\n",
      "[INFO]: Dropping columns with full of NA or Identifiers. Current dataframe shape: (1460, 81)\n",
      "[INFO]: Dropped columns with full of NA or Identifiers. Current dataframe shape: (1460, 74)\n",
      "[INFO]: Dropping categories types with few ocurrence. Current dataframe shape: (1460, 74)\n",
      "[INFO]: Few ocurrences removed. Current dataframe shape: (1443, 74)\n",
      "[INFO]: Dropping columns which contains just one type of category. Current dataframe shape: (1443, 74)\n",
      "[INFO]: Columns with just one type of categroy dropped. Current dataframe shape: (1443, 73)\n",
      "[INFO]: Preprocessing predict dataframe...\n",
      "[INFO]: Dropping columns with full of NA or Identifiers. Current dataframe shape: (1459, 80)\n",
      "[INFO]: Dropped columns with full of NA or Identifiers. Current dataframe shape: (1459, 73)\n"
     ]
    },
    {
     "name": "stderr",
     "output_type": "stream",
     "text": [
      "/root/miniconda3/envs/pricehousing/lib/python3.9/site-packages/pytorch_lightning/loggers/wandb.py:391: There is a wandb run already in progress and newly created instances of `WandbLogger` will reuse this run. If this is not desired, call `wandb.finish()` before instantiating `WandbLogger`.\n",
      "LOCAL_RANK: 0 - CUDA_VISIBLE_DEVICES: [0]\n",
      "\n",
      "  | Name | Type       | Params\n",
      "------------------------------------\n",
      "0 | net  | Sequential | 215 K \n",
      "------------------------------------\n",
      "215 K     Trainable params\n",
      "0         Non-trainable params\n",
      "215 K     Total params\n",
      "0.864     Total estimated model params size (MB)\n"
     ]
    },
    {
     "name": "stdout",
     "output_type": "stream",
     "text": [
      "[INFO]: Setting up fit dataset/s\n",
      "[INFO]: Train dataset size: 981\n",
      "[INFO]: Validation dataset size: 173\n",
      "Sanity Checking: |          | 0/? [00:00<?, ?it/s][INFO]: Validation dataloader size: 1\n",
      "                                                                            "
     ]
    },
    {
     "name": "stderr",
     "output_type": "stream",
     "text": [
      "/root/miniconda3/envs/pricehousing/lib/python3.9/site-packages/lightning/pytorch/trainer/connectors/data_connector.py:492: Your `val_dataloader`'s sampler has shuffling enabled, it is strongly recommended that you turn shuffling off for val/test dataloaders.\n",
      "/root/miniconda3/envs/pricehousing/lib/python3.9/site-packages/lightning/pytorch/trainer/connectors/data_connector.py:441: The 'val_dataloader' does not have many workers which may be a bottleneck. Consider increasing the value of the `num_workers` argument` to `num_workers=11` in the `DataLoader` to improve performance.\n",
      "/root/miniconda3/envs/pricehousing/lib/python3.9/site-packages/lightning/pytorch/trainer/connectors/data_connector.py:441: The 'train_dataloader' does not have many workers which may be a bottleneck. Consider increasing the value of the `num_workers` argument` to `num_workers=11` in the `DataLoader` to improve performance.\n"
     ]
    },
    {
     "name": "stdout",
     "output_type": "stream",
     "text": [
      "[INFO]: Train dataloader size: 4\n",
      "Training: |          | 0/? [00:00<?, ?it/s][INFO]: Logger save dir: .\n",
      "[INFO]: Logger name: lightning_logs\n",
      "[INFO]: Logger version: 7pyxyr9j\n",
      "Epoch 0: 100%|██████████| 4/4 [00:00<00:00, 34.61it/s, v_num=yr9j]"
     ]
    },
    {
     "name": "stderr",
     "output_type": "stream",
     "text": [
      "Metric val_loss improved. New best score: 19119310848.000\n"
     ]
    },
    {
     "name": "stdout",
     "output_type": "stream",
     "text": [
      "Epoch 4: 100%|██████████| 4/4 [00:00<00:00, 34.33it/s, v_num=yr9j]"
     ]
    },
    {
     "name": "stderr",
     "output_type": "stream",
     "text": [
      "Metric val_loss improved by 11917216768.000 >= min_delta = 0.0. New best score: 7202094080.000\n"
     ]
    },
    {
     "name": "stdout",
     "output_type": "stream",
     "text": [
      "Epoch 5: 100%|██████████| 4/4 [00:00<00:00, 35.02it/s, v_num=yr9j]"
     ]
    },
    {
     "name": "stderr",
     "output_type": "stream",
     "text": [
      "Metric val_loss improved by 437257728.000 >= min_delta = 0.0. New best score: 6764836352.000\n"
     ]
    },
    {
     "name": "stdout",
     "output_type": "stream",
     "text": [
      "Epoch 7: 100%|██████████| 4/4 [00:00<00:00, 30.87it/s, v_num=yr9j]"
     ]
    },
    {
     "name": "stderr",
     "output_type": "stream",
     "text": [
      "Metric val_loss improved by 2495656960.000 >= min_delta = 0.0. New best score: 4269179392.000\n"
     ]
    },
    {
     "name": "stdout",
     "output_type": "stream",
     "text": [
      "Epoch 8: 100%|██████████| 4/4 [00:00<00:00, 32.99it/s, v_num=yr9j]"
     ]
    },
    {
     "name": "stderr",
     "output_type": "stream",
     "text": [
      "Metric val_loss improved by 912123136.000 >= min_delta = 0.0. New best score: 3357056256.000\n"
     ]
    },
    {
     "name": "stdout",
     "output_type": "stream",
     "text": [
      "Epoch 10: 100%|██████████| 4/4 [00:00<00:00, 30.92it/s, v_num=yr9j]"
     ]
    },
    {
     "name": "stderr",
     "output_type": "stream",
     "text": [
      "Metric val_loss improved by 1330856832.000 >= min_delta = 0.0. New best score: 2026199424.000\n"
     ]
    },
    {
     "name": "stdout",
     "output_type": "stream",
     "text": [
      "Epoch 11: 100%|██████████| 4/4 [00:00<00:00, 33.09it/s, v_num=yr9j]"
     ]
    },
    {
     "name": "stderr",
     "output_type": "stream",
     "text": [
      "Metric val_loss improved by 259223808.000 >= min_delta = 0.0. New best score: 1766975616.000\n"
     ]
    },
    {
     "name": "stdout",
     "output_type": "stream",
     "text": [
      "Epoch 13: 100%|██████████| 4/4 [00:00<00:00, 26.18it/s, v_num=yr9j]"
     ]
    },
    {
     "name": "stderr",
     "output_type": "stream",
     "text": [
      "Metric val_loss improved by 290333056.000 >= min_delta = 0.0. New best score: 1476642560.000\n"
     ]
    },
    {
     "name": "stdout",
     "output_type": "stream",
     "text": [
      "Epoch 14: 100%|██████████| 4/4 [00:00<00:00, 35.47it/s, v_num=yr9j]"
     ]
    },
    {
     "name": "stderr",
     "output_type": "stream",
     "text": [
      "Metric val_loss improved by 171303936.000 >= min_delta = 0.0. New best score: 1305338624.000\n"
     ]
    },
    {
     "name": "stdout",
     "output_type": "stream",
     "text": [
      "Epoch 16: 100%|██████████| 4/4 [00:00<00:00, 36.86it/s, v_num=yr9j]"
     ]
    },
    {
     "name": "stderr",
     "output_type": "stream",
     "text": [
      "Metric val_loss improved by 110793216.000 >= min_delta = 0.0. New best score: 1194545408.000\n"
     ]
    },
    {
     "name": "stdout",
     "output_type": "stream",
     "text": [
      "Epoch 17: 100%|██████████| 4/4 [00:00<00:00, 33.42it/s, v_num=yr9j]"
     ]
    },
    {
     "name": "stderr",
     "output_type": "stream",
     "text": [
      "Metric val_loss improved by 130625664.000 >= min_delta = 0.0. New best score: 1063919744.000\n"
     ]
    },
    {
     "name": "stdout",
     "output_type": "stream",
     "text": [
      "Epoch 18: 100%|██████████| 4/4 [00:00<00:00, 36.50it/s, v_num=yr9j]"
     ]
    },
    {
     "name": "stderr",
     "output_type": "stream",
     "text": [
      "Metric val_loss improved by 65577088.000 >= min_delta = 0.0. New best score: 998342656.000\n"
     ]
    },
    {
     "name": "stdout",
     "output_type": "stream",
     "text": [
      "Epoch 19: 100%|██████████| 4/4 [00:00<00:00, 26.03it/s, v_num=yr9j]"
     ]
    },
    {
     "name": "stderr",
     "output_type": "stream",
     "text": [
      "Metric val_loss improved by 19482368.000 >= min_delta = 0.0. New best score: 978860288.000\n"
     ]
    },
    {
     "name": "stdout",
     "output_type": "stream",
     "text": [
      "Epoch 20: 100%|██████████| 4/4 [00:00<00:00, 33.93it/s, v_num=yr9j]"
     ]
    },
    {
     "name": "stderr",
     "output_type": "stream",
     "text": [
      "Metric val_loss improved by 10373376.000 >= min_delta = 0.0. New best score: 968486912.000\n"
     ]
    },
    {
     "name": "stdout",
     "output_type": "stream",
     "text": [
      "Epoch 21: 100%|██████████| 4/4 [00:00<00:00, 35.71it/s, v_num=yr9j]"
     ]
    },
    {
     "name": "stderr",
     "output_type": "stream",
     "text": [
      "Metric val_loss improved by 53406528.000 >= min_delta = 0.0. New best score: 915080384.000\n"
     ]
    },
    {
     "name": "stdout",
     "output_type": "stream",
     "text": [
      "Epoch 22: 100%|██████████| 4/4 [00:00<00:00, 34.50it/s, v_num=yr9j]"
     ]
    },
    {
     "name": "stderr",
     "output_type": "stream",
     "text": [
      "Metric val_loss improved by 16060544.000 >= min_delta = 0.0. New best score: 899019840.000\n"
     ]
    },
    {
     "name": "stdout",
     "output_type": "stream",
     "text": [
      "Epoch 23: 100%|██████████| 4/4 [00:00<00:00, 34.65it/s, v_num=yr9j]"
     ]
    },
    {
     "name": "stderr",
     "output_type": "stream",
     "text": [
      "Metric val_loss improved by 21101504.000 >= min_delta = 0.0. New best score: 877918336.000\n"
     ]
    },
    {
     "name": "stdout",
     "output_type": "stream",
     "text": [
      "Epoch 24: 100%|██████████| 4/4 [00:00<00:00, 36.96it/s, v_num=yr9j]"
     ]
    },
    {
     "name": "stderr",
     "output_type": "stream",
     "text": [
      "Metric val_loss improved by 13508352.000 >= min_delta = 0.0. New best score: 864409984.000\n"
     ]
    },
    {
     "name": "stdout",
     "output_type": "stream",
     "text": [
      "Epoch 25: 100%|██████████| 4/4 [00:00<00:00, 32.94it/s, v_num=yr9j]"
     ]
    },
    {
     "name": "stderr",
     "output_type": "stream",
     "text": [
      "Metric val_loss improved by 7678912.000 >= min_delta = 0.0. New best score: 856731072.000\n"
     ]
    },
    {
     "name": "stdout",
     "output_type": "stream",
     "text": [
      "Epoch 26: 100%|██████████| 4/4 [00:00<00:00, 33.56it/s, v_num=yr9j]"
     ]
    },
    {
     "name": "stderr",
     "output_type": "stream",
     "text": [
      "Metric val_loss improved by 8550208.000 >= min_delta = 0.0. New best score: 848180864.000\n"
     ]
    },
    {
     "name": "stdout",
     "output_type": "stream",
     "text": [
      "Testing DataLoader 0: 100%|██████████| 1/1 [16:10<00:00,  0.00it/s] \n",
      "Epoch 76: 100%|██████████| 4/4 [00:00<00:00, 31.57it/s, v_num=yr9j]"
     ]
    },
    {
     "name": "stderr",
     "output_type": "stream",
     "text": [
      "Monitored metric val_loss did not improve in the last 50 records. Best score: 848180864.000. Signaling Trainer to stop.\n"
     ]
    },
    {
     "name": "stdout",
     "output_type": "stream",
     "text": [
      "Epoch 76: 100%|██████████| 4/4 [00:00<00:00, 30.21it/s, v_num=yr9j]\n",
      "[INFO]: Preprocessing training dataframe...\n",
      "[INFO]: Dropping columns with full of NA or Identifiers. Current dataframe shape: (1460, 81)\n",
      "[INFO]: Dropped columns with full of NA or Identifiers. Current dataframe shape: (1460, 74)\n",
      "[INFO]: Dropping categories types with few ocurrence. Current dataframe shape: (1460, 74)\n",
      "[INFO]: Few ocurrences removed. Current dataframe shape: (1443, 74)\n",
      "[INFO]: Dropping columns which contains just one type of category. Current dataframe shape: (1443, 74)\n",
      "[INFO]: Columns with just one type of categroy dropped. Current dataframe shape: (1443, 73)\n",
      "[INFO]: Preprocessing predict dataframe...\n",
      "[INFO]: Dropping columns with full of NA or Identifiers. Current dataframe shape: (1459, 80)\n",
      "[INFO]: Dropped columns with full of NA or Identifiers. Current dataframe shape: (1459, 73)\n"
     ]
    },
    {
     "name": "stderr",
     "output_type": "stream",
     "text": [
      "LOCAL_RANK: 0 - CUDA_VISIBLE_DEVICES: [0]\n",
      "/root/miniconda3/envs/pricehousing/lib/python3.9/site-packages/lightning/pytorch/trainer/connectors/data_connector.py:441: The 'test_dataloader' does not have many workers which may be a bottleneck. Consider increasing the value of the `num_workers` argument` to `num_workers=11` in the `DataLoader` to improve performance.\n"
     ]
    },
    {
     "name": "stdout",
     "output_type": "stream",
     "text": [
      "[INFO]: Setting up test dataset/s\n",
      "[INFO]: Test dataloader size: 2\n",
      "Testing DataLoader 0: 100%|██████████| 2/2 [00:00<00:00, 155.36it/s]\n",
      "────────────────────────────────────────────────────────────────────────────────────────────────────────────────────────\n",
      "       Test metric             DataLoader 0\n",
      "────────────────────────────────────────────────────────────────────────────────────────────────────────────────────────\n",
      "        test_loss               656872704.0\n",
      "────────────────────────────────────────────────────────────────────────────────────────────────────────────────────────\n"
     ]
    },
    {
     "data": {
      "text/html": [
       "<style>\n",
       "    table.wandb td:nth-child(1) { padding: 0 10px; text-align: left ; width: auto;} td:nth-child(2) {text-align: left ; width: 100%}\n",
       "    .wandb-row { display: flex; flex-direction: row; flex-wrap: wrap; justify-content: flex-start; width: 100% }\n",
       "    .wandb-col { display: flex; flex-direction: column; flex-basis: 100%; flex: 1; padding: 10px; }\n",
       "    </style>\n",
       "<div class=\"wandb-row\"><div class=\"wandb-col\"><h3>Run history:</h3><br/><table class=\"wandb\"><tr><td>epoch</td><td>▁▁▁▂▂▂▂▂▂▃▃▃▃▃▄▄▄▄▄▄▅▅▅▅▅▅▆▆▆▆▇▇▇▇▇▇████</td></tr><tr><td>test_loss</td><td>▁</td></tr><tr><td>train_loss</td><td>█▁▁▁▁▁▁▁▁▁▁▁▁▁▁▁▁▁▁▁▁▁▁▁▁▁▁▁▁▁▁▁▁▁▁▁▁▁▁▁</td></tr><tr><td>trainer/global_step</td><td>▁▁▁▂▂▂▂▂▂▃▃▃▃▃▄▄▄▄▄▄▅▅▅▅▅▅▆▆▆▆▆▇▇▇▇▇▇███</td></tr><tr><td>val_loss</td><td>▄█▇▂▂▂▁▁▁▁▁▁▁▁▁▁▁▁▁▁▁▁▁▁▁▁▁▁▁▁▁▁▁▁▁▁▁▁▁▁</td></tr></table><br/></div><div class=\"wandb-col\"><h3>Run summary:</h3><br/><table class=\"wandb\"><tr><td>epoch</td><td>77</td></tr><tr><td>test_loss</td><td>656872704.0</td></tr><tr><td>train_loss</td><td>208327296.0</td></tr><tr><td>trainer/global_step</td><td>308</td></tr><tr><td>val_loss</td><td>978174976.0</td></tr></table><br/></div></div>"
      ],
      "text/plain": [
       "<IPython.core.display.HTML object>"
      ]
     },
     "metadata": {},
     "output_type": "display_data"
    },
    {
     "data": {
      "text/html": [
       " View run <strong style=\"color:#cdcd00\">Jennifer_1Z54Q60B</strong> at: <a href='https://wandb.ai/deepsat/House%20Pricing/runs/7pyxyr9j' target=\"_blank\">https://wandb.ai/deepsat/House%20Pricing/runs/7pyxyr9j</a><br/> View project at: <a href='https://wandb.ai/deepsat/House%20Pricing' target=\"_blank\">https://wandb.ai/deepsat/House%20Pricing</a><br/>Synced 6 W&B file(s), 0 media file(s), 20 artifact file(s) and 0 other file(s)"
      ],
      "text/plain": [
       "<IPython.core.display.HTML object>"
      ]
     },
     "metadata": {},
     "output_type": "display_data"
    },
    {
     "data": {
      "text/html": [
       "Find logs at: <code>./wandb/run-20240418_103110-7pyxyr9j/logs</code>"
      ],
      "text/plain": [
       "<IPython.core.display.HTML object>"
      ]
     },
     "metadata": {},
     "output_type": "display_data"
    },
    {
     "name": "stdout",
     "output_type": "stream",
     "text": [
      "[INFO]: Preprocessing training dataframe...\n",
      "[INFO]: Dropping columns with full of NA or Identifiers. Current dataframe shape: (1460, 81)\n",
      "[INFO]: Dropped columns with full of NA or Identifiers. Current dataframe shape: (1460, 74)\n",
      "[INFO]: Dropping categories types with few ocurrence. Current dataframe shape: (1460, 74)\n",
      "[INFO]: Few ocurrences removed. Current dataframe shape: (1443, 74)\n",
      "[INFO]: Dropping columns which contains just one type of category. Current dataframe shape: (1443, 74)\n",
      "[INFO]: Columns with just one type of categroy dropped. Current dataframe shape: (1443, 73)\n",
      "[INFO]: Preprocessing predict dataframe...\n",
      "[INFO]: Dropping columns with full of NA or Identifiers. Current dataframe shape: (1459, 80)\n",
      "[INFO]: Dropped columns with full of NA or Identifiers. Current dataframe shape: (1459, 73)\n"
     ]
    },
    {
     "data": {
      "text/html": [
       "Tracking run with wandb version 0.16.6"
      ],
      "text/plain": [
       "<IPython.core.display.HTML object>"
      ]
     },
     "metadata": {},
     "output_type": "display_data"
    },
    {
     "data": {
      "text/html": [
       "Run data is saved locally in <code>/root/repos/lightning/HousePricing/wandb/run-20240418_103218-kujs20js</code>"
      ],
      "text/plain": [
       "<IPython.core.display.HTML object>"
      ]
     },
     "metadata": {},
     "output_type": "display_data"
    },
    {
     "data": {
      "text/html": [
       "Syncing run <strong><a href='https://wandb.ai/deepsat/House%20Pricing/runs/kujs20js' target=\"_blank\">Lauren_I60OXE4F</a></strong> to <a href='https://wandb.ai/deepsat/House%20Pricing' target=\"_blank\">Weights & Biases</a> (<a href='https://wandb.me/run' target=\"_blank\">docs</a>)<br/>"
      ],
      "text/plain": [
       "<IPython.core.display.HTML object>"
      ]
     },
     "metadata": {},
     "output_type": "display_data"
    },
    {
     "data": {
      "text/html": [
       " View project at <a href='https://wandb.ai/deepsat/House%20Pricing' target=\"_blank\">https://wandb.ai/deepsat/House%20Pricing</a>"
      ],
      "text/plain": [
       "<IPython.core.display.HTML object>"
      ]
     },
     "metadata": {},
     "output_type": "display_data"
    },
    {
     "data": {
      "text/html": [
       " View run at <a href='https://wandb.ai/deepsat/House%20Pricing/runs/kujs20js' target=\"_blank\">https://wandb.ai/deepsat/House%20Pricing/runs/kujs20js</a>"
      ],
      "text/plain": [
       "<IPython.core.display.HTML object>"
      ]
     },
     "metadata": {},
     "output_type": "display_data"
    },
    {
     "name": "stderr",
     "output_type": "stream",
     "text": [
      "GPU available: True (cuda), used: True\n",
      "TPU available: False, using: 0 TPU cores\n",
      "IPU available: False, using: 0 IPUs\n",
      "HPU available: False, using: 0 HPUs\n"
     ]
    },
    {
     "name": "stdout",
     "output_type": "stream",
     "text": [
      "[INFO]: Input size: 244\n",
      "[INFO]: Preprocessing training dataframe...\n",
      "[INFO]: Dropping columns with full of NA or Identifiers. Current dataframe shape: (1460, 81)\n",
      "[INFO]: Dropped columns with full of NA or Identifiers. Current dataframe shape: (1460, 74)\n",
      "[INFO]: Dropping categories types with few ocurrence. Current dataframe shape: (1460, 74)\n",
      "[INFO]: Few ocurrences removed. Current dataframe shape: (1443, 74)\n",
      "[INFO]: Dropping columns which contains just one type of category. Current dataframe shape: (1443, 74)\n",
      "[INFO]: Columns with just one type of categroy dropped. Current dataframe shape: (1443, 73)\n",
      "[INFO]: Preprocessing predict dataframe...\n",
      "[INFO]: Dropping columns with full of NA or Identifiers. Current dataframe shape: (1459, 80)\n",
      "[INFO]: Dropped columns with full of NA or Identifiers. Current dataframe shape: (1459, 73)\n"
     ]
    },
    {
     "name": "stderr",
     "output_type": "stream",
     "text": [
      "/root/miniconda3/envs/pricehousing/lib/python3.9/site-packages/pytorch_lightning/loggers/wandb.py:391: There is a wandb run already in progress and newly created instances of `WandbLogger` will reuse this run. If this is not desired, call `wandb.finish()` before instantiating `WandbLogger`.\n",
      "LOCAL_RANK: 0 - CUDA_VISIBLE_DEVICES: [0]\n",
      "\n",
      "  | Name | Type       | Params\n",
      "------------------------------------\n",
      "0 | net  | Sequential | 215 K \n",
      "------------------------------------\n",
      "215 K     Trainable params\n",
      "0         Non-trainable params\n",
      "215 K     Total params\n",
      "0.864     Total estimated model params size (MB)\n"
     ]
    },
    {
     "name": "stdout",
     "output_type": "stream",
     "text": [
      "[INFO]: Setting up fit dataset/s\n",
      "[INFO]: Train dataset size: 981\n",
      "[INFO]: Validation dataset size: 173\n",
      "Sanity Checking: |          | 0/? [00:00<?, ?it/s][INFO]: Validation dataloader size: 1\n",
      "                                                                            "
     ]
    },
    {
     "name": "stderr",
     "output_type": "stream",
     "text": [
      "/root/miniconda3/envs/pricehousing/lib/python3.9/site-packages/lightning/pytorch/trainer/connectors/data_connector.py:492: Your `val_dataloader`'s sampler has shuffling enabled, it is strongly recommended that you turn shuffling off for val/test dataloaders.\n",
      "/root/miniconda3/envs/pricehousing/lib/python3.9/site-packages/lightning/pytorch/trainer/connectors/data_connector.py:441: The 'val_dataloader' does not have many workers which may be a bottleneck. Consider increasing the value of the `num_workers` argument` to `num_workers=11` in the `DataLoader` to improve performance.\n",
      "/root/miniconda3/envs/pricehousing/lib/python3.9/site-packages/lightning/pytorch/trainer/connectors/data_connector.py:441: The 'train_dataloader' does not have many workers which may be a bottleneck. Consider increasing the value of the `num_workers` argument` to `num_workers=11` in the `DataLoader` to improve performance.\n"
     ]
    },
    {
     "name": "stdout",
     "output_type": "stream",
     "text": [
      "[INFO]: Train dataloader size: 4\n",
      "Training: |          | 0/? [00:00<?, ?it/s][INFO]: Logger save dir: .\n",
      "[INFO]: Logger name: lightning_logs\n",
      "[INFO]: Logger version: kujs20js\n",
      "Epoch 0: 100%|██████████| 4/4 [00:00<00:00, 18.07it/s, v_num=20js]"
     ]
    },
    {
     "name": "stderr",
     "output_type": "stream",
     "text": [
      "Metric val_loss improved. New best score: 14972628992.000\n"
     ]
    },
    {
     "name": "stdout",
     "output_type": "stream",
     "text": [
      "Epoch 4: 100%|██████████| 4/4 [00:00<00:00, 32.43it/s, v_num=20js]"
     ]
    },
    {
     "name": "stderr",
     "output_type": "stream",
     "text": [
      "Metric val_loss improved by 12485515264.000 >= min_delta = 0.0. New best score: 2487113216.000\n"
     ]
    },
    {
     "name": "stdout",
     "output_type": "stream",
     "text": [
      "Epoch 11: 100%|██████████| 4/4 [00:00<00:00, 33.85it/s, v_num=20js]"
     ]
    },
    {
     "name": "stderr",
     "output_type": "stream",
     "text": [
      "Metric val_loss improved by 657200768.000 >= min_delta = 0.0. New best score: 1829912448.000\n"
     ]
    },
    {
     "name": "stdout",
     "output_type": "stream",
     "text": [
      "Epoch 12: 100%|██████████| 4/4 [00:00<00:00, 33.11it/s, v_num=20js]"
     ]
    },
    {
     "name": "stderr",
     "output_type": "stream",
     "text": [
      "Metric val_loss improved by 675712384.000 >= min_delta = 0.0. New best score: 1154200064.000\n"
     ]
    },
    {
     "name": "stdout",
     "output_type": "stream",
     "text": [
      "Epoch 13: 100%|██████████| 4/4 [00:00<00:00, 32.14it/s, v_num=20js]"
     ]
    },
    {
     "name": "stderr",
     "output_type": "stream",
     "text": [
      "Metric val_loss improved by 185954752.000 >= min_delta = 0.0. New best score: 968245312.000\n"
     ]
    },
    {
     "name": "stdout",
     "output_type": "stream",
     "text": [
      "Epoch 17: 100%|██████████| 4/4 [00:00<00:00, 30.44it/s, v_num=20js]"
     ]
    },
    {
     "name": "stderr",
     "output_type": "stream",
     "text": [
      "Metric val_loss improved by 40992064.000 >= min_delta = 0.0. New best score: 927253248.000\n"
     ]
    },
    {
     "name": "stdout",
     "output_type": "stream",
     "text": [
      "Epoch 18: 100%|██████████| 4/4 [00:00<00:00, 31.86it/s, v_num=20js]"
     ]
    },
    {
     "name": "stderr",
     "output_type": "stream",
     "text": [
      "Metric val_loss improved by 31506368.000 >= min_delta = 0.0. New best score: 895746880.000\n"
     ]
    },
    {
     "name": "stdout",
     "output_type": "stream",
     "text": [
      "Epoch 19: 100%|██████████| 4/4 [00:00<00:00, 32.39it/s, v_num=20js]"
     ]
    },
    {
     "name": "stderr",
     "output_type": "stream",
     "text": [
      "Metric val_loss improved by 52823232.000 >= min_delta = 0.0. New best score: 842923648.000\n"
     ]
    },
    {
     "name": "stdout",
     "output_type": "stream",
     "text": [
      "Epoch 20: 100%|██████████| 4/4 [00:00<00:00, 32.40it/s, v_num=20js]"
     ]
    },
    {
     "name": "stderr",
     "output_type": "stream",
     "text": [
      "Metric val_loss improved by 10510208.000 >= min_delta = 0.0. New best score: 832413440.000\n"
     ]
    },
    {
     "name": "stdout",
     "output_type": "stream",
     "text": [
      "Epoch 21: 100%|██████████| 4/4 [00:00<00:00, 31.81it/s, v_num=20js]"
     ]
    },
    {
     "name": "stderr",
     "output_type": "stream",
     "text": [
      "Metric val_loss improved by 530304.000 >= min_delta = 0.0. New best score: 831883136.000\n"
     ]
    },
    {
     "name": "stdout",
     "output_type": "stream",
     "text": [
      "Epoch 71: 100%|██████████| 4/4 [00:00<00:00, 26.19it/s, v_num=20js]"
     ]
    },
    {
     "name": "stderr",
     "output_type": "stream",
     "text": [
      "Monitored metric val_loss did not improve in the last 50 records. Best score: 831883136.000. Signaling Trainer to stop.\n"
     ]
    },
    {
     "name": "stdout",
     "output_type": "stream",
     "text": [
      "Epoch 71: 100%|██████████| 4/4 [00:00<00:00, 25.22it/s, v_num=20js]\n",
      "[INFO]: Preprocessing training dataframe...\n",
      "[INFO]: Dropping columns with full of NA or Identifiers. Current dataframe shape: (1460, 81)\n",
      "[INFO]: Dropped columns with full of NA or Identifiers. Current dataframe shape: (1460, 74)\n",
      "[INFO]: Dropping categories types with few ocurrence. Current dataframe shape: (1460, 74)\n",
      "[INFO]: Few ocurrences removed. Current dataframe shape: (1443, 74)\n",
      "[INFO]: Dropping columns which contains just one type of category. Current dataframe shape: (1443, 74)\n",
      "[INFO]: Columns with just one type of categroy dropped. Current dataframe shape: (1443, 73)\n",
      "[INFO]: Preprocessing predict dataframe...\n",
      "[INFO]: Dropping columns with full of NA or Identifiers. Current dataframe shape: (1459, 80)\n",
      "[INFO]: Dropped columns with full of NA or Identifiers. Current dataframe shape: (1459, 73)\n"
     ]
    },
    {
     "name": "stderr",
     "output_type": "stream",
     "text": [
      "LOCAL_RANK: 0 - CUDA_VISIBLE_DEVICES: [0]\n",
      "/root/miniconda3/envs/pricehousing/lib/python3.9/site-packages/lightning/pytorch/trainer/connectors/data_connector.py:441: The 'test_dataloader' does not have many workers which may be a bottleneck. Consider increasing the value of the `num_workers` argument` to `num_workers=11` in the `DataLoader` to improve performance.\n"
     ]
    },
    {
     "name": "stdout",
     "output_type": "stream",
     "text": [
      "[INFO]: Setting up test dataset/s\n",
      "[INFO]: Test dataloader size: 2\n",
      "Testing DataLoader 0: 100%|██████████| 2/2 [00:00<00:00, 147.32it/s]\n",
      "────────────────────────────────────────────────────────────────────────────────────────────────────────────────────────\n",
      "       Test metric             DataLoader 0\n",
      "────────────────────────────────────────────────────────────────────────────────────────────────────────────────────────\n",
      "        test_loss               679620800.0\n",
      "────────────────────────────────────────────────────────────────────────────────────────────────────────────────────────\n"
     ]
    },
    {
     "data": {
      "text/html": [
       "<style>\n",
       "    table.wandb td:nth-child(1) { padding: 0 10px; text-align: left ; width: auto;} td:nth-child(2) {text-align: left ; width: 100%}\n",
       "    .wandb-row { display: flex; flex-direction: row; flex-wrap: wrap; justify-content: flex-start; width: 100% }\n",
       "    .wandb-col { display: flex; flex-direction: column; flex-basis: 100%; flex: 1; padding: 10px; }\n",
       "    </style>\n",
       "<div class=\"wandb-row\"><div class=\"wandb-col\"><h3>Run history:</h3><br/><table class=\"wandb\"><tr><td>epoch</td><td>▁▁▁▁▂▂▂▂▂▃▃▃▃▃▃▄▄▄▄▄▅▅▅▅▅▆▆▆▆▆▆▇▇▇▇▇████</td></tr><tr><td>test_loss</td><td>▁</td></tr><tr><td>train_loss</td><td>██▇▁▂▂▁▁▁▁▁▁▁▁▁▁▁▁▁▁▁▁▁▁▁▁▁▁▁▁▁▁▁▁▁▁▁▁▁▁</td></tr><tr><td>trainer/global_step</td><td>▁▁▁▁▂▂▂▂▂▃▃▃▃▃▃▄▄▄▄▄▅▅▅▅▅▅▆▆▆▆▆▇▇▇▇▇▇███</td></tr><tr><td>val_loss</td><td>▄██▂▂▁▁▁▁▁▁▁▁▁▁▁▁▁▁▁▁▁▁▁▁▁▁▁▁▁▁▁▁▁▁▁▁▁▁▁</td></tr></table><br/></div><div class=\"wandb-col\"><h3>Run summary:</h3><br/><table class=\"wandb\"><tr><td>epoch</td><td>72</td></tr><tr><td>test_loss</td><td>679620800.0</td></tr><tr><td>train_loss</td><td>229903312.0</td></tr><tr><td>trainer/global_step</td><td>288</td></tr><tr><td>val_loss</td><td>916947520.0</td></tr></table><br/></div></div>"
      ],
      "text/plain": [
       "<IPython.core.display.HTML object>"
      ]
     },
     "metadata": {},
     "output_type": "display_data"
    },
    {
     "data": {
      "text/html": [
       " View run <strong style=\"color:#cdcd00\">Lauren_I60OXE4F</strong> at: <a href='https://wandb.ai/deepsat/House%20Pricing/runs/kujs20js' target=\"_blank\">https://wandb.ai/deepsat/House%20Pricing/runs/kujs20js</a><br/> View project at: <a href='https://wandb.ai/deepsat/House%20Pricing' target=\"_blank\">https://wandb.ai/deepsat/House%20Pricing</a><br/>Synced 6 W&B file(s), 0 media file(s), 10 artifact file(s) and 0 other file(s)"
      ],
      "text/plain": [
       "<IPython.core.display.HTML object>"
      ]
     },
     "metadata": {},
     "output_type": "display_data"
    },
    {
     "data": {
      "text/html": [
       "Find logs at: <code>./wandb/run-20240418_103218-kujs20js/logs</code>"
      ],
      "text/plain": [
       "<IPython.core.display.HTML object>"
      ]
     },
     "metadata": {},
     "output_type": "display_data"
    },
    {
     "name": "stdout",
     "output_type": "stream",
     "text": [
      "[INFO]: Preprocessing training dataframe...\n",
      "[INFO]: Dropping columns with full of NA or Identifiers. Current dataframe shape: (1460, 81)\n",
      "[INFO]: Dropped columns with full of NA or Identifiers. Current dataframe shape: (1460, 74)\n",
      "[INFO]: Dropping categories types with few ocurrence. Current dataframe shape: (1460, 74)\n",
      "[INFO]: Few ocurrences removed. Current dataframe shape: (1443, 74)\n",
      "[INFO]: Dropping columns which contains just one type of category. Current dataframe shape: (1443, 74)\n",
      "[INFO]: Columns with just one type of categroy dropped. Current dataframe shape: (1443, 73)\n",
      "[INFO]: Preprocessing predict dataframe...\n",
      "[INFO]: Dropping columns with full of NA or Identifiers. Current dataframe shape: (1459, 80)\n",
      "[INFO]: Dropped columns with full of NA or Identifiers. Current dataframe shape: (1459, 73)\n"
     ]
    },
    {
     "data": {
      "text/html": [
       "Tracking run with wandb version 0.16.6"
      ],
      "text/plain": [
       "<IPython.core.display.HTML object>"
      ]
     },
     "metadata": {},
     "output_type": "display_data"
    },
    {
     "data": {
      "text/html": [
       "Run data is saved locally in <code>/root/repos/lightning/HousePricing/wandb/run-20240418_103258-0ku76atb</code>"
      ],
      "text/plain": [
       "<IPython.core.display.HTML object>"
      ]
     },
     "metadata": {},
     "output_type": "display_data"
    },
    {
     "data": {
      "text/html": [
       "Syncing run <strong><a href='https://wandb.ai/deepsat/House%20Pricing/runs/0ku76atb' target=\"_blank\">Mary_WD1U1DKL</a></strong> to <a href='https://wandb.ai/deepsat/House%20Pricing' target=\"_blank\">Weights & Biases</a> (<a href='https://wandb.me/run' target=\"_blank\">docs</a>)<br/>"
      ],
      "text/plain": [
       "<IPython.core.display.HTML object>"
      ]
     },
     "metadata": {},
     "output_type": "display_data"
    },
    {
     "data": {
      "text/html": [
       " View project at <a href='https://wandb.ai/deepsat/House%20Pricing' target=\"_blank\">https://wandb.ai/deepsat/House%20Pricing</a>"
      ],
      "text/plain": [
       "<IPython.core.display.HTML object>"
      ]
     },
     "metadata": {},
     "output_type": "display_data"
    },
    {
     "data": {
      "text/html": [
       " View run at <a href='https://wandb.ai/deepsat/House%20Pricing/runs/0ku76atb' target=\"_blank\">https://wandb.ai/deepsat/House%20Pricing/runs/0ku76atb</a>"
      ],
      "text/plain": [
       "<IPython.core.display.HTML object>"
      ]
     },
     "metadata": {},
     "output_type": "display_data"
    },
    {
     "name": "stderr",
     "output_type": "stream",
     "text": [
      "GPU available: True (cuda), used: True\n",
      "TPU available: False, using: 0 TPU cores\n",
      "IPU available: False, using: 0 IPUs\n",
      "HPU available: False, using: 0 HPUs\n"
     ]
    },
    {
     "name": "stdout",
     "output_type": "stream",
     "text": [
      "[INFO]: Input size: 244\n",
      "[INFO]: Preprocessing training dataframe...\n",
      "[INFO]: Dropping columns with full of NA or Identifiers. Current dataframe shape: (1460, 81)\n",
      "[INFO]: Dropped columns with full of NA or Identifiers. Current dataframe shape: (1460, 74)\n",
      "[INFO]: Dropping categories types with few ocurrence. Current dataframe shape: (1460, 74)\n",
      "[INFO]: Few ocurrences removed. Current dataframe shape: (1443, 74)\n",
      "[INFO]: Dropping columns which contains just one type of category. Current dataframe shape: (1443, 74)\n",
      "[INFO]: Columns with just one type of categroy dropped. Current dataframe shape: (1443, 73)\n",
      "[INFO]: Preprocessing predict dataframe...\n",
      "[INFO]: Dropping columns with full of NA or Identifiers. Current dataframe shape: (1459, 80)\n",
      "[INFO]: Dropped columns with full of NA or Identifiers. Current dataframe shape: (1459, 73)\n"
     ]
    },
    {
     "name": "stderr",
     "output_type": "stream",
     "text": [
      "/root/miniconda3/envs/pricehousing/lib/python3.9/site-packages/pytorch_lightning/loggers/wandb.py:391: There is a wandb run already in progress and newly created instances of `WandbLogger` will reuse this run. If this is not desired, call `wandb.finish()` before instantiating `WandbLogger`.\n",
      "LOCAL_RANK: 0 - CUDA_VISIBLE_DEVICES: [0]\n",
      "\n",
      "  | Name | Type       | Params\n",
      "------------------------------------\n",
      "0 | net  | Sequential | 215 K \n",
      "------------------------------------\n",
      "215 K     Trainable params\n",
      "0         Non-trainable params\n",
      "215 K     Total params\n",
      "0.864     Total estimated model params size (MB)\n"
     ]
    },
    {
     "name": "stdout",
     "output_type": "stream",
     "text": [
      "[INFO]: Setting up fit dataset/s\n",
      "[INFO]: Train dataset size: 981\n",
      "[INFO]: Validation dataset size: 173\n",
      "Sanity Checking: |          | 0/? [00:00<?, ?it/s][INFO]: Validation dataloader size: 1\n",
      "                                                                            "
     ]
    },
    {
     "name": "stderr",
     "output_type": "stream",
     "text": [
      "/root/miniconda3/envs/pricehousing/lib/python3.9/site-packages/lightning/pytorch/trainer/connectors/data_connector.py:492: Your `val_dataloader`'s sampler has shuffling enabled, it is strongly recommended that you turn shuffling off for val/test dataloaders.\n",
      "/root/miniconda3/envs/pricehousing/lib/python3.9/site-packages/lightning/pytorch/trainer/connectors/data_connector.py:441: The 'val_dataloader' does not have many workers which may be a bottleneck. Consider increasing the value of the `num_workers` argument` to `num_workers=11` in the `DataLoader` to improve performance.\n",
      "/root/miniconda3/envs/pricehousing/lib/python3.9/site-packages/lightning/pytorch/trainer/connectors/data_connector.py:441: The 'train_dataloader' does not have many workers which may be a bottleneck. Consider increasing the value of the `num_workers` argument` to `num_workers=11` in the `DataLoader` to improve performance.\n"
     ]
    },
    {
     "name": "stdout",
     "output_type": "stream",
     "text": [
      "[INFO]: Train dataloader size: 4\n",
      "Training: |          | 0/? [00:00<?, ?it/s][INFO]: Logger save dir: .\n",
      "[INFO]: Logger name: lightning_logs\n",
      "[INFO]: Logger version: 0ku76atb\n",
      "Epoch 0: 100%|██████████| 4/4 [00:00<00:00, 27.50it/s, v_num=6atb]"
     ]
    },
    {
     "name": "stderr",
     "output_type": "stream",
     "text": [
      "Metric val_loss improved. New best score: 4044864000.000\n"
     ]
    },
    {
     "name": "stdout",
     "output_type": "stream",
     "text": [
      "Epoch 50: 100%|██████████| 4/4 [00:00<00:00, 33.06it/s, v_num=6atb]"
     ]
    },
    {
     "name": "stderr",
     "output_type": "stream",
     "text": [
      "Monitored metric val_loss did not improve in the last 50 records. Best score: 4044864000.000. Signaling Trainer to stop.\n"
     ]
    },
    {
     "name": "stdout",
     "output_type": "stream",
     "text": [
      "Epoch 50: 100%|██████████| 4/4 [00:00<00:00, 31.83it/s, v_num=6atb]\n",
      "[INFO]: Preprocessing training dataframe...\n",
      "[INFO]: Dropping columns with full of NA or Identifiers. Current dataframe shape: (1460, 81)\n",
      "[INFO]: Dropped columns with full of NA or Identifiers. Current dataframe shape: (1460, 74)\n",
      "[INFO]: Dropping categories types with few ocurrence. Current dataframe shape: (1460, 74)\n",
      "[INFO]: Few ocurrences removed. Current dataframe shape: (1443, 74)\n",
      "[INFO]: Dropping columns which contains just one type of category. Current dataframe shape: (1443, 74)\n",
      "[INFO]: Columns with just one type of categroy dropped. Current dataframe shape: (1443, 73)\n",
      "[INFO]: Preprocessing predict dataframe...\n",
      "[INFO]: Dropping columns with full of NA or Identifiers. Current dataframe shape: (1459, 80)\n",
      "[INFO]: Dropped columns with full of NA or Identifiers. Current dataframe shape: (1459, 73)\n"
     ]
    },
    {
     "name": "stderr",
     "output_type": "stream",
     "text": [
      "LOCAL_RANK: 0 - CUDA_VISIBLE_DEVICES: [0]\n",
      "/root/miniconda3/envs/pricehousing/lib/python3.9/site-packages/lightning/pytorch/trainer/connectors/data_connector.py:441: The 'test_dataloader' does not have many workers which may be a bottleneck. Consider increasing the value of the `num_workers` argument` to `num_workers=11` in the `DataLoader` to improve performance.\n"
     ]
    },
    {
     "name": "stdout",
     "output_type": "stream",
     "text": [
      "[INFO]: Setting up test dataset/s\n",
      "[INFO]: Test dataloader size: 2\n",
      "Testing DataLoader 0: 100%|██████████| 2/2 [00:00<00:00, 123.29it/s]\n",
      "────────────────────────────────────────────────────────────────────────────────────────────────────────────────────────\n",
      "       Test metric             DataLoader 0\n",
      "────────────────────────────────────────────────────────────────────────────────────────────────────────────────────────\n",
      "        test_loss              5248507904.0\n",
      "────────────────────────────────────────────────────────────────────────────────────────────────────────────────────────\n"
     ]
    },
    {
     "data": {
      "text/html": [
       "<style>\n",
       "    table.wandb td:nth-child(1) { padding: 0 10px; text-align: left ; width: auto;} td:nth-child(2) {text-align: left ; width: 100%}\n",
       "    .wandb-row { display: flex; flex-direction: row; flex-wrap: wrap; justify-content: flex-start; width: 100% }\n",
       "    .wandb-col { display: flex; flex-direction: column; flex-basis: 100%; flex: 1; padding: 10px; }\n",
       "    </style>\n",
       "<div class=\"wandb-row\"><div class=\"wandb-col\"><h3>Run history:</h3><br/><table class=\"wandb\"><tr><td>epoch</td><td>▁▁▁▁▂▂▂▂▂▃▃▃▃▃▃▄▄▄▄▄▅▅▅▅▅▅▆▆▆▆▆▆▇▇▇▇▇▇██</td></tr><tr><td>test_loss</td><td>▁</td></tr><tr><td>train_loss</td><td>▆▄▇▇▆▇██▆▄▃▂▂▂▂▂▁▁▁▁▁▁▁▁▁▁▁▁▁▂▁▁▁▁▁▂▁▁▁▁</td></tr><tr><td>trainer/global_step</td><td>▁▁▁▁▂▂▂▂▂▃▃▃▃▃▃▄▄▄▄▄▅▅▅▅▅▅▆▆▆▆▆▇▇▇▇▇▇███</td></tr><tr><td>val_loss</td><td>▁███████▆▅▃▂▂▂▂▂▂▂▂▂▂▂▂▂▂▂▂▂▂▂▂▂▂▂▂▂▂▂▂▂</td></tr></table><br/></div><div class=\"wandb-col\"><h3>Run summary:</h3><br/><table class=\"wandb\"><tr><td>epoch</td><td>51</td></tr><tr><td>test_loss</td><td>5248507904.0</td></tr><tr><td>train_loss</td><td>5027987456.0</td></tr><tr><td>trainer/global_step</td><td>204</td></tr><tr><td>val_loss</td><td>6799250944.0</td></tr></table><br/></div></div>"
      ],
      "text/plain": [
       "<IPython.core.display.HTML object>"
      ]
     },
     "metadata": {},
     "output_type": "display_data"
    },
    {
     "data": {
      "text/html": [
       " View run <strong style=\"color:#cdcd00\">Mary_WD1U1DKL</strong> at: <a href='https://wandb.ai/deepsat/House%20Pricing/runs/0ku76atb' target=\"_blank\">https://wandb.ai/deepsat/House%20Pricing/runs/0ku76atb</a><br/> View project at: <a href='https://wandb.ai/deepsat/House%20Pricing' target=\"_blank\">https://wandb.ai/deepsat/House%20Pricing</a><br/>Synced 6 W&B file(s), 0 media file(s), 1 artifact file(s) and 0 other file(s)"
      ],
      "text/plain": [
       "<IPython.core.display.HTML object>"
      ]
     },
     "metadata": {},
     "output_type": "display_data"
    },
    {
     "data": {
      "text/html": [
       "Find logs at: <code>./wandb/run-20240418_103258-0ku76atb/logs</code>"
      ],
      "text/plain": [
       "<IPython.core.display.HTML object>"
      ]
     },
     "metadata": {},
     "output_type": "display_data"
    },
    {
     "name": "stdout",
     "output_type": "stream",
     "text": [
      "[INFO]: Preprocessing training dataframe...\n",
      "[INFO]: Dropping columns with full of NA or Identifiers. Current dataframe shape: (1460, 81)\n",
      "[INFO]: Dropped columns with full of NA or Identifiers. Current dataframe shape: (1460, 74)\n",
      "[INFO]: Dropping categories types with few ocurrence. Current dataframe shape: (1460, 74)\n",
      "[INFO]: Few ocurrences removed. Current dataframe shape: (1443, 74)\n",
      "[INFO]: Dropping columns which contains just one type of category. Current dataframe shape: (1443, 74)\n",
      "[INFO]: Columns with just one type of categroy dropped. Current dataframe shape: (1443, 73)\n",
      "[INFO]: Preprocessing predict dataframe...\n",
      "[INFO]: Dropping columns with full of NA or Identifiers. Current dataframe shape: (1459, 80)\n",
      "[INFO]: Dropped columns with full of NA or Identifiers. Current dataframe shape: (1459, 73)\n"
     ]
    },
    {
     "data": {
      "text/html": [
       "Tracking run with wandb version 0.16.6"
      ],
      "text/plain": [
       "<IPython.core.display.HTML object>"
      ]
     },
     "metadata": {},
     "output_type": "display_data"
    },
    {
     "data": {
      "text/html": [
       "Run data is saved locally in <code>/root/repos/lightning/HousePricing/wandb/run-20240418_103318-c6t7xxk6</code>"
      ],
      "text/plain": [
       "<IPython.core.display.HTML object>"
      ]
     },
     "metadata": {},
     "output_type": "display_data"
    },
    {
     "data": {
      "text/html": [
       "Syncing run <strong><a href='https://wandb.ai/deepsat/House%20Pricing/runs/c6t7xxk6' target=\"_blank\">Diana_F631Q4QW</a></strong> to <a href='https://wandb.ai/deepsat/House%20Pricing' target=\"_blank\">Weights & Biases</a> (<a href='https://wandb.me/run' target=\"_blank\">docs</a>)<br/>"
      ],
      "text/plain": [
       "<IPython.core.display.HTML object>"
      ]
     },
     "metadata": {},
     "output_type": "display_data"
    },
    {
     "data": {
      "text/html": [
       " View project at <a href='https://wandb.ai/deepsat/House%20Pricing' target=\"_blank\">https://wandb.ai/deepsat/House%20Pricing</a>"
      ],
      "text/plain": [
       "<IPython.core.display.HTML object>"
      ]
     },
     "metadata": {},
     "output_type": "display_data"
    },
    {
     "data": {
      "text/html": [
       " View run at <a href='https://wandb.ai/deepsat/House%20Pricing/runs/c6t7xxk6' target=\"_blank\">https://wandb.ai/deepsat/House%20Pricing/runs/c6t7xxk6</a>"
      ],
      "text/plain": [
       "<IPython.core.display.HTML object>"
      ]
     },
     "metadata": {},
     "output_type": "display_data"
    },
    {
     "name": "stderr",
     "output_type": "stream",
     "text": [
      "GPU available: True (cuda), used: True\n",
      "TPU available: False, using: 0 TPU cores\n",
      "IPU available: False, using: 0 IPUs\n",
      "HPU available: False, using: 0 HPUs\n"
     ]
    },
    {
     "name": "stdout",
     "output_type": "stream",
     "text": [
      "[INFO]: Input size: 244\n",
      "[INFO]: Preprocessing training dataframe...\n",
      "[INFO]: Dropping columns with full of NA or Identifiers. Current dataframe shape: (1460, 81)\n",
      "[INFO]: Dropped columns with full of NA or Identifiers. Current dataframe shape: (1460, 74)\n",
      "[INFO]: Dropping categories types with few ocurrence. Current dataframe shape: (1460, 74)\n",
      "[INFO]: Few ocurrences removed. Current dataframe shape: (1443, 74)\n",
      "[INFO]: Dropping columns which contains just one type of category. Current dataframe shape: (1443, 74)\n",
      "[INFO]: Columns with just one type of categroy dropped. Current dataframe shape: (1443, 73)\n",
      "[INFO]: Preprocessing predict dataframe...\n",
      "[INFO]: Dropping columns with full of NA or Identifiers. Current dataframe shape: (1459, 80)\n",
      "[INFO]: Dropped columns with full of NA or Identifiers. Current dataframe shape: (1459, 73)\n"
     ]
    },
    {
     "name": "stderr",
     "output_type": "stream",
     "text": [
      "/root/miniconda3/envs/pricehousing/lib/python3.9/site-packages/pytorch_lightning/loggers/wandb.py:391: There is a wandb run already in progress and newly created instances of `WandbLogger` will reuse this run. If this is not desired, call `wandb.finish()` before instantiating `WandbLogger`.\n",
      "LOCAL_RANK: 0 - CUDA_VISIBLE_DEVICES: [0]\n",
      "\n",
      "  | Name | Type       | Params\n",
      "------------------------------------\n",
      "0 | net  | Sequential | 215 K \n",
      "------------------------------------\n",
      "215 K     Trainable params\n",
      "0         Non-trainable params\n",
      "215 K     Total params\n",
      "0.864     Total estimated model params size (MB)\n"
     ]
    },
    {
     "name": "stdout",
     "output_type": "stream",
     "text": [
      "[INFO]: Setting up fit dataset/s\n",
      "[INFO]: Train dataset size: 981\n",
      "[INFO]: Validation dataset size: 173\n",
      "Sanity Checking: |          | 0/? [00:00<?, ?it/s][INFO]: Validation dataloader size: 1\n",
      "                                                                            "
     ]
    },
    {
     "name": "stderr",
     "output_type": "stream",
     "text": [
      "/root/miniconda3/envs/pricehousing/lib/python3.9/site-packages/lightning/pytorch/trainer/connectors/data_connector.py:492: Your `val_dataloader`'s sampler has shuffling enabled, it is strongly recommended that you turn shuffling off for val/test dataloaders.\n",
      "/root/miniconda3/envs/pricehousing/lib/python3.9/site-packages/lightning/pytorch/trainer/connectors/data_connector.py:441: The 'val_dataloader' does not have many workers which may be a bottleneck. Consider increasing the value of the `num_workers` argument` to `num_workers=11` in the `DataLoader` to improve performance.\n",
      "/root/miniconda3/envs/pricehousing/lib/python3.9/site-packages/lightning/pytorch/trainer/connectors/data_connector.py:441: The 'train_dataloader' does not have many workers which may be a bottleneck. Consider increasing the value of the `num_workers` argument` to `num_workers=11` in the `DataLoader` to improve performance.\n"
     ]
    },
    {
     "name": "stdout",
     "output_type": "stream",
     "text": [
      "[INFO]: Train dataloader size: 4\n",
      "Training: |          | 0/? [00:00<?, ?it/s][INFO]: Logger save dir: .\n",
      "[INFO]: Logger name: lightning_logs\n",
      "[INFO]: Logger version: c6t7xxk6\n",
      "Epoch 0: 100%|██████████| 4/4 [00:00<00:00, 30.73it/s, v_num=xxk6]"
     ]
    },
    {
     "name": "stderr",
     "output_type": "stream",
     "text": [
      "Metric val_loss improved. New best score: 7997092352.000\n"
     ]
    },
    {
     "name": "stdout",
     "output_type": "stream",
     "text": [
      "Epoch 5: 100%|██████████| 4/4 [00:00<00:00, 36.54it/s, v_num=xxk6]"
     ]
    },
    {
     "name": "stderr",
     "output_type": "stream",
     "text": [
      "Metric val_loss improved by 2075421696.000 >= min_delta = 0.0. New best score: 5921670656.000\n"
     ]
    },
    {
     "name": "stdout",
     "output_type": "stream",
     "text": [
      "Epoch 7: 100%|██████████| 4/4 [00:00<00:00, 36.53it/s, v_num=xxk6]"
     ]
    },
    {
     "name": "stderr",
     "output_type": "stream",
     "text": [
      "Metric val_loss improved by 2570702592.000 >= min_delta = 0.0. New best score: 3350968064.000\n"
     ]
    },
    {
     "name": "stdout",
     "output_type": "stream",
     "text": [
      "Epoch 8: 100%|██████████| 4/4 [00:00<00:00, 36.65it/s, v_num=xxk6]"
     ]
    },
    {
     "name": "stderr",
     "output_type": "stream",
     "text": [
      "Metric val_loss improved by 531629056.000 >= min_delta = 0.0. New best score: 2819339008.000\n"
     ]
    },
    {
     "name": "stdout",
     "output_type": "stream",
     "text": [
      "Epoch 10: 100%|██████████| 4/4 [00:00<00:00, 37.19it/s, v_num=xxk6]"
     ]
    },
    {
     "name": "stderr",
     "output_type": "stream",
     "text": [
      "Metric val_loss improved by 1010273024.000 >= min_delta = 0.0. New best score: 1809065984.000\n"
     ]
    },
    {
     "name": "stdout",
     "output_type": "stream",
     "text": [
      "Epoch 11: 100%|██████████| 4/4 [00:00<00:00, 36.41it/s, v_num=xxk6]"
     ]
    },
    {
     "name": "stderr",
     "output_type": "stream",
     "text": [
      "Metric val_loss improved by 251086080.000 >= min_delta = 0.0. New best score: 1557979904.000\n"
     ]
    },
    {
     "name": "stdout",
     "output_type": "stream",
     "text": [
      "Epoch 13: 100%|██████████| 4/4 [00:00<00:00, 30.65it/s, v_num=xxk6]"
     ]
    },
    {
     "name": "stderr",
     "output_type": "stream",
     "text": [
      "Metric val_loss improved by 56210816.000 >= min_delta = 0.0. New best score: 1501769088.000\n"
     ]
    },
    {
     "name": "stdout",
     "output_type": "stream",
     "text": [
      "Epoch 14: 100%|██████████| 4/4 [00:00<00:00, 29.03it/s, v_num=xxk6]"
     ]
    },
    {
     "name": "stderr",
     "output_type": "stream",
     "text": [
      "Metric val_loss improved by 206244608.000 >= min_delta = 0.0. New best score: 1295524480.000\n"
     ]
    },
    {
     "name": "stdout",
     "output_type": "stream",
     "text": [
      "Epoch 15: 100%|██████████| 4/4 [00:00<00:00, 25.54it/s, v_num=xxk6]"
     ]
    },
    {
     "name": "stderr",
     "output_type": "stream",
     "text": [
      "Metric val_loss improved by 37925248.000 >= min_delta = 0.0. New best score: 1257599232.000\n"
     ]
    },
    {
     "name": "stdout",
     "output_type": "stream",
     "text": [
      "Epoch 16: 100%|██████████| 4/4 [00:00<00:00, 35.88it/s, v_num=xxk6]"
     ]
    },
    {
     "name": "stderr",
     "output_type": "stream",
     "text": [
      "Metric val_loss improved by 117833088.000 >= min_delta = 0.0. New best score: 1139766144.000\n"
     ]
    },
    {
     "name": "stdout",
     "output_type": "stream",
     "text": [
      "Epoch 17: 100%|██████████| 4/4 [00:00<00:00, 35.37it/s, v_num=xxk6]"
     ]
    },
    {
     "name": "stderr",
     "output_type": "stream",
     "text": [
      "Metric val_loss improved by 21346048.000 >= min_delta = 0.0. New best score: 1118420096.000\n"
     ]
    },
    {
     "name": "stdout",
     "output_type": "stream",
     "text": [
      "Epoch 18: 100%|██████████| 4/4 [00:00<00:00, 35.92it/s, v_num=xxk6]"
     ]
    },
    {
     "name": "stderr",
     "output_type": "stream",
     "text": [
      "Metric val_loss improved by 136556352.000 >= min_delta = 0.0. New best score: 981863744.000\n"
     ]
    },
    {
     "name": "stdout",
     "output_type": "stream",
     "text": [
      "Epoch 19: 100%|██████████| 4/4 [00:00<00:00, 34.83it/s, v_num=xxk6]"
     ]
    },
    {
     "name": "stderr",
     "output_type": "stream",
     "text": [
      "Metric val_loss improved by 29231424.000 >= min_delta = 0.0. New best score: 952632320.000\n"
     ]
    },
    {
     "name": "stdout",
     "output_type": "stream",
     "text": [
      "Epoch 21: 100%|██████████| 4/4 [00:00<00:00, 25.23it/s, v_num=xxk6]"
     ]
    },
    {
     "name": "stderr",
     "output_type": "stream",
     "text": [
      "Metric val_loss improved by 42225408.000 >= min_delta = 0.0. New best score: 910406912.000\n"
     ]
    },
    {
     "name": "stdout",
     "output_type": "stream",
     "text": [
      "Epoch 22: 100%|██████████| 4/4 [00:00<00:00, 35.07it/s, v_num=xxk6]"
     ]
    },
    {
     "name": "stderr",
     "output_type": "stream",
     "text": [
      "Metric val_loss improved by 14683328.000 >= min_delta = 0.0. New best score: 895723584.000\n"
     ]
    },
    {
     "name": "stdout",
     "output_type": "stream",
     "text": [
      "Epoch 23: 100%|██████████| 4/4 [00:00<00:00, 36.06it/s, v_num=xxk6]"
     ]
    },
    {
     "name": "stderr",
     "output_type": "stream",
     "text": [
      "Metric val_loss improved by 31880192.000 >= min_delta = 0.0. New best score: 863843392.000\n"
     ]
    },
    {
     "name": "stdout",
     "output_type": "stream",
     "text": [
      "Epoch 24: 100%|██████████| 4/4 [00:00<00:00, 32.14it/s, v_num=xxk6]"
     ]
    },
    {
     "name": "stderr",
     "output_type": "stream",
     "text": [
      "Metric val_loss improved by 12038016.000 >= min_delta = 0.0. New best score: 851805376.000\n"
     ]
    },
    {
     "name": "stdout",
     "output_type": "stream",
     "text": [
      "Epoch 25: 100%|██████████| 4/4 [00:00<00:00, 33.67it/s, v_num=xxk6]"
     ]
    },
    {
     "name": "stderr",
     "output_type": "stream",
     "text": [
      "Metric val_loss improved by 17851648.000 >= min_delta = 0.0. New best score: 833953728.000\n"
     ]
    },
    {
     "name": "stdout",
     "output_type": "stream",
     "text": [
      "Epoch 26: 100%|██████████| 4/4 [00:00<00:00, 25.92it/s, v_num=xxk6]"
     ]
    },
    {
     "name": "stderr",
     "output_type": "stream",
     "text": [
      "Metric val_loss improved by 10892032.000 >= min_delta = 0.0. New best score: 823061696.000\n"
     ]
    },
    {
     "name": "stdout",
     "output_type": "stream",
     "text": [
      "Epoch 27: 100%|██████████| 4/4 [00:00<00:00, 26.00it/s, v_num=xxk6]"
     ]
    },
    {
     "name": "stderr",
     "output_type": "stream",
     "text": [
      "Metric val_loss improved by 14716992.000 >= min_delta = 0.0. New best score: 808344704.000\n"
     ]
    },
    {
     "name": "stdout",
     "output_type": "stream",
     "text": [
      "Epoch 28: 100%|██████████| 4/4 [00:00<00:00, 34.43it/s, v_num=xxk6]"
     ]
    },
    {
     "name": "stderr",
     "output_type": "stream",
     "text": [
      "Metric val_loss improved by 2411008.000 >= min_delta = 0.0. New best score: 805933696.000\n"
     ]
    },
    {
     "name": "stdout",
     "output_type": "stream",
     "text": [
      "Epoch 29: 100%|██████████| 4/4 [00:00<00:00, 33.90it/s, v_num=xxk6]"
     ]
    },
    {
     "name": "stderr",
     "output_type": "stream",
     "text": [
      "Metric val_loss improved by 14138432.000 >= min_delta = 0.0. New best score: 791795264.000\n"
     ]
    },
    {
     "name": "stdout",
     "output_type": "stream",
     "text": [
      "Epoch 31: 100%|██████████| 4/4 [00:00<00:00, 30.54it/s, v_num=xxk6]"
     ]
    },
    {
     "name": "stderr",
     "output_type": "stream",
     "text": [
      "Metric val_loss improved by 11900608.000 >= min_delta = 0.0. New best score: 779894656.000\n"
     ]
    },
    {
     "name": "stdout",
     "output_type": "stream",
     "text": [
      "Epoch 33: 100%|██████████| 4/4 [00:00<00:00, 36.85it/s, v_num=xxk6]"
     ]
    },
    {
     "name": "stderr",
     "output_type": "stream",
     "text": [
      "Metric val_loss improved by 8484352.000 >= min_delta = 0.0. New best score: 771410304.000\n"
     ]
    },
    {
     "name": "stdout",
     "output_type": "stream",
     "text": [
      "Epoch 34: 100%|██████████| 4/4 [00:00<00:00, 31.66it/s, v_num=xxk6]"
     ]
    },
    {
     "name": "stderr",
     "output_type": "stream",
     "text": [
      "Metric val_loss improved by 1688512.000 >= min_delta = 0.0. New best score: 769721792.000\n"
     ]
    },
    {
     "name": "stdout",
     "output_type": "stream",
     "text": [
      "Epoch 35: 100%|██████████| 4/4 [00:00<00:00, 31.03it/s, v_num=xxk6]"
     ]
    },
    {
     "name": "stderr",
     "output_type": "stream",
     "text": [
      "Metric val_loss improved by 4975296.000 >= min_delta = 0.0. New best score: 764746496.000\n"
     ]
    },
    {
     "name": "stdout",
     "output_type": "stream",
     "text": [
      "Epoch 37: 100%|██████████| 4/4 [00:00<00:00, 31.12it/s, v_num=xxk6]"
     ]
    },
    {
     "name": "stderr",
     "output_type": "stream",
     "text": [
      "Metric val_loss improved by 3999808.000 >= min_delta = 0.0. New best score: 760746688.000\n"
     ]
    },
    {
     "name": "stdout",
     "output_type": "stream",
     "text": [
      "Epoch 39: 100%|██████████| 4/4 [00:00<00:00, 33.64it/s, v_num=xxk6]"
     ]
    },
    {
     "name": "stderr",
     "output_type": "stream",
     "text": [
      "Metric val_loss improved by 2931776.000 >= min_delta = 0.0. New best score: 757814912.000\n"
     ]
    },
    {
     "name": "stdout",
     "output_type": "stream",
     "text": [
      "Epoch 40: 100%|██████████| 4/4 [00:00<00:00, 31.88it/s, v_num=xxk6]"
     ]
    },
    {
     "name": "stderr",
     "output_type": "stream",
     "text": [
      "Metric val_loss improved by 1614656.000 >= min_delta = 0.0. New best score: 756200256.000\n"
     ]
    },
    {
     "name": "stdout",
     "output_type": "stream",
     "text": [
      "Epoch 42: 100%|██████████| 4/4 [00:00<00:00, 30.32it/s, v_num=xxk6]"
     ]
    },
    {
     "name": "stderr",
     "output_type": "stream",
     "text": [
      "Metric val_loss improved by 7586624.000 >= min_delta = 0.0. New best score: 748613632.000\n"
     ]
    },
    {
     "name": "stdout",
     "output_type": "stream",
     "text": [
      "Epoch 43: 100%|██████████| 4/4 [00:00<00:00, 31.24it/s, v_num=xxk6]"
     ]
    },
    {
     "name": "stderr",
     "output_type": "stream",
     "text": [
      "Metric val_loss improved by 45696.000 >= min_delta = 0.0. New best score: 748567936.000\n"
     ]
    },
    {
     "name": "stdout",
     "output_type": "stream",
     "text": [
      "Epoch 93: 100%|██████████| 4/4 [00:00<00:00, 33.83it/s, v_num=xxk6]"
     ]
    },
    {
     "name": "stderr",
     "output_type": "stream",
     "text": [
      "Monitored metric val_loss did not improve in the last 50 records. Best score: 748567936.000. Signaling Trainer to stop.\n"
     ]
    },
    {
     "name": "stdout",
     "output_type": "stream",
     "text": [
      "Epoch 93: 100%|██████████| 4/4 [00:00<00:00, 32.31it/s, v_num=xxk6]\n",
      "[INFO]: Preprocessing training dataframe...\n",
      "[INFO]: Dropping columns with full of NA or Identifiers. Current dataframe shape: (1460, 81)\n",
      "[INFO]: Dropped columns with full of NA or Identifiers. Current dataframe shape: (1460, 74)\n",
      "[INFO]: Dropping categories types with few ocurrence. Current dataframe shape: (1460, 74)\n",
      "[INFO]: Few ocurrences removed. Current dataframe shape: (1443, 74)\n",
      "[INFO]: Dropping columns which contains just one type of category. Current dataframe shape: (1443, 74)\n",
      "[INFO]: Columns with just one type of categroy dropped. Current dataframe shape: (1443, 73)\n",
      "[INFO]: Preprocessing predict dataframe...\n",
      "[INFO]: Dropping columns with full of NA or Identifiers. Current dataframe shape: (1459, 80)\n",
      "[INFO]: Dropped columns with full of NA or Identifiers. Current dataframe shape: (1459, 73)\n"
     ]
    },
    {
     "name": "stderr",
     "output_type": "stream",
     "text": [
      "LOCAL_RANK: 0 - CUDA_VISIBLE_DEVICES: [0]\n",
      "/root/miniconda3/envs/pricehousing/lib/python3.9/site-packages/lightning/pytorch/trainer/connectors/data_connector.py:441: The 'test_dataloader' does not have many workers which may be a bottleneck. Consider increasing the value of the `num_workers` argument` to `num_workers=11` in the `DataLoader` to improve performance.\n"
     ]
    },
    {
     "name": "stdout",
     "output_type": "stream",
     "text": [
      "[INFO]: Setting up test dataset/s\n",
      "[INFO]: Test dataloader size: 2\n",
      "Testing DataLoader 0: 100%|██████████| 2/2 [00:00<00:00, 135.33it/s]\n",
      "────────────────────────────────────────────────────────────────────────────────────────────────────────────────────────\n",
      "       Test metric             DataLoader 0\n",
      "────────────────────────────────────────────────────────────────────────────────────────────────────────────────────────\n",
      "        test_loss               696892864.0\n",
      "────────────────────────────────────────────────────────────────────────────────────────────────────────────────────────\n"
     ]
    },
    {
     "data": {
      "text/html": [
       "<style>\n",
       "    table.wandb td:nth-child(1) { padding: 0 10px; text-align: left ; width: auto;} td:nth-child(2) {text-align: left ; width: 100%}\n",
       "    .wandb-row { display: flex; flex-direction: row; flex-wrap: wrap; justify-content: flex-start; width: 100% }\n",
       "    .wandb-col { display: flex; flex-direction: column; flex-basis: 100%; flex: 1; padding: 10px; }\n",
       "    </style>\n",
       "<div class=\"wandb-row\"><div class=\"wandb-col\"><h3>Run history:</h3><br/><table class=\"wandb\"><tr><td>epoch</td><td>▁▁▁▂▂▂▂▂▂▃▃▃▃▃▃▄▄▄▄▄▅▅▅▅▅▅▆▆▆▆▆▇▇▇▇▇▇███</td></tr><tr><td>test_loss</td><td>▁</td></tr><tr><td>train_loss</td><td>█▁▁▁▁▁▁▁▁▁▁▁▁▁▁▁▁▁▁▁▁▁▁▁▁▁▁▁▁▁▁▁▁▁▁▁▁▁▁▁</td></tr><tr><td>trainer/global_step</td><td>▁▁▁▁▂▂▂▂▂▃▃▃▃▃▃▄▄▄▄▄▅▅▅▅▅▅▆▆▆▆▆▇▇▇▇▇▇███</td></tr><tr><td>val_loss</td><td>▂█▃▁▂▁▁▁▁▁▁▁▁▁▁▁▁▁▁▁▁▁▁▁▁▁▁▁▁▁▁▁▁▁▁▁▁▁▁▁</td></tr></table><br/></div><div class=\"wandb-col\"><h3>Run summary:</h3><br/><table class=\"wandb\"><tr><td>epoch</td><td>94</td></tr><tr><td>test_loss</td><td>696892864.0</td></tr><tr><td>train_loss</td><td>613456960.0</td></tr><tr><td>trainer/global_step</td><td>376</td></tr><tr><td>val_loss</td><td>789653376.0</td></tr></table><br/></div></div>"
      ],
      "text/plain": [
       "<IPython.core.display.HTML object>"
      ]
     },
     "metadata": {},
     "output_type": "display_data"
    },
    {
     "data": {
      "text/html": [
       " View run <strong style=\"color:#cdcd00\">Diana_F631Q4QW</strong> at: <a href='https://wandb.ai/deepsat/House%20Pricing/runs/c6t7xxk6' target=\"_blank\">https://wandb.ai/deepsat/House%20Pricing/runs/c6t7xxk6</a><br/> View project at: <a href='https://wandb.ai/deepsat/House%20Pricing' target=\"_blank\">https://wandb.ai/deepsat/House%20Pricing</a><br/>Synced 6 W&B file(s), 0 media file(s), 31 artifact file(s) and 0 other file(s)"
      ],
      "text/plain": [
       "<IPython.core.display.HTML object>"
      ]
     },
     "metadata": {},
     "output_type": "display_data"
    },
    {
     "data": {
      "text/html": [
       "Find logs at: <code>./wandb/run-20240418_103318-c6t7xxk6/logs</code>"
      ],
      "text/plain": [
       "<IPython.core.display.HTML object>"
      ]
     },
     "metadata": {},
     "output_type": "display_data"
    },
    {
     "name": "stdout",
     "output_type": "stream",
     "text": [
      "[INFO]: Preprocessing training dataframe...\n",
      "[INFO]: Dropping columns with full of NA or Identifiers. Current dataframe shape: (1460, 81)\n",
      "[INFO]: Dropped columns with full of NA or Identifiers. Current dataframe shape: (1460, 74)\n",
      "[INFO]: Dropping categories types with few ocurrence. Current dataframe shape: (1460, 74)\n",
      "[INFO]: Few ocurrences removed. Current dataframe shape: (1443, 74)\n",
      "[INFO]: Dropping columns which contains just one type of category. Current dataframe shape: (1443, 74)\n",
      "[INFO]: Columns with just one type of categroy dropped. Current dataframe shape: (1443, 73)\n",
      "[INFO]: Preprocessing predict dataframe...\n",
      "[INFO]: Dropping columns with full of NA or Identifiers. Current dataframe shape: (1459, 80)\n",
      "[INFO]: Dropped columns with full of NA or Identifiers. Current dataframe shape: (1459, 73)\n"
     ]
    },
    {
     "data": {
      "text/html": [
       "Tracking run with wandb version 0.16.6"
      ],
      "text/plain": [
       "<IPython.core.display.HTML object>"
      ]
     },
     "metadata": {},
     "output_type": "display_data"
    },
    {
     "data": {
      "text/html": [
       "Run data is saved locally in <code>/root/repos/lightning/HousePricing/wandb/run-20240418_103500-6j68n3gp</code>"
      ],
      "text/plain": [
       "<IPython.core.display.HTML object>"
      ]
     },
     "metadata": {},
     "output_type": "display_data"
    },
    {
     "data": {
      "text/html": [
       "Syncing run <strong><a href='https://wandb.ai/deepsat/House%20Pricing/runs/6j68n3gp' target=\"_blank\">Melissa_6SL9D4QD</a></strong> to <a href='https://wandb.ai/deepsat/House%20Pricing' target=\"_blank\">Weights & Biases</a> (<a href='https://wandb.me/run' target=\"_blank\">docs</a>)<br/>"
      ],
      "text/plain": [
       "<IPython.core.display.HTML object>"
      ]
     },
     "metadata": {},
     "output_type": "display_data"
    },
    {
     "data": {
      "text/html": [
       " View project at <a href='https://wandb.ai/deepsat/House%20Pricing' target=\"_blank\">https://wandb.ai/deepsat/House%20Pricing</a>"
      ],
      "text/plain": [
       "<IPython.core.display.HTML object>"
      ]
     },
     "metadata": {},
     "output_type": "display_data"
    },
    {
     "data": {
      "text/html": [
       " View run at <a href='https://wandb.ai/deepsat/House%20Pricing/runs/6j68n3gp' target=\"_blank\">https://wandb.ai/deepsat/House%20Pricing/runs/6j68n3gp</a>"
      ],
      "text/plain": [
       "<IPython.core.display.HTML object>"
      ]
     },
     "metadata": {},
     "output_type": "display_data"
    },
    {
     "name": "stderr",
     "output_type": "stream",
     "text": [
      "GPU available: True (cuda), used: True\n",
      "TPU available: False, using: 0 TPU cores\n",
      "IPU available: False, using: 0 IPUs\n",
      "HPU available: False, using: 0 HPUs\n"
     ]
    },
    {
     "name": "stdout",
     "output_type": "stream",
     "text": [
      "[INFO]: Input size: 244\n",
      "[INFO]: Preprocessing training dataframe...\n",
      "[INFO]: Dropping columns with full of NA or Identifiers. Current dataframe shape: (1460, 81)\n",
      "[INFO]: Dropped columns with full of NA or Identifiers. Current dataframe shape: (1460, 74)\n",
      "[INFO]: Dropping categories types with few ocurrence. Current dataframe shape: (1460, 74)\n",
      "[INFO]: Few ocurrences removed. Current dataframe shape: (1443, 74)\n",
      "[INFO]: Dropping columns which contains just one type of category. Current dataframe shape: (1443, 74)\n",
      "[INFO]: Columns with just one type of categroy dropped. Current dataframe shape: (1443, 73)\n",
      "[INFO]: Preprocessing predict dataframe...\n",
      "[INFO]: Dropping columns with full of NA or Identifiers. Current dataframe shape: (1459, 80)\n",
      "[INFO]: Dropped columns with full of NA or Identifiers. Current dataframe shape: (1459, 73)\n"
     ]
    },
    {
     "name": "stderr",
     "output_type": "stream",
     "text": [
      "/root/miniconda3/envs/pricehousing/lib/python3.9/site-packages/pytorch_lightning/loggers/wandb.py:391: There is a wandb run already in progress and newly created instances of `WandbLogger` will reuse this run. If this is not desired, call `wandb.finish()` before instantiating `WandbLogger`.\n",
      "LOCAL_RANK: 0 - CUDA_VISIBLE_DEVICES: [0]\n",
      "\n",
      "  | Name | Type       | Params\n",
      "------------------------------------\n",
      "0 | net  | Sequential | 215 K \n",
      "------------------------------------\n",
      "215 K     Trainable params\n",
      "0         Non-trainable params\n",
      "215 K     Total params\n",
      "0.864     Total estimated model params size (MB)\n"
     ]
    },
    {
     "name": "stdout",
     "output_type": "stream",
     "text": [
      "[INFO]: Setting up fit dataset/s\n",
      "[INFO]: Train dataset size: 981\n",
      "[INFO]: Validation dataset size: 173\n",
      "Sanity Checking: |          | 0/? [00:00<?, ?it/s][INFO]: Validation dataloader size: 1\n",
      "                                                                            "
     ]
    },
    {
     "name": "stderr",
     "output_type": "stream",
     "text": [
      "/root/miniconda3/envs/pricehousing/lib/python3.9/site-packages/lightning/pytorch/trainer/connectors/data_connector.py:492: Your `val_dataloader`'s sampler has shuffling enabled, it is strongly recommended that you turn shuffling off for val/test dataloaders.\n",
      "/root/miniconda3/envs/pricehousing/lib/python3.9/site-packages/lightning/pytorch/trainer/connectors/data_connector.py:441: The 'val_dataloader' does not have many workers which may be a bottleneck. Consider increasing the value of the `num_workers` argument` to `num_workers=11` in the `DataLoader` to improve performance.\n",
      "/root/miniconda3/envs/pricehousing/lib/python3.9/site-packages/lightning/pytorch/trainer/connectors/data_connector.py:441: The 'train_dataloader' does not have many workers which may be a bottleneck. Consider increasing the value of the `num_workers` argument` to `num_workers=11` in the `DataLoader` to improve performance.\n"
     ]
    },
    {
     "name": "stdout",
     "output_type": "stream",
     "text": [
      "[INFO]: Train dataloader size: 4\n",
      "Training: |          | 0/? [00:00<?, ?it/s][INFO]: Logger save dir: .\n",
      "[INFO]: Logger name: lightning_logs\n",
      "[INFO]: Logger version: 6j68n3gp\n",
      "Epoch 0: 100%|██████████| 4/4 [00:00<00:00, 30.12it/s, v_num=n3gp]"
     ]
    },
    {
     "name": "stderr",
     "output_type": "stream",
     "text": [
      "Metric val_loss improved. New best score: 5549014528.000\n"
     ]
    },
    {
     "name": "stdout",
     "output_type": "stream",
     "text": [
      "Epoch 50: 100%|██████████| 4/4 [00:00<00:00, 33.46it/s, v_num=n3gp]"
     ]
    },
    {
     "name": "stderr",
     "output_type": "stream",
     "text": [
      "Monitored metric val_loss did not improve in the last 50 records. Best score: 5549014528.000. Signaling Trainer to stop.\n"
     ]
    },
    {
     "name": "stdout",
     "output_type": "stream",
     "text": [
      "Epoch 50: 100%|██████████| 4/4 [00:00<00:00, 31.85it/s, v_num=n3gp]\n",
      "[INFO]: Preprocessing training dataframe...\n",
      "[INFO]: Dropping columns with full of NA or Identifiers. Current dataframe shape: (1460, 81)\n",
      "[INFO]: Dropped columns with full of NA or Identifiers. Current dataframe shape: (1460, 74)\n",
      "[INFO]: Dropping categories types with few ocurrence. Current dataframe shape: (1460, 74)\n",
      "[INFO]: Few ocurrences removed. Current dataframe shape: (1443, 74)\n",
      "[INFO]: Dropping columns which contains just one type of category. Current dataframe shape: (1443, 74)\n",
      "[INFO]: Columns with just one type of categroy dropped. Current dataframe shape: (1443, 73)\n",
      "[INFO]: Preprocessing predict dataframe...\n",
      "[INFO]: Dropping columns with full of NA or Identifiers. Current dataframe shape: (1459, 80)\n",
      "[INFO]: Dropped columns with full of NA or Identifiers. Current dataframe shape: (1459, 73)\n"
     ]
    },
    {
     "name": "stderr",
     "output_type": "stream",
     "text": [
      "LOCAL_RANK: 0 - CUDA_VISIBLE_DEVICES: [0]\n",
      "/root/miniconda3/envs/pricehousing/lib/python3.9/site-packages/lightning/pytorch/trainer/connectors/data_connector.py:441: The 'test_dataloader' does not have many workers which may be a bottleneck. Consider increasing the value of the `num_workers` argument` to `num_workers=11` in the `DataLoader` to improve performance.\n"
     ]
    },
    {
     "name": "stdout",
     "output_type": "stream",
     "text": [
      "[INFO]: Setting up test dataset/s\n",
      "[INFO]: Test dataloader size: 2\n",
      "Testing DataLoader 0: 100%|██████████| 2/2 [00:00<00:00, 137.75it/s]\n",
      "────────────────────────────────────────────────────────────────────────────────────────────────────────────────────────\n",
      "       Test metric             DataLoader 0\n",
      "────────────────────────────────────────────────────────────────────────────────────────────────────────────────────────\n",
      "        test_loss              36675817472.0\n",
      "────────────────────────────────────────────────────────────────────────────────────────────────────────────────────────\n"
     ]
    },
    {
     "data": {
      "text/html": [
       "<style>\n",
       "    table.wandb td:nth-child(1) { padding: 0 10px; text-align: left ; width: auto;} td:nth-child(2) {text-align: left ; width: 100%}\n",
       "    .wandb-row { display: flex; flex-direction: row; flex-wrap: wrap; justify-content: flex-start; width: 100% }\n",
       "    .wandb-col { display: flex; flex-direction: column; flex-basis: 100%; flex: 1; padding: 10px; }\n",
       "    </style>\n",
       "<div class=\"wandb-row\"><div class=\"wandb-col\"><h3>Run history:</h3><br/><table class=\"wandb\"><tr><td>epoch</td><td>▁▁▁▁▂▂▂▂▂▃▃▃▃▃▃▄▄▄▄▄▅▅▅▅▅▅▆▆▆▆▆▆▇▇▇▇▇▇██</td></tr><tr><td>test_loss</td><td>▁</td></tr><tr><td>train_loss</td><td>▄▁▄▇▄▅▄▅▅▇▅▅▇▆▇▄▄█▄▅▄▅▅▄▆▄▄▅▆▅▅▅▇▆▅▄▆▅▅▆</td></tr><tr><td>trainer/global_step</td><td>▁▁▁▁▂▂▂▂▂▃▃▃▃▃▃▄▄▄▄▄▅▅▅▅▅▅▆▆▆▆▆▇▇▇▇▇▇███</td></tr><tr><td>val_loss</td><td>▁███████████████████████████████████████</td></tr></table><br/></div><div class=\"wandb-col\"><h3>Run summary:</h3><br/><table class=\"wandb\"><tr><td>epoch</td><td>51</td></tr><tr><td>test_loss</td><td>36675817472.0</td></tr><tr><td>train_loss</td><td>42710110208.0</td></tr><tr><td>trainer/global_step</td><td>204</td></tr><tr><td>val_loss</td><td>37963206656.0</td></tr></table><br/></div></div>"
      ],
      "text/plain": [
       "<IPython.core.display.HTML object>"
      ]
     },
     "metadata": {},
     "output_type": "display_data"
    },
    {
     "data": {
      "text/html": [
       " View run <strong style=\"color:#cdcd00\">Melissa_6SL9D4QD</strong> at: <a href='https://wandb.ai/deepsat/House%20Pricing/runs/6j68n3gp' target=\"_blank\">https://wandb.ai/deepsat/House%20Pricing/runs/6j68n3gp</a><br/> View project at: <a href='https://wandb.ai/deepsat/House%20Pricing' target=\"_blank\">https://wandb.ai/deepsat/House%20Pricing</a><br/>Synced 6 W&B file(s), 0 media file(s), 1 artifact file(s) and 0 other file(s)"
      ],
      "text/plain": [
       "<IPython.core.display.HTML object>"
      ]
     },
     "metadata": {},
     "output_type": "display_data"
    },
    {
     "data": {
      "text/html": [
       "Find logs at: <code>./wandb/run-20240418_103500-6j68n3gp/logs</code>"
      ],
      "text/plain": [
       "<IPython.core.display.HTML object>"
      ]
     },
     "metadata": {},
     "output_type": "display_data"
    },
    {
     "name": "stdout",
     "output_type": "stream",
     "text": [
      "[INFO]: Preprocessing training dataframe...\n",
      "[INFO]: Dropping columns with full of NA or Identifiers. Current dataframe shape: (1460, 81)\n",
      "[INFO]: Dropped columns with full of NA or Identifiers. Current dataframe shape: (1460, 74)\n",
      "[INFO]: Dropping categories types with few ocurrence. Current dataframe shape: (1460, 74)\n",
      "[INFO]: Few ocurrences removed. Current dataframe shape: (1443, 74)\n",
      "[INFO]: Dropping columns which contains just one type of category. Current dataframe shape: (1443, 74)\n",
      "[INFO]: Columns with just one type of categroy dropped. Current dataframe shape: (1443, 73)\n",
      "[INFO]: Preprocessing predict dataframe...\n",
      "[INFO]: Dropping columns with full of NA or Identifiers. Current dataframe shape: (1459, 80)\n",
      "[INFO]: Dropped columns with full of NA or Identifiers. Current dataframe shape: (1459, 73)\n"
     ]
    },
    {
     "data": {
      "text/html": [
       "Tracking run with wandb version 0.16.6"
      ],
      "text/plain": [
       "<IPython.core.display.HTML object>"
      ]
     },
     "metadata": {},
     "output_type": "display_data"
    },
    {
     "data": {
      "text/html": [
       "Run data is saved locally in <code>/root/repos/lightning/HousePricing/wandb/run-20240418_103519-rmboixur</code>"
      ],
      "text/plain": [
       "<IPython.core.display.HTML object>"
      ]
     },
     "metadata": {},
     "output_type": "display_data"
    },
    {
     "data": {
      "text/html": [
       "Syncing run <strong><a href='https://wandb.ai/deepsat/House%20Pricing/runs/rmboixur' target=\"_blank\">Kristy_WHBCJ7MM</a></strong> to <a href='https://wandb.ai/deepsat/House%20Pricing' target=\"_blank\">Weights & Biases</a> (<a href='https://wandb.me/run' target=\"_blank\">docs</a>)<br/>"
      ],
      "text/plain": [
       "<IPython.core.display.HTML object>"
      ]
     },
     "metadata": {},
     "output_type": "display_data"
    },
    {
     "data": {
      "text/html": [
       " View project at <a href='https://wandb.ai/deepsat/House%20Pricing' target=\"_blank\">https://wandb.ai/deepsat/House%20Pricing</a>"
      ],
      "text/plain": [
       "<IPython.core.display.HTML object>"
      ]
     },
     "metadata": {},
     "output_type": "display_data"
    },
    {
     "data": {
      "text/html": [
       " View run at <a href='https://wandb.ai/deepsat/House%20Pricing/runs/rmboixur' target=\"_blank\">https://wandb.ai/deepsat/House%20Pricing/runs/rmboixur</a>"
      ],
      "text/plain": [
       "<IPython.core.display.HTML object>"
      ]
     },
     "metadata": {},
     "output_type": "display_data"
    },
    {
     "name": "stderr",
     "output_type": "stream",
     "text": [
      "GPU available: True (cuda), used: True\n",
      "TPU available: False, using: 0 TPU cores\n",
      "IPU available: False, using: 0 IPUs\n",
      "HPU available: False, using: 0 HPUs\n"
     ]
    },
    {
     "name": "stdout",
     "output_type": "stream",
     "text": [
      "[INFO]: Input size: 244\n",
      "[INFO]: Preprocessing training dataframe...\n",
      "[INFO]: Dropping columns with full of NA or Identifiers. Current dataframe shape: (1460, 81)\n",
      "[INFO]: Dropped columns with full of NA or Identifiers. Current dataframe shape: (1460, 74)\n",
      "[INFO]: Dropping categories types with few ocurrence. Current dataframe shape: (1460, 74)\n",
      "[INFO]: Few ocurrences removed. Current dataframe shape: (1443, 74)\n",
      "[INFO]: Dropping columns which contains just one type of category. Current dataframe shape: (1443, 74)\n",
      "[INFO]: Columns with just one type of categroy dropped. Current dataframe shape: (1443, 73)\n",
      "[INFO]: Preprocessing predict dataframe...\n",
      "[INFO]: Dropping columns with full of NA or Identifiers. Current dataframe shape: (1459, 80)\n",
      "[INFO]: Dropped columns with full of NA or Identifiers. Current dataframe shape: (1459, 73)\n"
     ]
    },
    {
     "name": "stderr",
     "output_type": "stream",
     "text": [
      "/root/miniconda3/envs/pricehousing/lib/python3.9/site-packages/pytorch_lightning/loggers/wandb.py:391: There is a wandb run already in progress and newly created instances of `WandbLogger` will reuse this run. If this is not desired, call `wandb.finish()` before instantiating `WandbLogger`.\n",
      "LOCAL_RANK: 0 - CUDA_VISIBLE_DEVICES: [0]\n",
      "\n",
      "  | Name | Type       | Params\n",
      "------------------------------------\n",
      "0 | net  | Sequential | 215 K \n",
      "------------------------------------\n",
      "215 K     Trainable params\n",
      "0         Non-trainable params\n",
      "215 K     Total params\n",
      "0.864     Total estimated model params size (MB)\n"
     ]
    },
    {
     "name": "stdout",
     "output_type": "stream",
     "text": [
      "[INFO]: Setting up fit dataset/s\n",
      "[INFO]: Train dataset size: 981\n",
      "[INFO]: Validation dataset size: 173\n",
      "Sanity Checking: |          | 0/? [00:00<?, ?it/s][INFO]: Validation dataloader size: 1\n",
      "                                                                            "
     ]
    },
    {
     "name": "stderr",
     "output_type": "stream",
     "text": [
      "/root/miniconda3/envs/pricehousing/lib/python3.9/site-packages/lightning/pytorch/trainer/connectors/data_connector.py:492: Your `val_dataloader`'s sampler has shuffling enabled, it is strongly recommended that you turn shuffling off for val/test dataloaders.\n",
      "/root/miniconda3/envs/pricehousing/lib/python3.9/site-packages/lightning/pytorch/trainer/connectors/data_connector.py:441: The 'val_dataloader' does not have many workers which may be a bottleneck. Consider increasing the value of the `num_workers` argument` to `num_workers=11` in the `DataLoader` to improve performance.\n",
      "/root/miniconda3/envs/pricehousing/lib/python3.9/site-packages/lightning/pytorch/trainer/connectors/data_connector.py:441: The 'train_dataloader' does not have many workers which may be a bottleneck. Consider increasing the value of the `num_workers` argument` to `num_workers=11` in the `DataLoader` to improve performance.\n"
     ]
    },
    {
     "name": "stdout",
     "output_type": "stream",
     "text": [
      "[INFO]: Train dataloader size: 4\n",
      "Training: |          | 0/? [00:00<?, ?it/s][INFO]: Logger save dir: .\n",
      "[INFO]: Logger name: lightning_logs\n",
      "[INFO]: Logger version: rmboixur\n",
      "Epoch 0: 100%|██████████| 4/4 [00:00<00:00, 31.24it/s, v_num=ixur]"
     ]
    },
    {
     "name": "stderr",
     "output_type": "stream",
     "text": [
      "Metric val_loss improved. New best score: 33434785792.000\n"
     ]
    },
    {
     "name": "stdout",
     "output_type": "stream",
     "text": [
      "Epoch 4: 100%|██████████| 4/4 [00:00<00:00, 31.05it/s, v_num=ixur]"
     ]
    },
    {
     "name": "stderr",
     "output_type": "stream",
     "text": [
      "Metric val_loss improved by 30523916288.000 >= min_delta = 0.0. New best score: 2910868736.000\n"
     ]
    },
    {
     "name": "stdout",
     "output_type": "stream",
     "text": [
      "Epoch 9: 100%|██████████| 4/4 [00:00<00:00, 31.42it/s, v_num=ixur]"
     ]
    },
    {
     "name": "stderr",
     "output_type": "stream",
     "text": [
      "Metric val_loss improved by 1626886144.000 >= min_delta = 0.0. New best score: 1283982592.000\n"
     ]
    },
    {
     "name": "stdout",
     "output_type": "stream",
     "text": [
      "Epoch 12: 100%|██████████| 4/4 [00:00<00:00, 30.13it/s, v_num=ixur]"
     ]
    },
    {
     "name": "stderr",
     "output_type": "stream",
     "text": [
      "Metric val_loss improved by 281998528.000 >= min_delta = 0.0. New best score: 1001984064.000\n"
     ]
    },
    {
     "name": "stdout",
     "output_type": "stream",
     "text": [
      "Epoch 13: 100%|██████████| 4/4 [00:00<00:00, 19.32it/s, v_num=ixur]"
     ]
    },
    {
     "name": "stderr",
     "output_type": "stream",
     "text": [
      "Metric val_loss improved by 118232256.000 >= min_delta = 0.0. New best score: 883751808.000\n"
     ]
    },
    {
     "name": "stdout",
     "output_type": "stream",
     "text": [
      "Epoch 17: 100%|██████████| 4/4 [00:00<00:00, 32.80it/s, v_num=ixur]"
     ]
    },
    {
     "name": "stderr",
     "output_type": "stream",
     "text": [
      "Metric val_loss improved by 36754432.000 >= min_delta = 0.0. New best score: 846997376.000\n"
     ]
    },
    {
     "name": "stdout",
     "output_type": "stream",
     "text": [
      "Epoch 18: 100%|██████████| 4/4 [00:00<00:00, 35.76it/s, v_num=ixur]"
     ]
    },
    {
     "name": "stderr",
     "output_type": "stream",
     "text": [
      "Metric val_loss improved by 9011776.000 >= min_delta = 0.0. New best score: 837985600.000\n"
     ]
    },
    {
     "name": "stdout",
     "output_type": "stream",
     "text": [
      "Epoch 20: 100%|██████████| 4/4 [00:00<00:00, 35.41it/s, v_num=ixur]"
     ]
    },
    {
     "name": "stderr",
     "output_type": "stream",
     "text": [
      "Metric val_loss improved by 12852480.000 >= min_delta = 0.0. New best score: 825133120.000\n"
     ]
    },
    {
     "name": "stdout",
     "output_type": "stream",
     "text": [
      "Epoch 22: 100%|██████████| 4/4 [00:00<00:00, 34.90it/s, v_num=ixur]"
     ]
    },
    {
     "name": "stderr",
     "output_type": "stream",
     "text": [
      "Metric val_loss improved by 5564736.000 >= min_delta = 0.0. New best score: 819568384.000\n"
     ]
    },
    {
     "name": "stdout",
     "output_type": "stream",
     "text": [
      "Epoch 72: 100%|██████████| 4/4 [00:00<00:00, 31.58it/s, v_num=ixur]"
     ]
    },
    {
     "name": "stderr",
     "output_type": "stream",
     "text": [
      "Monitored metric val_loss did not improve in the last 50 records. Best score: 819568384.000. Signaling Trainer to stop.\n"
     ]
    },
    {
     "name": "stdout",
     "output_type": "stream",
     "text": [
      "Epoch 72: 100%|██████████| 4/4 [00:00<00:00, 29.95it/s, v_num=ixur]\n",
      "[INFO]: Preprocessing training dataframe...\n",
      "[INFO]: Dropping columns with full of NA or Identifiers. Current dataframe shape: (1460, 81)\n",
      "[INFO]: Dropped columns with full of NA or Identifiers. Current dataframe shape: (1460, 74)\n",
      "[INFO]: Dropping categories types with few ocurrence. Current dataframe shape: (1460, 74)\n",
      "[INFO]: Few ocurrences removed. Current dataframe shape: (1443, 74)\n",
      "[INFO]: Dropping columns which contains just one type of category. Current dataframe shape: (1443, 74)\n",
      "[INFO]: Columns with just one type of categroy dropped. Current dataframe shape: (1443, 73)\n",
      "[INFO]: Preprocessing predict dataframe...\n",
      "[INFO]: Dropping columns with full of NA or Identifiers. Current dataframe shape: (1459, 80)\n",
      "[INFO]: Dropped columns with full of NA or Identifiers. Current dataframe shape: (1459, 73)\n"
     ]
    },
    {
     "name": "stderr",
     "output_type": "stream",
     "text": [
      "LOCAL_RANK: 0 - CUDA_VISIBLE_DEVICES: [0]\n",
      "/root/miniconda3/envs/pricehousing/lib/python3.9/site-packages/lightning/pytorch/trainer/connectors/data_connector.py:441: The 'test_dataloader' does not have many workers which may be a bottleneck. Consider increasing the value of the `num_workers` argument` to `num_workers=11` in the `DataLoader` to improve performance.\n"
     ]
    },
    {
     "name": "stdout",
     "output_type": "stream",
     "text": [
      "[INFO]: Setting up test dataset/s\n",
      "[INFO]: Test dataloader size: 2\n",
      "Testing DataLoader 0: 100%|██████████| 2/2 [00:00<00:00, 119.02it/s]\n",
      "────────────────────────────────────────────────────────────────────────────────────────────────────────────────────────\n",
      "       Test metric             DataLoader 0\n",
      "────────────────────────────────────────────────────────────────────────────────────────────────────────────────────────\n",
      "        test_loss               667574400.0\n",
      "────────────────────────────────────────────────────────────────────────────────────────────────────────────────────────\n"
     ]
    },
    {
     "data": {
      "text/html": [
       "<style>\n",
       "    table.wandb td:nth-child(1) { padding: 0 10px; text-align: left ; width: auto;} td:nth-child(2) {text-align: left ; width: 100%}\n",
       "    .wandb-row { display: flex; flex-direction: row; flex-wrap: wrap; justify-content: flex-start; width: 100% }\n",
       "    .wandb-col { display: flex; flex-direction: column; flex-basis: 100%; flex: 1; padding: 10px; }\n",
       "    </style>\n",
       "<div class=\"wandb-row\"><div class=\"wandb-col\"><h3>Run history:</h3><br/><table class=\"wandb\"><tr><td>epoch</td><td>▁▁▁▁▂▂▂▂▂▃▃▃▃▃▄▄▄▄▄▄▅▅▅▅▅▆▆▆▆▆▆▇▇▇▇▇████</td></tr><tr><td>test_loss</td><td>▁</td></tr><tr><td>train_loss</td><td>▂▇█▁▂▁▁▁▁▁▁▁▁▁▁▁▁▁▁▁▁▁▁▁▁▁▁▁▁▁▁▁▁▁▁▁▁▁▁▁</td></tr><tr><td>trainer/global_step</td><td>▁▁▁▁▂▂▂▂▂▃▃▃▃▃▄▄▄▄▄▄▅▅▅▅▅▅▆▆▆▆▆▇▇▇▇▇████</td></tr><tr><td>val_loss</td><td>███▂▂▁▁▁▁▁▁▁▁▁▁▁▁▁▁▁▁▁▁▁▁▁▁▁▁▁▁▁▁▁▁▁▁▁▁▁</td></tr></table><br/></div><div class=\"wandb-col\"><h3>Run summary:</h3><br/><table class=\"wandb\"><tr><td>epoch</td><td>73</td></tr><tr><td>test_loss</td><td>667574400.0</td></tr><tr><td>train_loss</td><td>140045312.0</td></tr><tr><td>trainer/global_step</td><td>292</td></tr><tr><td>val_loss</td><td>909042816.0</td></tr></table><br/></div></div>"
      ],
      "text/plain": [
       "<IPython.core.display.HTML object>"
      ]
     },
     "metadata": {},
     "output_type": "display_data"
    },
    {
     "data": {
      "text/html": [
       " View run <strong style=\"color:#cdcd00\">Kristy_WHBCJ7MM</strong> at: <a href='https://wandb.ai/deepsat/House%20Pricing/runs/rmboixur' target=\"_blank\">https://wandb.ai/deepsat/House%20Pricing/runs/rmboixur</a><br/> View project at: <a href='https://wandb.ai/deepsat/House%20Pricing' target=\"_blank\">https://wandb.ai/deepsat/House%20Pricing</a><br/>Synced 6 W&B file(s), 0 media file(s), 9 artifact file(s) and 0 other file(s)"
      ],
      "text/plain": [
       "<IPython.core.display.HTML object>"
      ]
     },
     "metadata": {},
     "output_type": "display_data"
    },
    {
     "data": {
      "text/html": [
       "Find logs at: <code>./wandb/run-20240418_103519-rmboixur/logs</code>"
      ],
      "text/plain": [
       "<IPython.core.display.HTML object>"
      ]
     },
     "metadata": {},
     "output_type": "display_data"
    },
    {
     "name": "stdout",
     "output_type": "stream",
     "text": [
      "[INFO]: Preprocessing training dataframe...\n",
      "[INFO]: Dropping columns with full of NA or Identifiers. Current dataframe shape: (1460, 81)\n",
      "[INFO]: Dropped columns with full of NA or Identifiers. Current dataframe shape: (1460, 74)\n",
      "[INFO]: Dropping categories types with few ocurrence. Current dataframe shape: (1460, 74)\n",
      "[INFO]: Few ocurrences removed. Current dataframe shape: (1443, 74)\n",
      "[INFO]: Dropping columns which contains just one type of category. Current dataframe shape: (1443, 74)\n",
      "[INFO]: Columns with just one type of categroy dropped. Current dataframe shape: (1443, 73)\n",
      "[INFO]: Preprocessing predict dataframe...\n",
      "[INFO]: Dropping columns with full of NA or Identifiers. Current dataframe shape: (1459, 80)\n",
      "[INFO]: Dropped columns with full of NA or Identifiers. Current dataframe shape: (1459, 73)\n"
     ]
    },
    {
     "data": {
      "text/html": [
       "Tracking run with wandb version 0.16.6"
      ],
      "text/plain": [
       "<IPython.core.display.HTML object>"
      ]
     },
     "metadata": {},
     "output_type": "display_data"
    },
    {
     "data": {
      "text/html": [
       "Run data is saved locally in <code>/root/repos/lightning/HousePricing/wandb/run-20240418_103559-ggi6sr6y</code>"
      ],
      "text/plain": [
       "<IPython.core.display.HTML object>"
      ]
     },
     "metadata": {},
     "output_type": "display_data"
    },
    {
     "data": {
      "text/html": [
       "Syncing run <strong><a href='https://wandb.ai/deepsat/House%20Pricing/runs/ggi6sr6y' target=\"_blank\">Caleb_K86AVDNZ</a></strong> to <a href='https://wandb.ai/deepsat/House%20Pricing' target=\"_blank\">Weights & Biases</a> (<a href='https://wandb.me/run' target=\"_blank\">docs</a>)<br/>"
      ],
      "text/plain": [
       "<IPython.core.display.HTML object>"
      ]
     },
     "metadata": {},
     "output_type": "display_data"
    },
    {
     "data": {
      "text/html": [
       " View project at <a href='https://wandb.ai/deepsat/House%20Pricing' target=\"_blank\">https://wandb.ai/deepsat/House%20Pricing</a>"
      ],
      "text/plain": [
       "<IPython.core.display.HTML object>"
      ]
     },
     "metadata": {},
     "output_type": "display_data"
    },
    {
     "data": {
      "text/html": [
       " View run at <a href='https://wandb.ai/deepsat/House%20Pricing/runs/ggi6sr6y' target=\"_blank\">https://wandb.ai/deepsat/House%20Pricing/runs/ggi6sr6y</a>"
      ],
      "text/plain": [
       "<IPython.core.display.HTML object>"
      ]
     },
     "metadata": {},
     "output_type": "display_data"
    },
    {
     "name": "stderr",
     "output_type": "stream",
     "text": [
      "GPU available: True (cuda), used: True\n",
      "TPU available: False, using: 0 TPU cores\n",
      "IPU available: False, using: 0 IPUs\n",
      "HPU available: False, using: 0 HPUs\n"
     ]
    },
    {
     "name": "stdout",
     "output_type": "stream",
     "text": [
      "[INFO]: Input size: 244\n",
      "[INFO]: Preprocessing training dataframe...\n",
      "[INFO]: Dropping columns with full of NA or Identifiers. Current dataframe shape: (1460, 81)\n",
      "[INFO]: Dropped columns with full of NA or Identifiers. Current dataframe shape: (1460, 74)\n",
      "[INFO]: Dropping categories types with few ocurrence. Current dataframe shape: (1460, 74)\n",
      "[INFO]: Few ocurrences removed. Current dataframe shape: (1443, 74)\n",
      "[INFO]: Dropping columns which contains just one type of category. Current dataframe shape: (1443, 74)\n",
      "[INFO]: Columns with just one type of categroy dropped. Current dataframe shape: (1443, 73)\n",
      "[INFO]: Preprocessing predict dataframe...\n",
      "[INFO]: Dropping columns with full of NA or Identifiers. Current dataframe shape: (1459, 80)\n",
      "[INFO]: Dropped columns with full of NA or Identifiers. Current dataframe shape: (1459, 73)\n"
     ]
    },
    {
     "name": "stderr",
     "output_type": "stream",
     "text": [
      "/root/miniconda3/envs/pricehousing/lib/python3.9/site-packages/pytorch_lightning/loggers/wandb.py:391: There is a wandb run already in progress and newly created instances of `WandbLogger` will reuse this run. If this is not desired, call `wandb.finish()` before instantiating `WandbLogger`.\n",
      "LOCAL_RANK: 0 - CUDA_VISIBLE_DEVICES: [0]\n",
      "\n",
      "  | Name | Type       | Params\n",
      "------------------------------------\n",
      "0 | net  | Sequential | 215 K \n",
      "------------------------------------\n",
      "215 K     Trainable params\n",
      "0         Non-trainable params\n",
      "215 K     Total params\n",
      "0.864     Total estimated model params size (MB)\n"
     ]
    },
    {
     "name": "stdout",
     "output_type": "stream",
     "text": [
      "[INFO]: Setting up fit dataset/s\n",
      "[INFO]: Train dataset size: 981\n",
      "[INFO]: Validation dataset size: 173\n",
      "Sanity Checking: |          | 0/? [00:00<?, ?it/s][INFO]: Validation dataloader size: 1\n",
      "                                                                            "
     ]
    },
    {
     "name": "stderr",
     "output_type": "stream",
     "text": [
      "/root/miniconda3/envs/pricehousing/lib/python3.9/site-packages/lightning/pytorch/trainer/connectors/data_connector.py:492: Your `val_dataloader`'s sampler has shuffling enabled, it is strongly recommended that you turn shuffling off for val/test dataloaders.\n",
      "/root/miniconda3/envs/pricehousing/lib/python3.9/site-packages/lightning/pytorch/trainer/connectors/data_connector.py:441: The 'val_dataloader' does not have many workers which may be a bottleneck. Consider increasing the value of the `num_workers` argument` to `num_workers=11` in the `DataLoader` to improve performance.\n",
      "/root/miniconda3/envs/pricehousing/lib/python3.9/site-packages/lightning/pytorch/trainer/connectors/data_connector.py:441: The 'train_dataloader' does not have many workers which may be a bottleneck. Consider increasing the value of the `num_workers` argument` to `num_workers=11` in the `DataLoader` to improve performance.\n"
     ]
    },
    {
     "name": "stdout",
     "output_type": "stream",
     "text": [
      "[INFO]: Train dataloader size: 4\n",
      "Training: |          | 0/? [00:00<?, ?it/s][INFO]: Logger save dir: .\n",
      "[INFO]: Logger name: lightning_logs\n",
      "[INFO]: Logger version: ggi6sr6y\n",
      "Epoch 0: 100%|██████████| 4/4 [00:00<00:00, 34.44it/s, v_num=sr6y]"
     ]
    },
    {
     "name": "stderr",
     "output_type": "stream",
     "text": [
      "Metric val_loss improved. New best score: 16680142848.000\n"
     ]
    },
    {
     "name": "stdout",
     "output_type": "stream",
     "text": [
      "Epoch 7: 100%|██████████| 4/4 [00:00<00:00, 32.64it/s, v_num=sr6y]"
     ]
    },
    {
     "name": "stderr",
     "output_type": "stream",
     "text": [
      "Metric val_loss improved by 7300118528.000 >= min_delta = 0.0. New best score: 9380024320.000\n"
     ]
    },
    {
     "name": "stdout",
     "output_type": "stream",
     "text": [
      "Epoch 8: 100%|██████████| 4/4 [00:00<00:00, 28.94it/s, v_num=sr6y]"
     ]
    },
    {
     "name": "stderr",
     "output_type": "stream",
     "text": [
      "Metric val_loss improved by 3328590336.000 >= min_delta = 0.0. New best score: 6051433984.000\n"
     ]
    },
    {
     "name": "stdout",
     "output_type": "stream",
     "text": [
      "Epoch 10: 100%|██████████| 4/4 [00:00<00:00, 23.99it/s, v_num=sr6y]"
     ]
    },
    {
     "name": "stderr",
     "output_type": "stream",
     "text": [
      "Metric val_loss improved by 2503575552.000 >= min_delta = 0.0. New best score: 3547858432.000\n"
     ]
    },
    {
     "name": "stdout",
     "output_type": "stream",
     "text": [
      "Epoch 11: 100%|██████████| 4/4 [00:00<00:00, 23.70it/s, v_num=sr6y]"
     ]
    },
    {
     "name": "stderr",
     "output_type": "stream",
     "text": [
      "Metric val_loss improved by 1409286528.000 >= min_delta = 0.0. New best score: 2138571904.000\n"
     ]
    },
    {
     "name": "stdout",
     "output_type": "stream",
     "text": [
      "Epoch 14: 100%|██████████| 4/4 [00:00<00:00, 32.17it/s, v_num=sr6y]"
     ]
    },
    {
     "name": "stderr",
     "output_type": "stream",
     "text": [
      "Metric val_loss improved by 643744640.000 >= min_delta = 0.0. New best score: 1494827264.000\n"
     ]
    },
    {
     "name": "stdout",
     "output_type": "stream",
     "text": [
      "Epoch 15: 100%|██████████| 4/4 [00:00<00:00, 25.34it/s, v_num=sr6y]"
     ]
    },
    {
     "name": "stderr",
     "output_type": "stream",
     "text": [
      "Metric val_loss improved by 114599296.000 >= min_delta = 0.0. New best score: 1380227968.000\n"
     ]
    },
    {
     "name": "stdout",
     "output_type": "stream",
     "text": [
      "Epoch 17: 100%|██████████| 4/4 [00:00<00:00, 36.09it/s, v_num=sr6y]"
     ]
    },
    {
     "name": "stderr",
     "output_type": "stream",
     "text": [
      "Metric val_loss improved by 132301952.000 >= min_delta = 0.0. New best score: 1247926016.000\n"
     ]
    },
    {
     "name": "stdout",
     "output_type": "stream",
     "text": [
      "Epoch 18: 100%|██████████| 4/4 [00:00<00:00, 33.77it/s, v_num=sr6y]"
     ]
    },
    {
     "name": "stderr",
     "output_type": "stream",
     "text": [
      "Metric val_loss improved by 82063744.000 >= min_delta = 0.0. New best score: 1165862272.000\n"
     ]
    },
    {
     "name": "stdout",
     "output_type": "stream",
     "text": [
      "Epoch 19: 100%|██████████| 4/4 [00:00<00:00, 30.76it/s, v_num=sr6y]"
     ]
    },
    {
     "name": "stderr",
     "output_type": "stream",
     "text": [
      "Metric val_loss improved by 131531328.000 >= min_delta = 0.0. New best score: 1034330944.000\n"
     ]
    },
    {
     "name": "stdout",
     "output_type": "stream",
     "text": [
      "Epoch 20: 100%|██████████| 4/4 [00:00<00:00, 35.87it/s, v_num=sr6y]"
     ]
    },
    {
     "name": "stderr",
     "output_type": "stream",
     "text": [
      "Metric val_loss improved by 37186112.000 >= min_delta = 0.0. New best score: 997144832.000\n"
     ]
    },
    {
     "name": "stdout",
     "output_type": "stream",
     "text": [
      "Epoch 21: 100%|██████████| 4/4 [00:00<00:00, 33.94it/s, v_num=sr6y]"
     ]
    },
    {
     "name": "stderr",
     "output_type": "stream",
     "text": [
      "Metric val_loss improved by 16694528.000 >= min_delta = 0.0. New best score: 980450304.000\n"
     ]
    },
    {
     "name": "stdout",
     "output_type": "stream",
     "text": [
      "Epoch 22: 100%|██████████| 4/4 [00:00<00:00, 32.05it/s, v_num=sr6y]"
     ]
    },
    {
     "name": "stderr",
     "output_type": "stream",
     "text": [
      "Metric val_loss improved by 37240768.000 >= min_delta = 0.0. New best score: 943209536.000\n"
     ]
    },
    {
     "name": "stdout",
     "output_type": "stream",
     "text": [
      "Epoch 23: 100%|██████████| 4/4 [00:00<00:00, 36.59it/s, v_num=sr6y]"
     ]
    },
    {
     "name": "stderr",
     "output_type": "stream",
     "text": [
      "Metric val_loss improved by 26655808.000 >= min_delta = 0.0. New best score: 916553728.000\n"
     ]
    },
    {
     "name": "stdout",
     "output_type": "stream",
     "text": [
      "Epoch 24: 100%|██████████| 4/4 [00:00<00:00, 29.27it/s, v_num=sr6y]"
     ]
    },
    {
     "name": "stderr",
     "output_type": "stream",
     "text": [
      "Metric val_loss improved by 27793344.000 >= min_delta = 0.0. New best score: 888760384.000\n"
     ]
    },
    {
     "name": "stdout",
     "output_type": "stream",
     "text": [
      "Epoch 25: 100%|██████████| 4/4 [00:00<00:00, 26.16it/s, v_num=sr6y]"
     ]
    },
    {
     "name": "stderr",
     "output_type": "stream",
     "text": [
      "Metric val_loss improved by 8953216.000 >= min_delta = 0.0. New best score: 879807168.000\n"
     ]
    },
    {
     "name": "stdout",
     "output_type": "stream",
     "text": [
      "Epoch 26: 100%|██████████| 4/4 [00:00<00:00, 25.97it/s, v_num=sr6y]"
     ]
    },
    {
     "name": "stderr",
     "output_type": "stream",
     "text": [
      "Metric val_loss improved by 22980992.000 >= min_delta = 0.0. New best score: 856826176.000\n"
     ]
    },
    {
     "name": "stdout",
     "output_type": "stream",
     "text": [
      "Epoch 28: 100%|██████████| 4/4 [00:00<00:00, 34.14it/s, v_num=sr6y]"
     ]
    },
    {
     "name": "stderr",
     "output_type": "stream",
     "text": [
      "Metric val_loss improved by 16602944.000 >= min_delta = 0.0. New best score: 840223232.000\n"
     ]
    },
    {
     "name": "stdout",
     "output_type": "stream",
     "text": [
      "Epoch 30: 100%|██████████| 4/4 [00:00<00:00, 31.17it/s, v_num=sr6y]"
     ]
    },
    {
     "name": "stderr",
     "output_type": "stream",
     "text": [
      "Metric val_loss improved by 31072384.000 >= min_delta = 0.0. New best score: 809150848.000\n"
     ]
    },
    {
     "name": "stdout",
     "output_type": "stream",
     "text": [
      "Epoch 32: 100%|██████████| 4/4 [00:00<00:00, 34.20it/s, v_num=sr6y]"
     ]
    },
    {
     "name": "stderr",
     "output_type": "stream",
     "text": [
      "Metric val_loss improved by 10549504.000 >= min_delta = 0.0. New best score: 798601344.000\n"
     ]
    },
    {
     "name": "stdout",
     "output_type": "stream",
     "text": [
      "Epoch 33: 100%|██████████| 4/4 [00:00<00:00, 22.52it/s, v_num=sr6y]"
     ]
    },
    {
     "name": "stderr",
     "output_type": "stream",
     "text": [
      "Metric val_loss improved by 2709632.000 >= min_delta = 0.0. New best score: 795891712.000\n"
     ]
    },
    {
     "name": "stdout",
     "output_type": "stream",
     "text": [
      "Epoch 34: 100%|██████████| 4/4 [00:00<00:00, 31.97it/s, v_num=sr6y]"
     ]
    },
    {
     "name": "stderr",
     "output_type": "stream",
     "text": [
      "Metric val_loss improved by 21513408.000 >= min_delta = 0.0. New best score: 774378304.000\n"
     ]
    },
    {
     "name": "stdout",
     "output_type": "stream",
     "text": [
      "Epoch 36: 100%|██████████| 4/4 [00:00<00:00, 32.33it/s, v_num=sr6y]"
     ]
    },
    {
     "name": "stderr",
     "output_type": "stream",
     "text": [
      "Metric val_loss improved by 9338432.000 >= min_delta = 0.0. New best score: 765039872.000\n"
     ]
    },
    {
     "name": "stdout",
     "output_type": "stream",
     "text": [
      "Epoch 44: 100%|██████████| 4/4 [00:00<00:00, 36.57it/s, v_num=sr6y]"
     ]
    },
    {
     "name": "stderr",
     "output_type": "stream",
     "text": [
      "Metric val_loss improved by 11784384.000 >= min_delta = 0.0. New best score: 753255488.000\n"
     ]
    },
    {
     "name": "stdout",
     "output_type": "stream",
     "text": [
      "Epoch 94: 100%|██████████| 4/4 [00:00<00:00, 27.12it/s, v_num=sr6y]"
     ]
    },
    {
     "name": "stderr",
     "output_type": "stream",
     "text": [
      "Monitored metric val_loss did not improve in the last 50 records. Best score: 753255488.000. Signaling Trainer to stop.\n"
     ]
    },
    {
     "name": "stdout",
     "output_type": "stream",
     "text": [
      "Epoch 94: 100%|██████████| 4/4 [00:00<00:00, 26.38it/s, v_num=sr6y]\n",
      "[INFO]: Preprocessing training dataframe...\n",
      "[INFO]: Dropping columns with full of NA or Identifiers. Current dataframe shape: (1460, 81)\n",
      "[INFO]: Dropped columns with full of NA or Identifiers. Current dataframe shape: (1460, 74)\n",
      "[INFO]: Dropping categories types with few ocurrence. Current dataframe shape: (1460, 74)\n",
      "[INFO]: Few ocurrences removed. Current dataframe shape: (1443, 74)\n",
      "[INFO]: Dropping columns which contains just one type of category. Current dataframe shape: (1443, 74)\n",
      "[INFO]: Columns with just one type of categroy dropped. Current dataframe shape: (1443, 73)\n",
      "[INFO]: Preprocessing predict dataframe...\n",
      "[INFO]: Dropping columns with full of NA or Identifiers. Current dataframe shape: (1459, 80)\n",
      "[INFO]: Dropped columns with full of NA or Identifiers. Current dataframe shape: (1459, 73)\n"
     ]
    },
    {
     "name": "stderr",
     "output_type": "stream",
     "text": [
      "LOCAL_RANK: 0 - CUDA_VISIBLE_DEVICES: [0]\n",
      "/root/miniconda3/envs/pricehousing/lib/python3.9/site-packages/lightning/pytorch/trainer/connectors/data_connector.py:441: The 'test_dataloader' does not have many workers which may be a bottleneck. Consider increasing the value of the `num_workers` argument` to `num_workers=11` in the `DataLoader` to improve performance.\n"
     ]
    },
    {
     "name": "stdout",
     "output_type": "stream",
     "text": [
      "[INFO]: Setting up test dataset/s\n",
      "[INFO]: Test dataloader size: 2\n",
      "Testing DataLoader 0: 100%|██████████| 2/2 [00:00<00:00, 130.50it/s]\n",
      "────────────────────────────────────────────────────────────────────────────────────────────────────────────────────────\n",
      "       Test metric             DataLoader 0\n",
      "────────────────────────────────────────────────────────────────────────────────────────────────────────────────────────\n",
      "        test_loss               663124288.0\n",
      "────────────────────────────────────────────────────────────────────────────────────────────────────────────────────────\n"
     ]
    },
    {
     "data": {
      "text/html": [
       "<style>\n",
       "    table.wandb td:nth-child(1) { padding: 0 10px; text-align: left ; width: auto;} td:nth-child(2) {text-align: left ; width: 100%}\n",
       "    .wandb-row { display: flex; flex-direction: row; flex-wrap: wrap; justify-content: flex-start; width: 100% }\n",
       "    .wandb-col { display: flex; flex-direction: column; flex-basis: 100%; flex: 1; padding: 10px; }\n",
       "    </style>\n",
       "<div class=\"wandb-row\"><div class=\"wandb-col\"><h3>Run history:</h3><br/><table class=\"wandb\"><tr><td>epoch</td><td>▁▁▁▂▂▂▂▂▂▃▃▃▃▃▄▄▄▄▄▄▅▅▅▅▅▅▆▆▆▆▆▇▇▇▇▇▇███</td></tr><tr><td>test_loss</td><td>▁</td></tr><tr><td>train_loss</td><td>█▁▁▁▁▁▁▁▁▁▁▁▁▁▁▁▁▁▁▁▁▁▁▁▁▁▁▁▁▁▁▁▁▁▁▁▁▁▁▁</td></tr><tr><td>trainer/global_step</td><td>▁▁▁▂▂▂▂▂▂▃▃▃▃▃▃▄▄▄▄▄▅▅▅▅▅▅▆▆▆▆▆▇▇▇▇▇▇███</td></tr><tr><td>val_loss</td><td>▄██▃▂▁▁▁▁▁▁▁▁▁▁▁▁▁▁▁▁▁▁▁▁▁▁▁▁▁▁▁▁▁▁▁▁▁▁▁</td></tr></table><br/></div><div class=\"wandb-col\"><h3>Run summary:</h3><br/><table class=\"wandb\"><tr><td>epoch</td><td>95</td></tr><tr><td>test_loss</td><td>663124288.0</td></tr><tr><td>train_loss</td><td>455838880.0</td></tr><tr><td>trainer/global_step</td><td>380</td></tr><tr><td>val_loss</td><td>961232320.0</td></tr></table><br/></div></div>"
      ],
      "text/plain": [
       "<IPython.core.display.HTML object>"
      ]
     },
     "metadata": {},
     "output_type": "display_data"
    },
    {
     "data": {
      "text/html": [
       " View run <strong style=\"color:#cdcd00\">Caleb_K86AVDNZ</strong> at: <a href='https://wandb.ai/deepsat/House%20Pricing/runs/ggi6sr6y' target=\"_blank\">https://wandb.ai/deepsat/House%20Pricing/runs/ggi6sr6y</a><br/> View project at: <a href='https://wandb.ai/deepsat/House%20Pricing' target=\"_blank\">https://wandb.ai/deepsat/House%20Pricing</a><br/>Synced 6 W&B file(s), 0 media file(s), 24 artifact file(s) and 0 other file(s)"
      ],
      "text/plain": [
       "<IPython.core.display.HTML object>"
      ]
     },
     "metadata": {},
     "output_type": "display_data"
    },
    {
     "data": {
      "text/html": [
       "Find logs at: <code>./wandb/run-20240418_103559-ggi6sr6y/logs</code>"
      ],
      "text/plain": [
       "<IPython.core.display.HTML object>"
      ]
     },
     "metadata": {},
     "output_type": "display_data"
    },
    {
     "name": "stdout",
     "output_type": "stream",
     "text": [
      "[INFO]: Preprocessing training dataframe...\n",
      "[INFO]: Dropping columns with full of NA or Identifiers. Current dataframe shape: (1460, 81)\n",
      "[INFO]: Dropped columns with full of NA or Identifiers. Current dataframe shape: (1460, 74)\n",
      "[INFO]: Dropping categories types with few ocurrence. Current dataframe shape: (1460, 74)\n",
      "[INFO]: Few ocurrences removed. Current dataframe shape: (1443, 74)\n",
      "[INFO]: Dropping columns which contains just one type of category. Current dataframe shape: (1443, 74)\n",
      "[INFO]: Columns with just one type of categroy dropped. Current dataframe shape: (1443, 73)\n",
      "[INFO]: Preprocessing predict dataframe...\n",
      "[INFO]: Dropping columns with full of NA or Identifiers. Current dataframe shape: (1459, 80)\n",
      "[INFO]: Dropped columns with full of NA or Identifiers. Current dataframe shape: (1459, 73)\n"
     ]
    },
    {
     "data": {
      "text/html": [
       "Tracking run with wandb version 0.16.6"
      ],
      "text/plain": [
       "<IPython.core.display.HTML object>"
      ]
     },
     "metadata": {},
     "output_type": "display_data"
    },
    {
     "data": {
      "text/html": [
       "Run data is saved locally in <code>/root/repos/lightning/HousePricing/wandb/run-20240418_103725-932vsjo5</code>"
      ],
      "text/plain": [
       "<IPython.core.display.HTML object>"
      ]
     },
     "metadata": {},
     "output_type": "display_data"
    },
    {
     "data": {
      "text/html": [
       "Syncing run <strong><a href='https://wandb.ai/deepsat/House%20Pricing/runs/932vsjo5' target=\"_blank\">Dawn_T5QCSZQX</a></strong> to <a href='https://wandb.ai/deepsat/House%20Pricing' target=\"_blank\">Weights & Biases</a> (<a href='https://wandb.me/run' target=\"_blank\">docs</a>)<br/>"
      ],
      "text/plain": [
       "<IPython.core.display.HTML object>"
      ]
     },
     "metadata": {},
     "output_type": "display_data"
    },
    {
     "data": {
      "text/html": [
       " View project at <a href='https://wandb.ai/deepsat/House%20Pricing' target=\"_blank\">https://wandb.ai/deepsat/House%20Pricing</a>"
      ],
      "text/plain": [
       "<IPython.core.display.HTML object>"
      ]
     },
     "metadata": {},
     "output_type": "display_data"
    },
    {
     "data": {
      "text/html": [
       " View run at <a href='https://wandb.ai/deepsat/House%20Pricing/runs/932vsjo5' target=\"_blank\">https://wandb.ai/deepsat/House%20Pricing/runs/932vsjo5</a>"
      ],
      "text/plain": [
       "<IPython.core.display.HTML object>"
      ]
     },
     "metadata": {},
     "output_type": "display_data"
    },
    {
     "name": "stderr",
     "output_type": "stream",
     "text": [
      "GPU available: True (cuda), used: True\n",
      "TPU available: False, using: 0 TPU cores\n",
      "IPU available: False, using: 0 IPUs\n",
      "HPU available: False, using: 0 HPUs\n"
     ]
    },
    {
     "name": "stdout",
     "output_type": "stream",
     "text": [
      "[INFO]: Input size: 244\n",
      "[INFO]: Preprocessing training dataframe...\n",
      "[INFO]: Dropping columns with full of NA or Identifiers. Current dataframe shape: (1460, 81)\n",
      "[INFO]: Dropped columns with full of NA or Identifiers. Current dataframe shape: (1460, 74)\n",
      "[INFO]: Dropping categories types with few ocurrence. Current dataframe shape: (1460, 74)\n",
      "[INFO]: Few ocurrences removed. Current dataframe shape: (1443, 74)\n",
      "[INFO]: Dropping columns which contains just one type of category. Current dataframe shape: (1443, 74)\n",
      "[INFO]: Columns with just one type of categroy dropped. Current dataframe shape: (1443, 73)\n",
      "[INFO]: Preprocessing predict dataframe...\n",
      "[INFO]: Dropping columns with full of NA or Identifiers. Current dataframe shape: (1459, 80)\n",
      "[INFO]: Dropped columns with full of NA or Identifiers. Current dataframe shape: (1459, 73)\n"
     ]
    },
    {
     "name": "stderr",
     "output_type": "stream",
     "text": [
      "/root/miniconda3/envs/pricehousing/lib/python3.9/site-packages/pytorch_lightning/loggers/wandb.py:391: There is a wandb run already in progress and newly created instances of `WandbLogger` will reuse this run. If this is not desired, call `wandb.finish()` before instantiating `WandbLogger`.\n",
      "LOCAL_RANK: 0 - CUDA_VISIBLE_DEVICES: [0]\n",
      "\n",
      "  | Name | Type       | Params\n",
      "------------------------------------\n",
      "0 | net  | Sequential | 215 K \n",
      "------------------------------------\n",
      "215 K     Trainable params\n",
      "0         Non-trainable params\n",
      "215 K     Total params\n",
      "0.864     Total estimated model params size (MB)\n"
     ]
    },
    {
     "name": "stdout",
     "output_type": "stream",
     "text": [
      "[INFO]: Setting up fit dataset/s\n",
      "[INFO]: Train dataset size: 981\n",
      "[INFO]: Validation dataset size: 173\n",
      "Sanity Checking: |          | 0/? [00:00<?, ?it/s][INFO]: Validation dataloader size: 1\n",
      "                                                                            "
     ]
    },
    {
     "name": "stderr",
     "output_type": "stream",
     "text": [
      "/root/miniconda3/envs/pricehousing/lib/python3.9/site-packages/lightning/pytorch/trainer/connectors/data_connector.py:492: Your `val_dataloader`'s sampler has shuffling enabled, it is strongly recommended that you turn shuffling off for val/test dataloaders.\n",
      "/root/miniconda3/envs/pricehousing/lib/python3.9/site-packages/lightning/pytorch/trainer/connectors/data_connector.py:441: The 'val_dataloader' does not have many workers which may be a bottleneck. Consider increasing the value of the `num_workers` argument` to `num_workers=11` in the `DataLoader` to improve performance.\n",
      "/root/miniconda3/envs/pricehousing/lib/python3.9/site-packages/lightning/pytorch/trainer/connectors/data_connector.py:441: The 'train_dataloader' does not have many workers which may be a bottleneck. Consider increasing the value of the `num_workers` argument` to `num_workers=11` in the `DataLoader` to improve performance.\n"
     ]
    },
    {
     "name": "stdout",
     "output_type": "stream",
     "text": [
      "[INFO]: Train dataloader size: 4\n",
      "Training: |          | 0/? [00:00<?, ?it/s][INFO]: Logger save dir: .\n",
      "[INFO]: Logger name: lightning_logs\n",
      "[INFO]: Logger version: 932vsjo5\n",
      "Epoch 0: 100%|██████████| 4/4 [00:00<00:00, 34.38it/s, v_num=sjo5]"
     ]
    },
    {
     "name": "stderr",
     "output_type": "stream",
     "text": [
      "Metric val_loss improved. New best score: 22144020480.000\n"
     ]
    },
    {
     "name": "stdout",
     "output_type": "stream",
     "text": [
      "Epoch 4: 100%|██████████| 4/4 [00:00<00:00, 37.47it/s, v_num=sjo5]"
     ]
    },
    {
     "name": "stderr",
     "output_type": "stream",
     "text": [
      "Metric val_loss improved by 14720373760.000 >= min_delta = 0.0. New best score: 7423646720.000\n"
     ]
    },
    {
     "name": "stdout",
     "output_type": "stream",
     "text": [
      "Epoch 5: 100%|██████████| 4/4 [00:00<00:00, 33.63it/s, v_num=sjo5]"
     ]
    },
    {
     "name": "stderr",
     "output_type": "stream",
     "text": [
      "Metric val_loss improved by 1944167424.000 >= min_delta = 0.0. New best score: 5479479296.000\n"
     ]
    },
    {
     "name": "stdout",
     "output_type": "stream",
     "text": [
      "Epoch 7: 100%|██████████| 4/4 [00:00<00:00, 35.90it/s, v_num=sjo5]"
     ]
    },
    {
     "name": "stderr",
     "output_type": "stream",
     "text": [
      "Metric val_loss improved by 1928199424.000 >= min_delta = 0.0. New best score: 3551279872.000\n"
     ]
    },
    {
     "name": "stdout",
     "output_type": "stream",
     "text": [
      "Epoch 8: 100%|██████████| 4/4 [00:00<00:00, 35.73it/s, v_num=sjo5]"
     ]
    },
    {
     "name": "stderr",
     "output_type": "stream",
     "text": [
      "Metric val_loss improved by 1277156352.000 >= min_delta = 0.0. New best score: 2274123520.000\n"
     ]
    },
    {
     "name": "stdout",
     "output_type": "stream",
     "text": [
      "Epoch 10: 100%|██████████| 4/4 [00:00<00:00, 35.73it/s, v_num=sjo5]"
     ]
    },
    {
     "name": "stderr",
     "output_type": "stream",
     "text": [
      "Metric val_loss improved by 400285568.000 >= min_delta = 0.0. New best score: 1873837952.000\n"
     ]
    },
    {
     "name": "stdout",
     "output_type": "stream",
     "text": [
      "Epoch 11: 100%|██████████| 4/4 [00:00<00:00, 37.32it/s, v_num=sjo5]"
     ]
    },
    {
     "name": "stderr",
     "output_type": "stream",
     "text": [
      "Metric val_loss improved by 365625216.000 >= min_delta = 0.0. New best score: 1508212736.000\n"
     ]
    },
    {
     "name": "stdout",
     "output_type": "stream",
     "text": [
      "Epoch 13: 100%|██████████| 4/4 [00:00<00:00, 35.18it/s, v_num=sjo5]"
     ]
    },
    {
     "name": "stderr",
     "output_type": "stream",
     "text": [
      "Metric val_loss improved by 124437632.000 >= min_delta = 0.0. New best score: 1383775104.000\n"
     ]
    },
    {
     "name": "stdout",
     "output_type": "stream",
     "text": [
      "Epoch 14: 100%|██████████| 4/4 [00:00<00:00, 37.35it/s, v_num=sjo5]"
     ]
    },
    {
     "name": "stderr",
     "output_type": "stream",
     "text": [
      "Metric val_loss improved by 118140672.000 >= min_delta = 0.0. New best score: 1265634432.000\n"
     ]
    },
    {
     "name": "stdout",
     "output_type": "stream",
     "text": [
      "Epoch 15: 100%|██████████| 4/4 [00:00<00:00, 34.92it/s, v_num=sjo5]"
     ]
    },
    {
     "name": "stderr",
     "output_type": "stream",
     "text": [
      "Metric val_loss improved by 178308736.000 >= min_delta = 0.0. New best score: 1087325696.000\n"
     ]
    },
    {
     "name": "stdout",
     "output_type": "stream",
     "text": [
      "Epoch 16: 100%|██████████| 4/4 [00:00<00:00, 29.33it/s, v_num=sjo5]"
     ]
    },
    {
     "name": "stderr",
     "output_type": "stream",
     "text": [
      "Metric val_loss improved by 65593856.000 >= min_delta = 0.0. New best score: 1021731840.000\n"
     ]
    },
    {
     "name": "stdout",
     "output_type": "stream",
     "text": [
      "Epoch 17: 100%|██████████| 4/4 [00:00<00:00, 35.98it/s, v_num=sjo5]"
     ]
    },
    {
     "name": "stderr",
     "output_type": "stream",
     "text": [
      "Metric val_loss improved by 41280512.000 >= min_delta = 0.0. New best score: 980451328.000\n"
     ]
    },
    {
     "name": "stdout",
     "output_type": "stream",
     "text": [
      "Epoch 18: 100%|██████████| 4/4 [00:00<00:00, 35.94it/s, v_num=sjo5]"
     ]
    },
    {
     "name": "stderr",
     "output_type": "stream",
     "text": [
      "Metric val_loss improved by 39391936.000 >= min_delta = 0.0. New best score: 941059392.000\n"
     ]
    },
    {
     "name": "stdout",
     "output_type": "stream",
     "text": [
      "Epoch 19: 100%|██████████| 4/4 [00:00<00:00, 37.52it/s, v_num=sjo5]"
     ]
    },
    {
     "name": "stderr",
     "output_type": "stream",
     "text": [
      "Metric val_loss improved by 23331520.000 >= min_delta = 0.0. New best score: 917727872.000\n"
     ]
    },
    {
     "name": "stdout",
     "output_type": "stream",
     "text": [
      "Epoch 20: 100%|██████████| 4/4 [00:00<00:00, 36.90it/s, v_num=sjo5]"
     ]
    },
    {
     "name": "stderr",
     "output_type": "stream",
     "text": [
      "Metric val_loss improved by 22766848.000 >= min_delta = 0.0. New best score: 894961024.000\n"
     ]
    },
    {
     "name": "stdout",
     "output_type": "stream",
     "text": [
      "Epoch 21: 100%|██████████| 4/4 [00:00<00:00, 37.03it/s, v_num=sjo5]"
     ]
    },
    {
     "name": "stderr",
     "output_type": "stream",
     "text": [
      "Metric val_loss improved by 24014016.000 >= min_delta = 0.0. New best score: 870947008.000\n"
     ]
    },
    {
     "name": "stdout",
     "output_type": "stream",
     "text": [
      "Epoch 22: 100%|██████████| 4/4 [00:00<00:00, 31.00it/s, v_num=sjo5]"
     ]
    },
    {
     "name": "stderr",
     "output_type": "stream",
     "text": [
      "Metric val_loss improved by 12388864.000 >= min_delta = 0.0. New best score: 858558144.000\n"
     ]
    },
    {
     "name": "stdout",
     "output_type": "stream",
     "text": [
      "Epoch 23: 100%|██████████| 4/4 [00:00<00:00, 34.52it/s, v_num=sjo5]"
     ]
    },
    {
     "name": "stderr",
     "output_type": "stream",
     "text": [
      "Metric val_loss improved by 23712448.000 >= min_delta = 0.0. New best score: 834845696.000\n"
     ]
    },
    {
     "name": "stdout",
     "output_type": "stream",
     "text": [
      "Epoch 24: 100%|██████████| 4/4 [00:00<00:00, 34.69it/s, v_num=sjo5]"
     ]
    },
    {
     "name": "stderr",
     "output_type": "stream",
     "text": [
      "Metric val_loss improved by 18216960.000 >= min_delta = 0.0. New best score: 816628736.000\n"
     ]
    },
    {
     "name": "stdout",
     "output_type": "stream",
     "text": [
      "Epoch 25: 100%|██████████| 4/4 [00:00<00:00, 35.75it/s, v_num=sjo5]"
     ]
    },
    {
     "name": "stderr",
     "output_type": "stream",
     "text": [
      "Metric val_loss improved by 7071872.000 >= min_delta = 0.0. New best score: 809556864.000\n"
     ]
    },
    {
     "name": "stdout",
     "output_type": "stream",
     "text": [
      "Epoch 26: 100%|██████████| 4/4 [00:00<00:00, 35.48it/s, v_num=sjo5]"
     ]
    },
    {
     "name": "stderr",
     "output_type": "stream",
     "text": [
      "Metric val_loss improved by 8034624.000 >= min_delta = 0.0. New best score: 801522240.000\n"
     ]
    },
    {
     "name": "stdout",
     "output_type": "stream",
     "text": [
      "Epoch 27: 100%|██████████| 4/4 [00:00<00:00, 28.96it/s, v_num=sjo5]"
     ]
    },
    {
     "name": "stderr",
     "output_type": "stream",
     "text": [
      "Metric val_loss improved by 20965568.000 >= min_delta = 0.0. New best score: 780556672.000\n"
     ]
    },
    {
     "name": "stdout",
     "output_type": "stream",
     "text": [
      "Epoch 29: 100%|██████████| 4/4 [00:00<00:00, 34.47it/s, v_num=sjo5]"
     ]
    },
    {
     "name": "stderr",
     "output_type": "stream",
     "text": [
      "Metric val_loss improved by 15627776.000 >= min_delta = 0.0. New best score: 764928896.000\n"
     ]
    },
    {
     "name": "stdout",
     "output_type": "stream",
     "text": [
      "Epoch 30: 100%|██████████| 4/4 [00:00<00:00, 35.27it/s, v_num=sjo5]"
     ]
    },
    {
     "name": "stderr",
     "output_type": "stream",
     "text": [
      "Metric val_loss improved by 5667008.000 >= min_delta = 0.0. New best score: 759261888.000\n"
     ]
    },
    {
     "name": "stdout",
     "output_type": "stream",
     "text": [
      "Epoch 31: 100%|██████████| 4/4 [00:00<00:00, 35.57it/s, v_num=sjo5]"
     ]
    },
    {
     "name": "stderr",
     "output_type": "stream",
     "text": [
      "Metric val_loss improved by 5626816.000 >= min_delta = 0.0. New best score: 753635072.000\n"
     ]
    },
    {
     "name": "stdout",
     "output_type": "stream",
     "text": [
      "Epoch 32: 100%|██████████| 4/4 [00:00<00:00, 26.60it/s, v_num=sjo5]"
     ]
    },
    {
     "name": "stderr",
     "output_type": "stream",
     "text": [
      "Metric val_loss improved by 3120960.000 >= min_delta = 0.0. New best score: 750514112.000\n"
     ]
    },
    {
     "name": "stdout",
     "output_type": "stream",
     "text": [
      "Epoch 34: 100%|██████████| 4/4 [00:00<00:00, 34.67it/s, v_num=sjo5]"
     ]
    },
    {
     "name": "stderr",
     "output_type": "stream",
     "text": [
      "Metric val_loss improved by 1460032.000 >= min_delta = 0.0. New best score: 749054080.000\n"
     ]
    },
    {
     "name": "stdout",
     "output_type": "stream",
     "text": [
      "Epoch 84: 100%|██████████| 4/4 [00:00<00:00, 33.48it/s, v_num=sjo5]"
     ]
    },
    {
     "name": "stderr",
     "output_type": "stream",
     "text": [
      "Monitored metric val_loss did not improve in the last 50 records. Best score: 749054080.000. Signaling Trainer to stop.\n"
     ]
    },
    {
     "name": "stdout",
     "output_type": "stream",
     "text": [
      "Epoch 84: 100%|██████████| 4/4 [00:00<00:00, 32.17it/s, v_num=sjo5]\n",
      "[INFO]: Preprocessing training dataframe...\n",
      "[INFO]: Dropping columns with full of NA or Identifiers. Current dataframe shape: (1460, 81)\n",
      "[INFO]: Dropped columns with full of NA or Identifiers. Current dataframe shape: (1460, 74)\n",
      "[INFO]: Dropping categories types with few ocurrence. Current dataframe shape: (1460, 74)\n",
      "[INFO]: Few ocurrences removed. Current dataframe shape: (1443, 74)\n",
      "[INFO]: Dropping columns which contains just one type of category. Current dataframe shape: (1443, 74)\n",
      "[INFO]: Columns with just one type of categroy dropped. Current dataframe shape: (1443, 73)\n",
      "[INFO]: Preprocessing predict dataframe...\n",
      "[INFO]: Dropping columns with full of NA or Identifiers. Current dataframe shape: (1459, 80)\n",
      "[INFO]: Dropped columns with full of NA or Identifiers. Current dataframe shape: (1459, 73)\n"
     ]
    },
    {
     "name": "stderr",
     "output_type": "stream",
     "text": [
      "LOCAL_RANK: 0 - CUDA_VISIBLE_DEVICES: [0]\n",
      "/root/miniconda3/envs/pricehousing/lib/python3.9/site-packages/lightning/pytorch/trainer/connectors/data_connector.py:441: The 'test_dataloader' does not have many workers which may be a bottleneck. Consider increasing the value of the `num_workers` argument` to `num_workers=11` in the `DataLoader` to improve performance.\n"
     ]
    },
    {
     "name": "stdout",
     "output_type": "stream",
     "text": [
      "[INFO]: Setting up test dataset/s\n",
      "[INFO]: Test dataloader size: 2\n",
      "Testing DataLoader 0: 100%|██████████| 2/2 [00:00<00:00, 126.28it/s]\n",
      "────────────────────────────────────────────────────────────────────────────────────────────────────────────────────────\n",
      "       Test metric             DataLoader 0\n",
      "────────────────────────────────────────────────────────────────────────────────────────────────────────────────────────\n",
      "        test_loss               655516672.0\n",
      "────────────────────────────────────────────────────────────────────────────────────────────────────────────────────────\n"
     ]
    },
    {
     "data": {
      "text/html": [
       "<style>\n",
       "    table.wandb td:nth-child(1) { padding: 0 10px; text-align: left ; width: auto;} td:nth-child(2) {text-align: left ; width: 100%}\n",
       "    .wandb-row { display: flex; flex-direction: row; flex-wrap: wrap; justify-content: flex-start; width: 100% }\n",
       "    .wandb-col { display: flex; flex-direction: column; flex-basis: 100%; flex: 1; padding: 10px; }\n",
       "    </style>\n",
       "<div class=\"wandb-row\"><div class=\"wandb-col\"><h3>Run history:</h3><br/><table class=\"wandb\"><tr><td>epoch</td><td>▁▁▁▂▂▂▂▂▂▃▃▃▃▃▃▄▄▄▄▄▅▅▅▅▅▅▆▆▆▆▆▇▇▇▇▇▇███</td></tr><tr><td>test_loss</td><td>▁</td></tr><tr><td>train_loss</td><td>█▁▁▁▁▁▁▁▁▁▁▁▁▁▁▁▁▁▁▁▁▁▁▁▁▁▁▁▁▁▁▁▁▁▁▁▁▁▁▁</td></tr><tr><td>trainer/global_step</td><td>▁▁▁▂▂▂▂▂▂▃▃▃▃▃▃▄▄▄▄▄▅▅▅▅▅▅▆▆▆▆▆▇▇▇▇▇▇███</td></tr><tr><td>val_loss</td><td>▅█▂▂▁▁▁▁▁▁▁▁▁▁▁▁▁▁▁▁▁▁▁▁▁▁▁▁▁▁▁▁▁▁▁▁▁▁▁▁</td></tr></table><br/></div><div class=\"wandb-col\"><h3>Run summary:</h3><br/><table class=\"wandb\"><tr><td>epoch</td><td>85</td></tr><tr><td>test_loss</td><td>655516672.0</td></tr><tr><td>train_loss</td><td>302961888.0</td></tr><tr><td>trainer/global_step</td><td>340</td></tr><tr><td>val_loss</td><td>1038651840.0</td></tr></table><br/></div></div>"
      ],
      "text/plain": [
       "<IPython.core.display.HTML object>"
      ]
     },
     "metadata": {},
     "output_type": "display_data"
    },
    {
     "data": {
      "text/html": [
       " View run <strong style=\"color:#cdcd00\">Dawn_T5QCSZQX</strong> at: <a href='https://wandb.ai/deepsat/House%20Pricing/runs/932vsjo5' target=\"_blank\">https://wandb.ai/deepsat/House%20Pricing/runs/932vsjo5</a><br/> View project at: <a href='https://wandb.ai/deepsat/House%20Pricing' target=\"_blank\">https://wandb.ai/deepsat/House%20Pricing</a><br/>Synced 6 W&B file(s), 0 media file(s), 27 artifact file(s) and 0 other file(s)"
      ],
      "text/plain": [
       "<IPython.core.display.HTML object>"
      ]
     },
     "metadata": {},
     "output_type": "display_data"
    },
    {
     "data": {
      "text/html": [
       "Find logs at: <code>./wandb/run-20240418_103725-932vsjo5/logs</code>"
      ],
      "text/plain": [
       "<IPython.core.display.HTML object>"
      ]
     },
     "metadata": {},
     "output_type": "display_data"
    },
    {
     "name": "stdout",
     "output_type": "stream",
     "text": [
      "[INFO]: Preprocessing training dataframe...\n",
      "[INFO]: Dropping columns with full of NA or Identifiers. Current dataframe shape: (1460, 81)\n",
      "[INFO]: Dropped columns with full of NA or Identifiers. Current dataframe shape: (1460, 74)\n",
      "[INFO]: Dropping categories types with few ocurrence. Current dataframe shape: (1460, 74)\n",
      "[INFO]: Few ocurrences removed. Current dataframe shape: (1443, 74)\n",
      "[INFO]: Dropping columns which contains just one type of category. Current dataframe shape: (1443, 74)\n",
      "[INFO]: Columns with just one type of categroy dropped. Current dataframe shape: (1443, 73)\n",
      "[INFO]: Preprocessing predict dataframe...\n",
      "[INFO]: Dropping columns with full of NA or Identifiers. Current dataframe shape: (1459, 80)\n",
      "[INFO]: Dropped columns with full of NA or Identifiers. Current dataframe shape: (1459, 73)\n"
     ]
    },
    {
     "data": {
      "text/html": [
       "Tracking run with wandb version 0.16.6"
      ],
      "text/plain": [
       "<IPython.core.display.HTML object>"
      ]
     },
     "metadata": {},
     "output_type": "display_data"
    },
    {
     "data": {
      "text/html": [
       "Run data is saved locally in <code>/root/repos/lightning/HousePricing/wandb/run-20240418_103855-vskvlukg</code>"
      ],
      "text/plain": [
       "<IPython.core.display.HTML object>"
      ]
     },
     "metadata": {},
     "output_type": "display_data"
    },
    {
     "data": {
      "text/html": [
       "Syncing run <strong><a href='https://wandb.ai/deepsat/House%20Pricing/runs/vskvlukg' target=\"_blank\">Andrew_8Q4O5LJ0</a></strong> to <a href='https://wandb.ai/deepsat/House%20Pricing' target=\"_blank\">Weights & Biases</a> (<a href='https://wandb.me/run' target=\"_blank\">docs</a>)<br/>"
      ],
      "text/plain": [
       "<IPython.core.display.HTML object>"
      ]
     },
     "metadata": {},
     "output_type": "display_data"
    },
    {
     "data": {
      "text/html": [
       " View project at <a href='https://wandb.ai/deepsat/House%20Pricing' target=\"_blank\">https://wandb.ai/deepsat/House%20Pricing</a>"
      ],
      "text/plain": [
       "<IPython.core.display.HTML object>"
      ]
     },
     "metadata": {},
     "output_type": "display_data"
    },
    {
     "data": {
      "text/html": [
       " View run at <a href='https://wandb.ai/deepsat/House%20Pricing/runs/vskvlukg' target=\"_blank\">https://wandb.ai/deepsat/House%20Pricing/runs/vskvlukg</a>"
      ],
      "text/plain": [
       "<IPython.core.display.HTML object>"
      ]
     },
     "metadata": {},
     "output_type": "display_data"
    },
    {
     "name": "stderr",
     "output_type": "stream",
     "text": [
      "GPU available: True (cuda), used: True\n",
      "TPU available: False, using: 0 TPU cores\n",
      "IPU available: False, using: 0 IPUs\n",
      "HPU available: False, using: 0 HPUs\n"
     ]
    },
    {
     "name": "stdout",
     "output_type": "stream",
     "text": [
      "[INFO]: Input size: 244\n",
      "[INFO]: Preprocessing training dataframe...\n",
      "[INFO]: Dropping columns with full of NA or Identifiers. Current dataframe shape: (1460, 81)\n",
      "[INFO]: Dropped columns with full of NA or Identifiers. Current dataframe shape: (1460, 74)\n",
      "[INFO]: Dropping categories types with few ocurrence. Current dataframe shape: (1460, 74)\n",
      "[INFO]: Few ocurrences removed. Current dataframe shape: (1443, 74)\n",
      "[INFO]: Dropping columns which contains just one type of category. Current dataframe shape: (1443, 74)\n",
      "[INFO]: Columns with just one type of categroy dropped. Current dataframe shape: (1443, 73)\n",
      "[INFO]: Preprocessing predict dataframe...\n",
      "[INFO]: Dropping columns with full of NA or Identifiers. Current dataframe shape: (1459, 80)\n",
      "[INFO]: Dropped columns with full of NA or Identifiers. Current dataframe shape: (1459, 73)\n"
     ]
    },
    {
     "name": "stderr",
     "output_type": "stream",
     "text": [
      "/root/miniconda3/envs/pricehousing/lib/python3.9/site-packages/pytorch_lightning/loggers/wandb.py:391: There is a wandb run already in progress and newly created instances of `WandbLogger` will reuse this run. If this is not desired, call `wandb.finish()` before instantiating `WandbLogger`.\n",
      "LOCAL_RANK: 0 - CUDA_VISIBLE_DEVICES: [0]\n",
      "\n",
      "  | Name | Type       | Params\n",
      "------------------------------------\n",
      "0 | net  | Sequential | 215 K \n",
      "------------------------------------\n",
      "215 K     Trainable params\n",
      "0         Non-trainable params\n",
      "215 K     Total params\n",
      "0.864     Total estimated model params size (MB)\n"
     ]
    },
    {
     "name": "stdout",
     "output_type": "stream",
     "text": [
      "[INFO]: Setting up fit dataset/s\n",
      "[INFO]: Train dataset size: 981\n",
      "[INFO]: Validation dataset size: 173\n",
      "Sanity Checking: |          | 0/? [00:00<?, ?it/s][INFO]: Validation dataloader size: 1\n",
      "                                                                            "
     ]
    },
    {
     "name": "stderr",
     "output_type": "stream",
     "text": [
      "/root/miniconda3/envs/pricehousing/lib/python3.9/site-packages/lightning/pytorch/trainer/connectors/data_connector.py:492: Your `val_dataloader`'s sampler has shuffling enabled, it is strongly recommended that you turn shuffling off for val/test dataloaders.\n",
      "/root/miniconda3/envs/pricehousing/lib/python3.9/site-packages/lightning/pytorch/trainer/connectors/data_connector.py:441: The 'val_dataloader' does not have many workers which may be a bottleneck. Consider increasing the value of the `num_workers` argument` to `num_workers=11` in the `DataLoader` to improve performance.\n",
      "/root/miniconda3/envs/pricehousing/lib/python3.9/site-packages/lightning/pytorch/trainer/connectors/data_connector.py:441: The 'train_dataloader' does not have many workers which may be a bottleneck. Consider increasing the value of the `num_workers` argument` to `num_workers=11` in the `DataLoader` to improve performance.\n"
     ]
    },
    {
     "name": "stdout",
     "output_type": "stream",
     "text": [
      "[INFO]: Train dataloader size: 4\n",
      "Training: |          | 0/? [00:00<?, ?it/s][INFO]: Logger save dir: .\n",
      "[INFO]: Logger name: lightning_logs\n",
      "[INFO]: Logger version: vskvlukg\n",
      "Epoch 0: 100%|██████████| 4/4 [00:00<00:00, 34.49it/s, v_num=lukg]"
     ]
    },
    {
     "name": "stderr",
     "output_type": "stream",
     "text": [
      "Metric val_loss improved. New best score: 17857263616.000\n"
     ]
    },
    {
     "name": "stdout",
     "output_type": "stream",
     "text": [
      "Epoch 6: 100%|██████████| 4/4 [00:00<00:00, 31.33it/s, v_num=lukg]"
     ]
    },
    {
     "name": "stderr",
     "output_type": "stream",
     "text": [
      "Metric val_loss improved by 2455873536.000 >= min_delta = 0.0. New best score: 15401390080.000\n"
     ]
    },
    {
     "name": "stdout",
     "output_type": "stream",
     "text": [
      "Epoch 7: 100%|██████████| 4/4 [00:00<00:00, 33.99it/s, v_num=lukg]"
     ]
    },
    {
     "name": "stderr",
     "output_type": "stream",
     "text": [
      "Metric val_loss improved by 1145202688.000 >= min_delta = 0.0. New best score: 14256187392.000\n"
     ]
    },
    {
     "name": "stdout",
     "output_type": "stream",
     "text": [
      "Epoch 8: 100%|██████████| 4/4 [00:00<00:00, 32.11it/s, v_num=lukg]"
     ]
    },
    {
     "name": "stderr",
     "output_type": "stream",
     "text": [
      "Metric val_loss improved by 7611500544.000 >= min_delta = 0.0. New best score: 6644686848.000\n"
     ]
    },
    {
     "name": "stdout",
     "output_type": "stream",
     "text": [
      "Epoch 9: 100%|██████████| 4/4 [00:00<00:00, 35.82it/s, v_num=lukg]"
     ]
    },
    {
     "name": "stderr",
     "output_type": "stream",
     "text": [
      "Metric val_loss improved by 238750208.000 >= min_delta = 0.0. New best score: 6405936640.000\n"
     ]
    },
    {
     "name": "stdout",
     "output_type": "stream",
     "text": [
      "Epoch 10: 100%|██████████| 4/4 [00:00<00:00, 35.69it/s, v_num=lukg]"
     ]
    },
    {
     "name": "stderr",
     "output_type": "stream",
     "text": [
      "Metric val_loss improved by 2574583552.000 >= min_delta = 0.0. New best score: 3831353088.000\n"
     ]
    },
    {
     "name": "stdout",
     "output_type": "stream",
     "text": [
      "Epoch 11: 100%|██████████| 4/4 [00:00<00:00, 33.59it/s, v_num=lukg]"
     ]
    },
    {
     "name": "stderr",
     "output_type": "stream",
     "text": [
      "Metric val_loss improved by 1557252864.000 >= min_delta = 0.0. New best score: 2274100224.000\n"
     ]
    },
    {
     "name": "stdout",
     "output_type": "stream",
     "text": [
      "Epoch 13: 100%|██████████| 4/4 [00:00<00:00, 33.21it/s, v_num=lukg]"
     ]
    },
    {
     "name": "stderr",
     "output_type": "stream",
     "text": [
      "Metric val_loss improved by 637822208.000 >= min_delta = 0.0. New best score: 1636278016.000\n"
     ]
    },
    {
     "name": "stdout",
     "output_type": "stream",
     "text": [
      "Epoch 16: 100%|██████████| 4/4 [00:00<00:00, 32.31it/s, v_num=lukg]"
     ]
    },
    {
     "name": "stderr",
     "output_type": "stream",
     "text": [
      "Metric val_loss improved by 254961152.000 >= min_delta = 0.0. New best score: 1381316864.000\n"
     ]
    },
    {
     "name": "stdout",
     "output_type": "stream",
     "text": [
      "Epoch 17: 100%|██████████| 4/4 [00:00<00:00, 27.14it/s, v_num=lukg]"
     ]
    },
    {
     "name": "stderr",
     "output_type": "stream",
     "text": [
      "Metric val_loss improved by 88283136.000 >= min_delta = 0.0. New best score: 1293033728.000\n"
     ]
    },
    {
     "name": "stdout",
     "output_type": "stream",
     "text": [
      "Epoch 18: 100%|██████████| 4/4 [00:00<00:00, 26.21it/s, v_num=lukg]"
     ]
    },
    {
     "name": "stderr",
     "output_type": "stream",
     "text": [
      "Metric val_loss improved by 82939776.000 >= min_delta = 0.0. New best score: 1210093952.000\n"
     ]
    },
    {
     "name": "stdout",
     "output_type": "stream",
     "text": [
      "Epoch 19: 100%|██████████| 4/4 [00:00<00:00, 24.37it/s, v_num=lukg]"
     ]
    },
    {
     "name": "stderr",
     "output_type": "stream",
     "text": [
      "Metric val_loss improved by 96502784.000 >= min_delta = 0.0. New best score: 1113591168.000\n"
     ]
    },
    {
     "name": "stdout",
     "output_type": "stream",
     "text": [
      "Epoch 20: 100%|██████████| 4/4 [00:00<00:00, 22.99it/s, v_num=lukg]"
     ]
    },
    {
     "name": "stderr",
     "output_type": "stream",
     "text": [
      "Metric val_loss improved by 62147904.000 >= min_delta = 0.0. New best score: 1051443264.000\n"
     ]
    },
    {
     "name": "stdout",
     "output_type": "stream",
     "text": [
      "Epoch 21: 100%|██████████| 4/4 [00:00<00:00, 30.03it/s, v_num=lukg]"
     ]
    },
    {
     "name": "stderr",
     "output_type": "stream",
     "text": [
      "Metric val_loss improved by 17088000.000 >= min_delta = 0.0. New best score: 1034355264.000\n"
     ]
    },
    {
     "name": "stdout",
     "output_type": "stream",
     "text": [
      "Epoch 22: 100%|██████████| 4/4 [00:00<00:00, 33.93it/s, v_num=lukg]"
     ]
    },
    {
     "name": "stderr",
     "output_type": "stream",
     "text": [
      "Metric val_loss improved by 54884352.000 >= min_delta = 0.0. New best score: 979470912.000\n"
     ]
    },
    {
     "name": "stdout",
     "output_type": "stream",
     "text": [
      "Epoch 23: 100%|██████████| 4/4 [00:00<00:00, 35.04it/s, v_num=lukg]"
     ]
    },
    {
     "name": "stderr",
     "output_type": "stream",
     "text": [
      "Metric val_loss improved by 19238016.000 >= min_delta = 0.0. New best score: 960232896.000\n"
     ]
    },
    {
     "name": "stdout",
     "output_type": "stream",
     "text": [
      "Epoch 25: 100%|██████████| 4/4 [00:00<00:00, 33.57it/s, v_num=lukg]"
     ]
    },
    {
     "name": "stderr",
     "output_type": "stream",
     "text": [
      "Metric val_loss improved by 45430720.000 >= min_delta = 0.0. New best score: 914802176.000\n"
     ]
    },
    {
     "name": "stdout",
     "output_type": "stream",
     "text": [
      "Epoch 26: 100%|██████████| 4/4 [00:00<00:00, 35.83it/s, v_num=lukg]"
     ]
    },
    {
     "name": "stderr",
     "output_type": "stream",
     "text": [
      "Metric val_loss improved by 17378816.000 >= min_delta = 0.0. New best score: 897423360.000\n"
     ]
    },
    {
     "name": "stdout",
     "output_type": "stream",
     "text": [
      "Epoch 27: 100%|██████████| 4/4 [00:00<00:00, 34.90it/s, v_num=lukg]"
     ]
    },
    {
     "name": "stderr",
     "output_type": "stream",
     "text": [
      "Metric val_loss improved by 366784.000 >= min_delta = 0.0. New best score: 897056576.000\n"
     ]
    },
    {
     "name": "stdout",
     "output_type": "stream",
     "text": [
      "Epoch 28: 100%|██████████| 4/4 [00:00<00:00, 17.47it/s, v_num=lukg]"
     ]
    },
    {
     "name": "stderr",
     "output_type": "stream",
     "text": [
      "Metric val_loss improved by 33032384.000 >= min_delta = 0.0. New best score: 864024192.000\n"
     ]
    },
    {
     "name": "stdout",
     "output_type": "stream",
     "text": [
      "Epoch 29: 100%|██████████| 4/4 [00:00<00:00, 31.56it/s, v_num=lukg]"
     ]
    },
    {
     "name": "stderr",
     "output_type": "stream",
     "text": [
      "Metric val_loss improved by 13749824.000 >= min_delta = 0.0. New best score: 850274368.000\n"
     ]
    },
    {
     "name": "stdout",
     "output_type": "stream",
     "text": [
      "Epoch 30: 100%|██████████| 4/4 [00:00<00:00, 30.82it/s, v_num=lukg]"
     ]
    },
    {
     "name": "stderr",
     "output_type": "stream",
     "text": [
      "Metric val_loss improved by 3760896.000 >= min_delta = 0.0. New best score: 846513472.000\n"
     ]
    },
    {
     "name": "stdout",
     "output_type": "stream",
     "text": [
      "Epoch 31: 100%|██████████| 4/4 [00:00<00:00, 28.62it/s, v_num=lukg]"
     ]
    },
    {
     "name": "stderr",
     "output_type": "stream",
     "text": [
      "Metric val_loss improved by 16088896.000 >= min_delta = 0.0. New best score: 830424576.000\n"
     ]
    },
    {
     "name": "stdout",
     "output_type": "stream",
     "text": [
      "Epoch 32: 100%|██████████| 4/4 [00:00<00:00, 31.41it/s, v_num=lukg]"
     ]
    },
    {
     "name": "stderr",
     "output_type": "stream",
     "text": [
      "Metric val_loss improved by 9404928.000 >= min_delta = 0.0. New best score: 821019648.000\n"
     ]
    },
    {
     "name": "stdout",
     "output_type": "stream",
     "text": [
      "Epoch 34: 100%|██████████| 4/4 [00:00<00:00, 31.60it/s, v_num=lukg]"
     ]
    },
    {
     "name": "stderr",
     "output_type": "stream",
     "text": [
      "Metric val_loss improved by 11353408.000 >= min_delta = 0.0. New best score: 809666240.000\n"
     ]
    },
    {
     "name": "stdout",
     "output_type": "stream",
     "text": [
      "Epoch 36: 100%|██████████| 4/4 [00:00<00:00, 33.03it/s, v_num=lukg]"
     ]
    },
    {
     "name": "stderr",
     "output_type": "stream",
     "text": [
      "Metric val_loss improved by 7086656.000 >= min_delta = 0.0. New best score: 802579584.000\n"
     ]
    },
    {
     "name": "stdout",
     "output_type": "stream",
     "text": [
      "Epoch 37: 100%|██████████| 4/4 [00:00<00:00, 35.17it/s, v_num=lukg]"
     ]
    },
    {
     "name": "stderr",
     "output_type": "stream",
     "text": [
      "Metric val_loss improved by 7087424.000 >= min_delta = 0.0. New best score: 795492160.000\n"
     ]
    },
    {
     "name": "stdout",
     "output_type": "stream",
     "text": [
      "Epoch 39: 100%|██████████| 4/4 [00:00<00:00, 31.02it/s, v_num=lukg]"
     ]
    },
    {
     "name": "stderr",
     "output_type": "stream",
     "text": [
      "Metric val_loss improved by 6299776.000 >= min_delta = 0.0. New best score: 789192384.000\n"
     ]
    },
    {
     "name": "stdout",
     "output_type": "stream",
     "text": [
      "Epoch 41: 100%|██████████| 4/4 [00:00<00:00, 37.16it/s, v_num=lukg]"
     ]
    },
    {
     "name": "stderr",
     "output_type": "stream",
     "text": [
      "Metric val_loss improved by 4007296.000 >= min_delta = 0.0. New best score: 785185088.000\n"
     ]
    },
    {
     "name": "stdout",
     "output_type": "stream",
     "text": [
      "Epoch 44: 100%|██████████| 4/4 [00:00<00:00, 33.05it/s, v_num=lukg]"
     ]
    },
    {
     "name": "stderr",
     "output_type": "stream",
     "text": [
      "Metric val_loss improved by 6315456.000 >= min_delta = 0.0. New best score: 778869632.000\n"
     ]
    },
    {
     "name": "stdout",
     "output_type": "stream",
     "text": [
      "Epoch 46: 100%|██████████| 4/4 [00:00<00:00, 26.34it/s, v_num=lukg]"
     ]
    },
    {
     "name": "stderr",
     "output_type": "stream",
     "text": [
      "Metric val_loss improved by 5785728.000 >= min_delta = 0.0. New best score: 773083904.000\n"
     ]
    },
    {
     "name": "stdout",
     "output_type": "stream",
     "text": [
      "Epoch 50: 100%|██████████| 4/4 [00:00<00:00, 34.03it/s, v_num=lukg]"
     ]
    },
    {
     "name": "stderr",
     "output_type": "stream",
     "text": [
      "Metric val_loss improved by 5172096.000 >= min_delta = 0.0. New best score: 767911808.000\n"
     ]
    },
    {
     "name": "stdout",
     "output_type": "stream",
     "text": [
      "Epoch 55: 100%|██████████| 4/4 [00:00<00:00, 36.10it/s, v_num=lukg]"
     ]
    },
    {
     "name": "stderr",
     "output_type": "stream",
     "text": [
      "Metric val_loss improved by 1573504.000 >= min_delta = 0.0. New best score: 766338304.000\n"
     ]
    },
    {
     "name": "stdout",
     "output_type": "stream",
     "text": [
      "Epoch 65: 100%|██████████| 4/4 [00:00<00:00, 30.14it/s, v_num=lukg]"
     ]
    },
    {
     "name": "stderr",
     "output_type": "stream",
     "text": [
      "Metric val_loss improved by 356416.000 >= min_delta = 0.0. New best score: 765981888.000\n"
     ]
    },
    {
     "name": "stdout",
     "output_type": "stream",
     "text": [
      "Epoch 115: 100%|██████████| 4/4 [00:00<00:00, 36.51it/s, v_num=lukg]"
     ]
    },
    {
     "name": "stderr",
     "output_type": "stream",
     "text": [
      "Monitored metric val_loss did not improve in the last 50 records. Best score: 765981888.000. Signaling Trainer to stop.\n"
     ]
    },
    {
     "name": "stdout",
     "output_type": "stream",
     "text": [
      "Epoch 115: 100%|██████████| 4/4 [00:00<00:00, 34.94it/s, v_num=lukg]\n",
      "[INFO]: Preprocessing training dataframe...\n",
      "[INFO]: Dropping columns with full of NA or Identifiers. Current dataframe shape: (1460, 81)\n",
      "[INFO]: Dropped columns with full of NA or Identifiers. Current dataframe shape: (1460, 74)\n",
      "[INFO]: Dropping categories types with few ocurrence. Current dataframe shape: (1460, 74)\n",
      "[INFO]: Few ocurrences removed. Current dataframe shape: (1443, 74)\n",
      "[INFO]: Dropping columns which contains just one type of category. Current dataframe shape: (1443, 74)\n",
      "[INFO]: Columns with just one type of categroy dropped. Current dataframe shape: (1443, 73)\n",
      "[INFO]: Preprocessing predict dataframe...\n",
      "[INFO]: Dropping columns with full of NA or Identifiers. Current dataframe shape: (1459, 80)\n",
      "[INFO]: Dropped columns with full of NA or Identifiers. Current dataframe shape: (1459, 73)\n"
     ]
    },
    {
     "name": "stderr",
     "output_type": "stream",
     "text": [
      "LOCAL_RANK: 0 - CUDA_VISIBLE_DEVICES: [0]\n",
      "/root/miniconda3/envs/pricehousing/lib/python3.9/site-packages/lightning/pytorch/trainer/connectors/data_connector.py:441: The 'test_dataloader' does not have many workers which may be a bottleneck. Consider increasing the value of the `num_workers` argument` to `num_workers=11` in the `DataLoader` to improve performance.\n"
     ]
    },
    {
     "name": "stdout",
     "output_type": "stream",
     "text": [
      "[INFO]: Setting up test dataset/s\n",
      "[INFO]: Test dataloader size: 2\n",
      "Testing DataLoader 0: 100%|██████████| 2/2 [00:00<00:00, 115.48it/s]\n",
      "────────────────────────────────────────────────────────────────────────────────────────────────────────────────────────\n",
      "       Test metric             DataLoader 0\n",
      "────────────────────────────────────────────────────────────────────────────────────────────────────────────────────────\n",
      "        test_loss               656359360.0\n",
      "────────────────────────────────────────────────────────────────────────────────────────────────────────────────────────\n"
     ]
    },
    {
     "data": {
      "text/html": [
       "<style>\n",
       "    table.wandb td:nth-child(1) { padding: 0 10px; text-align: left ; width: auto;} td:nth-child(2) {text-align: left ; width: 100%}\n",
       "    .wandb-row { display: flex; flex-direction: row; flex-wrap: wrap; justify-content: flex-start; width: 100% }\n",
       "    .wandb-col { display: flex; flex-direction: column; flex-basis: 100%; flex: 1; padding: 10px; }\n",
       "    </style>\n",
       "<div class=\"wandb-row\"><div class=\"wandb-col\"><h3>Run history:</h3><br/><table class=\"wandb\"><tr><td>epoch</td><td>▁▁▁▁▂▂▂▂▂▃▃▃▃▃▃▄▄▄▄▄▅▅▅▅▅▅▆▆▆▆▆▇▇▇▇▇▇███</td></tr><tr><td>test_loss</td><td>▁</td></tr><tr><td>train_loss</td><td>█▁▁▁▁▁▁▁▁▁▁▁▁▁▁▁▁▁▁▁▁▁▁▁▁▁▁▁▁▁▁▁▁▁▁▁▁▁▁▁</td></tr><tr><td>trainer/global_step</td><td>▁▁▁▁▂▂▂▂▂▃▃▃▃▃▃▄▄▄▄▄▅▅▅▅▅▅▆▆▆▆▆▇▇▇▇▇▇███</td></tr><tr><td>val_loss</td><td>▄█▇▂▁▁▁▁▁▁▁▁▁▁▁▁▁▁▁▁▁▁▁▁▁▁▁▁▁▁▁▁▁▁▁▁▁▁▁▁</td></tr></table><br/></div><div class=\"wandb-col\"><h3>Run summary:</h3><br/><table class=\"wandb\"><tr><td>epoch</td><td>116</td></tr><tr><td>test_loss</td><td>656359360.0</td></tr><tr><td>train_loss</td><td>546201728.0</td></tr><tr><td>trainer/global_step</td><td>464</td></tr><tr><td>val_loss</td><td>813371264.0</td></tr></table><br/></div></div>"
      ],
      "text/plain": [
       "<IPython.core.display.HTML object>"
      ]
     },
     "metadata": {},
     "output_type": "display_data"
    },
    {
     "data": {
      "text/html": [
       " View run <strong style=\"color:#cdcd00\">Andrew_8Q4O5LJ0</strong> at: <a href='https://wandb.ai/deepsat/House%20Pricing/runs/vskvlukg' target=\"_blank\">https://wandb.ai/deepsat/House%20Pricing/runs/vskvlukg</a><br/> View project at: <a href='https://wandb.ai/deepsat/House%20Pricing' target=\"_blank\">https://wandb.ai/deepsat/House%20Pricing</a><br/>Synced 6 W&B file(s), 0 media file(s), 34 artifact file(s) and 0 other file(s)"
      ],
      "text/plain": [
       "<IPython.core.display.HTML object>"
      ]
     },
     "metadata": {},
     "output_type": "display_data"
    },
    {
     "data": {
      "text/html": [
       "Find logs at: <code>./wandb/run-20240418_103855-vskvlukg/logs</code>"
      ],
      "text/plain": [
       "<IPython.core.display.HTML object>"
      ]
     },
     "metadata": {},
     "output_type": "display_data"
    },
    {
     "name": "stdout",
     "output_type": "stream",
     "text": [
      "[INFO]: Preprocessing training dataframe...\n",
      "[INFO]: Dropping columns with full of NA or Identifiers. Current dataframe shape: (1460, 81)\n",
      "[INFO]: Dropped columns with full of NA or Identifiers. Current dataframe shape: (1460, 74)\n",
      "[INFO]: Dropping categories types with few ocurrence. Current dataframe shape: (1460, 74)\n",
      "[INFO]: Few ocurrences removed. Current dataframe shape: (1443, 74)\n",
      "[INFO]: Dropping columns which contains just one type of category. Current dataframe shape: (1443, 74)\n",
      "[INFO]: Columns with just one type of categroy dropped. Current dataframe shape: (1443, 73)\n",
      "[INFO]: Preprocessing predict dataframe...\n",
      "[INFO]: Dropping columns with full of NA or Identifiers. Current dataframe shape: (1459, 80)\n",
      "[INFO]: Dropped columns with full of NA or Identifiers. Current dataframe shape: (1459, 73)\n"
     ]
    },
    {
     "data": {
      "text/html": [
       "Tracking run with wandb version 0.16.6"
      ],
      "text/plain": [
       "<IPython.core.display.HTML object>"
      ]
     },
     "metadata": {},
     "output_type": "display_data"
    },
    {
     "data": {
      "text/html": [
       "Run data is saved locally in <code>/root/repos/lightning/HousePricing/wandb/run-20240418_104043-a5052b3b</code>"
      ],
      "text/plain": [
       "<IPython.core.display.HTML object>"
      ]
     },
     "metadata": {},
     "output_type": "display_data"
    },
    {
     "data": {
      "text/html": [
       "Syncing run <strong><a href='https://wandb.ai/deepsat/House%20Pricing/runs/a5052b3b' target=\"_blank\">Robert_U8MLZTSV</a></strong> to <a href='https://wandb.ai/deepsat/House%20Pricing' target=\"_blank\">Weights & Biases</a> (<a href='https://wandb.me/run' target=\"_blank\">docs</a>)<br/>"
      ],
      "text/plain": [
       "<IPython.core.display.HTML object>"
      ]
     },
     "metadata": {},
     "output_type": "display_data"
    },
    {
     "data": {
      "text/html": [
       " View project at <a href='https://wandb.ai/deepsat/House%20Pricing' target=\"_blank\">https://wandb.ai/deepsat/House%20Pricing</a>"
      ],
      "text/plain": [
       "<IPython.core.display.HTML object>"
      ]
     },
     "metadata": {},
     "output_type": "display_data"
    },
    {
     "data": {
      "text/html": [
       " View run at <a href='https://wandb.ai/deepsat/House%20Pricing/runs/a5052b3b' target=\"_blank\">https://wandb.ai/deepsat/House%20Pricing/runs/a5052b3b</a>"
      ],
      "text/plain": [
       "<IPython.core.display.HTML object>"
      ]
     },
     "metadata": {},
     "output_type": "display_data"
    },
    {
     "name": "stderr",
     "output_type": "stream",
     "text": [
      "GPU available: True (cuda), used: True\n",
      "TPU available: False, using: 0 TPU cores\n",
      "IPU available: False, using: 0 IPUs\n",
      "HPU available: False, using: 0 HPUs\n"
     ]
    },
    {
     "name": "stdout",
     "output_type": "stream",
     "text": [
      "[INFO]: Input size: 244\n",
      "[INFO]: Preprocessing training dataframe...\n",
      "[INFO]: Dropping columns with full of NA or Identifiers. Current dataframe shape: (1460, 81)\n",
      "[INFO]: Dropped columns with full of NA or Identifiers. Current dataframe shape: (1460, 74)\n",
      "[INFO]: Dropping categories types with few ocurrence. Current dataframe shape: (1460, 74)\n",
      "[INFO]: Few ocurrences removed. Current dataframe shape: (1443, 74)\n",
      "[INFO]: Dropping columns which contains just one type of category. Current dataframe shape: (1443, 74)\n",
      "[INFO]: Columns with just one type of categroy dropped. Current dataframe shape: (1443, 73)\n",
      "[INFO]: Preprocessing predict dataframe...\n",
      "[INFO]: Dropping columns with full of NA or Identifiers. Current dataframe shape: (1459, 80)\n",
      "[INFO]: Dropped columns with full of NA or Identifiers. Current dataframe shape: (1459, 73)\n"
     ]
    },
    {
     "name": "stderr",
     "output_type": "stream",
     "text": [
      "/root/miniconda3/envs/pricehousing/lib/python3.9/site-packages/pytorch_lightning/loggers/wandb.py:391: There is a wandb run already in progress and newly created instances of `WandbLogger` will reuse this run. If this is not desired, call `wandb.finish()` before instantiating `WandbLogger`.\n",
      "LOCAL_RANK: 0 - CUDA_VISIBLE_DEVICES: [0]\n",
      "\n",
      "  | Name | Type       | Params\n",
      "------------------------------------\n",
      "0 | net  | Sequential | 215 K \n",
      "------------------------------------\n",
      "215 K     Trainable params\n",
      "0         Non-trainable params\n",
      "215 K     Total params\n",
      "0.864     Total estimated model params size (MB)\n"
     ]
    },
    {
     "name": "stdout",
     "output_type": "stream",
     "text": [
      "[INFO]: Setting up fit dataset/s\n",
      "[INFO]: Train dataset size: 981\n",
      "[INFO]: Validation dataset size: 173\n",
      "Sanity Checking: |          | 0/? [00:00<?, ?it/s][INFO]: Validation dataloader size: 1\n",
      "                                                                            "
     ]
    },
    {
     "name": "stderr",
     "output_type": "stream",
     "text": [
      "/root/miniconda3/envs/pricehousing/lib/python3.9/site-packages/lightning/pytorch/trainer/connectors/data_connector.py:492: Your `val_dataloader`'s sampler has shuffling enabled, it is strongly recommended that you turn shuffling off for val/test dataloaders.\n",
      "/root/miniconda3/envs/pricehousing/lib/python3.9/site-packages/lightning/pytorch/trainer/connectors/data_connector.py:441: The 'val_dataloader' does not have many workers which may be a bottleneck. Consider increasing the value of the `num_workers` argument` to `num_workers=11` in the `DataLoader` to improve performance.\n",
      "/root/miniconda3/envs/pricehousing/lib/python3.9/site-packages/lightning/pytorch/trainer/connectors/data_connector.py:441: The 'train_dataloader' does not have many workers which may be a bottleneck. Consider increasing the value of the `num_workers` argument` to `num_workers=11` in the `DataLoader` to improve performance.\n"
     ]
    },
    {
     "name": "stdout",
     "output_type": "stream",
     "text": [
      "[INFO]: Train dataloader size: 2\n",
      "Training: |          | 0/? [00:00<?, ?it/s][INFO]: Logger save dir: .\n",
      "[INFO]: Logger name: lightning_logs\n",
      "[INFO]: Logger version: a5052b3b\n",
      "Epoch 0: 100%|██████████| 2/2 [00:00<00:00,  8.44it/s, v_num=2b3b]"
     ]
    },
    {
     "name": "stderr",
     "output_type": "stream",
     "text": [
      "Metric val_loss improved. New best score: 6327160832.000\n"
     ]
    },
    {
     "name": "stdout",
     "output_type": "stream",
     "text": [
      "Epoch 12: 100%|██████████| 2/2 [00:00<00:00, 21.31it/s, v_num=2b3b]"
     ]
    },
    {
     "name": "stderr",
     "output_type": "stream",
     "text": [
      "Metric val_loss improved by 2121463296.000 >= min_delta = 0.0. New best score: 4205697536.000\n"
     ]
    },
    {
     "name": "stdout",
     "output_type": "stream",
     "text": [
      "Epoch 14: 100%|██████████| 2/2 [00:00<00:00, 21.73it/s, v_num=2b3b]"
     ]
    },
    {
     "name": "stderr",
     "output_type": "stream",
     "text": [
      "Metric val_loss improved by 1920039680.000 >= min_delta = 0.0. New best score: 2285657856.000\n"
     ]
    },
    {
     "name": "stdout",
     "output_type": "stream",
     "text": [
      "Epoch 18: 100%|██████████| 2/2 [00:00<00:00, 20.47it/s, v_num=2b3b]"
     ]
    },
    {
     "name": "stderr",
     "output_type": "stream",
     "text": [
      "Metric val_loss improved by 423608448.000 >= min_delta = 0.0. New best score: 1862049408.000\n"
     ]
    },
    {
     "name": "stdout",
     "output_type": "stream",
     "text": [
      "Epoch 21: 100%|██████████| 2/2 [00:00<00:00, 20.88it/s, v_num=2b3b]"
     ]
    },
    {
     "name": "stderr",
     "output_type": "stream",
     "text": [
      "Metric val_loss improved by 172956416.000 >= min_delta = 0.0. New best score: 1689092992.000\n"
     ]
    },
    {
     "name": "stdout",
     "output_type": "stream",
     "text": [
      "Epoch 22: 100%|██████████| 2/2 [00:00<00:00, 21.43it/s, v_num=2b3b]"
     ]
    },
    {
     "name": "stderr",
     "output_type": "stream",
     "text": [
      "Metric val_loss improved by 76679680.000 >= min_delta = 0.0. New best score: 1612413312.000\n"
     ]
    },
    {
     "name": "stdout",
     "output_type": "stream",
     "text": [
      "Epoch 25: 100%|██████████| 2/2 [00:00<00:00, 20.22it/s, v_num=2b3b]"
     ]
    },
    {
     "name": "stderr",
     "output_type": "stream",
     "text": [
      "Metric val_loss improved by 211128448.000 >= min_delta = 0.0. New best score: 1401284864.000\n"
     ]
    },
    {
     "name": "stdout",
     "output_type": "stream",
     "text": [
      "Epoch 26: 100%|██████████| 2/2 [00:00<00:00, 17.62it/s, v_num=2b3b]"
     ]
    },
    {
     "name": "stderr",
     "output_type": "stream",
     "text": [
      "Metric val_loss improved by 378432320.000 >= min_delta = 0.0. New best score: 1022852544.000\n"
     ]
    },
    {
     "name": "stdout",
     "output_type": "stream",
     "text": [
      "Epoch 30: 100%|██████████| 2/2 [00:00<00:00, 18.39it/s, v_num=2b3b]"
     ]
    },
    {
     "name": "stderr",
     "output_type": "stream",
     "text": [
      "Metric val_loss improved by 159210624.000 >= min_delta = 0.0. New best score: 863641920.000\n"
     ]
    },
    {
     "name": "stdout",
     "output_type": "stream",
     "text": [
      "Epoch 32: 100%|██████████| 2/2 [00:00<00:00, 21.10it/s, v_num=2b3b]"
     ]
    },
    {
     "name": "stderr",
     "output_type": "stream",
     "text": [
      "Metric val_loss improved by 6154688.000 >= min_delta = 0.0. New best score: 857487232.000\n"
     ]
    },
    {
     "name": "stdout",
     "output_type": "stream",
     "text": [
      "Epoch 37: 100%|██████████| 2/2 [00:00<00:00, 18.96it/s, v_num=2b3b]"
     ]
    },
    {
     "name": "stderr",
     "output_type": "stream",
     "text": [
      "Metric val_loss improved by 10876032.000 >= min_delta = 0.0. New best score: 846611200.000\n"
     ]
    },
    {
     "name": "stdout",
     "output_type": "stream",
     "text": [
      "Epoch 87: 100%|██████████| 2/2 [00:00<00:00, 21.26it/s, v_num=2b3b]"
     ]
    },
    {
     "name": "stderr",
     "output_type": "stream",
     "text": [
      "Monitored metric val_loss did not improve in the last 50 records. Best score: 846611200.000. Signaling Trainer to stop.\n"
     ]
    },
    {
     "name": "stdout",
     "output_type": "stream",
     "text": [
      "Epoch 87: 100%|██████████| 2/2 [00:00<00:00, 20.38it/s, v_num=2b3b]\n",
      "[INFO]: Preprocessing training dataframe...\n",
      "[INFO]: Dropping columns with full of NA or Identifiers. Current dataframe shape: (1460, 81)\n",
      "[INFO]: Dropped columns with full of NA or Identifiers. Current dataframe shape: (1460, 74)\n",
      "[INFO]: Dropping categories types with few ocurrence. Current dataframe shape: (1460, 74)\n",
      "[INFO]: Few ocurrences removed. Current dataframe shape: (1443, 74)\n",
      "[INFO]: Dropping columns which contains just one type of category. Current dataframe shape: (1443, 74)\n",
      "[INFO]: Columns with just one type of categroy dropped. Current dataframe shape: (1443, 73)\n",
      "[INFO]: Preprocessing predict dataframe...\n",
      "[INFO]: Dropping columns with full of NA or Identifiers. Current dataframe shape: (1459, 80)\n",
      "[INFO]: Dropped columns with full of NA or Identifiers. Current dataframe shape: (1459, 73)\n"
     ]
    },
    {
     "name": "stderr",
     "output_type": "stream",
     "text": [
      "LOCAL_RANK: 0 - CUDA_VISIBLE_DEVICES: [0]\n",
      "/root/miniconda3/envs/pricehousing/lib/python3.9/site-packages/lightning/pytorch/trainer/connectors/data_connector.py:441: The 'test_dataloader' does not have many workers which may be a bottleneck. Consider increasing the value of the `num_workers` argument` to `num_workers=11` in the `DataLoader` to improve performance.\n"
     ]
    },
    {
     "name": "stdout",
     "output_type": "stream",
     "text": [
      "[INFO]: Setting up test dataset/s\n",
      "[INFO]: Test dataloader size: 1\n",
      "Testing DataLoader 0: 100%|██████████| 1/1 [00:00<00:00, 127.82it/s]\n",
      "────────────────────────────────────────────────────────────────────────────────────────────────────────────────────────\n",
      "       Test metric             DataLoader 0\n",
      "────────────────────────────────────────────────────────────────────────────────────────────────────────────────────────\n",
      "        test_loss               649291776.0\n",
      "────────────────────────────────────────────────────────────────────────────────────────────────────────────────────────\n"
     ]
    },
    {
     "data": {
      "text/html": [
       "<style>\n",
       "    table.wandb td:nth-child(1) { padding: 0 10px; text-align: left ; width: auto;} td:nth-child(2) {text-align: left ; width: 100%}\n",
       "    .wandb-row { display: flex; flex-direction: row; flex-wrap: wrap; justify-content: flex-start; width: 100% }\n",
       "    .wandb-col { display: flex; flex-direction: column; flex-basis: 100%; flex: 1; padding: 10px; }\n",
       "    </style>\n",
       "<div class=\"wandb-row\"><div class=\"wandb-col\"><h3>Run history:</h3><br/><table class=\"wandb\"><tr><td>epoch</td><td>▁▁▁▁▂▂▂▂▂▃▃▃▃▃▃▄▄▄▄▄▅▅▅▅▅▅▆▆▆▆▆▇▇▇▇▇████</td></tr><tr><td>test_loss</td><td>▁</td></tr><tr><td>train_loss</td><td>█▄██▁▅▂▂▁▂▂▁▁▁▁▁▁▁▁▁▁▁▁▁▁▁▁▁▁▁▁▁▁▁▁▁▁▁▁▁</td></tr><tr><td>trainer/global_step</td><td>▁▁▁▂▂▂▂▂▂▃▃▃▃▃▃▄▄▄▄▄▅▅▅▅▅▅▆▆▆▆▆▇▇▇▇▇▇███</td></tr><tr><td>val_loss</td><td>▂▇█▇█▄▄▃▂▁▁▁▁▁▁▁▁▁▁▁▁▁▁▁▁▁▁▁▁▁▁▁▁▁▁▁▁▁▁▁</td></tr></table><br/></div><div class=\"wandb-col\"><h3>Run summary:</h3><br/><table class=\"wandb\"><tr><td>epoch</td><td>88</td></tr><tr><td>test_loss</td><td>649291776.0</td></tr><tr><td>train_loss</td><td>329196768.0</td></tr><tr><td>trainer/global_step</td><td>176</td></tr><tr><td>val_loss</td><td>1028634944.0</td></tr></table><br/></div></div>"
      ],
      "text/plain": [
       "<IPython.core.display.HTML object>"
      ]
     },
     "metadata": {},
     "output_type": "display_data"
    },
    {
     "data": {
      "text/html": [
       " View run <strong style=\"color:#cdcd00\">Robert_U8MLZTSV</strong> at: <a href='https://wandb.ai/deepsat/House%20Pricing/runs/a5052b3b' target=\"_blank\">https://wandb.ai/deepsat/House%20Pricing/runs/a5052b3b</a><br/> View project at: <a href='https://wandb.ai/deepsat/House%20Pricing' target=\"_blank\">https://wandb.ai/deepsat/House%20Pricing</a><br/>Synced 6 W&B file(s), 0 media file(s), 11 artifact file(s) and 0 other file(s)"
      ],
      "text/plain": [
       "<IPython.core.display.HTML object>"
      ]
     },
     "metadata": {},
     "output_type": "display_data"
    },
    {
     "data": {
      "text/html": [
       "Find logs at: <code>./wandb/run-20240418_104043-a5052b3b/logs</code>"
      ],
      "text/plain": [
       "<IPython.core.display.HTML object>"
      ]
     },
     "metadata": {},
     "output_type": "display_data"
    },
    {
     "name": "stdout",
     "output_type": "stream",
     "text": [
      "[INFO]: Preprocessing training dataframe...\n",
      "[INFO]: Dropping columns with full of NA or Identifiers. Current dataframe shape: (1460, 81)\n",
      "[INFO]: Dropped columns with full of NA or Identifiers. Current dataframe shape: (1460, 74)\n",
      "[INFO]: Dropping categories types with few ocurrence. Current dataframe shape: (1460, 74)\n",
      "[INFO]: Few ocurrences removed. Current dataframe shape: (1443, 74)\n",
      "[INFO]: Dropping columns which contains just one type of category. Current dataframe shape: (1443, 74)\n",
      "[INFO]: Columns with just one type of categroy dropped. Current dataframe shape: (1443, 73)\n",
      "[INFO]: Preprocessing predict dataframe...\n",
      "[INFO]: Dropping columns with full of NA or Identifiers. Current dataframe shape: (1459, 80)\n",
      "[INFO]: Dropped columns with full of NA or Identifiers. Current dataframe shape: (1459, 73)\n"
     ]
    },
    {
     "data": {
      "text/html": [
       "Tracking run with wandb version 0.16.6"
      ],
      "text/plain": [
       "<IPython.core.display.HTML object>"
      ]
     },
     "metadata": {},
     "output_type": "display_data"
    },
    {
     "data": {
      "text/html": [
       "Run data is saved locally in <code>/root/repos/lightning/HousePricing/wandb/run-20240418_104135-qcjhf28a</code>"
      ],
      "text/plain": [
       "<IPython.core.display.HTML object>"
      ]
     },
     "metadata": {},
     "output_type": "display_data"
    },
    {
     "data": {
      "text/html": [
       "Syncing run <strong><a href='https://wandb.ai/deepsat/House%20Pricing/runs/qcjhf28a' target=\"_blank\">Anne_S5TYFMO5</a></strong> to <a href='https://wandb.ai/deepsat/House%20Pricing' target=\"_blank\">Weights & Biases</a> (<a href='https://wandb.me/run' target=\"_blank\">docs</a>)<br/>"
      ],
      "text/plain": [
       "<IPython.core.display.HTML object>"
      ]
     },
     "metadata": {},
     "output_type": "display_data"
    },
    {
     "data": {
      "text/html": [
       " View project at <a href='https://wandb.ai/deepsat/House%20Pricing' target=\"_blank\">https://wandb.ai/deepsat/House%20Pricing</a>"
      ],
      "text/plain": [
       "<IPython.core.display.HTML object>"
      ]
     },
     "metadata": {},
     "output_type": "display_data"
    },
    {
     "data": {
      "text/html": [
       " View run at <a href='https://wandb.ai/deepsat/House%20Pricing/runs/qcjhf28a' target=\"_blank\">https://wandb.ai/deepsat/House%20Pricing/runs/qcjhf28a</a>"
      ],
      "text/plain": [
       "<IPython.core.display.HTML object>"
      ]
     },
     "metadata": {},
     "output_type": "display_data"
    },
    {
     "name": "stderr",
     "output_type": "stream",
     "text": [
      "GPU available: True (cuda), used: True\n",
      "TPU available: False, using: 0 TPU cores\n",
      "IPU available: False, using: 0 IPUs\n",
      "HPU available: False, using: 0 HPUs\n"
     ]
    },
    {
     "name": "stdout",
     "output_type": "stream",
     "text": [
      "[INFO]: Input size: 244\n",
      "[INFO]: Preprocessing training dataframe...\n",
      "[INFO]: Dropping columns with full of NA or Identifiers. Current dataframe shape: (1460, 81)\n",
      "[INFO]: Dropped columns with full of NA or Identifiers. Current dataframe shape: (1460, 74)\n",
      "[INFO]: Dropping categories types with few ocurrence. Current dataframe shape: (1460, 74)\n",
      "[INFO]: Few ocurrences removed. Current dataframe shape: (1443, 74)\n",
      "[INFO]: Dropping columns which contains just one type of category. Current dataframe shape: (1443, 74)\n",
      "[INFO]: Columns with just one type of categroy dropped. Current dataframe shape: (1443, 73)\n",
      "[INFO]: Preprocessing predict dataframe...\n",
      "[INFO]: Dropping columns with full of NA or Identifiers. Current dataframe shape: (1459, 80)\n",
      "[INFO]: Dropped columns with full of NA or Identifiers. Current dataframe shape: (1459, 73)\n"
     ]
    },
    {
     "name": "stderr",
     "output_type": "stream",
     "text": [
      "/root/miniconda3/envs/pricehousing/lib/python3.9/site-packages/pytorch_lightning/loggers/wandb.py:391: There is a wandb run already in progress and newly created instances of `WandbLogger` will reuse this run. If this is not desired, call `wandb.finish()` before instantiating `WandbLogger`.\n",
      "LOCAL_RANK: 0 - CUDA_VISIBLE_DEVICES: [0]\n",
      "\n",
      "  | Name | Type       | Params\n",
      "------------------------------------\n",
      "0 | net  | Sequential | 215 K \n",
      "------------------------------------\n",
      "215 K     Trainable params\n",
      "0         Non-trainable params\n",
      "215 K     Total params\n",
      "0.864     Total estimated model params size (MB)\n"
     ]
    },
    {
     "name": "stdout",
     "output_type": "stream",
     "text": [
      "[INFO]: Setting up fit dataset/s\n",
      "[INFO]: Train dataset size: 981\n",
      "[INFO]: Validation dataset size: 173\n",
      "Sanity Checking: |          | 0/? [00:00<?, ?it/s][INFO]: Validation dataloader size: 1\n",
      "                                                                            "
     ]
    },
    {
     "name": "stderr",
     "output_type": "stream",
     "text": [
      "/root/miniconda3/envs/pricehousing/lib/python3.9/site-packages/lightning/pytorch/trainer/connectors/data_connector.py:492: Your `val_dataloader`'s sampler has shuffling enabled, it is strongly recommended that you turn shuffling off for val/test dataloaders.\n",
      "/root/miniconda3/envs/pricehousing/lib/python3.9/site-packages/lightning/pytorch/trainer/connectors/data_connector.py:441: The 'val_dataloader' does not have many workers which may be a bottleneck. Consider increasing the value of the `num_workers` argument` to `num_workers=11` in the `DataLoader` to improve performance.\n",
      "/root/miniconda3/envs/pricehousing/lib/python3.9/site-packages/lightning/pytorch/trainer/connectors/data_connector.py:441: The 'train_dataloader' does not have many workers which may be a bottleneck. Consider increasing the value of the `num_workers` argument` to `num_workers=11` in the `DataLoader` to improve performance.\n"
     ]
    },
    {
     "name": "stdout",
     "output_type": "stream",
     "text": [
      "[INFO]: Train dataloader size: 2\n",
      "Training: |          | 0/? [00:00<?, ?it/s][INFO]: Logger save dir: .\n",
      "[INFO]: Logger name: lightning_logs\n",
      "[INFO]: Logger version: qcjhf28a\n",
      "Epoch 0: 100%|██████████| 2/2 [00:00<00:00, 13.39it/s, v_num=f28a]"
     ]
    },
    {
     "name": "stderr",
     "output_type": "stream",
     "text": [
      "Metric val_loss improved. New best score: 6441174528.000\n"
     ]
    },
    {
     "name": "stdout",
     "output_type": "stream",
     "text": [
      "Epoch 50: 100%|██████████| 2/2 [00:00<00:00, 20.77it/s, v_num=f28a]"
     ]
    },
    {
     "name": "stderr",
     "output_type": "stream",
     "text": [
      "Monitored metric val_loss did not improve in the last 50 records. Best score: 6441174528.000. Signaling Trainer to stop.\n"
     ]
    },
    {
     "name": "stdout",
     "output_type": "stream",
     "text": [
      "Epoch 50: 100%|██████████| 2/2 [00:00<00:00, 19.58it/s, v_num=f28a]\n",
      "[INFO]: Preprocessing training dataframe...\n",
      "[INFO]: Dropping columns with full of NA or Identifiers. Current dataframe shape: (1460, 81)\n",
      "[INFO]: Dropped columns with full of NA or Identifiers. Current dataframe shape: (1460, 74)\n",
      "[INFO]: Dropping categories types with few ocurrence. Current dataframe shape: (1460, 74)\n",
      "[INFO]: Few ocurrences removed. Current dataframe shape: (1443, 74)\n",
      "[INFO]: Dropping columns which contains just one type of category. Current dataframe shape: (1443, 74)\n",
      "[INFO]: Columns with just one type of categroy dropped. Current dataframe shape: (1443, 73)\n",
      "[INFO]: Preprocessing predict dataframe...\n",
      "[INFO]: Dropping columns with full of NA or Identifiers. Current dataframe shape: (1459, 80)\n",
      "[INFO]: Dropped columns with full of NA or Identifiers. Current dataframe shape: (1459, 73)\n"
     ]
    },
    {
     "name": "stderr",
     "output_type": "stream",
     "text": [
      "LOCAL_RANK: 0 - CUDA_VISIBLE_DEVICES: [0]\n",
      "/root/miniconda3/envs/pricehousing/lib/python3.9/site-packages/lightning/pytorch/trainer/connectors/data_connector.py:441: The 'test_dataloader' does not have many workers which may be a bottleneck. Consider increasing the value of the `num_workers` argument` to `num_workers=11` in the `DataLoader` to improve performance.\n"
     ]
    },
    {
     "name": "stdout",
     "output_type": "stream",
     "text": [
      "[INFO]: Setting up test dataset/s\n",
      "[INFO]: Test dataloader size: 1\n",
      "Testing DataLoader 0: 100%|██████████| 1/1 [00:00<00:00, 106.48it/s]\n",
      "────────────────────────────────────────────────────────────────────────────────────────────────────────────────────────\n",
      "       Test metric             DataLoader 0\n",
      "────────────────────────────────────────────────────────────────────────────────────────────────────────────────────────\n",
      "        test_loss              5450159616.0\n",
      "────────────────────────────────────────────────────────────────────────────────────────────────────────────────────────\n"
     ]
    },
    {
     "data": {
      "text/html": [
       "<style>\n",
       "    table.wandb td:nth-child(1) { padding: 0 10px; text-align: left ; width: auto;} td:nth-child(2) {text-align: left ; width: 100%}\n",
       "    .wandb-row { display: flex; flex-direction: row; flex-wrap: wrap; justify-content: flex-start; width: 100% }\n",
       "    .wandb-col { display: flex; flex-direction: column; flex-basis: 100%; flex: 1; padding: 10px; }\n",
       "    </style>\n",
       "<div class=\"wandb-row\"><div class=\"wandb-col\"><h3>Run history:</h3><br/><table class=\"wandb\"><tr><td>epoch</td><td>▁▁▁▁▂▂▂▂▂▃▃▃▃▃▃▄▄▄▄▄▄▅▅▅▅▅▆▆▆▆▆▆▇▇▇▇▇███</td></tr><tr><td>test_loss</td><td>▁</td></tr><tr><td>train_loss</td><td>▇▁▄▇▇█▇▇▇█▇▇██▇▆▇▆▇▆▅▅▄▃▂▁▁▁▂▁▁▁▁▁▁▁▁▁▁▁</td></tr><tr><td>trainer/global_step</td><td>▁▁▁▁▂▂▂▂▂▃▃▃▃▃▃▄▄▄▄▄▄▅▅▅▅▅▆▆▆▆▆▇▇▇▇▇▇███</td></tr><tr><td>val_loss</td><td>▁▃▇█████████████▇▇▇▆▅▅▃▂▂▁▁▂▂▁▁▁▁▁▁▁▁▁▁▁</td></tr></table><br/></div><div class=\"wandb-col\"><h3>Run summary:</h3><br/><table class=\"wandb\"><tr><td>epoch</td><td>51</td></tr><tr><td>test_loss</td><td>5450159616.0</td></tr><tr><td>train_loss</td><td>6028040704.0</td></tr><tr><td>trainer/global_step</td><td>102</td></tr><tr><td>val_loss</td><td>7026013696.0</td></tr></table><br/></div></div>"
      ],
      "text/plain": [
       "<IPython.core.display.HTML object>"
      ]
     },
     "metadata": {},
     "output_type": "display_data"
    },
    {
     "data": {
      "text/html": [
       " View run <strong style=\"color:#cdcd00\">Anne_S5TYFMO5</strong> at: <a href='https://wandb.ai/deepsat/House%20Pricing/runs/qcjhf28a' target=\"_blank\">https://wandb.ai/deepsat/House%20Pricing/runs/qcjhf28a</a><br/> View project at: <a href='https://wandb.ai/deepsat/House%20Pricing' target=\"_blank\">https://wandb.ai/deepsat/House%20Pricing</a><br/>Synced 6 W&B file(s), 0 media file(s), 1 artifact file(s) and 0 other file(s)"
      ],
      "text/plain": [
       "<IPython.core.display.HTML object>"
      ]
     },
     "metadata": {},
     "output_type": "display_data"
    },
    {
     "data": {
      "text/html": [
       "Find logs at: <code>./wandb/run-20240418_104135-qcjhf28a/logs</code>"
      ],
      "text/plain": [
       "<IPython.core.display.HTML object>"
      ]
     },
     "metadata": {},
     "output_type": "display_data"
    },
    {
     "name": "stdout",
     "output_type": "stream",
     "text": [
      "[INFO]: Preprocessing training dataframe...\n",
      "[INFO]: Dropping columns with full of NA or Identifiers. Current dataframe shape: (1460, 81)\n",
      "[INFO]: Dropped columns with full of NA or Identifiers. Current dataframe shape: (1460, 74)\n",
      "[INFO]: Dropping categories types with few ocurrence. Current dataframe shape: (1460, 74)\n",
      "[INFO]: Few ocurrences removed. Current dataframe shape: (1443, 74)\n",
      "[INFO]: Dropping columns which contains just one type of category. Current dataframe shape: (1443, 74)\n",
      "[INFO]: Columns with just one type of categroy dropped. Current dataframe shape: (1443, 73)\n",
      "[INFO]: Preprocessing predict dataframe...\n",
      "[INFO]: Dropping columns with full of NA or Identifiers. Current dataframe shape: (1459, 80)\n",
      "[INFO]: Dropped columns with full of NA or Identifiers. Current dataframe shape: (1459, 73)\n"
     ]
    },
    {
     "data": {
      "text/html": [
       "Tracking run with wandb version 0.16.6"
      ],
      "text/plain": [
       "<IPython.core.display.HTML object>"
      ]
     },
     "metadata": {},
     "output_type": "display_data"
    },
    {
     "data": {
      "text/html": [
       "Run data is saved locally in <code>/root/repos/lightning/HousePricing/wandb/run-20240418_104151-uwb5bw1b</code>"
      ],
      "text/plain": [
       "<IPython.core.display.HTML object>"
      ]
     },
     "metadata": {},
     "output_type": "display_data"
    },
    {
     "data": {
      "text/html": [
       "Syncing run <strong><a href='https://wandb.ai/deepsat/House%20Pricing/runs/uwb5bw1b' target=\"_blank\">Kimberly_PN9PBRQM</a></strong> to <a href='https://wandb.ai/deepsat/House%20Pricing' target=\"_blank\">Weights & Biases</a> (<a href='https://wandb.me/run' target=\"_blank\">docs</a>)<br/>"
      ],
      "text/plain": [
       "<IPython.core.display.HTML object>"
      ]
     },
     "metadata": {},
     "output_type": "display_data"
    },
    {
     "data": {
      "text/html": [
       " View project at <a href='https://wandb.ai/deepsat/House%20Pricing' target=\"_blank\">https://wandb.ai/deepsat/House%20Pricing</a>"
      ],
      "text/plain": [
       "<IPython.core.display.HTML object>"
      ]
     },
     "metadata": {},
     "output_type": "display_data"
    },
    {
     "data": {
      "text/html": [
       " View run at <a href='https://wandb.ai/deepsat/House%20Pricing/runs/uwb5bw1b' target=\"_blank\">https://wandb.ai/deepsat/House%20Pricing/runs/uwb5bw1b</a>"
      ],
      "text/plain": [
       "<IPython.core.display.HTML object>"
      ]
     },
     "metadata": {},
     "output_type": "display_data"
    },
    {
     "name": "stderr",
     "output_type": "stream",
     "text": [
      "GPU available: True (cuda), used: True\n",
      "TPU available: False, using: 0 TPU cores\n",
      "IPU available: False, using: 0 IPUs\n",
      "HPU available: False, using: 0 HPUs\n"
     ]
    },
    {
     "name": "stdout",
     "output_type": "stream",
     "text": [
      "[INFO]: Input size: 244\n",
      "[INFO]: Preprocessing training dataframe...\n",
      "[INFO]: Dropping columns with full of NA or Identifiers. Current dataframe shape: (1460, 81)\n",
      "[INFO]: Dropped columns with full of NA or Identifiers. Current dataframe shape: (1460, 74)\n",
      "[INFO]: Dropping categories types with few ocurrence. Current dataframe shape: (1460, 74)\n",
      "[INFO]: Few ocurrences removed. Current dataframe shape: (1443, 74)\n",
      "[INFO]: Dropping columns which contains just one type of category. Current dataframe shape: (1443, 74)\n",
      "[INFO]: Columns with just one type of categroy dropped. Current dataframe shape: (1443, 73)\n",
      "[INFO]: Preprocessing predict dataframe...\n",
      "[INFO]: Dropping columns with full of NA or Identifiers. Current dataframe shape: (1459, 80)\n",
      "[INFO]: Dropped columns with full of NA or Identifiers. Current dataframe shape: (1459, 73)\n"
     ]
    },
    {
     "name": "stderr",
     "output_type": "stream",
     "text": [
      "/root/miniconda3/envs/pricehousing/lib/python3.9/site-packages/pytorch_lightning/loggers/wandb.py:391: There is a wandb run already in progress and newly created instances of `WandbLogger` will reuse this run. If this is not desired, call `wandb.finish()` before instantiating `WandbLogger`.\n",
      "LOCAL_RANK: 0 - CUDA_VISIBLE_DEVICES: [0]\n",
      "\n",
      "  | Name | Type       | Params\n",
      "------------------------------------\n",
      "0 | net  | Sequential | 215 K \n",
      "------------------------------------\n",
      "215 K     Trainable params\n",
      "0         Non-trainable params\n",
      "215 K     Total params\n",
      "0.864     Total estimated model params size (MB)\n"
     ]
    },
    {
     "name": "stdout",
     "output_type": "stream",
     "text": [
      "[INFO]: Setting up fit dataset/s\n",
      "[INFO]: Train dataset size: 981\n",
      "[INFO]: Validation dataset size: 173\n",
      "Sanity Checking: |          | 0/? [00:00<?, ?it/s][INFO]: Validation dataloader size: 1\n",
      "                                                                            "
     ]
    },
    {
     "name": "stderr",
     "output_type": "stream",
     "text": [
      "/root/miniconda3/envs/pricehousing/lib/python3.9/site-packages/lightning/pytorch/trainer/connectors/data_connector.py:492: Your `val_dataloader`'s sampler has shuffling enabled, it is strongly recommended that you turn shuffling off for val/test dataloaders.\n",
      "/root/miniconda3/envs/pricehousing/lib/python3.9/site-packages/lightning/pytorch/trainer/connectors/data_connector.py:441: The 'val_dataloader' does not have many workers which may be a bottleneck. Consider increasing the value of the `num_workers` argument` to `num_workers=11` in the `DataLoader` to improve performance.\n",
      "/root/miniconda3/envs/pricehousing/lib/python3.9/site-packages/lightning/pytorch/trainer/connectors/data_connector.py:441: The 'train_dataloader' does not have many workers which may be a bottleneck. Consider increasing the value of the `num_workers` argument` to `num_workers=11` in the `DataLoader` to improve performance.\n"
     ]
    },
    {
     "name": "stdout",
     "output_type": "stream",
     "text": [
      "[INFO]: Train dataloader size: 2\n",
      "Training: |          | 0/? [00:00<?, ?it/s][INFO]: Logger save dir: .\n",
      "[INFO]: Logger name: lightning_logs\n",
      "[INFO]: Logger version: uwb5bw1b\n",
      "Epoch 0: 100%|██████████| 2/2 [00:00<00:00, 19.37it/s, v_num=bw1b]"
     ]
    },
    {
     "name": "stderr",
     "output_type": "stream",
     "text": [
      "Metric val_loss improved. New best score: 7892392960.000\n"
     ]
    },
    {
     "name": "stdout",
     "output_type": "stream",
     "text": [
      "Epoch 50: 100%|██████████| 2/2 [00:00<00:00, 19.53it/s, v_num=bw1b]"
     ]
    },
    {
     "name": "stderr",
     "output_type": "stream",
     "text": [
      "Monitored metric val_loss did not improve in the last 50 records. Best score: 7892392960.000. Signaling Trainer to stop.\n"
     ]
    },
    {
     "name": "stdout",
     "output_type": "stream",
     "text": [
      "Epoch 50: 100%|██████████| 2/2 [00:00<00:00, 18.38it/s, v_num=bw1b]\n",
      "[INFO]: Preprocessing training dataframe...\n",
      "[INFO]: Dropping columns with full of NA or Identifiers. Current dataframe shape: (1460, 81)\n",
      "[INFO]: Dropped columns with full of NA or Identifiers. Current dataframe shape: (1460, 74)\n",
      "[INFO]: Dropping categories types with few ocurrence. Current dataframe shape: (1460, 74)\n",
      "[INFO]: Few ocurrences removed. Current dataframe shape: (1443, 74)\n",
      "[INFO]: Dropping columns which contains just one type of category. Current dataframe shape: (1443, 74)\n",
      "[INFO]: Columns with just one type of categroy dropped. Current dataframe shape: (1443, 73)\n",
      "[INFO]: Preprocessing predict dataframe...\n",
      "[INFO]: Dropping columns with full of NA or Identifiers. Current dataframe shape: (1459, 80)\n",
      "[INFO]: Dropped columns with full of NA or Identifiers. Current dataframe shape: (1459, 73)\n"
     ]
    },
    {
     "name": "stderr",
     "output_type": "stream",
     "text": [
      "LOCAL_RANK: 0 - CUDA_VISIBLE_DEVICES: [0]\n",
      "/root/miniconda3/envs/pricehousing/lib/python3.9/site-packages/lightning/pytorch/trainer/connectors/data_connector.py:441: The 'test_dataloader' does not have many workers which may be a bottleneck. Consider increasing the value of the `num_workers` argument` to `num_workers=11` in the `DataLoader` to improve performance.\n"
     ]
    },
    {
     "name": "stdout",
     "output_type": "stream",
     "text": [
      "[INFO]: Setting up test dataset/s\n",
      "[INFO]: Test dataloader size: 1\n",
      "Testing DataLoader 0: 100%|██████████| 1/1 [00:00<00:00, 84.64it/s] \n",
      "────────────────────────────────────────────────────────────────────────────────────────────────────────────────────────\n",
      "       Test metric             DataLoader 0\n",
      "────────────────────────────────────────────────────────────────────────────────────────────────────────────────────────\n",
      "        test_loss              18807910400.0\n",
      "────────────────────────────────────────────────────────────────────────────────────────────────────────────────────────\n"
     ]
    },
    {
     "data": {
      "text/html": [
       "<style>\n",
       "    table.wandb td:nth-child(1) { padding: 0 10px; text-align: left ; width: auto;} td:nth-child(2) {text-align: left ; width: 100%}\n",
       "    .wandb-row { display: flex; flex-direction: row; flex-wrap: wrap; justify-content: flex-start; width: 100% }\n",
       "    .wandb-col { display: flex; flex-direction: column; flex-basis: 100%; flex: 1; padding: 10px; }\n",
       "    </style>\n",
       "<div class=\"wandb-row\"><div class=\"wandb-col\"><h3>Run history:</h3><br/><table class=\"wandb\"><tr><td>epoch</td><td>▁▁▁▁▂▂▂▂▂▃▃▃▃▃▃▄▄▄▄▄▄▅▅▅▅▅▆▆▆▆▆▆▇▇▇▇▇███</td></tr><tr><td>test_loss</td><td>▁</td></tr><tr><td>train_loss</td><td>█▁▃▇▇▇██▇▇█▇▇▇▇▇▇█▇▇▇█▇▇▇▇▇▇▇▆▆▆▆▆▅▅▅▄▄▄</td></tr><tr><td>trainer/global_step</td><td>▁▁▁▁▂▂▂▂▂▃▃▃▃▃▃▄▄▄▄▄▄▅▅▅▅▅▆▆▆▆▆▇▇▇▇▇▇███</td></tr><tr><td>val_loss</td><td>▁▁▇██████████████████████▇▇▇▇▇▇▇▆▆▆▅▅▅▄▄</td></tr></table><br/></div><div class=\"wandb-col\"><h3>Run summary:</h3><br/><table class=\"wandb\"><tr><td>epoch</td><td>51</td></tr><tr><td>test_loss</td><td>18807910400.0</td></tr><tr><td>train_loss</td><td>23436220416.0</td></tr><tr><td>trainer/global_step</td><td>102</td></tr><tr><td>val_loss</td><td>20186920960.0</td></tr></table><br/></div></div>"
      ],
      "text/plain": [
       "<IPython.core.display.HTML object>"
      ]
     },
     "metadata": {},
     "output_type": "display_data"
    },
    {
     "data": {
      "text/html": [
       " View run <strong style=\"color:#cdcd00\">Kimberly_PN9PBRQM</strong> at: <a href='https://wandb.ai/deepsat/House%20Pricing/runs/uwb5bw1b' target=\"_blank\">https://wandb.ai/deepsat/House%20Pricing/runs/uwb5bw1b</a><br/> View project at: <a href='https://wandb.ai/deepsat/House%20Pricing' target=\"_blank\">https://wandb.ai/deepsat/House%20Pricing</a><br/>Synced 6 W&B file(s), 0 media file(s), 1 artifact file(s) and 0 other file(s)"
      ],
      "text/plain": [
       "<IPython.core.display.HTML object>"
      ]
     },
     "metadata": {},
     "output_type": "display_data"
    },
    {
     "data": {
      "text/html": [
       "Find logs at: <code>./wandb/run-20240418_104151-uwb5bw1b/logs</code>"
      ],
      "text/plain": [
       "<IPython.core.display.HTML object>"
      ]
     },
     "metadata": {},
     "output_type": "display_data"
    },
    {
     "name": "stdout",
     "output_type": "stream",
     "text": [
      "[INFO]: Preprocessing training dataframe...\n",
      "[INFO]: Dropping columns with full of NA or Identifiers. Current dataframe shape: (1460, 81)\n",
      "[INFO]: Dropped columns with full of NA or Identifiers. Current dataframe shape: (1460, 74)\n",
      "[INFO]: Dropping categories types with few ocurrence. Current dataframe shape: (1460, 74)\n",
      "[INFO]: Few ocurrences removed. Current dataframe shape: (1443, 74)\n",
      "[INFO]: Dropping columns which contains just one type of category. Current dataframe shape: (1443, 74)\n",
      "[INFO]: Columns with just one type of categroy dropped. Current dataframe shape: (1443, 73)\n",
      "[INFO]: Preprocessing predict dataframe...\n",
      "[INFO]: Dropping columns with full of NA or Identifiers. Current dataframe shape: (1459, 80)\n",
      "[INFO]: Dropped columns with full of NA or Identifiers. Current dataframe shape: (1459, 73)\n"
     ]
    },
    {
     "data": {
      "text/html": [
       "Tracking run with wandb version 0.16.6"
      ],
      "text/plain": [
       "<IPython.core.display.HTML object>"
      ]
     },
     "metadata": {},
     "output_type": "display_data"
    },
    {
     "data": {
      "text/html": [
       "Run data is saved locally in <code>/root/repos/lightning/HousePricing/wandb/run-20240418_104209-3s0bbhzn</code>"
      ],
      "text/plain": [
       "<IPython.core.display.HTML object>"
      ]
     },
     "metadata": {},
     "output_type": "display_data"
    },
    {
     "data": {
      "text/html": [
       "Syncing run <strong><a href='https://wandb.ai/deepsat/House%20Pricing/runs/3s0bbhzn' target=\"_blank\">Briana_5KJREAU0</a></strong> to <a href='https://wandb.ai/deepsat/House%20Pricing' target=\"_blank\">Weights & Biases</a> (<a href='https://wandb.me/run' target=\"_blank\">docs</a>)<br/>"
      ],
      "text/plain": [
       "<IPython.core.display.HTML object>"
      ]
     },
     "metadata": {},
     "output_type": "display_data"
    },
    {
     "data": {
      "text/html": [
       " View project at <a href='https://wandb.ai/deepsat/House%20Pricing' target=\"_blank\">https://wandb.ai/deepsat/House%20Pricing</a>"
      ],
      "text/plain": [
       "<IPython.core.display.HTML object>"
      ]
     },
     "metadata": {},
     "output_type": "display_data"
    },
    {
     "data": {
      "text/html": [
       " View run at <a href='https://wandb.ai/deepsat/House%20Pricing/runs/3s0bbhzn' target=\"_blank\">https://wandb.ai/deepsat/House%20Pricing/runs/3s0bbhzn</a>"
      ],
      "text/plain": [
       "<IPython.core.display.HTML object>"
      ]
     },
     "metadata": {},
     "output_type": "display_data"
    },
    {
     "name": "stderr",
     "output_type": "stream",
     "text": [
      "GPU available: True (cuda), used: True\n",
      "TPU available: False, using: 0 TPU cores\n",
      "IPU available: False, using: 0 IPUs\n",
      "HPU available: False, using: 0 HPUs\n"
     ]
    },
    {
     "name": "stdout",
     "output_type": "stream",
     "text": [
      "[INFO]: Input size: 244\n",
      "[INFO]: Preprocessing training dataframe...\n",
      "[INFO]: Dropping columns with full of NA or Identifiers. Current dataframe shape: (1460, 81)\n",
      "[INFO]: Dropped columns with full of NA or Identifiers. Current dataframe shape: (1460, 74)\n",
      "[INFO]: Dropping categories types with few ocurrence. Current dataframe shape: (1460, 74)\n",
      "[INFO]: Few ocurrences removed. Current dataframe shape: (1443, 74)\n",
      "[INFO]: Dropping columns which contains just one type of category. Current dataframe shape: (1443, 74)\n",
      "[INFO]: Columns with just one type of categroy dropped. Current dataframe shape: (1443, 73)\n",
      "[INFO]: Preprocessing predict dataframe...\n",
      "[INFO]: Dropping columns with full of NA or Identifiers. Current dataframe shape: (1459, 80)\n",
      "[INFO]: Dropped columns with full of NA or Identifiers. Current dataframe shape: (1459, 73)\n"
     ]
    },
    {
     "name": "stderr",
     "output_type": "stream",
     "text": [
      "/root/miniconda3/envs/pricehousing/lib/python3.9/site-packages/pytorch_lightning/loggers/wandb.py:391: There is a wandb run already in progress and newly created instances of `WandbLogger` will reuse this run. If this is not desired, call `wandb.finish()` before instantiating `WandbLogger`.\n",
      "LOCAL_RANK: 0 - CUDA_VISIBLE_DEVICES: [0]\n",
      "\n",
      "  | Name | Type       | Params\n",
      "------------------------------------\n",
      "0 | net  | Sequential | 215 K \n",
      "------------------------------------\n",
      "215 K     Trainable params\n",
      "0         Non-trainable params\n",
      "215 K     Total params\n",
      "0.864     Total estimated model params size (MB)\n"
     ]
    },
    {
     "name": "stdout",
     "output_type": "stream",
     "text": [
      "[INFO]: Setting up fit dataset/s\n",
      "[INFO]: Train dataset size: 981\n",
      "[INFO]: Validation dataset size: 173\n",
      "Sanity Checking: |          | 0/? [00:00<?, ?it/s][INFO]: Validation dataloader size: 1\n",
      "                                                                            "
     ]
    },
    {
     "name": "stderr",
     "output_type": "stream",
     "text": [
      "/root/miniconda3/envs/pricehousing/lib/python3.9/site-packages/lightning/pytorch/trainer/connectors/data_connector.py:492: Your `val_dataloader`'s sampler has shuffling enabled, it is strongly recommended that you turn shuffling off for val/test dataloaders.\n",
      "/root/miniconda3/envs/pricehousing/lib/python3.9/site-packages/lightning/pytorch/trainer/connectors/data_connector.py:441: The 'val_dataloader' does not have many workers which may be a bottleneck. Consider increasing the value of the `num_workers` argument` to `num_workers=11` in the `DataLoader` to improve performance.\n",
      "/root/miniconda3/envs/pricehousing/lib/python3.9/site-packages/lightning/pytorch/trainer/connectors/data_connector.py:441: The 'train_dataloader' does not have many workers which may be a bottleneck. Consider increasing the value of the `num_workers` argument` to `num_workers=11` in the `DataLoader` to improve performance.\n"
     ]
    },
    {
     "name": "stdout",
     "output_type": "stream",
     "text": [
      "[INFO]: Train dataloader size: 2\n",
      "Training: |          | 0/? [00:00<?, ?it/s][INFO]: Logger save dir: .\n",
      "[INFO]: Logger name: lightning_logs\n",
      "[INFO]: Logger version: 3s0bbhzn\n",
      "Epoch 0: 100%|██████████| 2/2 [00:00<00:00, 20.23it/s, v_num=bhzn]"
     ]
    },
    {
     "name": "stderr",
     "output_type": "stream",
     "text": [
      "Metric val_loss improved. New best score: 8503515136.000\n"
     ]
    },
    {
     "name": "stdout",
     "output_type": "stream",
     "text": [
      "Epoch 1: 100%|██████████| 2/2 [00:00<00:00, 21.09it/s, v_num=bhzn]"
     ]
    },
    {
     "name": "stderr",
     "output_type": "stream",
     "text": [
      "Metric val_loss improved by 1241690624.000 >= min_delta = 0.0. New best score: 7261824512.000\n"
     ]
    },
    {
     "name": "stdout",
     "output_type": "stream",
     "text": [
      "Epoch 25: 100%|██████████| 2/2 [00:00<00:00, 16.17it/s, v_num=bhzn]"
     ]
    },
    {
     "name": "stderr",
     "output_type": "stream",
     "text": [
      "Metric val_loss improved by 70433280.000 >= min_delta = 0.0. New best score: 7191391232.000\n"
     ]
    },
    {
     "name": "stdout",
     "output_type": "stream",
     "text": [
      "Epoch 26: 100%|██████████| 2/2 [00:00<00:00, 20.01it/s, v_num=bhzn]"
     ]
    },
    {
     "name": "stderr",
     "output_type": "stream",
     "text": [
      "Metric val_loss improved by 49015808.000 >= min_delta = 0.0. New best score: 7142375424.000\n"
     ]
    },
    {
     "name": "stdout",
     "output_type": "stream",
     "text": [
      "Epoch 32: 100%|██████████| 2/2 [00:00<00:00, 19.81it/s, v_num=bhzn]"
     ]
    },
    {
     "name": "stderr",
     "output_type": "stream",
     "text": [
      "Metric val_loss improved by 338771968.000 >= min_delta = 0.0. New best score: 6803603456.000\n"
     ]
    },
    {
     "name": "stdout",
     "output_type": "stream",
     "text": [
      "Epoch 82: 100%|██████████| 2/2 [00:00<00:00, 19.67it/s, v_num=bhzn]"
     ]
    },
    {
     "name": "stderr",
     "output_type": "stream",
     "text": [
      "Monitored metric val_loss did not improve in the last 50 records. Best score: 6803603456.000. Signaling Trainer to stop.\n"
     ]
    },
    {
     "name": "stdout",
     "output_type": "stream",
     "text": [
      "Epoch 82: 100%|██████████| 2/2 [00:00<00:00, 18.63it/s, v_num=bhzn]\n",
      "[INFO]: Preprocessing training dataframe...\n",
      "[INFO]: Dropping columns with full of NA or Identifiers. Current dataframe shape: (1460, 81)\n",
      "[INFO]: Dropped columns with full of NA or Identifiers. Current dataframe shape: (1460, 74)\n",
      "[INFO]: Dropping categories types with few ocurrence. Current dataframe shape: (1460, 74)\n",
      "[INFO]: Few ocurrences removed. Current dataframe shape: (1443, 74)\n",
      "[INFO]: Dropping columns which contains just one type of category. Current dataframe shape: (1443, 74)\n",
      "[INFO]: Columns with just one type of categroy dropped. Current dataframe shape: (1443, 73)\n",
      "[INFO]: Preprocessing predict dataframe...\n",
      "[INFO]: Dropping columns with full of NA or Identifiers. Current dataframe shape: (1459, 80)\n",
      "[INFO]: Dropped columns with full of NA or Identifiers. Current dataframe shape: (1459, 73)\n"
     ]
    },
    {
     "name": "stderr",
     "output_type": "stream",
     "text": [
      "LOCAL_RANK: 0 - CUDA_VISIBLE_DEVICES: [0]\n",
      "/root/miniconda3/envs/pricehousing/lib/python3.9/site-packages/lightning/pytorch/trainer/connectors/data_connector.py:441: The 'test_dataloader' does not have many workers which may be a bottleneck. Consider increasing the value of the `num_workers` argument` to `num_workers=11` in the `DataLoader` to improve performance.\n"
     ]
    },
    {
     "name": "stdout",
     "output_type": "stream",
     "text": [
      "[INFO]: Setting up test dataset/s\n",
      "[INFO]: Test dataloader size: 1\n",
      "Testing DataLoader 0: 100%|██████████| 1/1 [00:00<00:00, 69.96it/s] \n",
      "────────────────────────────────────────────────────────────────────────────────────────────────────────────────────────\n",
      "       Test metric             DataLoader 0\n",
      "────────────────────────────────────────────────────────────────────────────────────────────────────────────────────────\n",
      "        test_loss              5274674688.0\n",
      "────────────────────────────────────────────────────────────────────────────────────────────────────────────────────────\n"
     ]
    },
    {
     "data": {
      "text/html": [
       "<style>\n",
       "    table.wandb td:nth-child(1) { padding: 0 10px; text-align: left ; width: auto;} td:nth-child(2) {text-align: left ; width: 100%}\n",
       "    .wandb-row { display: flex; flex-direction: row; flex-wrap: wrap; justify-content: flex-start; width: 100% }\n",
       "    .wandb-col { display: flex; flex-direction: column; flex-basis: 100%; flex: 1; padding: 10px; }\n",
       "    </style>\n",
       "<div class=\"wandb-row\"><div class=\"wandb-col\"><h3>Run history:</h3><br/><table class=\"wandb\"><tr><td>epoch</td><td>▁▁▁▂▂▂▂▂▂▃▃▃▃▃▃▄▄▄▄▄▅▅▅▅▅▆▆▆▆▆▆▇▇▇▇▇▇███</td></tr><tr><td>test_loss</td><td>▁</td></tr><tr><td>train_loss</td><td>▇▅█▇█▇██▇▇▅▃▂▁▂▁▁▁▁▁▁▁▁▁▁▁▁▁▁▁▁▁▁▁▁▁▁▁▁▁</td></tr><tr><td>trainer/global_step</td><td>▁▁▁▂▂▂▂▂▂▃▃▃▃▃▃▄▄▄▄▄▅▅▅▅▅▅▆▆▆▆▆▇▇▇▇▇▇███</td></tr><tr><td>val_loss</td><td>▁▇██████▇▇▅▃▁▂▂▁▁▁▁▁▁▁▁▁▁▁▁▁▁▁▁▁▁▁▁▁▁▁▁▁</td></tr></table><br/></div><div class=\"wandb-col\"><h3>Run summary:</h3><br/><table class=\"wandb\"><tr><td>epoch</td><td>83</td></tr><tr><td>test_loss</td><td>5274674688.0</td></tr><tr><td>train_loss</td><td>7513990656.0</td></tr><tr><td>trainer/global_step</td><td>166</td></tr><tr><td>val_loss</td><td>6836492800.0</td></tr></table><br/></div></div>"
      ],
      "text/plain": [
       "<IPython.core.display.HTML object>"
      ]
     },
     "metadata": {},
     "output_type": "display_data"
    },
    {
     "data": {
      "text/html": [
       " View run <strong style=\"color:#cdcd00\">Briana_5KJREAU0</strong> at: <a href='https://wandb.ai/deepsat/House%20Pricing/runs/3s0bbhzn' target=\"_blank\">https://wandb.ai/deepsat/House%20Pricing/runs/3s0bbhzn</a><br/> View project at: <a href='https://wandb.ai/deepsat/House%20Pricing' target=\"_blank\">https://wandb.ai/deepsat/House%20Pricing</a><br/>Synced 6 W&B file(s), 0 media file(s), 5 artifact file(s) and 0 other file(s)"
      ],
      "text/plain": [
       "<IPython.core.display.HTML object>"
      ]
     },
     "metadata": {},
     "output_type": "display_data"
    },
    {
     "data": {
      "text/html": [
       "Find logs at: <code>./wandb/run-20240418_104209-3s0bbhzn/logs</code>"
      ],
      "text/plain": [
       "<IPython.core.display.HTML object>"
      ]
     },
     "metadata": {},
     "output_type": "display_data"
    },
    {
     "name": "stdout",
     "output_type": "stream",
     "text": [
      "[INFO]: Preprocessing training dataframe...\n",
      "[INFO]: Dropping columns with full of NA or Identifiers. Current dataframe shape: (1460, 81)\n",
      "[INFO]: Dropped columns with full of NA or Identifiers. Current dataframe shape: (1460, 74)\n",
      "[INFO]: Dropping categories types with few ocurrence. Current dataframe shape: (1460, 74)\n",
      "[INFO]: Few ocurrences removed. Current dataframe shape: (1443, 74)\n",
      "[INFO]: Dropping columns which contains just one type of category. Current dataframe shape: (1443, 74)\n",
      "[INFO]: Columns with just one type of categroy dropped. Current dataframe shape: (1443, 73)\n",
      "[INFO]: Preprocessing predict dataframe...\n",
      "[INFO]: Dropping columns with full of NA or Identifiers. Current dataframe shape: (1459, 80)\n",
      "[INFO]: Dropped columns with full of NA or Identifiers. Current dataframe shape: (1459, 73)\n"
     ]
    },
    {
     "data": {
      "text/html": [
       "Tracking run with wandb version 0.16.6"
      ],
      "text/plain": [
       "<IPython.core.display.HTML object>"
      ]
     },
     "metadata": {},
     "output_type": "display_data"
    },
    {
     "data": {
      "text/html": [
       "Run data is saved locally in <code>/root/repos/lightning/HousePricing/wandb/run-20240418_104241-u7rf76ng</code>"
      ],
      "text/plain": [
       "<IPython.core.display.HTML object>"
      ]
     },
     "metadata": {},
     "output_type": "display_data"
    },
    {
     "data": {
      "text/html": [
       "Syncing run <strong><a href='https://wandb.ai/deepsat/House%20Pricing/runs/u7rf76ng' target=\"_blank\">Justin_IFPBF97F</a></strong> to <a href='https://wandb.ai/deepsat/House%20Pricing' target=\"_blank\">Weights & Biases</a> (<a href='https://wandb.me/run' target=\"_blank\">docs</a>)<br/>"
      ],
      "text/plain": [
       "<IPython.core.display.HTML object>"
      ]
     },
     "metadata": {},
     "output_type": "display_data"
    },
    {
     "data": {
      "text/html": [
       " View project at <a href='https://wandb.ai/deepsat/House%20Pricing' target=\"_blank\">https://wandb.ai/deepsat/House%20Pricing</a>"
      ],
      "text/plain": [
       "<IPython.core.display.HTML object>"
      ]
     },
     "metadata": {},
     "output_type": "display_data"
    },
    {
     "data": {
      "text/html": [
       " View run at <a href='https://wandb.ai/deepsat/House%20Pricing/runs/u7rf76ng' target=\"_blank\">https://wandb.ai/deepsat/House%20Pricing/runs/u7rf76ng</a>"
      ],
      "text/plain": [
       "<IPython.core.display.HTML object>"
      ]
     },
     "metadata": {},
     "output_type": "display_data"
    },
    {
     "name": "stderr",
     "output_type": "stream",
     "text": [
      "GPU available: True (cuda), used: True\n",
      "TPU available: False, using: 0 TPU cores\n",
      "IPU available: False, using: 0 IPUs\n",
      "HPU available: False, using: 0 HPUs\n"
     ]
    },
    {
     "name": "stdout",
     "output_type": "stream",
     "text": [
      "[INFO]: Input size: 244\n",
      "[INFO]: Preprocessing training dataframe...\n",
      "[INFO]: Dropping columns with full of NA or Identifiers. Current dataframe shape: (1460, 81)\n",
      "[INFO]: Dropped columns with full of NA or Identifiers. Current dataframe shape: (1460, 74)\n",
      "[INFO]: Dropping categories types with few ocurrence. Current dataframe shape: (1460, 74)\n",
      "[INFO]: Few ocurrences removed. Current dataframe shape: (1443, 74)\n",
      "[INFO]: Dropping columns which contains just one type of category. Current dataframe shape: (1443, 74)\n",
      "[INFO]: Columns with just one type of categroy dropped. Current dataframe shape: (1443, 73)\n",
      "[INFO]: Preprocessing predict dataframe...\n",
      "[INFO]: Dropping columns with full of NA or Identifiers. Current dataframe shape: (1459, 80)\n",
      "[INFO]: Dropped columns with full of NA or Identifiers. Current dataframe shape: (1459, 73)\n"
     ]
    },
    {
     "name": "stderr",
     "output_type": "stream",
     "text": [
      "/root/miniconda3/envs/pricehousing/lib/python3.9/site-packages/pytorch_lightning/loggers/wandb.py:391: There is a wandb run already in progress and newly created instances of `WandbLogger` will reuse this run. If this is not desired, call `wandb.finish()` before instantiating `WandbLogger`.\n",
      "LOCAL_RANK: 0 - CUDA_VISIBLE_DEVICES: [0]\n",
      "\n",
      "  | Name | Type       | Params\n",
      "------------------------------------\n",
      "0 | net  | Sequential | 215 K \n",
      "------------------------------------\n",
      "215 K     Trainable params\n",
      "0         Non-trainable params\n",
      "215 K     Total params\n",
      "0.864     Total estimated model params size (MB)\n"
     ]
    },
    {
     "name": "stdout",
     "output_type": "stream",
     "text": [
      "[INFO]: Setting up fit dataset/s\n",
      "[INFO]: Train dataset size: 981\n",
      "[INFO]: Validation dataset size: 173\n",
      "Sanity Checking: |          | 0/? [00:00<?, ?it/s][INFO]: Validation dataloader size: 1\n",
      "                                                                            "
     ]
    },
    {
     "name": "stderr",
     "output_type": "stream",
     "text": [
      "/root/miniconda3/envs/pricehousing/lib/python3.9/site-packages/lightning/pytorch/trainer/connectors/data_connector.py:492: Your `val_dataloader`'s sampler has shuffling enabled, it is strongly recommended that you turn shuffling off for val/test dataloaders.\n",
      "/root/miniconda3/envs/pricehousing/lib/python3.9/site-packages/lightning/pytorch/trainer/connectors/data_connector.py:441: The 'val_dataloader' does not have many workers which may be a bottleneck. Consider increasing the value of the `num_workers` argument` to `num_workers=11` in the `DataLoader` to improve performance.\n",
      "/root/miniconda3/envs/pricehousing/lib/python3.9/site-packages/lightning/pytorch/trainer/connectors/data_connector.py:441: The 'train_dataloader' does not have many workers which may be a bottleneck. Consider increasing the value of the `num_workers` argument` to `num_workers=11` in the `DataLoader` to improve performance.\n"
     ]
    },
    {
     "name": "stdout",
     "output_type": "stream",
     "text": [
      "[INFO]: Train dataloader size: 2\n",
      "Training: |          | 0/? [00:00<?, ?it/s][INFO]: Logger save dir: .\n",
      "[INFO]: Logger name: lightning_logs\n",
      "[INFO]: Logger version: u7rf76ng\n",
      "Epoch 0: 100%|██████████| 2/2 [00:00<00:00, 19.33it/s, v_num=76ng]"
     ]
    },
    {
     "name": "stderr",
     "output_type": "stream",
     "text": [
      "Metric val_loss improved. New best score: 8141545472.000\n"
     ]
    },
    {
     "name": "stdout",
     "output_type": "stream",
     "text": [
      "Epoch 50: 100%|██████████| 2/2 [00:00<00:00, 20.12it/s, v_num=76ng]"
     ]
    },
    {
     "name": "stderr",
     "output_type": "stream",
     "text": [
      "Monitored metric val_loss did not improve in the last 50 records. Best score: 8141545472.000. Signaling Trainer to stop.\n"
     ]
    },
    {
     "name": "stdout",
     "output_type": "stream",
     "text": [
      "Epoch 50: 100%|██████████| 2/2 [00:00<00:00, 18.91it/s, v_num=76ng]\n",
      "[INFO]: Preprocessing training dataframe...\n",
      "[INFO]: Dropping columns with full of NA or Identifiers. Current dataframe shape: (1460, 81)\n",
      "[INFO]: Dropped columns with full of NA or Identifiers. Current dataframe shape: (1460, 74)\n",
      "[INFO]: Dropping categories types with few ocurrence. Current dataframe shape: (1460, 74)\n",
      "[INFO]: Few ocurrences removed. Current dataframe shape: (1443, 74)\n",
      "[INFO]: Dropping columns which contains just one type of category. Current dataframe shape: (1443, 74)\n",
      "[INFO]: Columns with just one type of categroy dropped. Current dataframe shape: (1443, 73)\n",
      "[INFO]: Preprocessing predict dataframe...\n",
      "[INFO]: Dropping columns with full of NA or Identifiers. Current dataframe shape: (1459, 80)\n",
      "[INFO]: Dropped columns with full of NA or Identifiers. Current dataframe shape: (1459, 73)\n"
     ]
    },
    {
     "name": "stderr",
     "output_type": "stream",
     "text": [
      "LOCAL_RANK: 0 - CUDA_VISIBLE_DEVICES: [0]\n",
      "/root/miniconda3/envs/pricehousing/lib/python3.9/site-packages/lightning/pytorch/trainer/connectors/data_connector.py:441: The 'test_dataloader' does not have many workers which may be a bottleneck. Consider increasing the value of the `num_workers` argument` to `num_workers=11` in the `DataLoader` to improve performance.\n"
     ]
    },
    {
     "name": "stdout",
     "output_type": "stream",
     "text": [
      "[INFO]: Setting up test dataset/s\n",
      "[INFO]: Test dataloader size: 1\n",
      "Testing DataLoader 0: 100%|██████████| 1/1 [00:00<00:00, 113.07it/s]\n",
      "────────────────────────────────────────────────────────────────────────────────────────────────────────────────────────\n",
      "       Test metric             DataLoader 0\n",
      "────────────────────────────────────────────────────────────────────────────────────────────────────────────────────────\n",
      "        test_loss              36679151616.0\n",
      "────────────────────────────────────────────────────────────────────────────────────────────────────────────────────────\n"
     ]
    },
    {
     "data": {
      "text/html": [
       "<style>\n",
       "    table.wandb td:nth-child(1) { padding: 0 10px; text-align: left ; width: auto;} td:nth-child(2) {text-align: left ; width: 100%}\n",
       "    .wandb-row { display: flex; flex-direction: row; flex-wrap: wrap; justify-content: flex-start; width: 100% }\n",
       "    .wandb-col { display: flex; flex-direction: column; flex-basis: 100%; flex: 1; padding: 10px; }\n",
       "    </style>\n",
       "<div class=\"wandb-row\"><div class=\"wandb-col\"><h3>Run history:</h3><br/><table class=\"wandb\"><tr><td>epoch</td><td>▁▁▁▁▂▂▂▂▂▃▃▃▃▃▃▄▄▄▄▄▄▅▅▅▅▅▆▆▆▆▆▆▇▇▇▇▇███</td></tr><tr><td>test_loss</td><td>▁</td></tr><tr><td>train_loss</td><td>▇▁▄▇██▇█▇█▇▇▇█▇▇█▇█▇▇▇█▇█▇▇▇██▇███▇▇██▇█</td></tr><tr><td>trainer/global_step</td><td>▁▁▁▁▂▂▂▂▂▃▃▃▃▃▃▄▄▄▄▄▄▅▅▅▅▅▆▆▆▆▆▇▇▇▇▇▇███</td></tr><tr><td>val_loss</td><td>▁▁▇█████████████████████████████████████</td></tr></table><br/></div><div class=\"wandb-col\"><h3>Run summary:</h3><br/><table class=\"wandb\"><tr><td>epoch</td><td>51</td></tr><tr><td>test_loss</td><td>36679151616.0</td></tr><tr><td>train_loss</td><td>42844217344.0</td></tr><tr><td>trainer/global_step</td><td>102</td></tr><tr><td>val_loss</td><td>37966528512.0</td></tr></table><br/></div></div>"
      ],
      "text/plain": [
       "<IPython.core.display.HTML object>"
      ]
     },
     "metadata": {},
     "output_type": "display_data"
    },
    {
     "data": {
      "text/html": [
       " View run <strong style=\"color:#cdcd00\">Justin_IFPBF97F</strong> at: <a href='https://wandb.ai/deepsat/House%20Pricing/runs/u7rf76ng' target=\"_blank\">https://wandb.ai/deepsat/House%20Pricing/runs/u7rf76ng</a><br/> View project at: <a href='https://wandb.ai/deepsat/House%20Pricing' target=\"_blank\">https://wandb.ai/deepsat/House%20Pricing</a><br/>Synced 6 W&B file(s), 0 media file(s), 1 artifact file(s) and 0 other file(s)"
      ],
      "text/plain": [
       "<IPython.core.display.HTML object>"
      ]
     },
     "metadata": {},
     "output_type": "display_data"
    },
    {
     "data": {
      "text/html": [
       "Find logs at: <code>./wandb/run-20240418_104241-u7rf76ng/logs</code>"
      ],
      "text/plain": [
       "<IPython.core.display.HTML object>"
      ]
     },
     "metadata": {},
     "output_type": "display_data"
    },
    {
     "name": "stdout",
     "output_type": "stream",
     "text": [
      "[INFO]: Preprocessing training dataframe...\n",
      "[INFO]: Dropping columns with full of NA or Identifiers. Current dataframe shape: (1460, 81)\n",
      "[INFO]: Dropped columns with full of NA or Identifiers. Current dataframe shape: (1460, 74)\n",
      "[INFO]: Dropping categories types with few ocurrence. Current dataframe shape: (1460, 74)\n",
      "[INFO]: Few ocurrences removed. Current dataframe shape: (1443, 74)\n",
      "[INFO]: Dropping columns which contains just one type of category. Current dataframe shape: (1443, 74)\n",
      "[INFO]: Columns with just one type of categroy dropped. Current dataframe shape: (1443, 73)\n",
      "[INFO]: Preprocessing predict dataframe...\n",
      "[INFO]: Dropping columns with full of NA or Identifiers. Current dataframe shape: (1459, 80)\n",
      "[INFO]: Dropped columns with full of NA or Identifiers. Current dataframe shape: (1459, 73)\n"
     ]
    },
    {
     "data": {
      "text/html": [
       "Tracking run with wandb version 0.16.6"
      ],
      "text/plain": [
       "<IPython.core.display.HTML object>"
      ]
     },
     "metadata": {},
     "output_type": "display_data"
    },
    {
     "data": {
      "text/html": [
       "Run data is saved locally in <code>/root/repos/lightning/HousePricing/wandb/run-20240418_104258-t02nqub8</code>"
      ],
      "text/plain": [
       "<IPython.core.display.HTML object>"
      ]
     },
     "metadata": {},
     "output_type": "display_data"
    },
    {
     "data": {
      "text/html": [
       "Syncing run <strong><a href='https://wandb.ai/deepsat/House%20Pricing/runs/t02nqub8' target=\"_blank\">Dana_6SY7MFXS</a></strong> to <a href='https://wandb.ai/deepsat/House%20Pricing' target=\"_blank\">Weights & Biases</a> (<a href='https://wandb.me/run' target=\"_blank\">docs</a>)<br/>"
      ],
      "text/plain": [
       "<IPython.core.display.HTML object>"
      ]
     },
     "metadata": {},
     "output_type": "display_data"
    },
    {
     "data": {
      "text/html": [
       " View project at <a href='https://wandb.ai/deepsat/House%20Pricing' target=\"_blank\">https://wandb.ai/deepsat/House%20Pricing</a>"
      ],
      "text/plain": [
       "<IPython.core.display.HTML object>"
      ]
     },
     "metadata": {},
     "output_type": "display_data"
    },
    {
     "data": {
      "text/html": [
       " View run at <a href='https://wandb.ai/deepsat/House%20Pricing/runs/t02nqub8' target=\"_blank\">https://wandb.ai/deepsat/House%20Pricing/runs/t02nqub8</a>"
      ],
      "text/plain": [
       "<IPython.core.display.HTML object>"
      ]
     },
     "metadata": {},
     "output_type": "display_data"
    },
    {
     "name": "stderr",
     "output_type": "stream",
     "text": [
      "GPU available: True (cuda), used: True\n",
      "TPU available: False, using: 0 TPU cores\n",
      "IPU available: False, using: 0 IPUs\n",
      "HPU available: False, using: 0 HPUs\n"
     ]
    },
    {
     "name": "stdout",
     "output_type": "stream",
     "text": [
      "[INFO]: Input size: 244\n",
      "[INFO]: Preprocessing training dataframe...\n",
      "[INFO]: Dropping columns with full of NA or Identifiers. Current dataframe shape: (1460, 81)\n",
      "[INFO]: Dropped columns with full of NA or Identifiers. Current dataframe shape: (1460, 74)\n",
      "[INFO]: Dropping categories types with few ocurrence. Current dataframe shape: (1460, 74)\n",
      "[INFO]: Few ocurrences removed. Current dataframe shape: (1443, 74)\n",
      "[INFO]: Dropping columns which contains just one type of category. Current dataframe shape: (1443, 74)\n",
      "[INFO]: Columns with just one type of categroy dropped. Current dataframe shape: (1443, 73)\n",
      "[INFO]: Preprocessing predict dataframe...\n",
      "[INFO]: Dropping columns with full of NA or Identifiers. Current dataframe shape: (1459, 80)\n",
      "[INFO]: Dropped columns with full of NA or Identifiers. Current dataframe shape: (1459, 73)\n"
     ]
    },
    {
     "name": "stderr",
     "output_type": "stream",
     "text": [
      "/root/miniconda3/envs/pricehousing/lib/python3.9/site-packages/pytorch_lightning/loggers/wandb.py:391: There is a wandb run already in progress and newly created instances of `WandbLogger` will reuse this run. If this is not desired, call `wandb.finish()` before instantiating `WandbLogger`.\n",
      "LOCAL_RANK: 0 - CUDA_VISIBLE_DEVICES: [0]\n",
      "\n",
      "  | Name | Type       | Params\n",
      "------------------------------------\n",
      "0 | net  | Sequential | 215 K \n",
      "------------------------------------\n",
      "215 K     Trainable params\n",
      "0         Non-trainable params\n",
      "215 K     Total params\n",
      "0.864     Total estimated model params size (MB)\n"
     ]
    },
    {
     "name": "stdout",
     "output_type": "stream",
     "text": [
      "[INFO]: Setting up fit dataset/s\n",
      "[INFO]: Train dataset size: 981\n",
      "[INFO]: Validation dataset size: 173\n",
      "Sanity Checking: |          | 0/? [00:00<?, ?it/s][INFO]: Validation dataloader size: 1\n",
      "                                                                            "
     ]
    },
    {
     "name": "stderr",
     "output_type": "stream",
     "text": [
      "/root/miniconda3/envs/pricehousing/lib/python3.9/site-packages/lightning/pytorch/trainer/connectors/data_connector.py:492: Your `val_dataloader`'s sampler has shuffling enabled, it is strongly recommended that you turn shuffling off for val/test dataloaders.\n",
      "/root/miniconda3/envs/pricehousing/lib/python3.9/site-packages/lightning/pytorch/trainer/connectors/data_connector.py:441: The 'val_dataloader' does not have many workers which may be a bottleneck. Consider increasing the value of the `num_workers` argument` to `num_workers=11` in the `DataLoader` to improve performance.\n",
      "/root/miniconda3/envs/pricehousing/lib/python3.9/site-packages/lightning/pytorch/trainer/connectors/data_connector.py:441: The 'train_dataloader' does not have many workers which may be a bottleneck. Consider increasing the value of the `num_workers` argument` to `num_workers=11` in the `DataLoader` to improve performance.\n"
     ]
    },
    {
     "name": "stdout",
     "output_type": "stream",
     "text": [
      "[INFO]: Train dataloader size: 2\n",
      "Training: |          | 0/? [00:00<?, ?it/s][INFO]: Logger save dir: .\n",
      "[INFO]: Logger name: lightning_logs\n",
      "[INFO]: Logger version: t02nqub8\n",
      "Epoch 0: 100%|██████████| 2/2 [00:00<00:00, 17.58it/s, v_num=qub8]"
     ]
    },
    {
     "name": "stderr",
     "output_type": "stream",
     "text": [
      "Metric val_loss improved. New best score: 6099783680.000\n"
     ]
    },
    {
     "name": "stdout",
     "output_type": "stream",
     "text": [
      "Epoch 50: 100%|██████████| 2/2 [00:00<00:00, 18.93it/s, v_num=qub8]"
     ]
    },
    {
     "name": "stderr",
     "output_type": "stream",
     "text": [
      "Monitored metric val_loss did not improve in the last 50 records. Best score: 6099783680.000. Signaling Trainer to stop.\n"
     ]
    },
    {
     "name": "stdout",
     "output_type": "stream",
     "text": [
      "Epoch 50: 100%|██████████| 2/2 [00:00<00:00, 18.09it/s, v_num=qub8]\n",
      "[INFO]: Preprocessing training dataframe...\n",
      "[INFO]: Dropping columns with full of NA or Identifiers. Current dataframe shape: (1460, 81)\n",
      "[INFO]: Dropped columns with full of NA or Identifiers. Current dataframe shape: (1460, 74)\n",
      "[INFO]: Dropping categories types with few ocurrence. Current dataframe shape: (1460, 74)\n",
      "[INFO]: Few ocurrences removed. Current dataframe shape: (1443, 74)\n",
      "[INFO]: Dropping columns which contains just one type of category. Current dataframe shape: (1443, 74)\n",
      "[INFO]: Columns with just one type of categroy dropped. Current dataframe shape: (1443, 73)\n",
      "[INFO]: Preprocessing predict dataframe...\n",
      "[INFO]: Dropping columns with full of NA or Identifiers. Current dataframe shape: (1459, 80)\n",
      "[INFO]: Dropped columns with full of NA or Identifiers. Current dataframe shape: (1459, 73)\n"
     ]
    },
    {
     "name": "stderr",
     "output_type": "stream",
     "text": [
      "LOCAL_RANK: 0 - CUDA_VISIBLE_DEVICES: [0]\n",
      "/root/miniconda3/envs/pricehousing/lib/python3.9/site-packages/lightning/pytorch/trainer/connectors/data_connector.py:441: The 'test_dataloader' does not have many workers which may be a bottleneck. Consider increasing the value of the `num_workers` argument` to `num_workers=11` in the `DataLoader` to improve performance.\n"
     ]
    },
    {
     "name": "stdout",
     "output_type": "stream",
     "text": [
      "[INFO]: Setting up test dataset/s\n",
      "[INFO]: Test dataloader size: 1\n",
      "Testing DataLoader 0: 100%|██████████| 1/1 [00:00<00:00, 122.44it/s]\n",
      "────────────────────────────────────────────────────────────────────────────────────────────────────────────────────────\n",
      "       Test metric             DataLoader 0\n",
      "────────────────────────────────────────────────────────────────────────────────────────────────────────────────────────\n",
      "        test_loss              36679364608.0\n",
      "────────────────────────────────────────────────────────────────────────────────────────────────────────────────────────\n"
     ]
    },
    {
     "data": {
      "text/html": [
       "<style>\n",
       "    table.wandb td:nth-child(1) { padding: 0 10px; text-align: left ; width: auto;} td:nth-child(2) {text-align: left ; width: 100%}\n",
       "    .wandb-row { display: flex; flex-direction: row; flex-wrap: wrap; justify-content: flex-start; width: 100% }\n",
       "    .wandb-col { display: flex; flex-direction: column; flex-basis: 100%; flex: 1; padding: 10px; }\n",
       "    </style>\n",
       "<div class=\"wandb-row\"><div class=\"wandb-col\"><h3>Run history:</h3><br/><table class=\"wandb\"><tr><td>epoch</td><td>▁▁▁▁▂▂▂▂▂▃▃▃▃▃▃▄▄▄▄▄▄▅▅▅▅▅▆▆▆▆▆▆▇▇▇▇▇███</td></tr><tr><td>test_loss</td><td>▁</td></tr><tr><td>train_loss</td><td>█▁▃▇█▇▇█▇▇█▇█▇▇▇▇▇█▇▇▇█▇▇▇▇▇▇▇▇▇▇▇▇▇▇▇▇▇</td></tr><tr><td>trainer/global_step</td><td>▁▁▁▁▂▂▂▂▂▃▃▃▃▃▃▄▄▄▄▄▄▅▅▅▅▅▆▆▆▆▆▇▇▇▇▇▇███</td></tr><tr><td>val_loss</td><td>▁▄▇█████████████████████████████████████</td></tr></table><br/></div><div class=\"wandb-col\"><h3>Run summary:</h3><br/><table class=\"wandb\"><tr><td>epoch</td><td>51</td></tr><tr><td>test_loss</td><td>36679364608.0</td></tr><tr><td>train_loss</td><td>39722242048.0</td></tr><tr><td>trainer/global_step</td><td>102</td></tr><tr><td>val_loss</td><td>37966741504.0</td></tr></table><br/></div></div>"
      ],
      "text/plain": [
       "<IPython.core.display.HTML object>"
      ]
     },
     "metadata": {},
     "output_type": "display_data"
    },
    {
     "data": {
      "text/html": [
       " View run <strong style=\"color:#cdcd00\">Dana_6SY7MFXS</strong> at: <a href='https://wandb.ai/deepsat/House%20Pricing/runs/t02nqub8' target=\"_blank\">https://wandb.ai/deepsat/House%20Pricing/runs/t02nqub8</a><br/> View project at: <a href='https://wandb.ai/deepsat/House%20Pricing' target=\"_blank\">https://wandb.ai/deepsat/House%20Pricing</a><br/>Synced 6 W&B file(s), 0 media file(s), 1 artifact file(s) and 0 other file(s)"
      ],
      "text/plain": [
       "<IPython.core.display.HTML object>"
      ]
     },
     "metadata": {},
     "output_type": "display_data"
    },
    {
     "data": {
      "text/html": [
       "Find logs at: <code>./wandb/run-20240418_104258-t02nqub8/logs</code>"
      ],
      "text/plain": [
       "<IPython.core.display.HTML object>"
      ]
     },
     "metadata": {},
     "output_type": "display_data"
    },
    {
     "name": "stdout",
     "output_type": "stream",
     "text": [
      "[INFO]: Preprocessing training dataframe...\n",
      "[INFO]: Dropping columns with full of NA or Identifiers. Current dataframe shape: (1460, 81)\n",
      "[INFO]: Dropped columns with full of NA or Identifiers. Current dataframe shape: (1460, 74)\n",
      "[INFO]: Dropping categories types with few ocurrence. Current dataframe shape: (1460, 74)\n",
      "[INFO]: Few ocurrences removed. Current dataframe shape: (1443, 74)\n",
      "[INFO]: Dropping columns which contains just one type of category. Current dataframe shape: (1443, 74)\n",
      "[INFO]: Columns with just one type of categroy dropped. Current dataframe shape: (1443, 73)\n",
      "[INFO]: Preprocessing predict dataframe...\n",
      "[INFO]: Dropping columns with full of NA or Identifiers. Current dataframe shape: (1459, 80)\n",
      "[INFO]: Dropped columns with full of NA or Identifiers. Current dataframe shape: (1459, 73)\n"
     ]
    },
    {
     "data": {
      "text/html": [
       "Tracking run with wandb version 0.16.6"
      ],
      "text/plain": [
       "<IPython.core.display.HTML object>"
      ]
     },
     "metadata": {},
     "output_type": "display_data"
    },
    {
     "data": {
      "text/html": [
       "Run data is saved locally in <code>/root/repos/lightning/HousePricing/wandb/run-20240418_104314-q364k7pm</code>"
      ],
      "text/plain": [
       "<IPython.core.display.HTML object>"
      ]
     },
     "metadata": {},
     "output_type": "display_data"
    },
    {
     "data": {
      "text/html": [
       "Syncing run <strong><a href='https://wandb.ai/deepsat/House%20Pricing/runs/q364k7pm' target=\"_blank\">James_6G45TE6G</a></strong> to <a href='https://wandb.ai/deepsat/House%20Pricing' target=\"_blank\">Weights & Biases</a> (<a href='https://wandb.me/run' target=\"_blank\">docs</a>)<br/>"
      ],
      "text/plain": [
       "<IPython.core.display.HTML object>"
      ]
     },
     "metadata": {},
     "output_type": "display_data"
    },
    {
     "data": {
      "text/html": [
       " View project at <a href='https://wandb.ai/deepsat/House%20Pricing' target=\"_blank\">https://wandb.ai/deepsat/House%20Pricing</a>"
      ],
      "text/plain": [
       "<IPython.core.display.HTML object>"
      ]
     },
     "metadata": {},
     "output_type": "display_data"
    },
    {
     "data": {
      "text/html": [
       " View run at <a href='https://wandb.ai/deepsat/House%20Pricing/runs/q364k7pm' target=\"_blank\">https://wandb.ai/deepsat/House%20Pricing/runs/q364k7pm</a>"
      ],
      "text/plain": [
       "<IPython.core.display.HTML object>"
      ]
     },
     "metadata": {},
     "output_type": "display_data"
    },
    {
     "name": "stderr",
     "output_type": "stream",
     "text": [
      "GPU available: True (cuda), used: True\n",
      "TPU available: False, using: 0 TPU cores\n",
      "IPU available: False, using: 0 IPUs\n",
      "HPU available: False, using: 0 HPUs\n"
     ]
    },
    {
     "name": "stdout",
     "output_type": "stream",
     "text": [
      "[INFO]: Input size: 244\n",
      "[INFO]: Preprocessing training dataframe...\n",
      "[INFO]: Dropping columns with full of NA or Identifiers. Current dataframe shape: (1460, 81)\n",
      "[INFO]: Dropped columns with full of NA or Identifiers. Current dataframe shape: (1460, 74)\n",
      "[INFO]: Dropping categories types with few ocurrence. Current dataframe shape: (1460, 74)\n",
      "[INFO]: Few ocurrences removed. Current dataframe shape: (1443, 74)\n",
      "[INFO]: Dropping columns which contains just one type of category. Current dataframe shape: (1443, 74)\n",
      "[INFO]: Columns with just one type of categroy dropped. Current dataframe shape: (1443, 73)\n",
      "[INFO]: Preprocessing predict dataframe...\n",
      "[INFO]: Dropping columns with full of NA or Identifiers. Current dataframe shape: (1459, 80)\n",
      "[INFO]: Dropped columns with full of NA or Identifiers. Current dataframe shape: (1459, 73)\n"
     ]
    },
    {
     "name": "stderr",
     "output_type": "stream",
     "text": [
      "/root/miniconda3/envs/pricehousing/lib/python3.9/site-packages/pytorch_lightning/loggers/wandb.py:391: There is a wandb run already in progress and newly created instances of `WandbLogger` will reuse this run. If this is not desired, call `wandb.finish()` before instantiating `WandbLogger`.\n",
      "LOCAL_RANK: 0 - CUDA_VISIBLE_DEVICES: [0]\n",
      "\n",
      "  | Name | Type       | Params\n",
      "------------------------------------\n",
      "0 | net  | Sequential | 215 K \n",
      "------------------------------------\n",
      "215 K     Trainable params\n",
      "0         Non-trainable params\n",
      "215 K     Total params\n",
      "0.864     Total estimated model params size (MB)\n"
     ]
    },
    {
     "name": "stdout",
     "output_type": "stream",
     "text": [
      "[INFO]: Setting up fit dataset/s\n",
      "[INFO]: Train dataset size: 981\n",
      "[INFO]: Validation dataset size: 173\n",
      "Sanity Checking: |          | 0/? [00:00<?, ?it/s][INFO]: Validation dataloader size: 1\n",
      "                                                                            "
     ]
    },
    {
     "name": "stderr",
     "output_type": "stream",
     "text": [
      "/root/miniconda3/envs/pricehousing/lib/python3.9/site-packages/lightning/pytorch/trainer/connectors/data_connector.py:492: Your `val_dataloader`'s sampler has shuffling enabled, it is strongly recommended that you turn shuffling off for val/test dataloaders.\n",
      "/root/miniconda3/envs/pricehousing/lib/python3.9/site-packages/lightning/pytorch/trainer/connectors/data_connector.py:441: The 'val_dataloader' does not have many workers which may be a bottleneck. Consider increasing the value of the `num_workers` argument` to `num_workers=11` in the `DataLoader` to improve performance.\n",
      "/root/miniconda3/envs/pricehousing/lib/python3.9/site-packages/lightning/pytorch/trainer/connectors/data_connector.py:441: The 'train_dataloader' does not have many workers which may be a bottleneck. Consider increasing the value of the `num_workers` argument` to `num_workers=11` in the `DataLoader` to improve performance.\n"
     ]
    },
    {
     "name": "stdout",
     "output_type": "stream",
     "text": [
      "[INFO]: Train dataloader size: 2\n",
      "Training: |          | 0/? [00:00<?, ?it/s][INFO]: Logger save dir: .\n",
      "[INFO]: Logger name: lightning_logs\n",
      "[INFO]: Logger version: q364k7pm\n",
      "Epoch 0: 100%|██████████| 2/2 [00:00<00:00, 17.23it/s, v_num=k7pm]"
     ]
    },
    {
     "name": "stderr",
     "output_type": "stream",
     "text": [
      "Metric val_loss improved. New best score: 5865438720.000\n"
     ]
    },
    {
     "name": "stdout",
     "output_type": "stream",
     "text": [
      "Epoch 50: 100%|██████████| 2/2 [00:00<00:00, 18.00it/s, v_num=k7pm]"
     ]
    },
    {
     "name": "stderr",
     "output_type": "stream",
     "text": [
      "Monitored metric val_loss did not improve in the last 50 records. Best score: 5865438720.000. Signaling Trainer to stop.\n"
     ]
    },
    {
     "name": "stdout",
     "output_type": "stream",
     "text": [
      "Epoch 50: 100%|██████████| 2/2 [00:00<00:00, 17.21it/s, v_num=k7pm]\n",
      "[INFO]: Preprocessing training dataframe...\n",
      "[INFO]: Dropping columns with full of NA or Identifiers. Current dataframe shape: (1460, 81)\n",
      "[INFO]: Dropped columns with full of NA or Identifiers. Current dataframe shape: (1460, 74)\n",
      "[INFO]: Dropping categories types with few ocurrence. Current dataframe shape: (1460, 74)\n",
      "[INFO]: Few ocurrences removed. Current dataframe shape: (1443, 74)\n",
      "[INFO]: Dropping columns which contains just one type of category. Current dataframe shape: (1443, 74)\n",
      "[INFO]: Columns with just one type of categroy dropped. Current dataframe shape: (1443, 73)\n",
      "[INFO]: Preprocessing predict dataframe...\n",
      "[INFO]: Dropping columns with full of NA or Identifiers. Current dataframe shape: (1459, 80)\n",
      "[INFO]: Dropped columns with full of NA or Identifiers. Current dataframe shape: (1459, 73)\n"
     ]
    },
    {
     "name": "stderr",
     "output_type": "stream",
     "text": [
      "LOCAL_RANK: 0 - CUDA_VISIBLE_DEVICES: [0]\n",
      "/root/miniconda3/envs/pricehousing/lib/python3.9/site-packages/lightning/pytorch/trainer/connectors/data_connector.py:441: The 'test_dataloader' does not have many workers which may be a bottleneck. Consider increasing the value of the `num_workers` argument` to `num_workers=11` in the `DataLoader` to improve performance.\n"
     ]
    },
    {
     "name": "stdout",
     "output_type": "stream",
     "text": [
      "[INFO]: Setting up test dataset/s\n",
      "[INFO]: Test dataloader size: 1\n",
      "Testing DataLoader 0: 100%|██████████| 1/1 [00:00<00:00, 87.45it/s] \n",
      "────────────────────────────────────────────────────────────────────────────────────────────────────────────────────────\n",
      "       Test metric             DataLoader 0\n",
      "────────────────────────────────────────────────────────────────────────────────────────────────────────────────────────\n",
      "        test_loss              5516247552.0\n",
      "────────────────────────────────────────────────────────────────────────────────────────────────────────────────────────\n"
     ]
    },
    {
     "data": {
      "text/html": [
       "<style>\n",
       "    table.wandb td:nth-child(1) { padding: 0 10px; text-align: left ; width: auto;} td:nth-child(2) {text-align: left ; width: 100%}\n",
       "    .wandb-row { display: flex; flex-direction: row; flex-wrap: wrap; justify-content: flex-start; width: 100% }\n",
       "    .wandb-col { display: flex; flex-direction: column; flex-basis: 100%; flex: 1; padding: 10px; }\n",
       "    </style>\n",
       "<div class=\"wandb-row\"><div class=\"wandb-col\"><h3>Run history:</h3><br/><table class=\"wandb\"><tr><td>epoch</td><td>▁▁▁▁▂▂▂▂▂▃▃▃▃▃▃▄▄▄▄▄▄▅▅▅▅▅▆▆▆▆▆▆▇▇▇▇▇███</td></tr><tr><td>test_loss</td><td>▁</td></tr><tr><td>train_loss</td><td>█▁▃█▇▇█▇██▇█████▇▇▇▇▇▆▆▄▃▂▁▁▁▂▁▁▁▁▁▁▁▁▁▁</td></tr><tr><td>trainer/global_step</td><td>▁▁▁▁▂▂▂▂▂▃▃▃▃▃▃▄▄▄▄▄▄▅▅▅▅▅▆▆▆▆▆▇▇▇▇▇▇███</td></tr><tr><td>val_loss</td><td>▁▄▇███████████████▇▇▇▆▅▄▃▂▁▁▂▂▁▁▁▁▁▁▁▁▁▁</td></tr></table><br/></div><div class=\"wandb-col\"><h3>Run summary:</h3><br/><table class=\"wandb\"><tr><td>epoch</td><td>51</td></tr><tr><td>test_loss</td><td>5516247552.0</td></tr><tr><td>train_loss</td><td>6317772288.0</td></tr><tr><td>trainer/global_step</td><td>102</td></tr><tr><td>val_loss</td><td>7074781696.0</td></tr></table><br/></div></div>"
      ],
      "text/plain": [
       "<IPython.core.display.HTML object>"
      ]
     },
     "metadata": {},
     "output_type": "display_data"
    },
    {
     "data": {
      "text/html": [
       " View run <strong style=\"color:#cdcd00\">James_6G45TE6G</strong> at: <a href='https://wandb.ai/deepsat/House%20Pricing/runs/q364k7pm' target=\"_blank\">https://wandb.ai/deepsat/House%20Pricing/runs/q364k7pm</a><br/> View project at: <a href='https://wandb.ai/deepsat/House%20Pricing' target=\"_blank\">https://wandb.ai/deepsat/House%20Pricing</a><br/>Synced 6 W&B file(s), 0 media file(s), 1 artifact file(s) and 0 other file(s)"
      ],
      "text/plain": [
       "<IPython.core.display.HTML object>"
      ]
     },
     "metadata": {},
     "output_type": "display_data"
    },
    {
     "data": {
      "text/html": [
       "Find logs at: <code>./wandb/run-20240418_104314-q364k7pm/logs</code>"
      ],
      "text/plain": [
       "<IPython.core.display.HTML object>"
      ]
     },
     "metadata": {},
     "output_type": "display_data"
    },
    {
     "name": "stdout",
     "output_type": "stream",
     "text": [
      "[INFO]: Preprocessing training dataframe...\n",
      "[INFO]: Dropping columns with full of NA or Identifiers. Current dataframe shape: (1460, 81)\n",
      "[INFO]: Dropped columns with full of NA or Identifiers. Current dataframe shape: (1460, 74)\n",
      "[INFO]: Dropping categories types with few ocurrence. Current dataframe shape: (1460, 74)\n",
      "[INFO]: Few ocurrences removed. Current dataframe shape: (1443, 74)\n",
      "[INFO]: Dropping columns which contains just one type of category. Current dataframe shape: (1443, 74)\n",
      "[INFO]: Columns with just one type of categroy dropped. Current dataframe shape: (1443, 73)\n",
      "[INFO]: Preprocessing predict dataframe...\n",
      "[INFO]: Dropping columns with full of NA or Identifiers. Current dataframe shape: (1459, 80)\n",
      "[INFO]: Dropped columns with full of NA or Identifiers. Current dataframe shape: (1459, 73)\n"
     ]
    },
    {
     "data": {
      "text/html": [
       "Tracking run with wandb version 0.16.6"
      ],
      "text/plain": [
       "<IPython.core.display.HTML object>"
      ]
     },
     "metadata": {},
     "output_type": "display_data"
    },
    {
     "data": {
      "text/html": [
       "Run data is saved locally in <code>/root/repos/lightning/HousePricing/wandb/run-20240418_104332-8axi6zl2</code>"
      ],
      "text/plain": [
       "<IPython.core.display.HTML object>"
      ]
     },
     "metadata": {},
     "output_type": "display_data"
    },
    {
     "data": {
      "text/html": [
       "Syncing run <strong><a href='https://wandb.ai/deepsat/House%20Pricing/runs/8axi6zl2' target=\"_blank\">Joshua_L84TM1E8</a></strong> to <a href='https://wandb.ai/deepsat/House%20Pricing' target=\"_blank\">Weights & Biases</a> (<a href='https://wandb.me/run' target=\"_blank\">docs</a>)<br/>"
      ],
      "text/plain": [
       "<IPython.core.display.HTML object>"
      ]
     },
     "metadata": {},
     "output_type": "display_data"
    },
    {
     "data": {
      "text/html": [
       " View project at <a href='https://wandb.ai/deepsat/House%20Pricing' target=\"_blank\">https://wandb.ai/deepsat/House%20Pricing</a>"
      ],
      "text/plain": [
       "<IPython.core.display.HTML object>"
      ]
     },
     "metadata": {},
     "output_type": "display_data"
    },
    {
     "data": {
      "text/html": [
       " View run at <a href='https://wandb.ai/deepsat/House%20Pricing/runs/8axi6zl2' target=\"_blank\">https://wandb.ai/deepsat/House%20Pricing/runs/8axi6zl2</a>"
      ],
      "text/plain": [
       "<IPython.core.display.HTML object>"
      ]
     },
     "metadata": {},
     "output_type": "display_data"
    },
    {
     "name": "stderr",
     "output_type": "stream",
     "text": [
      "GPU available: True (cuda), used: True\n",
      "TPU available: False, using: 0 TPU cores\n",
      "IPU available: False, using: 0 IPUs\n",
      "HPU available: False, using: 0 HPUs\n"
     ]
    },
    {
     "name": "stdout",
     "output_type": "stream",
     "text": [
      "[INFO]: Input size: 244\n",
      "[INFO]: Preprocessing training dataframe...\n",
      "[INFO]: Dropping columns with full of NA or Identifiers. Current dataframe shape: (1460, 81)\n",
      "[INFO]: Dropped columns with full of NA or Identifiers. Current dataframe shape: (1460, 74)\n",
      "[INFO]: Dropping categories types with few ocurrence. Current dataframe shape: (1460, 74)\n",
      "[INFO]: Few ocurrences removed. Current dataframe shape: (1443, 74)\n",
      "[INFO]: Dropping columns which contains just one type of category. Current dataframe shape: (1443, 74)\n",
      "[INFO]: Columns with just one type of categroy dropped. Current dataframe shape: (1443, 73)\n",
      "[INFO]: Preprocessing predict dataframe...\n",
      "[INFO]: Dropping columns with full of NA or Identifiers. Current dataframe shape: (1459, 80)\n",
      "[INFO]: Dropped columns with full of NA or Identifiers. Current dataframe shape: (1459, 73)\n"
     ]
    },
    {
     "name": "stderr",
     "output_type": "stream",
     "text": [
      "/root/miniconda3/envs/pricehousing/lib/python3.9/site-packages/pytorch_lightning/loggers/wandb.py:391: There is a wandb run already in progress and newly created instances of `WandbLogger` will reuse this run. If this is not desired, call `wandb.finish()` before instantiating `WandbLogger`.\n",
      "LOCAL_RANK: 0 - CUDA_VISIBLE_DEVICES: [0]\n",
      "\n",
      "  | Name | Type       | Params\n",
      "------------------------------------\n",
      "0 | net  | Sequential | 215 K \n",
      "------------------------------------\n",
      "215 K     Trainable params\n",
      "0         Non-trainable params\n",
      "215 K     Total params\n",
      "0.864     Total estimated model params size (MB)\n"
     ]
    },
    {
     "name": "stdout",
     "output_type": "stream",
     "text": [
      "[INFO]: Setting up fit dataset/s\n",
      "[INFO]: Train dataset size: 981\n",
      "[INFO]: Validation dataset size: 173\n",
      "Sanity Checking: |          | 0/? [00:00<?, ?it/s][INFO]: Validation dataloader size: 1\n",
      "                                                                            "
     ]
    },
    {
     "name": "stderr",
     "output_type": "stream",
     "text": [
      "/root/miniconda3/envs/pricehousing/lib/python3.9/site-packages/lightning/pytorch/trainer/connectors/data_connector.py:492: Your `val_dataloader`'s sampler has shuffling enabled, it is strongly recommended that you turn shuffling off for val/test dataloaders.\n",
      "/root/miniconda3/envs/pricehousing/lib/python3.9/site-packages/lightning/pytorch/trainer/connectors/data_connector.py:441: The 'val_dataloader' does not have many workers which may be a bottleneck. Consider increasing the value of the `num_workers` argument` to `num_workers=11` in the `DataLoader` to improve performance.\n",
      "/root/miniconda3/envs/pricehousing/lib/python3.9/site-packages/lightning/pytorch/trainer/connectors/data_connector.py:441: The 'train_dataloader' does not have many workers which may be a bottleneck. Consider increasing the value of the `num_workers` argument` to `num_workers=11` in the `DataLoader` to improve performance.\n"
     ]
    },
    {
     "name": "stdout",
     "output_type": "stream",
     "text": [
      "[INFO]: Train dataloader size: 2\n",
      "Training: |          | 0/? [00:00<?, ?it/s][INFO]: Logger save dir: .\n",
      "[INFO]: Logger name: lightning_logs\n",
      "[INFO]: Logger version: 8axi6zl2\n",
      "Epoch 0: 100%|██████████| 2/2 [00:00<00:00, 18.02it/s, v_num=6zl2]"
     ]
    },
    {
     "name": "stderr",
     "output_type": "stream",
     "text": [
      "Metric val_loss improved. New best score: 7697178112.000\n"
     ]
    },
    {
     "name": "stdout",
     "output_type": "stream",
     "text": [
      "Epoch 24: 100%|██████████| 2/2 [00:00<00:00, 20.49it/s, v_num=6zl2]"
     ]
    },
    {
     "name": "stderr",
     "output_type": "stream",
     "text": [
      "Metric val_loss improved by 834968064.000 >= min_delta = 0.0. New best score: 6862210048.000\n"
     ]
    },
    {
     "name": "stdout",
     "output_type": "stream",
     "text": [
      "Epoch 30: 100%|██████████| 2/2 [00:00<00:00, 20.75it/s, v_num=6zl2]"
     ]
    },
    {
     "name": "stderr",
     "output_type": "stream",
     "text": [
      "Metric val_loss improved by 50892288.000 >= min_delta = 0.0. New best score: 6811317760.000\n"
     ]
    },
    {
     "name": "stdout",
     "output_type": "stream",
     "text": [
      "Epoch 37: 100%|██████████| 2/2 [00:00<00:00, 19.66it/s, v_num=6zl2]"
     ]
    },
    {
     "name": "stderr",
     "output_type": "stream",
     "text": [
      "Metric val_loss improved by 1108480.000 >= min_delta = 0.0. New best score: 6810209280.000\n"
     ]
    },
    {
     "name": "stdout",
     "output_type": "stream",
     "text": [
      "Epoch 45: 100%|██████████| 2/2 [00:00<00:00, 21.35it/s, v_num=6zl2]"
     ]
    },
    {
     "name": "stderr",
     "output_type": "stream",
     "text": [
      "Metric val_loss improved by 4957184.000 >= min_delta = 0.0. New best score: 6805252096.000\n"
     ]
    },
    {
     "name": "stdout",
     "output_type": "stream",
     "text": [
      "Epoch 48: 100%|██████████| 2/2 [00:00<00:00, 20.78it/s, v_num=6zl2]"
     ]
    },
    {
     "name": "stderr",
     "output_type": "stream",
     "text": [
      "Metric val_loss improved by 1680384.000 >= min_delta = 0.0. New best score: 6803571712.000\n"
     ]
    },
    {
     "name": "stdout",
     "output_type": "stream",
     "text": [
      "Epoch 98: 100%|██████████| 2/2 [00:00<00:00, 19.51it/s, v_num=6zl2]"
     ]
    },
    {
     "name": "stderr",
     "output_type": "stream",
     "text": [
      "Monitored metric val_loss did not improve in the last 50 records. Best score: 6803571712.000. Signaling Trainer to stop.\n"
     ]
    },
    {
     "name": "stdout",
     "output_type": "stream",
     "text": [
      "Epoch 98: 100%|██████████| 2/2 [00:00<00:00, 18.50it/s, v_num=6zl2]\n",
      "[INFO]: Preprocessing training dataframe...\n",
      "[INFO]: Dropping columns with full of NA or Identifiers. Current dataframe shape: (1460, 81)\n",
      "[INFO]: Dropped columns with full of NA or Identifiers. Current dataframe shape: (1460, 74)\n",
      "[INFO]: Dropping categories types with few ocurrence. Current dataframe shape: (1460, 74)\n",
      "[INFO]: Few ocurrences removed. Current dataframe shape: (1443, 74)\n",
      "[INFO]: Dropping columns which contains just one type of category. Current dataframe shape: (1443, 74)\n",
      "[INFO]: Columns with just one type of categroy dropped. Current dataframe shape: (1443, 73)\n",
      "[INFO]: Preprocessing predict dataframe...\n",
      "[INFO]: Dropping columns with full of NA or Identifiers. Current dataframe shape: (1459, 80)\n",
      "[INFO]: Dropped columns with full of NA or Identifiers. Current dataframe shape: (1459, 73)\n"
     ]
    },
    {
     "name": "stderr",
     "output_type": "stream",
     "text": [
      "LOCAL_RANK: 0 - CUDA_VISIBLE_DEVICES: [0]\n",
      "/root/miniconda3/envs/pricehousing/lib/python3.9/site-packages/lightning/pytorch/trainer/connectors/data_connector.py:441: The 'test_dataloader' does not have many workers which may be a bottleneck. Consider increasing the value of the `num_workers` argument` to `num_workers=11` in the `DataLoader` to improve performance.\n"
     ]
    },
    {
     "name": "stdout",
     "output_type": "stream",
     "text": [
      "[INFO]: Setting up test dataset/s\n",
      "[INFO]: Test dataloader size: 1\n",
      "Testing DataLoader 0: 100%|██████████| 1/1 [00:00<00:00, 74.69it/s] \n",
      "────────────────────────────────────────────────────────────────────────────────────────────────────────────────────────\n",
      "       Test metric             DataLoader 0\n",
      "────────────────────────────────────────────────────────────────────────────────────────────────────────────────────────\n",
      "        test_loss              5274453504.0\n",
      "────────────────────────────────────────────────────────────────────────────────────────────────────────────────────────\n"
     ]
    },
    {
     "data": {
      "text/html": [
       "<style>\n",
       "    table.wandb td:nth-child(1) { padding: 0 10px; text-align: left ; width: auto;} td:nth-child(2) {text-align: left ; width: 100%}\n",
       "    .wandb-row { display: flex; flex-direction: row; flex-wrap: wrap; justify-content: flex-start; width: 100% }\n",
       "    .wandb-col { display: flex; flex-direction: column; flex-basis: 100%; flex: 1; padding: 10px; }\n",
       "    </style>\n",
       "<div class=\"wandb-row\"><div class=\"wandb-col\"><h3>Run history:</h3><br/><table class=\"wandb\"><tr><td>epoch</td><td>▁▁▁▁▂▂▂▂▂▃▃▃▃▃▃▄▄▄▄▄▅▅▅▅▅▅▆▆▆▆▆▇▇▇▇▇▇███</td></tr><tr><td>test_loss</td><td>▁</td></tr><tr><td>train_loss</td><td>▇▄██▇█▇▇▅▃▁▂▁▁▁▁▁▁▁▁▁▁▁▁▁▁▁▁▁▁▁▁▁▁▁▁▁▁▁▁</td></tr><tr><td>trainer/global_step</td><td>▁▁▁▁▂▂▂▂▂▃▃▃▃▃▃▄▄▄▄▄▅▅▅▅▅▅▆▆▆▆▆▇▇▇▇▇▇███</td></tr><tr><td>val_loss</td><td>▁▇█████▇▅▃▁▂▁▁▁▁▁▁▁▁▁▁▁▁▁▁▁▁▁▁▁▁▁▁▁▁▁▁▁▁</td></tr></table><br/></div><div class=\"wandb-col\"><h3>Run summary:</h3><br/><table class=\"wandb\"><tr><td>epoch</td><td>99</td></tr><tr><td>test_loss</td><td>5274453504.0</td></tr><tr><td>train_loss</td><td>7520682496.0</td></tr><tr><td>trainer/global_step</td><td>198</td></tr><tr><td>val_loss</td><td>6836323840.0</td></tr></table><br/></div></div>"
      ],
      "text/plain": [
       "<IPython.core.display.HTML object>"
      ]
     },
     "metadata": {},
     "output_type": "display_data"
    },
    {
     "data": {
      "text/html": [
       " View run <strong style=\"color:#cdcd00\">Joshua_L84TM1E8</strong> at: <a href='https://wandb.ai/deepsat/House%20Pricing/runs/8axi6zl2' target=\"_blank\">https://wandb.ai/deepsat/House%20Pricing/runs/8axi6zl2</a><br/> View project at: <a href='https://wandb.ai/deepsat/House%20Pricing' target=\"_blank\">https://wandb.ai/deepsat/House%20Pricing</a><br/>Synced 6 W&B file(s), 0 media file(s), 6 artifact file(s) and 0 other file(s)"
      ],
      "text/plain": [
       "<IPython.core.display.HTML object>"
      ]
     },
     "metadata": {},
     "output_type": "display_data"
    },
    {
     "data": {
      "text/html": [
       "Find logs at: <code>./wandb/run-20240418_104332-8axi6zl2/logs</code>"
      ],
      "text/plain": [
       "<IPython.core.display.HTML object>"
      ]
     },
     "metadata": {},
     "output_type": "display_data"
    },
    {
     "name": "stdout",
     "output_type": "stream",
     "text": [
      "[INFO]: Preprocessing training dataframe...\n",
      "[INFO]: Dropping columns with full of NA or Identifiers. Current dataframe shape: (1460, 81)\n",
      "[INFO]: Dropped columns with full of NA or Identifiers. Current dataframe shape: (1460, 74)\n",
      "[INFO]: Dropping categories types with few ocurrence. Current dataframe shape: (1460, 74)\n",
      "[INFO]: Few ocurrences removed. Current dataframe shape: (1443, 74)\n",
      "[INFO]: Dropping columns which contains just one type of category. Current dataframe shape: (1443, 74)\n",
      "[INFO]: Columns with just one type of categroy dropped. Current dataframe shape: (1443, 73)\n",
      "[INFO]: Preprocessing predict dataframe...\n",
      "[INFO]: Dropping columns with full of NA or Identifiers. Current dataframe shape: (1459, 80)\n",
      "[INFO]: Dropped columns with full of NA or Identifiers. Current dataframe shape: (1459, 73)\n"
     ]
    },
    {
     "data": {
      "text/html": [
       "Tracking run with wandb version 0.16.6"
      ],
      "text/plain": [
       "<IPython.core.display.HTML object>"
      ]
     },
     "metadata": {},
     "output_type": "display_data"
    },
    {
     "data": {
      "text/html": [
       "Run data is saved locally in <code>/root/repos/lightning/HousePricing/wandb/run-20240418_104402-omj3af1k</code>"
      ],
      "text/plain": [
       "<IPython.core.display.HTML object>"
      ]
     },
     "metadata": {},
     "output_type": "display_data"
    },
    {
     "data": {
      "text/html": [
       "Syncing run <strong><a href='https://wandb.ai/deepsat/House%20Pricing/runs/omj3af1k' target=\"_blank\">Rita_B123GCNS</a></strong> to <a href='https://wandb.ai/deepsat/House%20Pricing' target=\"_blank\">Weights & Biases</a> (<a href='https://wandb.me/run' target=\"_blank\">docs</a>)<br/>"
      ],
      "text/plain": [
       "<IPython.core.display.HTML object>"
      ]
     },
     "metadata": {},
     "output_type": "display_data"
    },
    {
     "data": {
      "text/html": [
       " View project at <a href='https://wandb.ai/deepsat/House%20Pricing' target=\"_blank\">https://wandb.ai/deepsat/House%20Pricing</a>"
      ],
      "text/plain": [
       "<IPython.core.display.HTML object>"
      ]
     },
     "metadata": {},
     "output_type": "display_data"
    },
    {
     "data": {
      "text/html": [
       " View run at <a href='https://wandb.ai/deepsat/House%20Pricing/runs/omj3af1k' target=\"_blank\">https://wandb.ai/deepsat/House%20Pricing/runs/omj3af1k</a>"
      ],
      "text/plain": [
       "<IPython.core.display.HTML object>"
      ]
     },
     "metadata": {},
     "output_type": "display_data"
    },
    {
     "name": "stderr",
     "output_type": "stream",
     "text": [
      "GPU available: True (cuda), used: True\n",
      "TPU available: False, using: 0 TPU cores\n",
      "IPU available: False, using: 0 IPUs\n",
      "HPU available: False, using: 0 HPUs\n"
     ]
    },
    {
     "name": "stdout",
     "output_type": "stream",
     "text": [
      "[INFO]: Input size: 244\n",
      "[INFO]: Preprocessing training dataframe...\n",
      "[INFO]: Dropping columns with full of NA or Identifiers. Current dataframe shape: (1460, 81)\n",
      "[INFO]: Dropped columns with full of NA or Identifiers. Current dataframe shape: (1460, 74)\n",
      "[INFO]: Dropping categories types with few ocurrence. Current dataframe shape: (1460, 74)\n",
      "[INFO]: Few ocurrences removed. Current dataframe shape: (1443, 74)\n",
      "[INFO]: Dropping columns which contains just one type of category. Current dataframe shape: (1443, 74)\n",
      "[INFO]: Columns with just one type of categroy dropped. Current dataframe shape: (1443, 73)\n",
      "[INFO]: Preprocessing predict dataframe...\n",
      "[INFO]: Dropping columns with full of NA or Identifiers. Current dataframe shape: (1459, 80)\n",
      "[INFO]: Dropped columns with full of NA or Identifiers. Current dataframe shape: (1459, 73)\n"
     ]
    },
    {
     "name": "stderr",
     "output_type": "stream",
     "text": [
      "/root/miniconda3/envs/pricehousing/lib/python3.9/site-packages/pytorch_lightning/loggers/wandb.py:391: There is a wandb run already in progress and newly created instances of `WandbLogger` will reuse this run. If this is not desired, call `wandb.finish()` before instantiating `WandbLogger`.\n",
      "LOCAL_RANK: 0 - CUDA_VISIBLE_DEVICES: [0]\n",
      "\n",
      "  | Name | Type       | Params\n",
      "------------------------------------\n",
      "0 | net  | Sequential | 215 K \n",
      "------------------------------------\n",
      "215 K     Trainable params\n",
      "0         Non-trainable params\n",
      "215 K     Total params\n",
      "0.864     Total estimated model params size (MB)\n"
     ]
    },
    {
     "name": "stdout",
     "output_type": "stream",
     "text": [
      "[INFO]: Setting up fit dataset/s\n",
      "[INFO]: Train dataset size: 981\n",
      "[INFO]: Validation dataset size: 173\n",
      "Sanity Checking: |          | 0/? [00:00<?, ?it/s][INFO]: Validation dataloader size: 1\n",
      "                                                                            "
     ]
    },
    {
     "name": "stderr",
     "output_type": "stream",
     "text": [
      "/root/miniconda3/envs/pricehousing/lib/python3.9/site-packages/lightning/pytorch/trainer/connectors/data_connector.py:492: Your `val_dataloader`'s sampler has shuffling enabled, it is strongly recommended that you turn shuffling off for val/test dataloaders.\n",
      "/root/miniconda3/envs/pricehousing/lib/python3.9/site-packages/lightning/pytorch/trainer/connectors/data_connector.py:441: The 'val_dataloader' does not have many workers which may be a bottleneck. Consider increasing the value of the `num_workers` argument` to `num_workers=11` in the `DataLoader` to improve performance.\n",
      "/root/miniconda3/envs/pricehousing/lib/python3.9/site-packages/lightning/pytorch/trainer/connectors/data_connector.py:441: The 'train_dataloader' does not have many workers which may be a bottleneck. Consider increasing the value of the `num_workers` argument` to `num_workers=11` in the `DataLoader` to improve performance.\n"
     ]
    },
    {
     "name": "stdout",
     "output_type": "stream",
     "text": [
      "[INFO]: Train dataloader size: 2\n",
      "Training: |          | 0/? [00:00<?, ?it/s][INFO]: Logger save dir: .\n",
      "[INFO]: Logger name: lightning_logs\n",
      "[INFO]: Logger version: omj3af1k\n",
      "Epoch 0: 100%|██████████| 2/2 [00:00<00:00, 17.90it/s, v_num=af1k]"
     ]
    },
    {
     "name": "stderr",
     "output_type": "stream",
     "text": [
      "Metric val_loss improved. New best score: 12437726208.000\n"
     ]
    },
    {
     "name": "stdout",
     "output_type": "stream",
     "text": [
      "Epoch 1: 100%|██████████| 2/2 [00:00<00:00, 19.06it/s, v_num=af1k]"
     ]
    },
    {
     "name": "stderr",
     "output_type": "stream",
     "text": [
      "Metric val_loss improved by 6620647424.000 >= min_delta = 0.0. New best score: 5817078784.000\n"
     ]
    },
    {
     "name": "stdout",
     "output_type": "stream",
     "text": [
      "Epoch 51: 100%|██████████| 2/2 [00:00<00:00, 15.65it/s, v_num=af1k]"
     ]
    },
    {
     "name": "stderr",
     "output_type": "stream",
     "text": [
      "Monitored metric val_loss did not improve in the last 50 records. Best score: 5817078784.000. Signaling Trainer to stop.\n"
     ]
    },
    {
     "name": "stdout",
     "output_type": "stream",
     "text": [
      "Epoch 51: 100%|██████████| 2/2 [00:00<00:00, 15.11it/s, v_num=af1k]\n",
      "[INFO]: Preprocessing training dataframe...\n",
      "[INFO]: Dropping columns with full of NA or Identifiers. Current dataframe shape: (1460, 81)\n",
      "[INFO]: Dropped columns with full of NA or Identifiers. Current dataframe shape: (1460, 74)\n",
      "[INFO]: Dropping categories types with few ocurrence. Current dataframe shape: (1460, 74)\n",
      "[INFO]: Few ocurrences removed. Current dataframe shape: (1443, 74)\n",
      "[INFO]: Dropping columns which contains just one type of category. Current dataframe shape: (1443, 74)\n",
      "[INFO]: Columns with just one type of categroy dropped. Current dataframe shape: (1443, 73)\n",
      "[INFO]: Preprocessing predict dataframe...\n",
      "[INFO]: Dropping columns with full of NA or Identifiers. Current dataframe shape: (1459, 80)\n",
      "[INFO]: Dropped columns with full of NA or Identifiers. Current dataframe shape: (1459, 73)\n"
     ]
    },
    {
     "name": "stderr",
     "output_type": "stream",
     "text": [
      "LOCAL_RANK: 0 - CUDA_VISIBLE_DEVICES: [0]\n",
      "/root/miniconda3/envs/pricehousing/lib/python3.9/site-packages/lightning/pytorch/trainer/connectors/data_connector.py:441: The 'test_dataloader' does not have many workers which may be a bottleneck. Consider increasing the value of the `num_workers` argument` to `num_workers=11` in the `DataLoader` to improve performance.\n"
     ]
    },
    {
     "name": "stdout",
     "output_type": "stream",
     "text": [
      "[INFO]: Setting up test dataset/s\n",
      "[INFO]: Test dataloader size: 1\n",
      "Testing DataLoader 0: 100%|██████████| 1/1 [00:00<00:00, 109.74it/s]\n",
      "────────────────────────────────────────────────────────────────────────────────────────────────────────────────────────\n",
      "       Test metric             DataLoader 0\n",
      "────────────────────────────────────────────────────────────────────────────────────────────────────────────────────────\n",
      "        test_loss              5250480640.0\n",
      "────────────────────────────────────────────────────────────────────────────────────────────────────────────────────────\n"
     ]
    },
    {
     "data": {
      "text/html": [
       "<style>\n",
       "    table.wandb td:nth-child(1) { padding: 0 10px; text-align: left ; width: auto;} td:nth-child(2) {text-align: left ; width: 100%}\n",
       "    .wandb-row { display: flex; flex-direction: row; flex-wrap: wrap; justify-content: flex-start; width: 100% }\n",
       "    .wandb-col { display: flex; flex-direction: column; flex-basis: 100%; flex: 1; padding: 10px; }\n",
       "    </style>\n",
       "<div class=\"wandb-row\"><div class=\"wandb-col\"><h3>Run history:</h3><br/><table class=\"wandb\"><tr><td>epoch</td><td>▁▁▁▁▂▂▂▂▂▃▃▃▃▃▃▄▄▄▄▄▅▅▅▅▅▆▆▆▆▆▆▇▇▇▇▇▇███</td></tr><tr><td>test_loss</td><td>▁</td></tr><tr><td>train_loss</td><td>█▂▅██▇█▇██▇▇█▇▇▇▆▅▄▃▂▁▂▂▂▁▁▁▂▁▁▁▁▁▁▁▁▁▁▁</td></tr><tr><td>trainer/global_step</td><td>▁▁▁▁▂▂▂▂▂▃▃▃▃▃▃▄▄▄▄▄▅▅▅▅▅▅▆▆▆▆▆▇▇▇▇▇▇███</td></tr><tr><td>val_loss</td><td>▂▁▇██████████▇▇▇▆▄▃▂▁▁▂▂▁▁▁▁▁▁▁▁▁▁▁▁▁▁▁▁</td></tr></table><br/></div><div class=\"wandb-col\"><h3>Run summary:</h3><br/><table class=\"wandb\"><tr><td>epoch</td><td>52</td></tr><tr><td>test_loss</td><td>5250480640.0</td></tr><tr><td>train_loss</td><td>5459275264.0</td></tr><tr><td>trainer/global_step</td><td>104</td></tr><tr><td>val_loss</td><td>6803472384.0</td></tr></table><br/></div></div>"
      ],
      "text/plain": [
       "<IPython.core.display.HTML object>"
      ]
     },
     "metadata": {},
     "output_type": "display_data"
    },
    {
     "data": {
      "text/html": [
       " View run <strong style=\"color:#cdcd00\">Rita_B123GCNS</strong> at: <a href='https://wandb.ai/deepsat/House%20Pricing/runs/omj3af1k' target=\"_blank\">https://wandb.ai/deepsat/House%20Pricing/runs/omj3af1k</a><br/> View project at: <a href='https://wandb.ai/deepsat/House%20Pricing' target=\"_blank\">https://wandb.ai/deepsat/House%20Pricing</a><br/>Synced 6 W&B file(s), 0 media file(s), 2 artifact file(s) and 0 other file(s)"
      ],
      "text/plain": [
       "<IPython.core.display.HTML object>"
      ]
     },
     "metadata": {},
     "output_type": "display_data"
    },
    {
     "data": {
      "text/html": [
       "Find logs at: <code>./wandb/run-20240418_104402-omj3af1k/logs</code>"
      ],
      "text/plain": [
       "<IPython.core.display.HTML object>"
      ]
     },
     "metadata": {},
     "output_type": "display_data"
    }
   ],
   "source": [
    "import os\n",
    "import wandb\n",
    "import torch\n",
    "from lightning import Trainer\n",
    "from pytorch_lightning.loggers import WandbLogger\n",
    "from lightning.pytorch.callbacks import ModelCheckpoint\n",
    "from lightning.pytorch.callbacks.early_stopping import EarlyStopping\n",
    "from src.model import NeuralNetwork\n",
    "from src.data import HousePricingDataModule\n",
    "from src.util import fake_name\n",
    "\n",
    "project_name = os.environ[\"WANDB_NAME\"]\n",
    "\n",
    "patience = 50\n",
    "max_epochs = 500\n",
    "accelerator = \"gpu\" if torch.cuda.is_available() else \"cpu\"\n",
    "\n",
    "# Setting up the training configuration\n",
    "config = {\n",
    "    \"accelerator\": accelerator,\n",
    "    \"max_epochs\": max_epochs,\n",
    "    \"patience\": patience\n",
    "}\n",
    "\n",
    "test_results = dict()\n",
    "\n",
    "for _, batch_size in enumerate([256, 512]):\n",
    "\n",
    "    for i in range(9):\n",
    "\n",
    "        run_name = fake_name()\n",
    "\n",
    "        # Preparing data to be used\n",
    "        data_module = HousePricingDataModule(batch_size=batch_size)\n",
    "        data_module.prepare_data()\n",
    "\n",
    "        # Requesting to data module the number of different features that are in the data\n",
    "        in_features = data_module.in_features()\n",
    "\n",
    "        config[\"batch_size\"] = batch_size\n",
    "        config[\"in_features\"] = in_features\n",
    "\n",
    "        wandb.init(\n",
    "            job_type=\"training\",\n",
    "            name=run_name,\n",
    "            project=project_name,\n",
    "            config=config,\n",
    "        )\n",
    "\n",
    "        # Defining the model to be training\n",
    "        model = NeuralNetwork(input_size=wandb.config[\"in_features\"])\n",
    "\n",
    "        checkpoint_name = f\"{wandb.run.name}-{wandb.run.id}\"\n",
    "\n",
    "        # Defining the logger instance the lighning will use as default logging\n",
    "        logger = WandbLogger(\n",
    "            log_model=\"all\",\n",
    "            checkpoint_name=checkpoint_name\n",
    "        )\n",
    "\n",
    "        # Define how the model registry work\n",
    "        checkpoint_callback = ModelCheckpoint(\n",
    "            every_n_epochs=1,\n",
    "            monitor=\"val_loss\",\n",
    "            mode = \"min\"\n",
    "        )\n",
    "\n",
    "        # Defining early stop configuration\n",
    "        early_stopping_callback = EarlyStopping(\n",
    "            monitor=\"val_loss\",\n",
    "            mode=\"min\",\n",
    "            verbose=True,\n",
    "            patience=wandb.config[\"patience\"]\n",
    "        )\n",
    "\n",
    "        # Defines the training instance\n",
    "        trainer = Trainer(\n",
    "            accelerator=wandb.config[\"accelerator\"],\n",
    "            max_epochs=wandb.config[\"max_epochs\"],\n",
    "            logger=logger,\n",
    "            log_every_n_steps=1,\n",
    "            callbacks=[checkpoint_callback, early_stopping_callback]\n",
    "        )\n",
    "\n",
    "        trainer.fit(model, datamodule=data_module)\n",
    "\n",
    "        test_result = trainer.test(model, datamodule=data_module)\n",
    "        test_results[checkpoint_name] = test_result\n",
    "\n",
    "        wandb.finish()"
   ]
  },
  {
   "cell_type": "code",
   "execution_count": 25,
   "metadata": {},
   "outputs": [
    {
     "data": {
      "text/plain": [
       "{'Jennifer_1Z54Q60B-7pyxyr9j': [{'test_loss': 656872704.0}],\n",
       " 'Lauren_I60OXE4F-kujs20js': [{'test_loss': 679620800.0}],\n",
       " 'Mary_WD1U1DKL-0ku76atb': [{'test_loss': 5248507904.0}],\n",
       " 'Diana_F631Q4QW-c6t7xxk6': [{'test_loss': 696892864.0}],\n",
       " 'Melissa_6SL9D4QD-6j68n3gp': [{'test_loss': 36675817472.0}],\n",
       " 'Kristy_WHBCJ7MM-rmboixur': [{'test_loss': 667574400.0}],\n",
       " 'Caleb_K86AVDNZ-ggi6sr6y': [{'test_loss': 663124288.0}],\n",
       " 'Dawn_T5QCSZQX-932vsjo5': [{'test_loss': 655516672.0}],\n",
       " 'Andrew_8Q4O5LJ0-vskvlukg': [{'test_loss': 656359360.0}],\n",
       " 'Robert_U8MLZTSV-a5052b3b': [{'test_loss': 649291776.0}],\n",
       " 'Anne_S5TYFMO5-qcjhf28a': [{'test_loss': 5450159616.0}],\n",
       " 'Kimberly_PN9PBRQM-uwb5bw1b': [{'test_loss': 18807910400.0}],\n",
       " 'Briana_5KJREAU0-3s0bbhzn': [{'test_loss': 5274674688.0}],\n",
       " 'Justin_IFPBF97F-u7rf76ng': [{'test_loss': 36679151616.0}],\n",
       " 'Dana_6SY7MFXS-t02nqub8': [{'test_loss': 36679364608.0}],\n",
       " 'James_6G45TE6G-q364k7pm': [{'test_loss': 5516247552.0}],\n",
       " 'Joshua_L84TM1E8-8axi6zl2': [{'test_loss': 5274453504.0}],\n",
       " 'Rita_B123GCNS-omj3af1k': [{'test_loss': 5250480640.0}]}"
      ]
     },
     "execution_count": 25,
     "metadata": {},
     "output_type": "execute_result"
    }
   ],
   "source": [
    "test_results"
   ]
  },
  {
   "cell_type": "code",
   "execution_count": 32,
   "metadata": {},
   "outputs": [
    {
     "name": "stdout",
     "output_type": "stream",
     "text": [
      "Best model in test dataset: Robert_U8MLZTSV-a5052b3b\n",
      "Worst model in test dataset: Dana_6SY7MFXS-t02nqub8\n"
     ]
    }
   ],
   "source": [
    "sss = {name: value[0][\"test_loss\"] for name, value in test_results.items()}\n",
    "print(f\"Best model in test dataset: {min(sss, key=sss.get)}\")\n",
    "print(f\"Worst model in test dataset: {max(sss, key=sss.get)}\")"
   ]
  }
 ],
 "metadata": {
  "kernelspec": {
   "display_name": "pricehousing",
   "language": "python",
   "name": "python3"
  },
  "language_info": {
   "codemirror_mode": {
    "name": "ipython",
    "version": 3
   },
   "file_extension": ".py",
   "mimetype": "text/x-python",
   "name": "python",
   "nbconvert_exporter": "python",
   "pygments_lexer": "ipython3",
   "version": "3.9.19"
  }
 },
 "nbformat": 4,
 "nbformat_minor": 2
}
