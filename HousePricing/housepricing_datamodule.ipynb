{
 "cells": [
  {
   "cell_type": "code",
   "execution_count": 1,
   "metadata": {},
   "outputs": [
    {
     "name": "stdout",
     "output_type": "stream",
     "text": [
      "--- Stage: fit ---\n",
      "--- Stage: test ---\n",
      "--- Stage: predict ---\n",
      "2\n",
      "2\n",
      "2\n",
      "1\n"
     ]
    }
   ],
   "source": [
    "from src.data import HousePricingDataModule\n",
    "\n",
    "housing = HousePricingDataModule()\n",
    "housing.prepare_data()\n",
    "\n",
    "for stage in [\"fit\", \"test\", \"predict\"]:\n",
    "    print(f\"--- Stage: {stage} ---\")\n",
    "    housing.setup(stage=stage)\n",
    "\n",
    "for batch in housing.train_dataloader():\n",
    "    print(len(batch))\n",
    "    break\n",
    "\n",
    "for batch in housing.val_dataloader():\n",
    "    print(len(batch))\n",
    "    break\n",
    "\n",
    "for batch in housing.test_dataloader():\n",
    "    print(len(batch))\n",
    "    break\n",
    "\n",
    "for batch in housing.predict_dataloader():\n",
    "    print(len(batch))\n",
    "    break"
   ]
  },
  {
   "cell_type": "code",
   "execution_count": 3,
   "metadata": {},
   "outputs": [
    {
     "name": "stdout",
     "output_type": "stream",
     "text": [
      "{'inputs': tensor([[ 0.3812, -0.8668, -0.0125,  ..., -0.0927, -1.6318, -1.3755],\n",
      "        [ 0.8822,  0.0741,  1.2345,  ..., -0.0927, -0.8826,  1.6501],\n",
      "        [-0.7453, -0.6315, -0.6360,  ..., -0.0927, -1.2572,  1.6501],\n",
      "        ...,\n",
      "        [ 1.3808,  1.4854, -1.0368,  ..., -0.0927, -0.8826, -0.6191],\n",
      "        [-1.2839, -0.1611,  0.9673,  ..., -0.0927, -0.1334, -1.3755],\n",
      "        [-0.4137,  0.0741,  0.6556,  ..., -0.0927,  0.6158,  0.1373]],\n",
      "       dtype=torch.float64), 'target': tensor([154500, 325000, 115000, 159000, 315500,  75500, 311500, 146000,  84500,\n",
      "        135500, 145000, 130000,  81000, 214000, 181000, 134500, 183500, 135000,\n",
      "        118400, 226000, 155000, 210000, 173500, 129000, 192000, 153900, 181134,\n",
      "        141000, 181000, 208900, 127000, 284000])}\n"
     ]
    }
   ],
   "source": [
    "for batch in housing.test_dataloader():\n",
    "    print(batch)\n",
    "    break"
   ]
  }
 ],
 "metadata": {
  "kernelspec": {
   "display_name": "pricehousing",
   "language": "python",
   "name": "python3"
  },
  "language_info": {
   "codemirror_mode": {
    "name": "ipython",
    "version": 3
   },
   "file_extension": ".py",
   "mimetype": "text/x-python",
   "name": "python",
   "nbconvert_exporter": "python",
   "pygments_lexer": "ipython3",
   "version": "3.9.19"
  }
 },
 "nbformat": 4,
 "nbformat_minor": 2
}
