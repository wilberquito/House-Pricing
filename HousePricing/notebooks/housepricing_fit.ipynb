{
 "cells": [
  {
   "cell_type": "markdown",
   "metadata": {},
   "source": [
    "# Training model and deploy it into WANDB"
   ]
  },
  {
   "cell_type": "code",
   "execution_count": 1,
   "metadata": {},
   "outputs": [
    {
     "data": {
      "text/plain": [
       "'/root/repos/lightning/HousePricing'"
      ]
     },
     "execution_count": 1,
     "metadata": {},
     "output_type": "execute_result"
    }
   ],
   "source": [
    "import os\n",
    "from pathlib import Path\n",
    "\n",
    "p = Path.cwd()\n",
    "os.chdir(p.parent)\n",
    "os.getcwd()"
   ]
  },
  {
   "cell_type": "code",
   "execution_count": 2,
   "metadata": {},
   "outputs": [
    {
     "name": "stdout",
     "output_type": "stream",
     "text": [
      "odict_keys(['WANDB_API_KEY'])\n",
      "odict_keys(['WANDB_NAME', 'WANDB_NOTEBOOK_NAME', 'BATCH_SIZE', 'MAX_EPOCHS', 'PATIENCE', 'LEARNING_RATE', 'VALIDATION_SIZE'])\n"
     ]
    }
   ],
   "source": [
    "from dotenv import dotenv_values\n",
    "import os\n",
    "\n",
    "envs = [\"secret.env\", \"fit.env\"]\n",
    "\n",
    "for fenv in envs:\n",
    "    file = os.path.join(\"env\", fenv)\n",
    "    config = dotenv_values(file)  # load sensitive variables\n",
    "    print(config.keys())\n",
    "    for c, v in config.items():\n",
    "        os.environ[c] = v"
   ]
  },
  {
   "cell_type": "code",
   "execution_count": 3,
   "metadata": {},
   "outputs": [
    {
     "name": "stderr",
     "output_type": "stream",
     "text": [
      "\u001b[34m\u001b[1mwandb\u001b[0m: Currently logged in as: \u001b[33mwilber-quito\u001b[0m (\u001b[33mdeepsat\u001b[0m). Use \u001b[1m`wandb login --relogin`\u001b[0m to force relogin\n",
      "\u001b[34m\u001b[1mwandb\u001b[0m: \u001b[33mWARNING\u001b[0m If you're specifying your api key in code, ensure this code is not shared publicly.\n",
      "\u001b[34m\u001b[1mwandb\u001b[0m: \u001b[33mWARNING\u001b[0m Consider setting the WANDB_API_KEY environment variable, or running `wandb login` from the command line.\n",
      "\u001b[34m\u001b[1mwandb\u001b[0m: Appending key for api.wandb.ai to your netrc file: /root/.netrc\n"
     ]
    },
    {
     "data": {
      "text/plain": [
       "True"
      ]
     },
     "execution_count": 3,
     "metadata": {},
     "output_type": "execute_result"
    }
   ],
   "source": [
    "import wandb\n",
    "import os\n",
    "\n",
    "wandb_key = os.environ[\"WANDB_API_KEY\"]\n",
    "wandb.login(key=wandb_key)"
   ]
  },
  {
   "cell_type": "code",
   "execution_count": 4,
   "metadata": {},
   "outputs": [
    {
     "data": {
      "text/plain": [
       "True"
      ]
     },
     "execution_count": 4,
     "metadata": {},
     "output_type": "execute_result"
    }
   ],
   "source": [
    "import torch\n",
    "\n",
    "torch.cuda.is_available()"
   ]
  },
  {
   "cell_type": "code",
   "execution_count": 5,
   "metadata": {},
   "outputs": [
    {
     "data": {
      "text/plain": [
       "1"
      ]
     },
     "execution_count": 5,
     "metadata": {},
     "output_type": "execute_result"
    }
   ],
   "source": [
    "import torch\n",
    "\n",
    "torch.cuda.device_count()"
   ]
  },
  {
   "cell_type": "code",
   "execution_count": 6,
   "metadata": {},
   "outputs": [
    {
     "data": {
      "text/plain": [
       "'NVIDIA GeForce GTX 1650'"
      ]
     },
     "execution_count": 6,
     "metadata": {},
     "output_type": "execute_result"
    }
   ],
   "source": [
    "import torch\n",
    "\n",
    "torch.cuda.get_device_name()"
   ]
  },
  {
   "cell_type": "code",
   "execution_count": 7,
   "metadata": {},
   "outputs": [
    {
     "data": {
      "text/plain": [
       "11"
      ]
     },
     "execution_count": 7,
     "metadata": {},
     "output_type": "execute_result"
    }
   ],
   "source": [
    "import os\n",
    "\n",
    "max(1, os.cpu_count() - 1)"
   ]
  },
  {
   "cell_type": "code",
   "execution_count": 8,
   "metadata": {},
   "outputs": [
    {
     "name": "stdout",
     "output_type": "stream",
     "text": [
      "[INFO]: Skipping downloading data. Data is already downloaded\n",
      "[INFO]: Reloading set up data...\n"
     ]
    },
    {
     "data": {
      "text/html": [
       "Tracking run with wandb version 0.16.6"
      ],
      "text/plain": [
       "<IPython.core.display.HTML object>"
      ]
     },
     "metadata": {},
     "output_type": "display_data"
    },
    {
     "data": {
      "text/html": [
       "Run data is saved locally in <code>/root/repos/lightning/HousePricing/wandb/run-20240422_000409-ydlqfd0c</code>"
      ],
      "text/plain": [
       "<IPython.core.display.HTML object>"
      ]
     },
     "metadata": {},
     "output_type": "display_data"
    },
    {
     "data": {
      "text/html": [
       "Syncing run <strong><a href='https://wandb.ai/deepsat/House%20Pricing%20Fit/runs/ydlqfd0c' target=\"_blank\">Kayla_SN0K08HK</a></strong> to <a href='https://wandb.ai/deepsat/House%20Pricing%20Fit' target=\"_blank\">Weights & Biases</a> (<a href='https://wandb.me/run' target=\"_blank\">docs</a>)<br/>"
      ],
      "text/plain": [
       "<IPython.core.display.HTML object>"
      ]
     },
     "metadata": {},
     "output_type": "display_data"
    },
    {
     "data": {
      "text/html": [
       " View project at <a href='https://wandb.ai/deepsat/House%20Pricing%20Fit' target=\"_blank\">https://wandb.ai/deepsat/House%20Pricing%20Fit</a>"
      ],
      "text/plain": [
       "<IPython.core.display.HTML object>"
      ]
     },
     "metadata": {},
     "output_type": "display_data"
    },
    {
     "data": {
      "text/html": [
       " View run at <a href='https://wandb.ai/deepsat/House%20Pricing%20Fit/runs/ydlqfd0c' target=\"_blank\">https://wandb.ai/deepsat/House%20Pricing%20Fit/runs/ydlqfd0c</a>"
      ],
      "text/plain": [
       "<IPython.core.display.HTML object>"
      ]
     },
     "metadata": {},
     "output_type": "display_data"
    },
    {
     "name": "stderr",
     "output_type": "stream",
     "text": [
      "GPU available: True (cuda), used: True\n",
      "TPU available: False, using: 0 TPU cores\n",
      "IPU available: False, using: 0 IPUs\n",
      "HPU available: False, using: 0 HPUs\n"
     ]
    },
    {
     "name": "stdout",
     "output_type": "stream",
     "text": [
      "[INFO]: Run configuration: {'accelerator': 'gpu', 'max_epochs': 100, 'patience': 10, 'lr': 0.001, 'batch_size': 256, 'in_features': 244, 'validation_size': 0.1}\n",
      "[INFO]: Input size: 244\n"
     ]
    },
    {
     "name": "stderr",
     "output_type": "stream",
     "text": [
      "/root/miniconda3/envs/pricehousing/lib/python3.9/site-packages/pytorch_lightning/loggers/wandb.py:391: There is a wandb run already in progress and newly created instances of `WandbLogger` will reuse this run. If this is not desired, call `wandb.finish()` before instantiating `WandbLogger`.\n",
      "LOCAL_RANK: 0 - CUDA_VISIBLE_DEVICES: [0]\n"
     ]
    },
    {
     "name": "stdout",
     "output_type": "stream",
     "text": [
      "[INFO]: Skipping downloading data. Data is already downloaded\n",
      "[INFO]: Reloading set up data...\n",
      "[INFO]: Setting up fit dataset/s\n",
      "[INFO]: Train dataset size: 1166\n",
      "[INFO]: Validation dataset size: 129\n"
     ]
    },
    {
     "name": "stderr",
     "output_type": "stream",
     "text": [
      "\n",
      "  | Name | Type       | Params\n",
      "------------------------------------\n",
      "0 | net  | Sequential | 215 K \n",
      "------------------------------------\n",
      "215 K     Trainable params\n",
      "0         Non-trainable params\n",
      "215 K     Total params\n",
      "0.864     Total estimated model params size (MB)\n"
     ]
    },
    {
     "name": "stdout",
     "output_type": "stream",
     "text": [
      "Sanity Checking: |          | 0/? [00:00<?, ?it/s]"
     ]
    },
    {
     "name": "stderr",
     "output_type": "stream",
     "text": [
      "/root/miniconda3/envs/pricehousing/lib/python3.9/site-packages/lightning/pytorch/trainer/connectors/data_connector.py:492: Your `val_dataloader`'s sampler has shuffling enabled, it is strongly recommended that you turn shuffling off for val/test dataloaders.\n",
      "/root/miniconda3/envs/pricehousing/lib/python3.9/site-packages/lightning/pytorch/trainer/connectors/data_connector.py:441: The 'val_dataloader' does not have many workers which may be a bottleneck. Consider increasing the value of the `num_workers` argument` to `num_workers=11` in the `DataLoader` to improve performance.\n"
     ]
    },
    {
     "name": "stdout",
     "output_type": "stream",
     "text": [
      "[INFO]: Validation dataloader size: 2\n",
      "                                                                           "
     ]
    },
    {
     "name": "stderr",
     "output_type": "stream",
     "text": [
      "/root/miniconda3/envs/pricehousing/lib/python3.9/site-packages/lightning/pytorch/trainer/connectors/data_connector.py:441: The 'train_dataloader' does not have many workers which may be a bottleneck. Consider increasing the value of the `num_workers` argument` to `num_workers=11` in the `DataLoader` to improve performance.\n"
     ]
    },
    {
     "name": "stdout",
     "output_type": "stream",
     "text": [
      "[INFO]: Train dataloader size: 5\n",
      "Training: |          | 0/? [00:00<?, ?it/s][INFO]: Logger save model dir: ./lightning_logs/ydlqfd0c\n",
      "Epoch 0: 100%|██████████| 5/5 [00:00<00:00, 24.40it/s, v_num=fd0c]"
     ]
    },
    {
     "name": "stderr",
     "output_type": "stream",
     "text": [
      "Metric val_loss improved. New best score: 35115470848.000\n"
     ]
    },
    {
     "name": "stdout",
     "output_type": "stream",
     "text": [
      "Epoch 1: 100%|██████████| 5/5 [00:00<00:00, 36.47it/s, v_num=fd0c]"
     ]
    },
    {
     "name": "stderr",
     "output_type": "stream",
     "text": [
      "Metric val_loss improved by 552960.000 >= min_delta = 0.0. New best score: 35114917888.000\n"
     ]
    },
    {
     "name": "stdout",
     "output_type": "stream",
     "text": [
      "Epoch 2: 100%|██████████| 5/5 [00:00<00:00, 29.68it/s, v_num=fd0c]"
     ]
    },
    {
     "name": "stderr",
     "output_type": "stream",
     "text": [
      "Metric val_loss improved by 2019328.000 >= min_delta = 0.0. New best score: 35112898560.000\n"
     ]
    },
    {
     "name": "stdout",
     "output_type": "stream",
     "text": [
      "Epoch 3: 100%|██████████| 5/5 [00:00<00:00, 34.99it/s, v_num=fd0c]"
     ]
    },
    {
     "name": "stderr",
     "output_type": "stream",
     "text": [
      "Metric val_loss improved by 5926912.000 >= min_delta = 0.0. New best score: 35106971648.000\n"
     ]
    },
    {
     "name": "stdout",
     "output_type": "stream",
     "text": [
      "Epoch 4: 100%|██████████| 5/5 [00:00<00:00, 36.34it/s, v_num=fd0c]"
     ]
    },
    {
     "name": "stderr",
     "output_type": "stream",
     "text": [
      "Metric val_loss improved by 15114240.000 >= min_delta = 0.0. New best score: 35091857408.000\n"
     ]
    },
    {
     "name": "stdout",
     "output_type": "stream",
     "text": [
      "Epoch 5: 100%|██████████| 5/5 [00:00<00:00, 33.74it/s, v_num=fd0c]"
     ]
    },
    {
     "name": "stderr",
     "output_type": "stream",
     "text": [
      "Metric val_loss improved by 34492416.000 >= min_delta = 0.0. New best score: 35057364992.000\n"
     ]
    },
    {
     "name": "stdout",
     "output_type": "stream",
     "text": [
      "Epoch 6: 100%|██████████| 5/5 [00:00<00:00, 36.24it/s, v_num=fd0c]"
     ]
    },
    {
     "name": "stderr",
     "output_type": "stream",
     "text": [
      "Metric val_loss improved by 72269824.000 >= min_delta = 0.0. New best score: 34985095168.000\n"
     ]
    },
    {
     "name": "stdout",
     "output_type": "stream",
     "text": [
      "Epoch 7: 100%|██████████| 5/5 [00:00<00:00, 34.34it/s, v_num=fd0c]"
     ]
    },
    {
     "name": "stderr",
     "output_type": "stream",
     "text": [
      "Metric val_loss improved by 141144064.000 >= min_delta = 0.0. New best score: 34843951104.000\n"
     ]
    },
    {
     "name": "stdout",
     "output_type": "stream",
     "text": [
      "Epoch 8: 100%|██████████| 5/5 [00:00<00:00, 30.40it/s, v_num=fd0c]"
     ]
    },
    {
     "name": "stderr",
     "output_type": "stream",
     "text": [
      "Metric val_loss improved by 259313664.000 >= min_delta = 0.0. New best score: 34584637440.000\n"
     ]
    },
    {
     "name": "stdout",
     "output_type": "stream",
     "text": [
      "Epoch 9: 100%|██████████| 5/5 [00:00<00:00, 36.40it/s, v_num=fd0c]"
     ]
    },
    {
     "name": "stderr",
     "output_type": "stream",
     "text": [
      "Metric val_loss improved by 452216832.000 >= min_delta = 0.0. New best score: 34132420608.000\n"
     ]
    },
    {
     "name": "stdout",
     "output_type": "stream",
     "text": [
      "Epoch 10: 100%|██████████| 5/5 [00:00<00:00, 34.39it/s, v_num=fd0c]"
     ]
    },
    {
     "name": "stderr",
     "output_type": "stream",
     "text": [
      "Metric val_loss improved by 751773696.000 >= min_delta = 0.0. New best score: 33380646912.000\n"
     ]
    },
    {
     "name": "stdout",
     "output_type": "stream",
     "text": [
      "Epoch 11: 100%|██████████| 5/5 [00:00<00:00, 36.29it/s, v_num=fd0c]"
     ]
    },
    {
     "name": "stderr",
     "output_type": "stream",
     "text": [
      "Metric val_loss improved by 1195390976.000 >= min_delta = 0.0. New best score: 32185255936.000\n"
     ]
    },
    {
     "name": "stdout",
     "output_type": "stream",
     "text": [
      "Epoch 12: 100%|██████████| 5/5 [00:00<00:00, 36.30it/s, v_num=fd0c]"
     ]
    },
    {
     "name": "stderr",
     "output_type": "stream",
     "text": [
      "Metric val_loss improved by 1818286080.000 >= min_delta = 0.0. New best score: 30366969856.000\n"
     ]
    },
    {
     "name": "stdout",
     "output_type": "stream",
     "text": [
      "Epoch 13: 100%|██████████| 5/5 [00:00<00:00, 24.54it/s, v_num=fd0c]"
     ]
    },
    {
     "name": "stderr",
     "output_type": "stream",
     "text": [
      "Metric val_loss improved by 2638798848.000 >= min_delta = 0.0. New best score: 27728171008.000\n"
     ]
    },
    {
     "name": "stdout",
     "output_type": "stream",
     "text": [
      "Epoch 14: 100%|██████████| 5/5 [00:00<00:00, 27.89it/s, v_num=fd0c]"
     ]
    },
    {
     "name": "stderr",
     "output_type": "stream",
     "text": [
      "Metric val_loss improved by 3633694720.000 >= min_delta = 0.0. New best score: 24094476288.000\n"
     ]
    },
    {
     "name": "stdout",
     "output_type": "stream",
     "text": [
      "Epoch 15: 100%|██████████| 5/5 [00:00<00:00, 37.07it/s, v_num=fd0c]"
     ]
    },
    {
     "name": "stderr",
     "output_type": "stream",
     "text": [
      "Metric val_loss improved by 4680304640.000 >= min_delta = 0.0. New best score: 19414171648.000\n"
     ]
    },
    {
     "name": "stdout",
     "output_type": "stream",
     "text": [
      "Epoch 16: 100%|██████████| 5/5 [00:00<00:00, 37.25it/s, v_num=fd0c]"
     ]
    },
    {
     "name": "stderr",
     "output_type": "stream",
     "text": [
      "Metric val_loss improved by 5474531328.000 >= min_delta = 0.0. New best score: 13939640320.000\n"
     ]
    },
    {
     "name": "stdout",
     "output_type": "stream",
     "text": [
      "Epoch 17: 100%|██████████| 5/5 [00:00<00:00, 36.50it/s, v_num=fd0c]"
     ]
    },
    {
     "name": "stderr",
     "output_type": "stream",
     "text": [
      "Metric val_loss improved by 5469527040.000 >= min_delta = 0.0. New best score: 8470113280.000\n"
     ]
    },
    {
     "name": "stdout",
     "output_type": "stream",
     "text": [
      "Epoch 18: 100%|██████████| 5/5 [00:00<00:00, 37.38it/s, v_num=fd0c]"
     ]
    },
    {
     "name": "stderr",
     "output_type": "stream",
     "text": [
      "Metric val_loss improved by 3952118784.000 >= min_delta = 0.0. New best score: 4517994496.000\n"
     ]
    },
    {
     "name": "stdout",
     "output_type": "stream",
     "text": [
      "Epoch 19: 100%|██████████| 5/5 [00:00<00:00, 36.55it/s, v_num=fd0c]"
     ]
    },
    {
     "name": "stderr",
     "output_type": "stream",
     "text": [
      "Metric val_loss improved by 901335808.000 >= min_delta = 0.0. New best score: 3616658688.000\n"
     ]
    },
    {
     "name": "stdout",
     "output_type": "stream",
     "text": [
      "Epoch 22: 100%|██████████| 5/5 [00:00<00:00, 36.86it/s, v_num=fd0c]"
     ]
    },
    {
     "name": "stderr",
     "output_type": "stream",
     "text": [
      "Metric val_loss improved by 169281280.000 >= min_delta = 0.0. New best score: 3447377408.000\n"
     ]
    },
    {
     "name": "stdout",
     "output_type": "stream",
     "text": [
      "Epoch 23: 100%|██████████| 5/5 [00:00<00:00, 33.16it/s, v_num=fd0c]"
     ]
    },
    {
     "name": "stderr",
     "output_type": "stream",
     "text": [
      "Metric val_loss improved by 443871744.000 >= min_delta = 0.0. New best score: 3003505664.000\n"
     ]
    },
    {
     "name": "stdout",
     "output_type": "stream",
     "text": [
      "Epoch 24: 100%|██████████| 5/5 [00:00<00:00, 36.63it/s, v_num=fd0c]"
     ]
    },
    {
     "name": "stderr",
     "output_type": "stream",
     "text": [
      "Metric val_loss improved by 115474176.000 >= min_delta = 0.0. New best score: 2888031488.000\n"
     ]
    },
    {
     "name": "stdout",
     "output_type": "stream",
     "text": [
      "Epoch 25: 100%|██████████| 5/5 [00:00<00:00, 35.41it/s, v_num=fd0c]"
     ]
    },
    {
     "name": "stderr",
     "output_type": "stream",
     "text": [
      "Metric val_loss improved by 107488256.000 >= min_delta = 0.0. New best score: 2780543232.000\n"
     ]
    },
    {
     "name": "stdout",
     "output_type": "stream",
     "text": [
      "Epoch 26: 100%|██████████| 5/5 [00:00<00:00, 35.51it/s, v_num=fd0c]"
     ]
    },
    {
     "name": "stderr",
     "output_type": "stream",
     "text": [
      "Metric val_loss improved by 120999936.000 >= min_delta = 0.0. New best score: 2659543296.000\n"
     ]
    },
    {
     "name": "stdout",
     "output_type": "stream",
     "text": [
      "Epoch 27: 100%|██████████| 5/5 [00:00<00:00, 36.59it/s, v_num=fd0c]"
     ]
    },
    {
     "name": "stderr",
     "output_type": "stream",
     "text": [
      "Metric val_loss improved by 64152064.000 >= min_delta = 0.0. New best score: 2595391232.000\n"
     ]
    },
    {
     "name": "stdout",
     "output_type": "stream",
     "text": [
      "Epoch 28: 100%|██████████| 5/5 [00:00<00:00, 37.56it/s, v_num=fd0c]"
     ]
    },
    {
     "name": "stderr",
     "output_type": "stream",
     "text": [
      "Metric val_loss improved by 34612480.000 >= min_delta = 0.0. New best score: 2560778752.000\n"
     ]
    },
    {
     "name": "stdout",
     "output_type": "stream",
     "text": [
      "Epoch 29: 100%|██████████| 5/5 [00:00<00:00, 34.40it/s, v_num=fd0c]"
     ]
    },
    {
     "name": "stderr",
     "output_type": "stream",
     "text": [
      "Metric val_loss improved by 89714176.000 >= min_delta = 0.0. New best score: 2471064576.000\n"
     ]
    },
    {
     "name": "stdout",
     "output_type": "stream",
     "text": [
      "Epoch 30: 100%|██████████| 5/5 [00:00<00:00, 35.58it/s, v_num=fd0c]"
     ]
    },
    {
     "name": "stderr",
     "output_type": "stream",
     "text": [
      "Metric val_loss improved by 108732928.000 >= min_delta = 0.0. New best score: 2362331648.000\n"
     ]
    },
    {
     "name": "stdout",
     "output_type": "stream",
     "text": [
      "Epoch 31: 100%|██████████| 5/5 [00:00<00:00, 37.02it/s, v_num=fd0c]"
     ]
    },
    {
     "name": "stderr",
     "output_type": "stream",
     "text": [
      "Metric val_loss improved by 112695808.000 >= min_delta = 0.0. New best score: 2249635840.000\n"
     ]
    },
    {
     "name": "stdout",
     "output_type": "stream",
     "text": [
      "Epoch 32: 100%|██████████| 5/5 [00:00<00:00, 32.54it/s, v_num=fd0c]"
     ]
    },
    {
     "name": "stderr",
     "output_type": "stream",
     "text": [
      "Metric val_loss improved by 86986496.000 >= min_delta = 0.0. New best score: 2162649344.000\n"
     ]
    },
    {
     "name": "stdout",
     "output_type": "stream",
     "text": [
      "Epoch 33: 100%|██████████| 5/5 [00:00<00:00, 35.59it/s, v_num=fd0c]"
     ]
    },
    {
     "name": "stderr",
     "output_type": "stream",
     "text": [
      "Metric val_loss improved by 73520000.000 >= min_delta = 0.0. New best score: 2089129344.000\n"
     ]
    },
    {
     "name": "stdout",
     "output_type": "stream",
     "text": [
      "Epoch 34: 100%|██████████| 5/5 [00:00<00:00, 34.61it/s, v_num=fd0c]"
     ]
    },
    {
     "name": "stderr",
     "output_type": "stream",
     "text": [
      "Metric val_loss improved by 63968000.000 >= min_delta = 0.0. New best score: 2025161344.000\n"
     ]
    },
    {
     "name": "stdout",
     "output_type": "stream",
     "text": [
      "Epoch 35: 100%|██████████| 5/5 [00:00<00:00, 36.52it/s, v_num=fd0c]"
     ]
    },
    {
     "name": "stderr",
     "output_type": "stream",
     "text": [
      "Metric val_loss improved by 58989568.000 >= min_delta = 0.0. New best score: 1966171776.000\n"
     ]
    },
    {
     "name": "stdout",
     "output_type": "stream",
     "text": [
      "Epoch 36: 100%|██████████| 5/5 [00:00<00:00, 34.67it/s, v_num=fd0c]"
     ]
    },
    {
     "name": "stderr",
     "output_type": "stream",
     "text": [
      "Metric val_loss improved by 50855168.000 >= min_delta = 0.0. New best score: 1915316608.000\n"
     ]
    },
    {
     "name": "stdout",
     "output_type": "stream",
     "text": [
      "Epoch 37: 100%|██████████| 5/5 [00:00<00:00, 36.20it/s, v_num=fd0c]"
     ]
    },
    {
     "name": "stderr",
     "output_type": "stream",
     "text": [
      "Metric val_loss improved by 60785792.000 >= min_delta = 0.0. New best score: 1854530816.000\n"
     ]
    },
    {
     "name": "stdout",
     "output_type": "stream",
     "text": [
      "Epoch 38: 100%|██████████| 5/5 [00:00<00:00, 35.49it/s, v_num=fd0c]"
     ]
    },
    {
     "name": "stderr",
     "output_type": "stream",
     "text": [
      "Metric val_loss improved by 50474752.000 >= min_delta = 0.0. New best score: 1804056064.000\n"
     ]
    },
    {
     "name": "stdout",
     "output_type": "stream",
     "text": [
      "Epoch 39: 100%|██████████| 5/5 [00:00<00:00, 34.35it/s, v_num=fd0c]"
     ]
    },
    {
     "name": "stderr",
     "output_type": "stream",
     "text": [
      "Metric val_loss improved by 48429568.000 >= min_delta = 0.0. New best score: 1755626496.000\n"
     ]
    },
    {
     "name": "stdout",
     "output_type": "stream",
     "text": [
      "Epoch 40: 100%|██████████| 5/5 [00:00<00:00, 34.59it/s, v_num=fd0c]"
     ]
    },
    {
     "name": "stderr",
     "output_type": "stream",
     "text": [
      "Metric val_loss improved by 50765824.000 >= min_delta = 0.0. New best score: 1704860672.000\n"
     ]
    },
    {
     "name": "stdout",
     "output_type": "stream",
     "text": [
      "Epoch 41: 100%|██████████| 5/5 [00:00<00:00, 35.38it/s, v_num=fd0c]"
     ]
    },
    {
     "name": "stderr",
     "output_type": "stream",
     "text": [
      "Metric val_loss improved by 51332224.000 >= min_delta = 0.0. New best score: 1653528448.000\n"
     ]
    },
    {
     "name": "stdout",
     "output_type": "stream",
     "text": [
      "Epoch 42: 100%|██████████| 5/5 [00:00<00:00, 28.48it/s, v_num=fd0c]"
     ]
    },
    {
     "name": "stderr",
     "output_type": "stream",
     "text": [
      "Metric val_loss improved by 42360064.000 >= min_delta = 0.0. New best score: 1611168384.000\n"
     ]
    },
    {
     "name": "stdout",
     "output_type": "stream",
     "text": [
      "Epoch 43: 100%|██████████| 5/5 [00:00<00:00, 34.38it/s, v_num=fd0c]"
     ]
    },
    {
     "name": "stderr",
     "output_type": "stream",
     "text": [
      "Metric val_loss improved by 50789632.000 >= min_delta = 0.0. New best score: 1560378752.000\n"
     ]
    },
    {
     "name": "stdout",
     "output_type": "stream",
     "text": [
      "Epoch 44: 100%|██████████| 5/5 [00:00<00:00, 34.42it/s, v_num=fd0c]"
     ]
    },
    {
     "name": "stderr",
     "output_type": "stream",
     "text": [
      "Metric val_loss improved by 31942272.000 >= min_delta = 0.0. New best score: 1528436480.000\n"
     ]
    },
    {
     "name": "stdout",
     "output_type": "stream",
     "text": [
      "Epoch 45: 100%|██████████| 5/5 [00:00<00:00, 36.14it/s, v_num=fd0c]"
     ]
    },
    {
     "name": "stderr",
     "output_type": "stream",
     "text": [
      "Metric val_loss improved by 26027008.000 >= min_delta = 0.0. New best score: 1502409472.000\n"
     ]
    },
    {
     "name": "stdout",
     "output_type": "stream",
     "text": [
      "Epoch 46: 100%|██████████| 5/5 [00:00<00:00, 34.08it/s, v_num=fd0c]"
     ]
    },
    {
     "name": "stderr",
     "output_type": "stream",
     "text": [
      "Metric val_loss improved by 37488896.000 >= min_delta = 0.0. New best score: 1464920576.000\n"
     ]
    },
    {
     "name": "stdout",
     "output_type": "stream",
     "text": [
      "Epoch 47: 100%|██████████| 5/5 [00:00<00:00, 36.63it/s, v_num=fd0c]"
     ]
    },
    {
     "name": "stderr",
     "output_type": "stream",
     "text": [
      "Metric val_loss improved by 42346112.000 >= min_delta = 0.0. New best score: 1422574464.000\n"
     ]
    },
    {
     "name": "stdout",
     "output_type": "stream",
     "text": [
      "Epoch 48: 100%|██████████| 5/5 [00:00<00:00, 36.77it/s, v_num=fd0c]"
     ]
    },
    {
     "name": "stderr",
     "output_type": "stream",
     "text": [
      "Metric val_loss improved by 27697408.000 >= min_delta = 0.0. New best score: 1394877056.000\n"
     ]
    },
    {
     "name": "stdout",
     "output_type": "stream",
     "text": [
      "Epoch 49: 100%|██████████| 5/5 [00:00<00:00, 35.76it/s, v_num=fd0c]"
     ]
    },
    {
     "name": "stderr",
     "output_type": "stream",
     "text": [
      "Metric val_loss improved by 26218368.000 >= min_delta = 0.0. New best score: 1368658688.000\n"
     ]
    },
    {
     "name": "stdout",
     "output_type": "stream",
     "text": [
      "Epoch 50: 100%|██████████| 5/5 [00:00<00:00, 37.17it/s, v_num=fd0c]"
     ]
    },
    {
     "name": "stderr",
     "output_type": "stream",
     "text": [
      "Metric val_loss improved by 22363904.000 >= min_delta = 0.0. New best score: 1346294784.000\n"
     ]
    },
    {
     "name": "stdout",
     "output_type": "stream",
     "text": [
      "Epoch 51: 100%|██████████| 5/5 [00:00<00:00, 35.05it/s, v_num=fd0c]"
     ]
    },
    {
     "name": "stderr",
     "output_type": "stream",
     "text": [
      "Metric val_loss improved by 18792832.000 >= min_delta = 0.0. New best score: 1327501952.000\n"
     ]
    },
    {
     "name": "stdout",
     "output_type": "stream",
     "text": [
      "Epoch 52: 100%|██████████| 5/5 [00:00<00:00, 36.86it/s, v_num=fd0c]"
     ]
    },
    {
     "name": "stderr",
     "output_type": "stream",
     "text": [
      "Metric val_loss improved by 25931392.000 >= min_delta = 0.0. New best score: 1301570560.000\n"
     ]
    },
    {
     "name": "stdout",
     "output_type": "stream",
     "text": [
      "Epoch 53: 100%|██████████| 5/5 [00:00<00:00, 29.01it/s, v_num=fd0c]"
     ]
    },
    {
     "name": "stderr",
     "output_type": "stream",
     "text": [
      "Metric val_loss improved by 24933248.000 >= min_delta = 0.0. New best score: 1276637312.000\n"
     ]
    },
    {
     "name": "stdout",
     "output_type": "stream",
     "text": [
      "Epoch 54: 100%|██████████| 5/5 [00:00<00:00, 35.38it/s, v_num=fd0c]"
     ]
    },
    {
     "name": "stderr",
     "output_type": "stream",
     "text": [
      "Metric val_loss improved by 18868736.000 >= min_delta = 0.0. New best score: 1257768576.000\n"
     ]
    },
    {
     "name": "stdout",
     "output_type": "stream",
     "text": [
      "Epoch 55: 100%|██████████| 5/5 [00:00<00:00, 34.53it/s, v_num=fd0c]"
     ]
    },
    {
     "name": "stderr",
     "output_type": "stream",
     "text": [
      "Metric val_loss improved by 14912000.000 >= min_delta = 0.0. New best score: 1242856576.000\n"
     ]
    },
    {
     "name": "stdout",
     "output_type": "stream",
     "text": [
      "Epoch 56: 100%|██████████| 5/5 [00:00<00:00, 35.13it/s, v_num=fd0c]"
     ]
    },
    {
     "name": "stderr",
     "output_type": "stream",
     "text": [
      "Metric val_loss improved by 12267008.000 >= min_delta = 0.0. New best score: 1230589568.000\n"
     ]
    },
    {
     "name": "stdout",
     "output_type": "stream",
     "text": [
      "Epoch 57: 100%|██████████| 5/5 [00:00<00:00, 35.85it/s, v_num=fd0c]"
     ]
    },
    {
     "name": "stderr",
     "output_type": "stream",
     "text": [
      "Metric val_loss improved by 15999232.000 >= min_delta = 0.0. New best score: 1214590336.000\n"
     ]
    },
    {
     "name": "stdout",
     "output_type": "stream",
     "text": [
      "Epoch 58: 100%|██████████| 5/5 [00:00<00:00, 35.41it/s, v_num=fd0c]"
     ]
    },
    {
     "name": "stderr",
     "output_type": "stream",
     "text": [
      "Metric val_loss improved by 23313024.000 >= min_delta = 0.0. New best score: 1191277312.000\n"
     ]
    },
    {
     "name": "stdout",
     "output_type": "stream",
     "text": [
      "Epoch 59: 100%|██████████| 5/5 [00:00<00:00, 24.78it/s, v_num=fd0c]"
     ]
    },
    {
     "name": "stderr",
     "output_type": "stream",
     "text": [
      "Metric val_loss improved by 11319936.000 >= min_delta = 0.0. New best score: 1179957376.000\n"
     ]
    },
    {
     "name": "stdout",
     "output_type": "stream",
     "text": [
      "Epoch 60: 100%|██████████| 5/5 [00:00<00:00, 26.82it/s, v_num=fd0c]"
     ]
    },
    {
     "name": "stderr",
     "output_type": "stream",
     "text": [
      "Metric val_loss improved by 7476352.000 >= min_delta = 0.0. New best score: 1172481024.000\n"
     ]
    },
    {
     "name": "stdout",
     "output_type": "stream",
     "text": [
      "Epoch 61: 100%|██████████| 5/5 [00:00<00:00, 33.27it/s, v_num=fd0c]"
     ]
    },
    {
     "name": "stderr",
     "output_type": "stream",
     "text": [
      "Metric val_loss improved by 13449856.000 >= min_delta = 0.0. New best score: 1159031168.000\n"
     ]
    },
    {
     "name": "stdout",
     "output_type": "stream",
     "text": [
      "Epoch 62: 100%|██████████| 5/5 [00:00<00:00, 35.41it/s, v_num=fd0c]"
     ]
    },
    {
     "name": "stderr",
     "output_type": "stream",
     "text": [
      "Metric val_loss improved by 9502720.000 >= min_delta = 0.0. New best score: 1149528448.000\n"
     ]
    },
    {
     "name": "stdout",
     "output_type": "stream",
     "text": [
      "Epoch 63: 100%|██████████| 5/5 [00:00<00:00, 28.59it/s, v_num=fd0c]"
     ]
    },
    {
     "name": "stderr",
     "output_type": "stream",
     "text": [
      "Metric val_loss improved by 8041216.000 >= min_delta = 0.0. New best score: 1141487232.000\n"
     ]
    },
    {
     "name": "stdout",
     "output_type": "stream",
     "text": [
      "Epoch 64: 100%|██████████| 5/5 [00:00<00:00, 37.81it/s, v_num=fd0c]"
     ]
    },
    {
     "name": "stderr",
     "output_type": "stream",
     "text": [
      "Metric val_loss improved by 17484544.000 >= min_delta = 0.0. New best score: 1124002688.000\n"
     ]
    },
    {
     "name": "stdout",
     "output_type": "stream",
     "text": [
      "Epoch 65: 100%|██████████| 5/5 [00:00<00:00, 34.99it/s, v_num=fd0c]"
     ]
    },
    {
     "name": "stderr",
     "output_type": "stream",
     "text": [
      "Metric val_loss improved by 17206528.000 >= min_delta = 0.0. New best score: 1106796160.000\n"
     ]
    },
    {
     "name": "stdout",
     "output_type": "stream",
     "text": [
      "Epoch 66: 100%|██████████| 5/5 [00:00<00:00, 34.41it/s, v_num=fd0c]"
     ]
    },
    {
     "name": "stderr",
     "output_type": "stream",
     "text": [
      "Metric val_loss improved by 11559040.000 >= min_delta = 0.0. New best score: 1095237120.000\n"
     ]
    },
    {
     "name": "stdout",
     "output_type": "stream",
     "text": [
      "Epoch 67: 100%|██████████| 5/5 [00:00<00:00, 35.23it/s, v_num=fd0c]"
     ]
    },
    {
     "name": "stderr",
     "output_type": "stream",
     "text": [
      "Metric val_loss improved by 9520896.000 >= min_delta = 0.0. New best score: 1085716224.000\n"
     ]
    },
    {
     "name": "stdout",
     "output_type": "stream",
     "text": [
      "Epoch 69: 100%|██████████| 5/5 [00:00<00:00, 36.78it/s, v_num=fd0c]"
     ]
    },
    {
     "name": "stderr",
     "output_type": "stream",
     "text": [
      "Metric val_loss improved by 8823424.000 >= min_delta = 0.0. New best score: 1076892800.000\n"
     ]
    },
    {
     "name": "stdout",
     "output_type": "stream",
     "text": [
      "Epoch 70: 100%|██████████| 5/5 [00:00<00:00, 36.25it/s, v_num=fd0c]"
     ]
    },
    {
     "name": "stderr",
     "output_type": "stream",
     "text": [
      "Metric val_loss improved by 24428544.000 >= min_delta = 0.0. New best score: 1052464256.000\n"
     ]
    },
    {
     "name": "stdout",
     "output_type": "stream",
     "text": [
      "Epoch 71: 100%|██████████| 5/5 [00:00<00:00, 35.42it/s, v_num=fd0c]"
     ]
    },
    {
     "name": "stderr",
     "output_type": "stream",
     "text": [
      "Metric val_loss improved by 9570496.000 >= min_delta = 0.0. New best score: 1042893760.000\n"
     ]
    },
    {
     "name": "stdout",
     "output_type": "stream",
     "text": [
      "Epoch 73: 100%|██████████| 5/5 [00:00<00:00, 30.36it/s, v_num=fd0c]"
     ]
    },
    {
     "name": "stderr",
     "output_type": "stream",
     "text": [
      "Metric val_loss improved by 7251904.000 >= min_delta = 0.0. New best score: 1035641856.000\n"
     ]
    },
    {
     "name": "stdout",
     "output_type": "stream",
     "text": [
      "Epoch 74: 100%|██████████| 5/5 [00:00<00:00, 36.14it/s, v_num=fd0c]"
     ]
    },
    {
     "name": "stderr",
     "output_type": "stream",
     "text": [
      "Metric val_loss improved by 10348544.000 >= min_delta = 0.0. New best score: 1025293312.000\n"
     ]
    },
    {
     "name": "stdout",
     "output_type": "stream",
     "text": [
      "Epoch 75: 100%|██████████| 5/5 [00:00<00:00, 34.90it/s, v_num=fd0c]"
     ]
    },
    {
     "name": "stderr",
     "output_type": "stream",
     "text": [
      "Metric val_loss improved by 11164224.000 >= min_delta = 0.0. New best score: 1014129088.000\n"
     ]
    },
    {
     "name": "stdout",
     "output_type": "stream",
     "text": [
      "Epoch 76: 100%|██████████| 5/5 [00:00<00:00, 35.15it/s, v_num=fd0c]"
     ]
    },
    {
     "name": "stderr",
     "output_type": "stream",
     "text": [
      "Metric val_loss improved by 5915520.000 >= min_delta = 0.0. New best score: 1008213568.000\n"
     ]
    },
    {
     "name": "stdout",
     "output_type": "stream",
     "text": [
      "Epoch 77: 100%|██████████| 5/5 [00:00<00:00, 35.76it/s, v_num=fd0c]"
     ]
    },
    {
     "name": "stderr",
     "output_type": "stream",
     "text": [
      "Metric val_loss improved by 13825984.000 >= min_delta = 0.0. New best score: 994387584.000\n"
     ]
    },
    {
     "name": "stdout",
     "output_type": "stream",
     "text": [
      "Epoch 79: 100%|██████████| 5/5 [00:00<00:00, 35.76it/s, v_num=fd0c]"
     ]
    },
    {
     "name": "stderr",
     "output_type": "stream",
     "text": [
      "Metric val_loss improved by 2576128.000 >= min_delta = 0.0. New best score: 991811456.000\n"
     ]
    },
    {
     "name": "stdout",
     "output_type": "stream",
     "text": [
      "Epoch 80: 100%|██████████| 5/5 [00:00<00:00, 35.87it/s, v_num=fd0c]"
     ]
    },
    {
     "name": "stderr",
     "output_type": "stream",
     "text": [
      "Metric val_loss improved by 11776384.000 >= min_delta = 0.0. New best score: 980035072.000\n"
     ]
    },
    {
     "name": "stdout",
     "output_type": "stream",
     "text": [
      "Epoch 81: 100%|██████████| 5/5 [00:00<00:00, 34.98it/s, v_num=fd0c]"
     ]
    },
    {
     "name": "stderr",
     "output_type": "stream",
     "text": [
      "Metric val_loss improved by 7780416.000 >= min_delta = 0.0. New best score: 972254656.000\n"
     ]
    },
    {
     "name": "stdout",
     "output_type": "stream",
     "text": [
      "Epoch 82: 100%|██████████| 5/5 [00:00<00:00, 36.56it/s, v_num=fd0c]"
     ]
    },
    {
     "name": "stderr",
     "output_type": "stream",
     "text": [
      "Metric val_loss improved by 3817216.000 >= min_delta = 0.0. New best score: 968437440.000\n"
     ]
    },
    {
     "name": "stdout",
     "output_type": "stream",
     "text": [
      "Epoch 83: 100%|██████████| 5/5 [00:00<00:00, 30.31it/s, v_num=fd0c]"
     ]
    },
    {
     "name": "stderr",
     "output_type": "stream",
     "text": [
      "Metric val_loss improved by 2916352.000 >= min_delta = 0.0. New best score: 965521088.000\n"
     ]
    },
    {
     "name": "stdout",
     "output_type": "stream",
     "text": [
      "Epoch 84: 100%|██████████| 5/5 [00:00<00:00, 36.47it/s, v_num=fd0c]"
     ]
    },
    {
     "name": "stderr",
     "output_type": "stream",
     "text": [
      "Metric val_loss improved by 9243712.000 >= min_delta = 0.0. New best score: 956277376.000\n"
     ]
    },
    {
     "name": "stdout",
     "output_type": "stream",
     "text": [
      "Epoch 85: 100%|██████████| 5/5 [00:00<00:00, 29.10it/s, v_num=fd0c]"
     ]
    },
    {
     "name": "stderr",
     "output_type": "stream",
     "text": [
      "Metric val_loss improved by 8617664.000 >= min_delta = 0.0. New best score: 947659712.000\n"
     ]
    },
    {
     "name": "stdout",
     "output_type": "stream",
     "text": [
      "Epoch 86: 100%|██████████| 5/5 [00:00<00:00, 34.98it/s, v_num=fd0c]"
     ]
    },
    {
     "name": "stderr",
     "output_type": "stream",
     "text": [
      "Metric val_loss improved by 4893120.000 >= min_delta = 0.0. New best score: 942766592.000\n"
     ]
    },
    {
     "name": "stdout",
     "output_type": "stream",
     "text": [
      "Epoch 87: 100%|██████████| 5/5 [00:00<00:00, 32.77it/s, v_num=fd0c]"
     ]
    },
    {
     "name": "stderr",
     "output_type": "stream",
     "text": [
      "Metric val_loss improved by 2222656.000 >= min_delta = 0.0. New best score: 940543936.000\n"
     ]
    },
    {
     "name": "stdout",
     "output_type": "stream",
     "text": [
      "Epoch 88: 100%|██████████| 5/5 [00:00<00:00, 35.85it/s, v_num=fd0c]"
     ]
    },
    {
     "name": "stderr",
     "output_type": "stream",
     "text": [
      "Metric val_loss improved by 9954048.000 >= min_delta = 0.0. New best score: 930589888.000\n"
     ]
    },
    {
     "name": "stdout",
     "output_type": "stream",
     "text": [
      "Epoch 89: 100%|██████████| 5/5 [00:00<00:00, 36.25it/s, v_num=fd0c]"
     ]
    },
    {
     "name": "stderr",
     "output_type": "stream",
     "text": [
      "Metric val_loss improved by 3172480.000 >= min_delta = 0.0. New best score: 927417408.000\n"
     ]
    },
    {
     "name": "stdout",
     "output_type": "stream",
     "text": [
      "Epoch 90: 100%|██████████| 5/5 [00:00<00:00, 31.57it/s, v_num=fd0c]"
     ]
    },
    {
     "name": "stderr",
     "output_type": "stream",
     "text": [
      "Metric val_loss improved by 4279168.000 >= min_delta = 0.0. New best score: 923138240.000\n"
     ]
    },
    {
     "name": "stdout",
     "output_type": "stream",
     "text": [
      "Epoch 91: 100%|██████████| 5/5 [00:00<00:00, 35.49it/s, v_num=fd0c]"
     ]
    },
    {
     "name": "stderr",
     "output_type": "stream",
     "text": [
      "Metric val_loss improved by 2876992.000 >= min_delta = 0.0. New best score: 920261248.000\n"
     ]
    },
    {
     "name": "stdout",
     "output_type": "stream",
     "text": [
      "Epoch 93: 100%|██████████| 5/5 [00:00<00:00, 35.42it/s, v_num=fd0c]"
     ]
    },
    {
     "name": "stderr",
     "output_type": "stream",
     "text": [
      "Metric val_loss improved by 7476928.000 >= min_delta = 0.0. New best score: 912784320.000\n"
     ]
    },
    {
     "name": "stdout",
     "output_type": "stream",
     "text": [
      "Epoch 94: 100%|██████████| 5/5 [00:00<00:00, 36.59it/s, v_num=fd0c]"
     ]
    },
    {
     "name": "stderr",
     "output_type": "stream",
     "text": [
      "Metric val_loss improved by 9501952.000 >= min_delta = 0.0. New best score: 903282368.000\n"
     ]
    },
    {
     "name": "stdout",
     "output_type": "stream",
     "text": [
      "Epoch 95: 100%|██████████| 5/5 [00:00<00:00, 33.66it/s, v_num=fd0c]"
     ]
    },
    {
     "name": "stderr",
     "output_type": "stream",
     "text": [
      "Metric val_loss improved by 3336064.000 >= min_delta = 0.0. New best score: 899946304.000\n"
     ]
    },
    {
     "name": "stdout",
     "output_type": "stream",
     "text": [
      "Epoch 97: 100%|██████████| 5/5 [00:00<00:00, 27.81it/s, v_num=fd0c]"
     ]
    },
    {
     "name": "stderr",
     "output_type": "stream",
     "text": [
      "Metric val_loss improved by 4401344.000 >= min_delta = 0.0. New best score: 895544960.000\n"
     ]
    },
    {
     "name": "stdout",
     "output_type": "stream",
     "text": [
      "Epoch 98: 100%|██████████| 5/5 [00:00<00:00, 29.79it/s, v_num=fd0c]"
     ]
    },
    {
     "name": "stderr",
     "output_type": "stream",
     "text": [
      "Metric val_loss improved by 4480640.000 >= min_delta = 0.0. New best score: 891064320.000\n"
     ]
    },
    {
     "name": "stdout",
     "output_type": "stream",
     "text": [
      "Epoch 99: 100%|██████████| 5/5 [00:00<00:00, 37.01it/s, v_num=fd0c]"
     ]
    },
    {
     "name": "stderr",
     "output_type": "stream",
     "text": [
      "Metric val_loss improved by 5951424.000 >= min_delta = 0.0. New best score: 885112896.000\n",
      "`Trainer.fit` stopped: `max_epochs=100` reached.\n"
     ]
    },
    {
     "name": "stdout",
     "output_type": "stream",
     "text": [
      "Epoch 99: 100%|██████████| 5/5 [00:00<00:00, 33.58it/s, v_num=fd0c]\n"
     ]
    },
    {
     "data": {
      "text/html": [
       "<style>\n",
       "    table.wandb td:nth-child(1) { padding: 0 10px; text-align: left ; width: auto;} td:nth-child(2) {text-align: left ; width: 100%}\n",
       "    .wandb-row { display: flex; flex-direction: row; flex-wrap: wrap; justify-content: flex-start; width: 100% }\n",
       "    .wandb-col { display: flex; flex-direction: column; flex-basis: 100%; flex: 1; padding: 10px; }\n",
       "    </style>\n",
       "<div class=\"wandb-row\"><div class=\"wandb-col\"><h3>Run history:</h3><br/><table class=\"wandb\"><tr><td>epoch</td><td>▁▁▁▁▂▂▂▂▂▃▃▃▃▃▃▄▄▄▄▄▅▅▅▅▅▅▆▆▆▆▆▇▇▇▇▇▇███</td></tr><tr><td>train_loss</td><td>▇█▇▇▇▆▅▂▂▂▁▂▂▁▁▁▁▂▁▁▁▁▁▁▁▁▁▁▁▁▁▁▁▁▁▁▁▁▁▁</td></tr><tr><td>trainer/global_step</td><td>▁▁▁▁▂▂▂▂▂▃▃▃▃▃▃▄▄▄▄▄▅▅▅▅▅▅▆▆▆▆▆▆▇▇▇▇▇███</td></tr><tr><td>val_loss</td><td>█████▇▅▃▂▂▁▁▁▁▁▁▁▁▁▁▁▁▁▁▁▁▁▁▁▁▁▁▁▁▁▁▁▁▁▁</td></tr></table><br/></div><div class=\"wandb-col\"><h3>Run summary:</h3><br/><table class=\"wandb\"><tr><td>epoch</td><td>99</td></tr><tr><td>train_loss</td><td>673755776.0</td></tr><tr><td>trainer/global_step</td><td>499</td></tr><tr><td>val_loss</td><td>885112896.0</td></tr></table><br/></div></div>"
      ],
      "text/plain": [
       "<IPython.core.display.HTML object>"
      ]
     },
     "metadata": {},
     "output_type": "display_data"
    },
    {
     "data": {
      "text/html": [
       " View run <strong style=\"color:#cdcd00\">Kayla_SN0K08HK</strong> at: <a href='https://wandb.ai/deepsat/House%20Pricing%20Fit/runs/ydlqfd0c' target=\"_blank\">https://wandb.ai/deepsat/House%20Pricing%20Fit/runs/ydlqfd0c</a><br/> View project at: <a href='https://wandb.ai/deepsat/House%20Pricing%20Fit' target=\"_blank\">https://wandb.ai/deepsat/House%20Pricing%20Fit</a><br/>Synced 6 W&B file(s), 0 media file(s), 0 artifact file(s) and 0 other file(s)"
      ],
      "text/plain": [
       "<IPython.core.display.HTML object>"
      ]
     },
     "metadata": {},
     "output_type": "display_data"
    },
    {
     "data": {
      "text/html": [
       "Find logs at: <code>./wandb/run-20240422_000409-ydlqfd0c/logs</code>"
      ],
      "text/plain": [
       "<IPython.core.display.HTML object>"
      ]
     },
     "metadata": {},
     "output_type": "display_data"
    },
    {
     "data": {
      "text/html": [
       "Tracking run with wandb version 0.16.6"
      ],
      "text/plain": [
       "<IPython.core.display.HTML object>"
      ]
     },
     "metadata": {},
     "output_type": "display_data"
    },
    {
     "data": {
      "text/html": [
       "Run data is saved locally in <code>/root/repos/lightning/HousePricing/wandb/run-20240422_000433-imp8z3cs</code>"
      ],
      "text/plain": [
       "<IPython.core.display.HTML object>"
      ]
     },
     "metadata": {},
     "output_type": "display_data"
    },
    {
     "data": {
      "text/html": [
       "Syncing run <strong><a href='https://wandb.ai/deepsat/House%20Pricing%20Fit/runs/imp8z3cs' target=\"_blank\">Brian_6OFMOICS</a></strong> to <a href='https://wandb.ai/deepsat/House%20Pricing%20Fit' target=\"_blank\">Weights & Biases</a> (<a href='https://wandb.me/run' target=\"_blank\">docs</a>)<br/>"
      ],
      "text/plain": [
       "<IPython.core.display.HTML object>"
      ]
     },
     "metadata": {},
     "output_type": "display_data"
    },
    {
     "data": {
      "text/html": [
       " View project at <a href='https://wandb.ai/deepsat/House%20Pricing%20Fit' target=\"_blank\">https://wandb.ai/deepsat/House%20Pricing%20Fit</a>"
      ],
      "text/plain": [
       "<IPython.core.display.HTML object>"
      ]
     },
     "metadata": {},
     "output_type": "display_data"
    },
    {
     "data": {
      "text/html": [
       " View run at <a href='https://wandb.ai/deepsat/House%20Pricing%20Fit/runs/imp8z3cs' target=\"_blank\">https://wandb.ai/deepsat/House%20Pricing%20Fit/runs/imp8z3cs</a>"
      ],
      "text/plain": [
       "<IPython.core.display.HTML object>"
      ]
     },
     "metadata": {},
     "output_type": "display_data"
    },
    {
     "name": "stderr",
     "output_type": "stream",
     "text": [
      "GPU available: True (cuda), used: True\n",
      "TPU available: False, using: 0 TPU cores\n",
      "IPU available: False, using: 0 IPUs\n",
      "HPU available: False, using: 0 HPUs\n",
      "/root/miniconda3/envs/pricehousing/lib/python3.9/site-packages/pytorch_lightning/loggers/wandb.py:391: There is a wandb run already in progress and newly created instances of `WandbLogger` will reuse this run. If this is not desired, call `wandb.finish()` before instantiating `WandbLogger`.\n",
      "LOCAL_RANK: 0 - CUDA_VISIBLE_DEVICES: [0]\n",
      "\n",
      "  | Name | Type       | Params\n",
      "------------------------------------\n",
      "0 | net  | Sequential | 215 K \n",
      "------------------------------------\n",
      "215 K     Trainable params\n",
      "0         Non-trainable params\n",
      "215 K     Total params\n",
      "0.864     Total estimated model params size (MB)\n"
     ]
    },
    {
     "name": "stdout",
     "output_type": "stream",
     "text": [
      "[INFO]: Run configuration: {'accelerator': 'gpu', 'max_epochs': 100, 'patience': 10, 'lr': 0.001, 'batch_size': 256, 'in_features': 244, 'validation_size': 0.1}\n",
      "[INFO]: Input size: 244\n",
      "[INFO]: Skipping downloading data. Data is already downloaded\n",
      "[INFO]: Reloading set up data...\n",
      "[INFO]: Setting up fit dataset/s\n",
      "[INFO]: Train dataset size: 1166\n",
      "[INFO]: Validation dataset size: 129\n",
      "Sanity Checking: |          | 0/? [00:00<?, ?it/s][INFO]: Validation dataloader size: 2\n",
      "                                                                            "
     ]
    },
    {
     "name": "stderr",
     "output_type": "stream",
     "text": [
      "/root/miniconda3/envs/pricehousing/lib/python3.9/site-packages/lightning/pytorch/trainer/connectors/data_connector.py:492: Your `val_dataloader`'s sampler has shuffling enabled, it is strongly recommended that you turn shuffling off for val/test dataloaders.\n",
      "/root/miniconda3/envs/pricehousing/lib/python3.9/site-packages/lightning/pytorch/trainer/connectors/data_connector.py:441: The 'val_dataloader' does not have many workers which may be a bottleneck. Consider increasing the value of the `num_workers` argument` to `num_workers=11` in the `DataLoader` to improve performance.\n",
      "/root/miniconda3/envs/pricehousing/lib/python3.9/site-packages/lightning/pytorch/trainer/connectors/data_connector.py:441: The 'train_dataloader' does not have many workers which may be a bottleneck. Consider increasing the value of the `num_workers` argument` to `num_workers=11` in the `DataLoader` to improve performance.\n"
     ]
    },
    {
     "name": "stdout",
     "output_type": "stream",
     "text": [
      "[INFO]: Train dataloader size: 5\n",
      "Training: |          | 0/? [00:00<?, ?it/s][INFO]: Logger save model dir: ./lightning_logs/imp8z3cs\n",
      "Epoch 0: 100%|██████████| 5/5 [00:00<00:00, 31.58it/s, v_num=z3cs]"
     ]
    },
    {
     "name": "stderr",
     "output_type": "stream",
     "text": [
      "Metric val_loss improved. New best score: 35115417600.000\n"
     ]
    },
    {
     "name": "stdout",
     "output_type": "stream",
     "text": [
      "Epoch 1: 100%|██████████| 5/5 [00:00<00:00, 30.41it/s, v_num=z3cs]"
     ]
    },
    {
     "name": "stderr",
     "output_type": "stream",
     "text": [
      "Metric val_loss improved by 716800.000 >= min_delta = 0.0. New best score: 35114700800.000\n"
     ]
    },
    {
     "name": "stdout",
     "output_type": "stream",
     "text": [
      "Epoch 2: 100%|██████████| 5/5 [00:00<00:00, 32.54it/s, v_num=z3cs]"
     ]
    },
    {
     "name": "stderr",
     "output_type": "stream",
     "text": [
      "Metric val_loss improved by 2736128.000 >= min_delta = 0.0. New best score: 35111964672.000\n"
     ]
    },
    {
     "name": "stdout",
     "output_type": "stream",
     "text": [
      "Epoch 3: 100%|██████████| 5/5 [00:00<00:00, 33.12it/s, v_num=z3cs]"
     ]
    },
    {
     "name": "stderr",
     "output_type": "stream",
     "text": [
      "Metric val_loss improved by 8462336.000 >= min_delta = 0.0. New best score: 35103502336.000\n"
     ]
    },
    {
     "name": "stdout",
     "output_type": "stream",
     "text": [
      "Epoch 4: 100%|██████████| 5/5 [00:00<00:00, 33.15it/s, v_num=z3cs]"
     ]
    },
    {
     "name": "stderr",
     "output_type": "stream",
     "text": [
      "Metric val_loss improved by 22323200.000 >= min_delta = 0.0. New best score: 35081179136.000\n"
     ]
    },
    {
     "name": "stdout",
     "output_type": "stream",
     "text": [
      "Epoch 5: 100%|██████████| 5/5 [00:00<00:00, 31.93it/s, v_num=z3cs]"
     ]
    },
    {
     "name": "stderr",
     "output_type": "stream",
     "text": [
      "Metric val_loss improved by 52293632.000 >= min_delta = 0.0. New best score: 35028885504.000\n"
     ]
    },
    {
     "name": "stdout",
     "output_type": "stream",
     "text": [
      "Epoch 6: 100%|██████████| 5/5 [00:00<00:00, 28.47it/s, v_num=z3cs]"
     ]
    },
    {
     "name": "stderr",
     "output_type": "stream",
     "text": [
      "Metric val_loss improved by 111407104.000 >= min_delta = 0.0. New best score: 34917478400.000\n"
     ]
    },
    {
     "name": "stdout",
     "output_type": "stream",
     "text": [
      "Epoch 7: 100%|██████████| 5/5 [00:00<00:00, 32.64it/s, v_num=z3cs]"
     ]
    },
    {
     "name": "stderr",
     "output_type": "stream",
     "text": [
      "Metric val_loss improved by 220364800.000 >= min_delta = 0.0. New best score: 34697113600.000\n"
     ]
    },
    {
     "name": "stdout",
     "output_type": "stream",
     "text": [
      "Epoch 8: 100%|██████████| 5/5 [00:00<00:00, 31.16it/s, v_num=z3cs]"
     ]
    },
    {
     "name": "stderr",
     "output_type": "stream",
     "text": [
      "Metric val_loss improved by 409071616.000 >= min_delta = 0.0. New best score: 34288041984.000\n"
     ]
    },
    {
     "name": "stdout",
     "output_type": "stream",
     "text": [
      "Epoch 9: 100%|██████████| 5/5 [00:00<00:00, 31.58it/s, v_num=z3cs]"
     ]
    },
    {
     "name": "stderr",
     "output_type": "stream",
     "text": [
      "Metric val_loss improved by 717365248.000 >= min_delta = 0.0. New best score: 33570676736.000\n"
     ]
    },
    {
     "name": "stdout",
     "output_type": "stream",
     "text": [
      "Epoch 10: 100%|██████████| 5/5 [00:00<00:00, 28.68it/s, v_num=z3cs]"
     ]
    },
    {
     "name": "stderr",
     "output_type": "stream",
     "text": [
      "Metric val_loss improved by 1194360832.000 >= min_delta = 0.0. New best score: 32376315904.000\n"
     ]
    },
    {
     "name": "stdout",
     "output_type": "stream",
     "text": [
      "Epoch 11: 100%|██████████| 5/5 [00:00<00:00, 32.09it/s, v_num=z3cs]"
     ]
    },
    {
     "name": "stderr",
     "output_type": "stream",
     "text": [
      "Metric val_loss improved by 1890973696.000 >= min_delta = 0.0. New best score: 30485342208.000\n"
     ]
    },
    {
     "name": "stdout",
     "output_type": "stream",
     "text": [
      "Epoch 12: 100%|██████████| 5/5 [00:00<00:00, 34.77it/s, v_num=z3cs]"
     ]
    },
    {
     "name": "stderr",
     "output_type": "stream",
     "text": [
      "Metric val_loss improved by 2838155264.000 >= min_delta = 0.0. New best score: 27647186944.000\n"
     ]
    },
    {
     "name": "stdout",
     "output_type": "stream",
     "text": [
      "Epoch 13: 100%|██████████| 5/5 [00:00<00:00, 34.74it/s, v_num=z3cs]"
     ]
    },
    {
     "name": "stderr",
     "output_type": "stream",
     "text": [
      "Metric val_loss improved by 4007606272.000 >= min_delta = 0.0. New best score: 23639580672.000\n"
     ]
    },
    {
     "name": "stdout",
     "output_type": "stream",
     "text": [
      "Epoch 14: 100%|██████████| 5/5 [00:00<00:00, 29.49it/s, v_num=z3cs]"
     ]
    },
    {
     "name": "stderr",
     "output_type": "stream",
     "text": [
      "Metric val_loss improved by 5223202816.000 >= min_delta = 0.0. New best score: 18416377856.000\n"
     ]
    },
    {
     "name": "stdout",
     "output_type": "stream",
     "text": [
      "Epoch 15: 100%|██████████| 5/5 [00:00<00:00, 36.67it/s, v_num=z3cs]"
     ]
    },
    {
     "name": "stderr",
     "output_type": "stream",
     "text": [
      "Metric val_loss improved by 6047219712.000 >= min_delta = 0.0. New best score: 12369158144.000\n"
     ]
    },
    {
     "name": "stdout",
     "output_type": "stream",
     "text": [
      "Epoch 16: 100%|██████████| 5/5 [00:00<00:00, 34.64it/s, v_num=z3cs]"
     ]
    },
    {
     "name": "stderr",
     "output_type": "stream",
     "text": [
      "Metric val_loss improved by 5657814016.000 >= min_delta = 0.0. New best score: 6711344128.000\n"
     ]
    },
    {
     "name": "stdout",
     "output_type": "stream",
     "text": [
      "Epoch 17: 100%|██████████| 5/5 [00:00<00:00, 34.51it/s, v_num=z3cs]"
     ]
    },
    {
     "name": "stderr",
     "output_type": "stream",
     "text": [
      "Metric val_loss improved by 3035276544.000 >= min_delta = 0.0. New best score: 3676067584.000\n"
     ]
    },
    {
     "name": "stdout",
     "output_type": "stream",
     "text": [
      "Epoch 21: 100%|██████████| 5/5 [00:00<00:00, 37.10it/s, v_num=z3cs]"
     ]
    },
    {
     "name": "stderr",
     "output_type": "stream",
     "text": [
      "Metric val_loss improved by 604053760.000 >= min_delta = 0.0. New best score: 3072013824.000\n"
     ]
    },
    {
     "name": "stdout",
     "output_type": "stream",
     "text": [
      "Epoch 22: 100%|██████████| 5/5 [00:00<00:00, 36.09it/s, v_num=z3cs]"
     ]
    },
    {
     "name": "stderr",
     "output_type": "stream",
     "text": [
      "Metric val_loss improved by 160322304.000 >= min_delta = 0.0. New best score: 2911691520.000\n"
     ]
    },
    {
     "name": "stdout",
     "output_type": "stream",
     "text": [
      "Epoch 23: 100%|██████████| 5/5 [00:00<00:00, 37.20it/s, v_num=z3cs]"
     ]
    },
    {
     "name": "stderr",
     "output_type": "stream",
     "text": [
      "Metric val_loss improved by 102262272.000 >= min_delta = 0.0. New best score: 2809429248.000\n"
     ]
    },
    {
     "name": "stdout",
     "output_type": "stream",
     "text": [
      "Epoch 24: 100%|██████████| 5/5 [00:00<00:00, 31.33it/s, v_num=z3cs]"
     ]
    },
    {
     "name": "stderr",
     "output_type": "stream",
     "text": [
      "Metric val_loss improved by 147133440.000 >= min_delta = 0.0. New best score: 2662295808.000\n"
     ]
    },
    {
     "name": "stdout",
     "output_type": "stream",
     "text": [
      "Epoch 25: 100%|██████████| 5/5 [00:00<00:00, 35.77it/s, v_num=z3cs]"
     ]
    },
    {
     "name": "stderr",
     "output_type": "stream",
     "text": [
      "Metric val_loss improved by 87638784.000 >= min_delta = 0.0. New best score: 2574657024.000\n"
     ]
    },
    {
     "name": "stdout",
     "output_type": "stream",
     "text": [
      "Epoch 26: 100%|██████████| 5/5 [00:00<00:00, 37.09it/s, v_num=z3cs]"
     ]
    },
    {
     "name": "stderr",
     "output_type": "stream",
     "text": [
      "Metric val_loss improved by 39896576.000 >= min_delta = 0.0. New best score: 2534760448.000\n"
     ]
    },
    {
     "name": "stdout",
     "output_type": "stream",
     "text": [
      "Epoch 27: 100%|██████████| 5/5 [00:00<00:00, 37.57it/s, v_num=z3cs]"
     ]
    },
    {
     "name": "stderr",
     "output_type": "stream",
     "text": [
      "Metric val_loss improved by 54847744.000 >= min_delta = 0.0. New best score: 2479912704.000\n"
     ]
    },
    {
     "name": "stdout",
     "output_type": "stream",
     "text": [
      "Epoch 28: 100%|██████████| 5/5 [00:00<00:00, 35.33it/s, v_num=z3cs]"
     ]
    },
    {
     "name": "stderr",
     "output_type": "stream",
     "text": [
      "Metric val_loss improved by 133109248.000 >= min_delta = 0.0. New best score: 2346803456.000\n"
     ]
    },
    {
     "name": "stdout",
     "output_type": "stream",
     "text": [
      "Epoch 29: 100%|██████████| 5/5 [00:00<00:00, 37.75it/s, v_num=z3cs]"
     ]
    },
    {
     "name": "stderr",
     "output_type": "stream",
     "text": [
      "Metric val_loss improved by 125063680.000 >= min_delta = 0.0. New best score: 2221739776.000\n"
     ]
    },
    {
     "name": "stdout",
     "output_type": "stream",
     "text": [
      "Epoch 30: 100%|██████████| 5/5 [00:00<00:00, 36.23it/s, v_num=z3cs]"
     ]
    },
    {
     "name": "stderr",
     "output_type": "stream",
     "text": [
      "Metric val_loss improved by 96757632.000 >= min_delta = 0.0. New best score: 2124982144.000\n"
     ]
    },
    {
     "name": "stdout",
     "output_type": "stream",
     "text": [
      "Epoch 31: 100%|██████████| 5/5 [00:00<00:00, 36.94it/s, v_num=z3cs]"
     ]
    },
    {
     "name": "stderr",
     "output_type": "stream",
     "text": [
      "Metric val_loss improved by 79131776.000 >= min_delta = 0.0. New best score: 2045850368.000\n"
     ]
    },
    {
     "name": "stdout",
     "output_type": "stream",
     "text": [
      "Epoch 32: 100%|██████████| 5/5 [00:00<00:00, 35.67it/s, v_num=z3cs]"
     ]
    },
    {
     "name": "stderr",
     "output_type": "stream",
     "text": [
      "Metric val_loss improved by 61957632.000 >= min_delta = 0.0. New best score: 1983892736.000\n"
     ]
    },
    {
     "name": "stdout",
     "output_type": "stream",
     "text": [
      "Epoch 33: 100%|██████████| 5/5 [00:00<00:00, 30.51it/s, v_num=z3cs]"
     ]
    },
    {
     "name": "stderr",
     "output_type": "stream",
     "text": [
      "Metric val_loss improved by 47743872.000 >= min_delta = 0.0. New best score: 1936148864.000\n"
     ]
    },
    {
     "name": "stdout",
     "output_type": "stream",
     "text": [
      "Epoch 34: 100%|██████████| 5/5 [00:00<00:00, 34.96it/s, v_num=z3cs]"
     ]
    },
    {
     "name": "stderr",
     "output_type": "stream",
     "text": [
      "Metric val_loss improved by 54897792.000 >= min_delta = 0.0. New best score: 1881251072.000\n"
     ]
    },
    {
     "name": "stdout",
     "output_type": "stream",
     "text": [
      "Epoch 35: 100%|██████████| 5/5 [00:00<00:00, 35.44it/s, v_num=z3cs]"
     ]
    },
    {
     "name": "stderr",
     "output_type": "stream",
     "text": [
      "Metric val_loss improved by 63242624.000 >= min_delta = 0.0. New best score: 1818008448.000\n"
     ]
    },
    {
     "name": "stdout",
     "output_type": "stream",
     "text": [
      "Epoch 36: 100%|██████████| 5/5 [00:00<00:00, 35.03it/s, v_num=z3cs]"
     ]
    },
    {
     "name": "stderr",
     "output_type": "stream",
     "text": [
      "Metric val_loss improved by 76609024.000 >= min_delta = 0.0. New best score: 1741399424.000\n"
     ]
    },
    {
     "name": "stdout",
     "output_type": "stream",
     "text": [
      "Epoch 37: 100%|██████████| 5/5 [00:00<00:00, 33.74it/s, v_num=z3cs]"
     ]
    },
    {
     "name": "stderr",
     "output_type": "stream",
     "text": [
      "Metric val_loss improved by 55321728.000 >= min_delta = 0.0. New best score: 1686077696.000\n"
     ]
    },
    {
     "name": "stdout",
     "output_type": "stream",
     "text": [
      "Epoch 38: 100%|██████████| 5/5 [00:00<00:00, 34.64it/s, v_num=z3cs]"
     ]
    },
    {
     "name": "stderr",
     "output_type": "stream",
     "text": [
      "Metric val_loss improved by 44170880.000 >= min_delta = 0.0. New best score: 1641906816.000\n"
     ]
    },
    {
     "name": "stdout",
     "output_type": "stream",
     "text": [
      "Epoch 39: 100%|██████████| 5/5 [00:00<00:00, 34.88it/s, v_num=z3cs]"
     ]
    },
    {
     "name": "stderr",
     "output_type": "stream",
     "text": [
      "Metric val_loss improved by 35038848.000 >= min_delta = 0.0. New best score: 1606867968.000\n"
     ]
    },
    {
     "name": "stdout",
     "output_type": "stream",
     "text": [
      "Epoch 40: 100%|██████████| 5/5 [00:00<00:00, 34.62it/s, v_num=z3cs]"
     ]
    },
    {
     "name": "stderr",
     "output_type": "stream",
     "text": [
      "Metric val_loss improved by 34644736.000 >= min_delta = 0.0. New best score: 1572223232.000\n"
     ]
    },
    {
     "name": "stdout",
     "output_type": "stream",
     "text": [
      "Epoch 41: 100%|██████████| 5/5 [00:00<00:00, 30.17it/s, v_num=z3cs]"
     ]
    },
    {
     "name": "stderr",
     "output_type": "stream",
     "text": [
      "Metric val_loss improved by 49392768.000 >= min_delta = 0.0. New best score: 1522830464.000\n"
     ]
    },
    {
     "name": "stdout",
     "output_type": "stream",
     "text": [
      "Epoch 42: 100%|██████████| 5/5 [00:00<00:00, 35.78it/s, v_num=z3cs]"
     ]
    },
    {
     "name": "stderr",
     "output_type": "stream",
     "text": [
      "Metric val_loss improved by 36744704.000 >= min_delta = 0.0. New best score: 1486085760.000\n"
     ]
    },
    {
     "name": "stdout",
     "output_type": "stream",
     "text": [
      "Epoch 43: 100%|██████████| 5/5 [00:00<00:00, 35.37it/s, v_num=z3cs]"
     ]
    },
    {
     "name": "stderr",
     "output_type": "stream",
     "text": [
      "Metric val_loss improved by 41191680.000 >= min_delta = 0.0. New best score: 1444894080.000\n"
     ]
    },
    {
     "name": "stdout",
     "output_type": "stream",
     "text": [
      "Epoch 44: 100%|██████████| 5/5 [00:00<00:00, 35.42it/s, v_num=z3cs]"
     ]
    },
    {
     "name": "stderr",
     "output_type": "stream",
     "text": [
      "Metric val_loss improved by 35764480.000 >= min_delta = 0.0. New best score: 1409129600.000\n"
     ]
    },
    {
     "name": "stdout",
     "output_type": "stream",
     "text": [
      "Epoch 45: 100%|██████████| 5/5 [00:00<00:00, 26.93it/s, v_num=z3cs]"
     ]
    },
    {
     "name": "stderr",
     "output_type": "stream",
     "text": [
      "Metric val_loss improved by 28269952.000 >= min_delta = 0.0. New best score: 1380859648.000\n"
     ]
    },
    {
     "name": "stdout",
     "output_type": "stream",
     "text": [
      "Epoch 46: 100%|██████████| 5/5 [00:00<00:00, 20.66it/s, v_num=z3cs]"
     ]
    },
    {
     "name": "stderr",
     "output_type": "stream",
     "text": [
      "Metric val_loss improved by 33292032.000 >= min_delta = 0.0. New best score: 1347567616.000\n"
     ]
    },
    {
     "name": "stdout",
     "output_type": "stream",
     "text": [
      "Epoch 47: 100%|██████████| 5/5 [00:00<00:00, 34.97it/s, v_num=z3cs]"
     ]
    },
    {
     "name": "stderr",
     "output_type": "stream",
     "text": [
      "Metric val_loss improved by 18818816.000 >= min_delta = 0.0. New best score: 1328748800.000\n"
     ]
    },
    {
     "name": "stdout",
     "output_type": "stream",
     "text": [
      "Epoch 48: 100%|██████████| 5/5 [00:00<00:00, 31.03it/s, v_num=z3cs]"
     ]
    },
    {
     "name": "stderr",
     "output_type": "stream",
     "text": [
      "Metric val_loss improved by 8426624.000 >= min_delta = 0.0. New best score: 1320322176.000\n"
     ]
    },
    {
     "name": "stdout",
     "output_type": "stream",
     "text": [
      "Epoch 49: 100%|██████████| 5/5 [00:00<00:00, 35.67it/s, v_num=z3cs]"
     ]
    },
    {
     "name": "stderr",
     "output_type": "stream",
     "text": [
      "Metric val_loss improved by 7862144.000 >= min_delta = 0.0. New best score: 1312460032.000\n"
     ]
    },
    {
     "name": "stdout",
     "output_type": "stream",
     "text": [
      "Epoch 50: 100%|██████████| 5/5 [00:00<00:00, 36.08it/s, v_num=z3cs]"
     ]
    },
    {
     "name": "stderr",
     "output_type": "stream",
     "text": [
      "Metric val_loss improved by 39151872.000 >= min_delta = 0.0. New best score: 1273308160.000\n"
     ]
    },
    {
     "name": "stdout",
     "output_type": "stream",
     "text": [
      "Epoch 51: 100%|██████████| 5/5 [00:00<00:00, 35.27it/s, v_num=z3cs]"
     ]
    },
    {
     "name": "stderr",
     "output_type": "stream",
     "text": [
      "Metric val_loss improved by 29194752.000 >= min_delta = 0.0. New best score: 1244113408.000\n"
     ]
    },
    {
     "name": "stdout",
     "output_type": "stream",
     "text": [
      "Epoch 52: 100%|██████████| 5/5 [00:00<00:00, 36.49it/s, v_num=z3cs]"
     ]
    },
    {
     "name": "stderr",
     "output_type": "stream",
     "text": [
      "Metric val_loss improved by 24018688.000 >= min_delta = 0.0. New best score: 1220094720.000\n"
     ]
    },
    {
     "name": "stdout",
     "output_type": "stream",
     "text": [
      "Epoch 53: 100%|██████████| 5/5 [00:00<00:00, 36.33it/s, v_num=z3cs]"
     ]
    },
    {
     "name": "stderr",
     "output_type": "stream",
     "text": [
      "Metric val_loss improved by 23209600.000 >= min_delta = 0.0. New best score: 1196885120.000\n"
     ]
    },
    {
     "name": "stdout",
     "output_type": "stream",
     "text": [
      "Epoch 54: 100%|██████████| 5/5 [00:00<00:00, 36.60it/s, v_num=z3cs]"
     ]
    },
    {
     "name": "stderr",
     "output_type": "stream",
     "text": [
      "Metric val_loss improved by 10285568.000 >= min_delta = 0.0. New best score: 1186599552.000\n"
     ]
    },
    {
     "name": "stdout",
     "output_type": "stream",
     "text": [
      "Epoch 55: 100%|██████████| 5/5 [00:00<00:00, 30.37it/s, v_num=z3cs]"
     ]
    },
    {
     "name": "stderr",
     "output_type": "stream",
     "text": [
      "Metric val_loss improved by 18624512.000 >= min_delta = 0.0. New best score: 1167975040.000\n"
     ]
    },
    {
     "name": "stdout",
     "output_type": "stream",
     "text": [
      "Epoch 56: 100%|██████████| 5/5 [00:00<00:00, 38.71it/s, v_num=z3cs]"
     ]
    },
    {
     "name": "stderr",
     "output_type": "stream",
     "text": [
      "Metric val_loss improved by 8048128.000 >= min_delta = 0.0. New best score: 1159926912.000\n"
     ]
    },
    {
     "name": "stdout",
     "output_type": "stream",
     "text": [
      "Epoch 57: 100%|██████████| 5/5 [00:00<00:00, 37.47it/s, v_num=z3cs]"
     ]
    },
    {
     "name": "stderr",
     "output_type": "stream",
     "text": [
      "Metric val_loss improved by 9677952.000 >= min_delta = 0.0. New best score: 1150248960.000\n"
     ]
    },
    {
     "name": "stdout",
     "output_type": "stream",
     "text": [
      "Epoch 58: 100%|██████████| 5/5 [00:00<00:00, 35.85it/s, v_num=z3cs]"
     ]
    },
    {
     "name": "stderr",
     "output_type": "stream",
     "text": [
      "Metric val_loss improved by 6835200.000 >= min_delta = 0.0. New best score: 1143413760.000\n"
     ]
    },
    {
     "name": "stdout",
     "output_type": "stream",
     "text": [
      "Epoch 59: 100%|██████████| 5/5 [00:00<00:00, 35.80it/s, v_num=z3cs]"
     ]
    },
    {
     "name": "stderr",
     "output_type": "stream",
     "text": [
      "Metric val_loss improved by 13758592.000 >= min_delta = 0.0. New best score: 1129655168.000\n"
     ]
    },
    {
     "name": "stdout",
     "output_type": "stream",
     "text": [
      "Epoch 60: 100%|██████████| 5/5 [00:00<00:00, 36.54it/s, v_num=z3cs]"
     ]
    },
    {
     "name": "stderr",
     "output_type": "stream",
     "text": [
      "Metric val_loss improved by 14367360.000 >= min_delta = 0.0. New best score: 1115287808.000\n"
     ]
    },
    {
     "name": "stdout",
     "output_type": "stream",
     "text": [
      "Epoch 61: 100%|██████████| 5/5 [00:00<00:00, 36.17it/s, v_num=z3cs]"
     ]
    },
    {
     "name": "stderr",
     "output_type": "stream",
     "text": [
      "Metric val_loss improved by 20917632.000 >= min_delta = 0.0. New best score: 1094370176.000\n"
     ]
    },
    {
     "name": "stdout",
     "output_type": "stream",
     "text": [
      "Epoch 62: 100%|██████████| 5/5 [00:00<00:00, 30.21it/s, v_num=z3cs]"
     ]
    },
    {
     "name": "stderr",
     "output_type": "stream",
     "text": [
      "Metric val_loss improved by 18347264.000 >= min_delta = 0.0. New best score: 1076022912.000\n"
     ]
    },
    {
     "name": "stdout",
     "output_type": "stream",
     "text": [
      "Epoch 63: 100%|██████████| 5/5 [00:00<00:00, 34.56it/s, v_num=z3cs]"
     ]
    },
    {
     "name": "stderr",
     "output_type": "stream",
     "text": [
      "Metric val_loss improved by 235008.000 >= min_delta = 0.0. New best score: 1075787904.000\n"
     ]
    },
    {
     "name": "stdout",
     "output_type": "stream",
     "text": [
      "Epoch 65: 100%|██████████| 5/5 [00:00<00:00, 36.32it/s, v_num=z3cs]"
     ]
    },
    {
     "name": "stderr",
     "output_type": "stream",
     "text": [
      "Metric val_loss improved by 13188544.000 >= min_delta = 0.0. New best score: 1062599360.000\n"
     ]
    },
    {
     "name": "stdout",
     "output_type": "stream",
     "text": [
      "Epoch 66: 100%|██████████| 5/5 [00:00<00:00, 35.56it/s, v_num=z3cs]"
     ]
    },
    {
     "name": "stderr",
     "output_type": "stream",
     "text": [
      "Metric val_loss improved by 13919680.000 >= min_delta = 0.0. New best score: 1048679680.000\n"
     ]
    },
    {
     "name": "stdout",
     "output_type": "stream",
     "text": [
      "Epoch 67: 100%|██████████| 5/5 [00:00<00:00, 36.58it/s, v_num=z3cs]"
     ]
    },
    {
     "name": "stderr",
     "output_type": "stream",
     "text": [
      "Metric val_loss improved by 5553280.000 >= min_delta = 0.0. New best score: 1043126400.000\n"
     ]
    },
    {
     "name": "stdout",
     "output_type": "stream",
     "text": [
      "Epoch 68: 100%|██████████| 5/5 [00:00<00:00, 35.64it/s, v_num=z3cs]"
     ]
    },
    {
     "name": "stderr",
     "output_type": "stream",
     "text": [
      "Metric val_loss improved by 6271808.000 >= min_delta = 0.0. New best score: 1036854592.000\n"
     ]
    },
    {
     "name": "stdout",
     "output_type": "stream",
     "text": [
      "Epoch 69: 100%|██████████| 5/5 [00:00<00:00, 27.90it/s, v_num=z3cs]"
     ]
    },
    {
     "name": "stderr",
     "output_type": "stream",
     "text": [
      "Metric val_loss improved by 11885760.000 >= min_delta = 0.0. New best score: 1024968832.000\n"
     ]
    },
    {
     "name": "stdout",
     "output_type": "stream",
     "text": [
      "Epoch 70: 100%|██████████| 5/5 [00:00<00:00, 35.76it/s, v_num=z3cs]"
     ]
    },
    {
     "name": "stderr",
     "output_type": "stream",
     "text": [
      "Metric val_loss improved by 11503232.000 >= min_delta = 0.0. New best score: 1013465600.000\n"
     ]
    },
    {
     "name": "stdout",
     "output_type": "stream",
     "text": [
      "Epoch 71: 100%|██████████| 5/5 [00:00<00:00, 35.88it/s, v_num=z3cs]"
     ]
    },
    {
     "name": "stderr",
     "output_type": "stream",
     "text": [
      "Metric val_loss improved by 12364352.000 >= min_delta = 0.0. New best score: 1001101248.000\n"
     ]
    },
    {
     "name": "stdout",
     "output_type": "stream",
     "text": [
      "Epoch 72: 100%|██████████| 5/5 [00:00<00:00, 34.30it/s, v_num=z3cs]"
     ]
    },
    {
     "name": "stderr",
     "output_type": "stream",
     "text": [
      "Metric val_loss improved by 1765504.000 >= min_delta = 0.0. New best score: 999335744.000\n"
     ]
    },
    {
     "name": "stdout",
     "output_type": "stream",
     "text": [
      "Epoch 73: 100%|██████████| 5/5 [00:00<00:00, 34.16it/s, v_num=z3cs]"
     ]
    },
    {
     "name": "stderr",
     "output_type": "stream",
     "text": [
      "Metric val_loss improved by 8133376.000 >= min_delta = 0.0. New best score: 991202368.000\n"
     ]
    },
    {
     "name": "stdout",
     "output_type": "stream",
     "text": [
      "Epoch 74: 100%|██████████| 5/5 [00:00<00:00, 32.17it/s, v_num=z3cs]"
     ]
    },
    {
     "name": "stderr",
     "output_type": "stream",
     "text": [
      "Metric val_loss improved by 4894976.000 >= min_delta = 0.0. New best score: 986307392.000\n"
     ]
    },
    {
     "name": "stdout",
     "output_type": "stream",
     "text": [
      "Epoch 75: 100%|██████████| 5/5 [00:00<00:00, 26.46it/s, v_num=z3cs]"
     ]
    },
    {
     "name": "stderr",
     "output_type": "stream",
     "text": [
      "Metric val_loss improved by 7039744.000 >= min_delta = 0.0. New best score: 979267648.000\n"
     ]
    },
    {
     "name": "stdout",
     "output_type": "stream",
     "text": [
      "Epoch 76: 100%|██████████| 5/5 [00:00<00:00, 32.42it/s, v_num=z3cs]"
     ]
    },
    {
     "name": "stderr",
     "output_type": "stream",
     "text": [
      "Metric val_loss improved by 7024896.000 >= min_delta = 0.0. New best score: 972242752.000\n"
     ]
    },
    {
     "name": "stdout",
     "output_type": "stream",
     "text": [
      "Epoch 77: 100%|██████████| 5/5 [00:00<00:00, 34.93it/s, v_num=z3cs]"
     ]
    },
    {
     "name": "stderr",
     "output_type": "stream",
     "text": [
      "Metric val_loss improved by 14570176.000 >= min_delta = 0.0. New best score: 957672576.000\n"
     ]
    },
    {
     "name": "stdout",
     "output_type": "stream",
     "text": [
      "Epoch 78: 100%|██████████| 5/5 [00:00<00:00, 34.31it/s, v_num=z3cs]"
     ]
    },
    {
     "name": "stderr",
     "output_type": "stream",
     "text": [
      "Metric val_loss improved by 2527488.000 >= min_delta = 0.0. New best score: 955145088.000\n"
     ]
    },
    {
     "name": "stdout",
     "output_type": "stream",
     "text": [
      "Epoch 81: 100%|██████████| 5/5 [00:00<00:00, 35.32it/s, v_num=z3cs]"
     ]
    },
    {
     "name": "stderr",
     "output_type": "stream",
     "text": [
      "Metric val_loss improved by 11306496.000 >= min_delta = 0.0. New best score: 943838592.000\n"
     ]
    },
    {
     "name": "stdout",
     "output_type": "stream",
     "text": [
      "Epoch 82: 100%|██████████| 5/5 [00:00<00:00, 34.66it/s, v_num=z3cs]"
     ]
    },
    {
     "name": "stderr",
     "output_type": "stream",
     "text": [
      "Metric val_loss improved by 12854656.000 >= min_delta = 0.0. New best score: 930983936.000\n"
     ]
    },
    {
     "name": "stdout",
     "output_type": "stream",
     "text": [
      "Epoch 83: 100%|██████████| 5/5 [00:00<00:00, 33.99it/s, v_num=z3cs]"
     ]
    },
    {
     "name": "stderr",
     "output_type": "stream",
     "text": [
      "Metric val_loss improved by 3903616.000 >= min_delta = 0.0. New best score: 927080320.000\n"
     ]
    },
    {
     "name": "stdout",
     "output_type": "stream",
     "text": [
      "Epoch 86: 100%|██████████| 5/5 [00:00<00:00, 35.86it/s, v_num=z3cs]"
     ]
    },
    {
     "name": "stderr",
     "output_type": "stream",
     "text": [
      "Metric val_loss improved by 6759104.000 >= min_delta = 0.0. New best score: 920321216.000\n"
     ]
    },
    {
     "name": "stdout",
     "output_type": "stream",
     "text": [
      "Epoch 87: 100%|██████████| 5/5 [00:00<00:00, 23.56it/s, v_num=z3cs]"
     ]
    },
    {
     "name": "stderr",
     "output_type": "stream",
     "text": [
      "Metric val_loss improved by 9204032.000 >= min_delta = 0.0. New best score: 911117184.000\n"
     ]
    },
    {
     "name": "stdout",
     "output_type": "stream",
     "text": [
      "Epoch 88: 100%|██████████| 5/5 [00:00<00:00, 22.36it/s, v_num=z3cs]"
     ]
    },
    {
     "name": "stderr",
     "output_type": "stream",
     "text": [
      "Metric val_loss improved by 3033984.000 >= min_delta = 0.0. New best score: 908083200.000\n"
     ]
    },
    {
     "name": "stdout",
     "output_type": "stream",
     "text": [
      "Epoch 89: 100%|██████████| 5/5 [00:00<00:00, 34.55it/s, v_num=z3cs]"
     ]
    },
    {
     "name": "stderr",
     "output_type": "stream",
     "text": [
      "Metric val_loss improved by 4077632.000 >= min_delta = 0.0. New best score: 904005568.000\n"
     ]
    },
    {
     "name": "stdout",
     "output_type": "stream",
     "text": [
      "Epoch 90: 100%|██████████| 5/5 [00:00<00:00, 36.09it/s, v_num=z3cs]"
     ]
    },
    {
     "name": "stderr",
     "output_type": "stream",
     "text": [
      "Metric val_loss improved by 558848.000 >= min_delta = 0.0. New best score: 903446720.000\n"
     ]
    },
    {
     "name": "stdout",
     "output_type": "stream",
     "text": [
      "Epoch 91: 100%|██████████| 5/5 [00:00<00:00, 35.24it/s, v_num=z3cs]"
     ]
    },
    {
     "name": "stderr",
     "output_type": "stream",
     "text": [
      "Metric val_loss improved by 6036224.000 >= min_delta = 0.0. New best score: 897410496.000\n"
     ]
    },
    {
     "name": "stdout",
     "output_type": "stream",
     "text": [
      "Epoch 92: 100%|██████████| 5/5 [00:00<00:00, 35.31it/s, v_num=z3cs]"
     ]
    },
    {
     "name": "stderr",
     "output_type": "stream",
     "text": [
      "Metric val_loss improved by 6246400.000 >= min_delta = 0.0. New best score: 891164096.000\n"
     ]
    },
    {
     "name": "stdout",
     "output_type": "stream",
     "text": [
      "Epoch 94: 100%|██████████| 5/5 [00:00<00:00, 35.05it/s, v_num=z3cs]"
     ]
    },
    {
     "name": "stderr",
     "output_type": "stream",
     "text": [
      "Metric val_loss improved by 5511744.000 >= min_delta = 0.0. New best score: 885652352.000\n"
     ]
    },
    {
     "name": "stdout",
     "output_type": "stream",
     "text": [
      "Epoch 95: 100%|██████████| 5/5 [00:00<00:00, 29.73it/s, v_num=z3cs]"
     ]
    },
    {
     "name": "stderr",
     "output_type": "stream",
     "text": [
      "Metric val_loss improved by 5892928.000 >= min_delta = 0.0. New best score: 879759424.000\n"
     ]
    },
    {
     "name": "stdout",
     "output_type": "stream",
     "text": [
      "Epoch 96: 100%|██████████| 5/5 [00:00<00:00, 35.41it/s, v_num=z3cs]"
     ]
    },
    {
     "name": "stderr",
     "output_type": "stream",
     "text": [
      "Metric val_loss improved by 4381504.000 >= min_delta = 0.0. New best score: 875377920.000\n"
     ]
    },
    {
     "name": "stdout",
     "output_type": "stream",
     "text": [
      "Epoch 97: 100%|██████████| 5/5 [00:00<00:00, 34.40it/s, v_num=z3cs]"
     ]
    },
    {
     "name": "stderr",
     "output_type": "stream",
     "text": [
      "Metric val_loss improved by 2273344.000 >= min_delta = 0.0. New best score: 873104576.000\n"
     ]
    },
    {
     "name": "stdout",
     "output_type": "stream",
     "text": [
      "Epoch 98: 100%|██████████| 5/5 [00:00<00:00, 37.36it/s, v_num=z3cs]"
     ]
    },
    {
     "name": "stderr",
     "output_type": "stream",
     "text": [
      "Metric val_loss improved by 3766016.000 >= min_delta = 0.0. New best score: 869338560.000\n"
     ]
    },
    {
     "name": "stdout",
     "output_type": "stream",
     "text": [
      "Epoch 99: 100%|██████████| 5/5 [00:00<00:00, 35.43it/s, v_num=z3cs]"
     ]
    },
    {
     "name": "stderr",
     "output_type": "stream",
     "text": [
      "Metric val_loss improved by 4355136.000 >= min_delta = 0.0. New best score: 864983424.000\n",
      "`Trainer.fit` stopped: `max_epochs=100` reached.\n"
     ]
    },
    {
     "name": "stdout",
     "output_type": "stream",
     "text": [
      "Epoch 99: 100%|██████████| 5/5 [00:00<00:00, 32.02it/s, v_num=z3cs]\n"
     ]
    },
    {
     "data": {
      "text/html": [
       "<style>\n",
       "    table.wandb td:nth-child(1) { padding: 0 10px; text-align: left ; width: auto;} td:nth-child(2) {text-align: left ; width: 100%}\n",
       "    .wandb-row { display: flex; flex-direction: row; flex-wrap: wrap; justify-content: flex-start; width: 100% }\n",
       "    .wandb-col { display: flex; flex-direction: column; flex-basis: 100%; flex: 1; padding: 10px; }\n",
       "    </style>\n",
       "<div class=\"wandb-row\"><div class=\"wandb-col\"><h3>Run history:</h3><br/><table class=\"wandb\"><tr><td>epoch</td><td>▁▁▁▁▂▂▂▂▂▃▃▃▃▃▃▄▄▄▄▄▅▅▅▅▅▅▆▆▆▆▆▇▇▇▇▇▇███</td></tr><tr><td>train_loss</td><td>██▇█▇▇▄▂▂▂▂▂▁▁▁▂▁▁▁▁▁▁▁▁▁▁▁▁▁▁▁▁▁▁▁▁▁▁▁▁</td></tr><tr><td>trainer/global_step</td><td>▁▁▁▁▂▂▂▂▂▃▃▃▃▃▃▄▄▄▄▄▅▅▅▅▅▅▆▆▆▆▆▆▇▇▇▇▇███</td></tr><tr><td>val_loss</td><td>████▇▆▃▂▂▁▁▁▁▁▁▁▁▁▁▁▁▁▁▁▁▁▁▁▁▁▁▁▁▁▁▁▁▁▁▁</td></tr></table><br/></div><div class=\"wandb-col\"><h3>Run summary:</h3><br/><table class=\"wandb\"><tr><td>epoch</td><td>99</td></tr><tr><td>train_loss</td><td>1327930496.0</td></tr><tr><td>trainer/global_step</td><td>499</td></tr><tr><td>val_loss</td><td>864983424.0</td></tr></table><br/></div></div>"
      ],
      "text/plain": [
       "<IPython.core.display.HTML object>"
      ]
     },
     "metadata": {},
     "output_type": "display_data"
    },
    {
     "data": {
      "text/html": [
       " View run <strong style=\"color:#cdcd00\">Brian_6OFMOICS</strong> at: <a href='https://wandb.ai/deepsat/House%20Pricing%20Fit/runs/imp8z3cs' target=\"_blank\">https://wandb.ai/deepsat/House%20Pricing%20Fit/runs/imp8z3cs</a><br/> View project at: <a href='https://wandb.ai/deepsat/House%20Pricing%20Fit' target=\"_blank\">https://wandb.ai/deepsat/House%20Pricing%20Fit</a><br/>Synced 6 W&B file(s), 0 media file(s), 0 artifact file(s) and 0 other file(s)"
      ],
      "text/plain": [
       "<IPython.core.display.HTML object>"
      ]
     },
     "metadata": {},
     "output_type": "display_data"
    },
    {
     "data": {
      "text/html": [
       "Find logs at: <code>./wandb/run-20240422_000433-imp8z3cs/logs</code>"
      ],
      "text/plain": [
       "<IPython.core.display.HTML object>"
      ]
     },
     "metadata": {},
     "output_type": "display_data"
    },
    {
     "data": {
      "text/html": [
       "Tracking run with wandb version 0.16.6"
      ],
      "text/plain": [
       "<IPython.core.display.HTML object>"
      ]
     },
     "metadata": {},
     "output_type": "display_data"
    },
    {
     "data": {
      "text/html": [
       "Run data is saved locally in <code>/root/repos/lightning/HousePricing/wandb/run-20240422_000459-wibicqbp</code>"
      ],
      "text/plain": [
       "<IPython.core.display.HTML object>"
      ]
     },
     "metadata": {},
     "output_type": "display_data"
    },
    {
     "data": {
      "text/html": [
       "Syncing run <strong><a href='https://wandb.ai/deepsat/House%20Pricing%20Fit/runs/wibicqbp' target=\"_blank\">Timothy_7MCBOSZC</a></strong> to <a href='https://wandb.ai/deepsat/House%20Pricing%20Fit' target=\"_blank\">Weights & Biases</a> (<a href='https://wandb.me/run' target=\"_blank\">docs</a>)<br/>"
      ],
      "text/plain": [
       "<IPython.core.display.HTML object>"
      ]
     },
     "metadata": {},
     "output_type": "display_data"
    },
    {
     "data": {
      "text/html": [
       " View project at <a href='https://wandb.ai/deepsat/House%20Pricing%20Fit' target=\"_blank\">https://wandb.ai/deepsat/House%20Pricing%20Fit</a>"
      ],
      "text/plain": [
       "<IPython.core.display.HTML object>"
      ]
     },
     "metadata": {},
     "output_type": "display_data"
    },
    {
     "data": {
      "text/html": [
       " View run at <a href='https://wandb.ai/deepsat/House%20Pricing%20Fit/runs/wibicqbp' target=\"_blank\">https://wandb.ai/deepsat/House%20Pricing%20Fit/runs/wibicqbp</a>"
      ],
      "text/plain": [
       "<IPython.core.display.HTML object>"
      ]
     },
     "metadata": {},
     "output_type": "display_data"
    },
    {
     "name": "stderr",
     "output_type": "stream",
     "text": [
      "GPU available: True (cuda), used: True\n",
      "TPU available: False, using: 0 TPU cores\n",
      "IPU available: False, using: 0 IPUs\n",
      "HPU available: False, using: 0 HPUs\n",
      "/root/miniconda3/envs/pricehousing/lib/python3.9/site-packages/pytorch_lightning/loggers/wandb.py:391: There is a wandb run already in progress and newly created instances of `WandbLogger` will reuse this run. If this is not desired, call `wandb.finish()` before instantiating `WandbLogger`.\n",
      "LOCAL_RANK: 0 - CUDA_VISIBLE_DEVICES: [0]\n",
      "\n",
      "  | Name | Type       | Params\n",
      "------------------------------------\n",
      "0 | net  | Sequential | 215 K \n",
      "------------------------------------\n",
      "215 K     Trainable params\n",
      "0         Non-trainable params\n",
      "215 K     Total params\n",
      "0.864     Total estimated model params size (MB)\n"
     ]
    },
    {
     "name": "stdout",
     "output_type": "stream",
     "text": [
      "[INFO]: Run configuration: {'accelerator': 'gpu', 'max_epochs': 100, 'patience': 10, 'lr': 0.001, 'batch_size': 256, 'in_features': 244, 'validation_size': 0.1}\n",
      "[INFO]: Input size: 244\n",
      "[INFO]: Skipping downloading data. Data is already downloaded\n",
      "[INFO]: Reloading set up data...\n",
      "[INFO]: Setting up fit dataset/s\n",
      "[INFO]: Train dataset size: 1166\n",
      "[INFO]: Validation dataset size: 129\n",
      "Sanity Checking: |          | 0/? [00:00<?, ?it/s][INFO]: Validation dataloader size: 2\n",
      "                                                                            "
     ]
    },
    {
     "name": "stderr",
     "output_type": "stream",
     "text": [
      "/root/miniconda3/envs/pricehousing/lib/python3.9/site-packages/lightning/pytorch/trainer/connectors/data_connector.py:492: Your `val_dataloader`'s sampler has shuffling enabled, it is strongly recommended that you turn shuffling off for val/test dataloaders.\n",
      "/root/miniconda3/envs/pricehousing/lib/python3.9/site-packages/lightning/pytorch/trainer/connectors/data_connector.py:441: The 'val_dataloader' does not have many workers which may be a bottleneck. Consider increasing the value of the `num_workers` argument` to `num_workers=11` in the `DataLoader` to improve performance.\n",
      "/root/miniconda3/envs/pricehousing/lib/python3.9/site-packages/lightning/pytorch/trainer/connectors/data_connector.py:441: The 'train_dataloader' does not have many workers which may be a bottleneck. Consider increasing the value of the `num_workers` argument` to `num_workers=11` in the `DataLoader` to improve performance.\n"
     ]
    },
    {
     "name": "stdout",
     "output_type": "stream",
     "text": [
      "[INFO]: Train dataloader size: 5\n",
      "Training: |          | 0/? [00:00<?, ?it/s][INFO]: Logger save model dir: ./lightning_logs/wibicqbp\n",
      "Epoch 0: 100%|██████████| 5/5 [00:00<00:00, 32.94it/s, v_num=cqbp]"
     ]
    },
    {
     "name": "stderr",
     "output_type": "stream",
     "text": [
      "Metric val_loss improved. New best score: 35115450368.000\n"
     ]
    },
    {
     "name": "stdout",
     "output_type": "stream",
     "text": [
      "Epoch 1: 100%|██████████| 5/5 [00:00<00:00, 32.01it/s, v_num=cqbp]"
     ]
    },
    {
     "name": "stderr",
     "output_type": "stream",
     "text": [
      "Metric val_loss improved by 671744.000 >= min_delta = 0.0. New best score: 35114778624.000\n"
     ]
    },
    {
     "name": "stdout",
     "output_type": "stream",
     "text": [
      "Epoch 2: 100%|██████████| 5/5 [00:00<00:00, 33.24it/s, v_num=cqbp]"
     ]
    },
    {
     "name": "stderr",
     "output_type": "stream",
     "text": [
      "Metric val_loss improved by 2486272.000 >= min_delta = 0.0. New best score: 35112292352.000\n"
     ]
    },
    {
     "name": "stdout",
     "output_type": "stream",
     "text": [
      "Epoch 3: 100%|██████████| 5/5 [00:00<00:00, 32.98it/s, v_num=cqbp]"
     ]
    },
    {
     "name": "stderr",
     "output_type": "stream",
     "text": [
      "Metric val_loss improved by 7430144.000 >= min_delta = 0.0. New best score: 35104862208.000\n"
     ]
    },
    {
     "name": "stdout",
     "output_type": "stream",
     "text": [
      "Epoch 4: 100%|██████████| 5/5 [00:00<00:00, 31.63it/s, v_num=cqbp]"
     ]
    },
    {
     "name": "stderr",
     "output_type": "stream",
     "text": [
      "Metric val_loss improved by 18956288.000 >= min_delta = 0.0. New best score: 35085905920.000\n"
     ]
    },
    {
     "name": "stdout",
     "output_type": "stream",
     "text": [
      "Epoch 5: 100%|██████████| 5/5 [00:00<00:00, 34.14it/s, v_num=cqbp]"
     ]
    },
    {
     "name": "stderr",
     "output_type": "stream",
     "text": [
      "Metric val_loss improved by 43540480.000 >= min_delta = 0.0. New best score: 35042365440.000\n"
     ]
    },
    {
     "name": "stdout",
     "output_type": "stream",
     "text": [
      "Epoch 6: 100%|██████████| 5/5 [00:00<00:00, 27.56it/s, v_num=cqbp]"
     ]
    },
    {
     "name": "stderr",
     "output_type": "stream",
     "text": [
      "Metric val_loss improved by 91713536.000 >= min_delta = 0.0. New best score: 34950651904.000\n"
     ]
    },
    {
     "name": "stdout",
     "output_type": "stream",
     "text": [
      "Epoch 7: 100%|██████████| 5/5 [00:00<00:00, 36.15it/s, v_num=cqbp]"
     ]
    },
    {
     "name": "stderr",
     "output_type": "stream",
     "text": [
      "Metric val_loss improved by 179605504.000 >= min_delta = 0.0. New best score: 34771046400.000\n"
     ]
    },
    {
     "name": "stdout",
     "output_type": "stream",
     "text": [
      "Epoch 8: 100%|██████████| 5/5 [00:00<00:00, 35.49it/s, v_num=cqbp]"
     ]
    },
    {
     "name": "stderr",
     "output_type": "stream",
     "text": [
      "Metric val_loss improved by 331493376.000 >= min_delta = 0.0. New best score: 34439553024.000\n"
     ]
    },
    {
     "name": "stdout",
     "output_type": "stream",
     "text": [
      "Epoch 9: 100%|██████████| 5/5 [00:00<00:00, 35.83it/s, v_num=cqbp]"
     ]
    },
    {
     "name": "stderr",
     "output_type": "stream",
     "text": [
      "Metric val_loss improved by 580190208.000 >= min_delta = 0.0. New best score: 33859362816.000\n"
     ]
    },
    {
     "name": "stdout",
     "output_type": "stream",
     "text": [
      "Epoch 10: 100%|██████████| 5/5 [00:00<00:00, 33.27it/s, v_num=cqbp]"
     ]
    },
    {
     "name": "stderr",
     "output_type": "stream",
     "text": [
      "Metric val_loss improved by 966440960.000 >= min_delta = 0.0. New best score: 32892921856.000\n"
     ]
    },
    {
     "name": "stdout",
     "output_type": "stream",
     "text": [
      "Epoch 11: 100%|██████████| 5/5 [00:00<00:00, 33.54it/s, v_num=cqbp]"
     ]
    },
    {
     "name": "stderr",
     "output_type": "stream",
     "text": [
      "Metric val_loss improved by 1534875648.000 >= min_delta = 0.0. New best score: 31358046208.000\n"
     ]
    },
    {
     "name": "stdout",
     "output_type": "stream",
     "text": [
      "Epoch 12: 100%|██████████| 5/5 [00:00<00:00, 30.24it/s, v_num=cqbp]"
     ]
    },
    {
     "name": "stderr",
     "output_type": "stream",
     "text": [
      "Metric val_loss improved by 2323982336.000 >= min_delta = 0.0. New best score: 29034063872.000\n"
     ]
    },
    {
     "name": "stdout",
     "output_type": "stream",
     "text": [
      "Epoch 13: 100%|██████████| 5/5 [00:00<00:00, 30.71it/s, v_num=cqbp]"
     ]
    },
    {
     "name": "stderr",
     "output_type": "stream",
     "text": [
      "Metric val_loss improved by 3335776256.000 >= min_delta = 0.0. New best score: 25698287616.000\n"
     ]
    },
    {
     "name": "stdout",
     "output_type": "stream",
     "text": [
      "Epoch 14: 100%|██████████| 5/5 [00:00<00:00, 31.09it/s, v_num=cqbp]"
     ]
    },
    {
     "name": "stderr",
     "output_type": "stream",
     "text": [
      "Metric val_loss improved by 4484548608.000 >= min_delta = 0.0. New best score: 21213739008.000\n"
     ]
    },
    {
     "name": "stdout",
     "output_type": "stream",
     "text": [
      "Epoch 15: 100%|██████████| 5/5 [00:00<00:00, 34.27it/s, v_num=cqbp]"
     ]
    },
    {
     "name": "stderr",
     "output_type": "stream",
     "text": [
      "Metric val_loss improved by 5512165376.000 >= min_delta = 0.0. New best score: 15701573632.000\n"
     ]
    },
    {
     "name": "stdout",
     "output_type": "stream",
     "text": [
      "Epoch 16: 100%|██████████| 5/5 [00:00<00:00, 34.30it/s, v_num=cqbp]"
     ]
    },
    {
     "name": "stderr",
     "output_type": "stream",
     "text": [
      "Metric val_loss improved by 5876613120.000 >= min_delta = 0.0. New best score: 9824960512.000\n"
     ]
    },
    {
     "name": "stdout",
     "output_type": "stream",
     "text": [
      "Epoch 17: 100%|██████████| 5/5 [00:00<00:00, 36.21it/s, v_num=cqbp]"
     ]
    },
    {
     "name": "stderr",
     "output_type": "stream",
     "text": [
      "Metric val_loss improved by 4714202112.000 >= min_delta = 0.0. New best score: 5110758400.000\n"
     ]
    },
    {
     "name": "stdout",
     "output_type": "stream",
     "text": [
      "Epoch 18: 100%|██████████| 5/5 [00:00<00:00, 33.02it/s, v_num=cqbp]"
     ]
    },
    {
     "name": "stderr",
     "output_type": "stream",
     "text": [
      "Metric val_loss improved by 1568236544.000 >= min_delta = 0.0. New best score: 3542521856.000\n"
     ]
    },
    {
     "name": "stdout",
     "output_type": "stream",
     "text": [
      "Epoch 21: 100%|██████████| 5/5 [00:00<00:00, 33.72it/s, v_num=cqbp]"
     ]
    },
    {
     "name": "stderr",
     "output_type": "stream",
     "text": [
      "Metric val_loss improved by 49779968.000 >= min_delta = 0.0. New best score: 3492741888.000\n"
     ]
    },
    {
     "name": "stdout",
     "output_type": "stream",
     "text": [
      "Epoch 22: 100%|██████████| 5/5 [00:00<00:00, 32.03it/s, v_num=cqbp]"
     ]
    },
    {
     "name": "stderr",
     "output_type": "stream",
     "text": [
      "Metric val_loss improved by 495389952.000 >= min_delta = 0.0. New best score: 2997351936.000\n"
     ]
    },
    {
     "name": "stdout",
     "output_type": "stream",
     "text": [
      "Epoch 23: 100%|██████████| 5/5 [00:00<00:00, 33.41it/s, v_num=cqbp]"
     ]
    },
    {
     "name": "stderr",
     "output_type": "stream",
     "text": [
      "Metric val_loss improved by 107816448.000 >= min_delta = 0.0. New best score: 2889535488.000\n"
     ]
    },
    {
     "name": "stdout",
     "output_type": "stream",
     "text": [
      "Epoch 24: 100%|██████████| 5/5 [00:00<00:00, 33.04it/s, v_num=cqbp]"
     ]
    },
    {
     "name": "stderr",
     "output_type": "stream",
     "text": [
      "Metric val_loss improved by 113027840.000 >= min_delta = 0.0. New best score: 2776507648.000\n"
     ]
    },
    {
     "name": "stdout",
     "output_type": "stream",
     "text": [
      "Epoch 25: 100%|██████████| 5/5 [00:00<00:00, 27.76it/s, v_num=cqbp]"
     ]
    },
    {
     "name": "stderr",
     "output_type": "stream",
     "text": [
      "Metric val_loss improved by 131675392.000 >= min_delta = 0.0. New best score: 2644832256.000\n"
     ]
    },
    {
     "name": "stdout",
     "output_type": "stream",
     "text": [
      "Epoch 26: 100%|██████████| 5/5 [00:00<00:00, 32.59it/s, v_num=cqbp]"
     ]
    },
    {
     "name": "stderr",
     "output_type": "stream",
     "text": [
      "Metric val_loss improved by 73689600.000 >= min_delta = 0.0. New best score: 2571142656.000\n"
     ]
    },
    {
     "name": "stdout",
     "output_type": "stream",
     "text": [
      "Epoch 27: 100%|██████████| 5/5 [00:00<00:00, 33.99it/s, v_num=cqbp]"
     ]
    },
    {
     "name": "stderr",
     "output_type": "stream",
     "text": [
      "Metric val_loss improved by 47679744.000 >= min_delta = 0.0. New best score: 2523462912.000\n"
     ]
    },
    {
     "name": "stdout",
     "output_type": "stream",
     "text": [
      "Epoch 28: 100%|██████████| 5/5 [00:00<00:00, 34.57it/s, v_num=cqbp]"
     ]
    },
    {
     "name": "stderr",
     "output_type": "stream",
     "text": [
      "Metric val_loss improved by 78663424.000 >= min_delta = 0.0. New best score: 2444799488.000\n"
     ]
    },
    {
     "name": "stdout",
     "output_type": "stream",
     "text": [
      "Epoch 29: 100%|██████████| 5/5 [00:00<00:00, 33.50it/s, v_num=cqbp]"
     ]
    },
    {
     "name": "stderr",
     "output_type": "stream",
     "text": [
      "Metric val_loss improved by 110047232.000 >= min_delta = 0.0. New best score: 2334752256.000\n"
     ]
    },
    {
     "name": "stdout",
     "output_type": "stream",
     "text": [
      "Epoch 30: 100%|██████████| 5/5 [00:00<00:00, 32.95it/s, v_num=cqbp]"
     ]
    },
    {
     "name": "stderr",
     "output_type": "stream",
     "text": [
      "Metric val_loss improved by 104118016.000 >= min_delta = 0.0. New best score: 2230634240.000\n"
     ]
    },
    {
     "name": "stdout",
     "output_type": "stream",
     "text": [
      "Epoch 31: 100%|██████████| 5/5 [00:00<00:00, 30.81it/s, v_num=cqbp]"
     ]
    },
    {
     "name": "stderr",
     "output_type": "stream",
     "text": [
      "Metric val_loss improved by 83844608.000 >= min_delta = 0.0. New best score: 2146789632.000\n"
     ]
    },
    {
     "name": "stdout",
     "output_type": "stream",
     "text": [
      "Epoch 32: 100%|██████████| 5/5 [00:00<00:00, 30.00it/s, v_num=cqbp]"
     ]
    },
    {
     "name": "stderr",
     "output_type": "stream",
     "text": [
      "Metric val_loss improved by 76282240.000 >= min_delta = 0.0. New best score: 2070507392.000\n"
     ]
    },
    {
     "name": "stdout",
     "output_type": "stream",
     "text": [
      "Epoch 33: 100%|██████████| 5/5 [00:00<00:00, 33.87it/s, v_num=cqbp]"
     ]
    },
    {
     "name": "stderr",
     "output_type": "stream",
     "text": [
      "Metric val_loss improved by 68944000.000 >= min_delta = 0.0. New best score: 2001563392.000\n"
     ]
    },
    {
     "name": "stdout",
     "output_type": "stream",
     "text": [
      "Epoch 34: 100%|██████████| 5/5 [00:00<00:00, 33.58it/s, v_num=cqbp]"
     ]
    },
    {
     "name": "stderr",
     "output_type": "stream",
     "text": [
      "Metric val_loss improved by 61626112.000 >= min_delta = 0.0. New best score: 1939937280.000\n"
     ]
    },
    {
     "name": "stdout",
     "output_type": "stream",
     "text": [
      "Epoch 35: 100%|██████████| 5/5 [00:00<00:00, 34.46it/s, v_num=cqbp]"
     ]
    },
    {
     "name": "stderr",
     "output_type": "stream",
     "text": [
      "Metric val_loss improved by 57830016.000 >= min_delta = 0.0. New best score: 1882107264.000\n"
     ]
    },
    {
     "name": "stdout",
     "output_type": "stream",
     "text": [
      "Epoch 36: 100%|██████████| 5/5 [00:00<00:00, 34.35it/s, v_num=cqbp]"
     ]
    },
    {
     "name": "stderr",
     "output_type": "stream",
     "text": [
      "Metric val_loss improved by 53159040.000 >= min_delta = 0.0. New best score: 1828948224.000\n"
     ]
    },
    {
     "name": "stdout",
     "output_type": "stream",
     "text": [
      "Epoch 37: 100%|██████████| 5/5 [00:00<00:00, 32.90it/s, v_num=cqbp]"
     ]
    },
    {
     "name": "stderr",
     "output_type": "stream",
     "text": [
      "Metric val_loss improved by 59454848.000 >= min_delta = 0.0. New best score: 1769493376.000\n"
     ]
    },
    {
     "name": "stdout",
     "output_type": "stream",
     "text": [
      "Epoch 38: 100%|██████████| 5/5 [00:00<00:00, 34.77it/s, v_num=cqbp]"
     ]
    },
    {
     "name": "stderr",
     "output_type": "stream",
     "text": [
      "Metric val_loss improved by 51629824.000 >= min_delta = 0.0. New best score: 1717863552.000\n"
     ]
    },
    {
     "name": "stdout",
     "output_type": "stream",
     "text": [
      "Epoch 39: 100%|██████████| 5/5 [00:00<00:00, 33.95it/s, v_num=cqbp]"
     ]
    },
    {
     "name": "stderr",
     "output_type": "stream",
     "text": [
      "Metric val_loss improved by 56735232.000 >= min_delta = 0.0. New best score: 1661128320.000\n"
     ]
    },
    {
     "name": "stdout",
     "output_type": "stream",
     "text": [
      "Epoch 40: 100%|██████████| 5/5 [00:00<00:00, 29.76it/s, v_num=cqbp]"
     ]
    },
    {
     "name": "stderr",
     "output_type": "stream",
     "text": [
      "Metric val_loss improved by 47048704.000 >= min_delta = 0.0. New best score: 1614079616.000\n"
     ]
    },
    {
     "name": "stdout",
     "output_type": "stream",
     "text": [
      "Epoch 41: 100%|██████████| 5/5 [00:00<00:00, 36.33it/s, v_num=cqbp]"
     ]
    },
    {
     "name": "stderr",
     "output_type": "stream",
     "text": [
      "Metric val_loss improved by 37341056.000 >= min_delta = 0.0. New best score: 1576738560.000\n"
     ]
    },
    {
     "name": "stdout",
     "output_type": "stream",
     "text": [
      "Epoch 42: 100%|██████████| 5/5 [00:00<00:00, 36.21it/s, v_num=cqbp]"
     ]
    },
    {
     "name": "stderr",
     "output_type": "stream",
     "text": [
      "Metric val_loss improved by 35676800.000 >= min_delta = 0.0. New best score: 1541061760.000\n"
     ]
    },
    {
     "name": "stdout",
     "output_type": "stream",
     "text": [
      "Epoch 43: 100%|██████████| 5/5 [00:00<00:00, 34.47it/s, v_num=cqbp]"
     ]
    },
    {
     "name": "stderr",
     "output_type": "stream",
     "text": [
      "Metric val_loss improved by 31071744.000 >= min_delta = 0.0. New best score: 1509990016.000\n"
     ]
    },
    {
     "name": "stdout",
     "output_type": "stream",
     "text": [
      "Epoch 44: 100%|██████████| 5/5 [00:00<00:00, 34.57it/s, v_num=cqbp]"
     ]
    },
    {
     "name": "stderr",
     "output_type": "stream",
     "text": [
      "Metric val_loss improved by 36234240.000 >= min_delta = 0.0. New best score: 1473755776.000\n"
     ]
    },
    {
     "name": "stdout",
     "output_type": "stream",
     "text": [
      "Epoch 45: 100%|██████████| 5/5 [00:00<00:00, 30.38it/s, v_num=cqbp]"
     ]
    },
    {
     "name": "stderr",
     "output_type": "stream",
     "text": [
      "Metric val_loss improved by 40298240.000 >= min_delta = 0.0. New best score: 1433457536.000\n"
     ]
    },
    {
     "name": "stdout",
     "output_type": "stream",
     "text": [
      "Epoch 46: 100%|██████████| 5/5 [00:00<00:00, 33.40it/s, v_num=cqbp]"
     ]
    },
    {
     "name": "stderr",
     "output_type": "stream",
     "text": [
      "Metric val_loss improved by 36585600.000 >= min_delta = 0.0. New best score: 1396871936.000\n"
     ]
    },
    {
     "name": "stdout",
     "output_type": "stream",
     "text": [
      "Epoch 47: 100%|██████████| 5/5 [00:00<00:00, 31.60it/s, v_num=cqbp]"
     ]
    },
    {
     "name": "stderr",
     "output_type": "stream",
     "text": [
      "Metric val_loss improved by 22139904.000 >= min_delta = 0.0. New best score: 1374732032.000\n"
     ]
    },
    {
     "name": "stdout",
     "output_type": "stream",
     "text": [
      "Epoch 48: 100%|██████████| 5/5 [00:00<00:00, 33.44it/s, v_num=cqbp]"
     ]
    },
    {
     "name": "stderr",
     "output_type": "stream",
     "text": [
      "Metric val_loss improved by 17382912.000 >= min_delta = 0.0. New best score: 1357349120.000\n"
     ]
    },
    {
     "name": "stdout",
     "output_type": "stream",
     "text": [
      "Epoch 49: 100%|██████████| 5/5 [00:00<00:00, 33.50it/s, v_num=cqbp]"
     ]
    },
    {
     "name": "stderr",
     "output_type": "stream",
     "text": [
      "Metric val_loss improved by 23831936.000 >= min_delta = 0.0. New best score: 1333517184.000\n"
     ]
    },
    {
     "name": "stdout",
     "output_type": "stream",
     "text": [
      "Epoch 50: 100%|██████████| 5/5 [00:00<00:00, 33.21it/s, v_num=cqbp]"
     ]
    },
    {
     "name": "stderr",
     "output_type": "stream",
     "text": [
      "Metric val_loss improved by 28194432.000 >= min_delta = 0.0. New best score: 1305322752.000\n"
     ]
    },
    {
     "name": "stdout",
     "output_type": "stream",
     "text": [
      "Epoch 51: 100%|██████████| 5/5 [00:00<00:00, 34.13it/s, v_num=cqbp]"
     ]
    },
    {
     "name": "stderr",
     "output_type": "stream",
     "text": [
      "Metric val_loss improved by 27665152.000 >= min_delta = 0.0. New best score: 1277657600.000\n"
     ]
    },
    {
     "name": "stdout",
     "output_type": "stream",
     "text": [
      "Epoch 52: 100%|██████████| 5/5 [00:00<00:00, 34.54it/s, v_num=cqbp]"
     ]
    },
    {
     "name": "stderr",
     "output_type": "stream",
     "text": [
      "Metric val_loss improved by 21350528.000 >= min_delta = 0.0. New best score: 1256307072.000\n"
     ]
    },
    {
     "name": "stdout",
     "output_type": "stream",
     "text": [
      "Epoch 53: 100%|██████████| 5/5 [00:00<00:00, 24.56it/s, v_num=cqbp]"
     ]
    },
    {
     "name": "stderr",
     "output_type": "stream",
     "text": [
      "Metric val_loss improved by 19804032.000 >= min_delta = 0.0. New best score: 1236503040.000\n"
     ]
    },
    {
     "name": "stdout",
     "output_type": "stream",
     "text": [
      "Epoch 54: 100%|██████████| 5/5 [00:00<00:00, 27.77it/s, v_num=cqbp]"
     ]
    },
    {
     "name": "stderr",
     "output_type": "stream",
     "text": [
      "Metric val_loss improved by 14437504.000 >= min_delta = 0.0. New best score: 1222065536.000\n"
     ]
    },
    {
     "name": "stdout",
     "output_type": "stream",
     "text": [
      "Epoch 55: 100%|██████████| 5/5 [00:00<00:00, 32.47it/s, v_num=cqbp]"
     ]
    },
    {
     "name": "stderr",
     "output_type": "stream",
     "text": [
      "Metric val_loss improved by 13346944.000 >= min_delta = 0.0. New best score: 1208718592.000\n"
     ]
    },
    {
     "name": "stdout",
     "output_type": "stream",
     "text": [
      "Epoch 56: 100%|██████████| 5/5 [00:00<00:00, 29.59it/s, v_num=cqbp]"
     ]
    },
    {
     "name": "stderr",
     "output_type": "stream",
     "text": [
      "Metric val_loss improved by 12766464.000 >= min_delta = 0.0. New best score: 1195952128.000\n"
     ]
    },
    {
     "name": "stdout",
     "output_type": "stream",
     "text": [
      "Epoch 57: 100%|██████████| 5/5 [00:00<00:00, 32.36it/s, v_num=cqbp]"
     ]
    },
    {
     "name": "stderr",
     "output_type": "stream",
     "text": [
      "Metric val_loss improved by 8737792.000 >= min_delta = 0.0. New best score: 1187214336.000\n"
     ]
    },
    {
     "name": "stdout",
     "output_type": "stream",
     "text": [
      "Epoch 58: 100%|██████████| 5/5 [00:00<00:00, 36.28it/s, v_num=cqbp]"
     ]
    },
    {
     "name": "stderr",
     "output_type": "stream",
     "text": [
      "Metric val_loss improved by 19887744.000 >= min_delta = 0.0. New best score: 1167326592.000\n"
     ]
    },
    {
     "name": "stdout",
     "output_type": "stream",
     "text": [
      "Epoch 59: 100%|██████████| 5/5 [00:00<00:00, 35.01it/s, v_num=cqbp]"
     ]
    },
    {
     "name": "stderr",
     "output_type": "stream",
     "text": [
      "Metric val_loss improved by 7309440.000 >= min_delta = 0.0. New best score: 1160017152.000\n"
     ]
    },
    {
     "name": "stdout",
     "output_type": "stream",
     "text": [
      "Epoch 60: 100%|██████████| 5/5 [00:00<00:00, 33.76it/s, v_num=cqbp]"
     ]
    },
    {
     "name": "stderr",
     "output_type": "stream",
     "text": [
      "Metric val_loss improved by 16384384.000 >= min_delta = 0.0. New best score: 1143632768.000\n"
     ]
    },
    {
     "name": "stdout",
     "output_type": "stream",
     "text": [
      "Epoch 61: 100%|██████████| 5/5 [00:00<00:00, 35.26it/s, v_num=cqbp]"
     ]
    },
    {
     "name": "stderr",
     "output_type": "stream",
     "text": [
      "Metric val_loss improved by 22285056.000 >= min_delta = 0.0. New best score: 1121347712.000\n"
     ]
    },
    {
     "name": "stdout",
     "output_type": "stream",
     "text": [
      "Epoch 62: 100%|██████████| 5/5 [00:00<00:00, 35.58it/s, v_num=cqbp]"
     ]
    },
    {
     "name": "stderr",
     "output_type": "stream",
     "text": [
      "Metric val_loss improved by 10702080.000 >= min_delta = 0.0. New best score: 1110645632.000\n"
     ]
    },
    {
     "name": "stdout",
     "output_type": "stream",
     "text": [
      "Epoch 63: 100%|██████████| 5/5 [00:00<00:00, 35.10it/s, v_num=cqbp]"
     ]
    },
    {
     "name": "stderr",
     "output_type": "stream",
     "text": [
      "Metric val_loss improved by 6117504.000 >= min_delta = 0.0. New best score: 1104528128.000\n"
     ]
    },
    {
     "name": "stdout",
     "output_type": "stream",
     "text": [
      "Epoch 64: 100%|██████████| 5/5 [00:00<00:00, 36.82it/s, v_num=cqbp]"
     ]
    },
    {
     "name": "stderr",
     "output_type": "stream",
     "text": [
      "Metric val_loss improved by 2345728.000 >= min_delta = 0.0. New best score: 1102182400.000\n"
     ]
    },
    {
     "name": "stdout",
     "output_type": "stream",
     "text": [
      "Epoch 65: 100%|██████████| 5/5 [00:00<00:00, 27.39it/s, v_num=cqbp]"
     ]
    },
    {
     "name": "stderr",
     "output_type": "stream",
     "text": [
      "Metric val_loss improved by 14824576.000 >= min_delta = 0.0. New best score: 1087357824.000\n"
     ]
    },
    {
     "name": "stdout",
     "output_type": "stream",
     "text": [
      "Epoch 66: 100%|██████████| 5/5 [00:00<00:00, 37.80it/s, v_num=cqbp]"
     ]
    },
    {
     "name": "stderr",
     "output_type": "stream",
     "text": [
      "Metric val_loss improved by 10914432.000 >= min_delta = 0.0. New best score: 1076443392.000\n"
     ]
    },
    {
     "name": "stdout",
     "output_type": "stream",
     "text": [
      "Epoch 67: 100%|██████████| 5/5 [00:00<00:00, 37.30it/s, v_num=cqbp]"
     ]
    },
    {
     "name": "stderr",
     "output_type": "stream",
     "text": [
      "Metric val_loss improved by 10015040.000 >= min_delta = 0.0. New best score: 1066428352.000\n"
     ]
    },
    {
     "name": "stdout",
     "output_type": "stream",
     "text": [
      "Epoch 68: 100%|██████████| 5/5 [00:00<00:00, 37.08it/s, v_num=cqbp]"
     ]
    },
    {
     "name": "stderr",
     "output_type": "stream",
     "text": [
      "Metric val_loss improved by 998016.000 >= min_delta = 0.0. New best score: 1065430336.000\n"
     ]
    },
    {
     "name": "stdout",
     "output_type": "stream",
     "text": [
      "Epoch 69: 100%|██████████| 5/5 [00:00<00:00, 36.21it/s, v_num=cqbp]"
     ]
    },
    {
     "name": "stderr",
     "output_type": "stream",
     "text": [
      "Metric val_loss improved by 9413120.000 >= min_delta = 0.0. New best score: 1056017216.000\n"
     ]
    },
    {
     "name": "stdout",
     "output_type": "stream",
     "text": [
      "Epoch 70: 100%|██████████| 5/5 [00:00<00:00, 36.90it/s, v_num=cqbp]"
     ]
    },
    {
     "name": "stderr",
     "output_type": "stream",
     "text": [
      "Metric val_loss improved by 14566208.000 >= min_delta = 0.0. New best score: 1041451008.000\n"
     ]
    },
    {
     "name": "stdout",
     "output_type": "stream",
     "text": [
      "Epoch 71: 100%|██████████| 5/5 [00:00<00:00, 35.60it/s, v_num=cqbp]"
     ]
    },
    {
     "name": "stderr",
     "output_type": "stream",
     "text": [
      "Metric val_loss improved by 4770944.000 >= min_delta = 0.0. New best score: 1036680064.000\n"
     ]
    },
    {
     "name": "stdout",
     "output_type": "stream",
     "text": [
      "Epoch 72: 100%|██████████| 5/5 [00:00<00:00, 36.15it/s, v_num=cqbp]"
     ]
    },
    {
     "name": "stderr",
     "output_type": "stream",
     "text": [
      "Metric val_loss improved by 8286976.000 >= min_delta = 0.0. New best score: 1028393088.000\n"
     ]
    },
    {
     "name": "stdout",
     "output_type": "stream",
     "text": [
      "Epoch 73: 100%|██████████| 5/5 [00:00<00:00, 35.49it/s, v_num=cqbp]"
     ]
    },
    {
     "name": "stderr",
     "output_type": "stream",
     "text": [
      "Metric val_loss improved by 11663296.000 >= min_delta = 0.0. New best score: 1016729792.000\n"
     ]
    },
    {
     "name": "stdout",
     "output_type": "stream",
     "text": [
      "Epoch 74: 100%|██████████| 5/5 [00:00<00:00, 35.59it/s, v_num=cqbp]"
     ]
    },
    {
     "name": "stderr",
     "output_type": "stream",
     "text": [
      "Metric val_loss improved by 16437888.000 >= min_delta = 0.0. New best score: 1000291904.000\n"
     ]
    },
    {
     "name": "stdout",
     "output_type": "stream",
     "text": [
      "Epoch 75: 100%|██████████| 5/5 [00:00<00:00, 33.98it/s, v_num=cqbp]"
     ]
    },
    {
     "name": "stderr",
     "output_type": "stream",
     "text": [
      "Metric val_loss improved by 4254400.000 >= min_delta = 0.0. New best score: 996037504.000\n"
     ]
    },
    {
     "name": "stdout",
     "output_type": "stream",
     "text": [
      "Epoch 76: 100%|██████████| 5/5 [00:00<00:00, 37.03it/s, v_num=cqbp]"
     ]
    },
    {
     "name": "stderr",
     "output_type": "stream",
     "text": [
      "Metric val_loss improved by 1953088.000 >= min_delta = 0.0. New best score: 994084416.000\n"
     ]
    },
    {
     "name": "stdout",
     "output_type": "stream",
     "text": [
      "Epoch 78: 100%|██████████| 5/5 [00:00<00:00, 36.42it/s, v_num=cqbp]"
     ]
    },
    {
     "name": "stderr",
     "output_type": "stream",
     "text": [
      "Metric val_loss improved by 15654720.000 >= min_delta = 0.0. New best score: 978429696.000\n"
     ]
    },
    {
     "name": "stdout",
     "output_type": "stream",
     "text": [
      "Epoch 79: 100%|██████████| 5/5 [00:00<00:00, 36.22it/s, v_num=cqbp]"
     ]
    },
    {
     "name": "stderr",
     "output_type": "stream",
     "text": [
      "Metric val_loss improved by 3141312.000 >= min_delta = 0.0. New best score: 975288384.000\n"
     ]
    },
    {
     "name": "stdout",
     "output_type": "stream",
     "text": [
      "Epoch 80: 100%|██████████| 5/5 [00:00<00:00, 37.46it/s, v_num=cqbp]"
     ]
    },
    {
     "name": "stderr",
     "output_type": "stream",
     "text": [
      "Metric val_loss improved by 3517376.000 >= min_delta = 0.0. New best score: 971771008.000\n"
     ]
    },
    {
     "name": "stdout",
     "output_type": "stream",
     "text": [
      "Epoch 81: 100%|██████████| 5/5 [00:00<00:00, 31.23it/s, v_num=cqbp]"
     ]
    },
    {
     "name": "stderr",
     "output_type": "stream",
     "text": [
      "Metric val_loss improved by 4287424.000 >= min_delta = 0.0. New best score: 967483584.000\n"
     ]
    },
    {
     "name": "stdout",
     "output_type": "stream",
     "text": [
      "Epoch 82: 100%|██████████| 5/5 [00:00<00:00, 37.77it/s, v_num=cqbp]"
     ]
    },
    {
     "name": "stderr",
     "output_type": "stream",
     "text": [
      "Metric val_loss improved by 13696320.000 >= min_delta = 0.0. New best score: 953787264.000\n"
     ]
    },
    {
     "name": "stdout",
     "output_type": "stream",
     "text": [
      "Epoch 83: 100%|██████████| 5/5 [00:00<00:00, 36.00it/s, v_num=cqbp]"
     ]
    },
    {
     "name": "stderr",
     "output_type": "stream",
     "text": [
      "Metric val_loss improved by 8422208.000 >= min_delta = 0.0. New best score: 945365056.000\n"
     ]
    },
    {
     "name": "stdout",
     "output_type": "stream",
     "text": [
      "Epoch 84: 100%|██████████| 5/5 [00:00<00:00, 35.24it/s, v_num=cqbp]"
     ]
    },
    {
     "name": "stderr",
     "output_type": "stream",
     "text": [
      "Metric val_loss improved by 3755200.000 >= min_delta = 0.0. New best score: 941609856.000\n"
     ]
    },
    {
     "name": "stdout",
     "output_type": "stream",
     "text": [
      "Epoch 85: 100%|██████████| 5/5 [00:00<00:00, 36.79it/s, v_num=cqbp]"
     ]
    },
    {
     "name": "stderr",
     "output_type": "stream",
     "text": [
      "Metric val_loss improved by 3865024.000 >= min_delta = 0.0. New best score: 937744832.000\n"
     ]
    },
    {
     "name": "stdout",
     "output_type": "stream",
     "text": [
      "Epoch 87: 100%|██████████| 5/5 [00:00<00:00, 17.22it/s, v_num=cqbp]"
     ]
    },
    {
     "name": "stderr",
     "output_type": "stream",
     "text": [
      "Metric val_loss improved by 7787520.000 >= min_delta = 0.0. New best score: 929957312.000\n"
     ]
    },
    {
     "name": "stdout",
     "output_type": "stream",
     "text": [
      "Epoch 88: 100%|██████████| 5/5 [00:00<00:00, 32.75it/s, v_num=cqbp]"
     ]
    },
    {
     "name": "stderr",
     "output_type": "stream",
     "text": [
      "Metric val_loss improved by 2918208.000 >= min_delta = 0.0. New best score: 927039104.000\n"
     ]
    },
    {
     "name": "stdout",
     "output_type": "stream",
     "text": [
      "Epoch 89: 100%|██████████| 5/5 [00:00<00:00, 27.96it/s, v_num=cqbp]"
     ]
    },
    {
     "name": "stderr",
     "output_type": "stream",
     "text": [
      "Metric val_loss improved by 3925312.000 >= min_delta = 0.0. New best score: 923113792.000\n"
     ]
    },
    {
     "name": "stdout",
     "output_type": "stream",
     "text": [
      "Epoch 90: 100%|██████████| 5/5 [00:00<00:00, 34.79it/s, v_num=cqbp]"
     ]
    },
    {
     "name": "stderr",
     "output_type": "stream",
     "text": [
      "Metric val_loss improved by 7438272.000 >= min_delta = 0.0. New best score: 915675520.000\n"
     ]
    },
    {
     "name": "stdout",
     "output_type": "stream",
     "text": [
      "Epoch 91: 100%|██████████| 5/5 [00:00<00:00, 33.99it/s, v_num=cqbp]"
     ]
    },
    {
     "name": "stderr",
     "output_type": "stream",
     "text": [
      "Metric val_loss improved by 4991808.000 >= min_delta = 0.0. New best score: 910683712.000\n"
     ]
    },
    {
     "name": "stdout",
     "output_type": "stream",
     "text": [
      "Epoch 92: 100%|██████████| 5/5 [00:00<00:00, 22.78it/s, v_num=cqbp]"
     ]
    },
    {
     "name": "stderr",
     "output_type": "stream",
     "text": [
      "Metric val_loss improved by 3771072.000 >= min_delta = 0.0. New best score: 906912640.000\n"
     ]
    },
    {
     "name": "stdout",
     "output_type": "stream",
     "text": [
      "Epoch 94: 100%|██████████| 5/5 [00:00<00:00, 36.61it/s, v_num=cqbp]"
     ]
    },
    {
     "name": "stderr",
     "output_type": "stream",
     "text": [
      "Metric val_loss improved by 8236672.000 >= min_delta = 0.0. New best score: 898675968.000\n"
     ]
    },
    {
     "name": "stdout",
     "output_type": "stream",
     "text": [
      "Epoch 95: 100%|██████████| 5/5 [00:00<00:00, 38.21it/s, v_num=cqbp]"
     ]
    },
    {
     "name": "stderr",
     "output_type": "stream",
     "text": [
      "Metric val_loss improved by 6424000.000 >= min_delta = 0.0. New best score: 892251968.000\n"
     ]
    },
    {
     "name": "stdout",
     "output_type": "stream",
     "text": [
      "Epoch 96: 100%|██████████| 5/5 [00:00<00:00, 35.60it/s, v_num=cqbp]"
     ]
    },
    {
     "name": "stderr",
     "output_type": "stream",
     "text": [
      "Metric val_loss improved by 2887360.000 >= min_delta = 0.0. New best score: 889364608.000\n"
     ]
    },
    {
     "name": "stdout",
     "output_type": "stream",
     "text": [
      "Epoch 97: 100%|██████████| 5/5 [00:00<00:00, 35.56it/s, v_num=cqbp]"
     ]
    },
    {
     "name": "stderr",
     "output_type": "stream",
     "text": [
      "Metric val_loss improved by 1483264.000 >= min_delta = 0.0. New best score: 887881344.000\n"
     ]
    },
    {
     "name": "stdout",
     "output_type": "stream",
     "text": [
      "Epoch 98: 100%|██████████| 5/5 [00:00<00:00, 30.06it/s, v_num=cqbp]"
     ]
    },
    {
     "name": "stderr",
     "output_type": "stream",
     "text": [
      "Metric val_loss improved by 4514240.000 >= min_delta = 0.0. New best score: 883367104.000\n"
     ]
    },
    {
     "name": "stdout",
     "output_type": "stream",
     "text": [
      "Epoch 99: 100%|██████████| 5/5 [00:00<00:00, 35.17it/s, v_num=cqbp]"
     ]
    },
    {
     "name": "stderr",
     "output_type": "stream",
     "text": [
      "Metric val_loss improved by 2912064.000 >= min_delta = 0.0. New best score: 880455040.000\n",
      "`Trainer.fit` stopped: `max_epochs=100` reached.\n"
     ]
    },
    {
     "name": "stdout",
     "output_type": "stream",
     "text": [
      "Epoch 99: 100%|██████████| 5/5 [00:00<00:00, 31.30it/s, v_num=cqbp]\n"
     ]
    },
    {
     "data": {
      "text/html": [
       "<style>\n",
       "    table.wandb td:nth-child(1) { padding: 0 10px; text-align: left ; width: auto;} td:nth-child(2) {text-align: left ; width: 100%}\n",
       "    .wandb-row { display: flex; flex-direction: row; flex-wrap: wrap; justify-content: flex-start; width: 100% }\n",
       "    .wandb-col { display: flex; flex-direction: column; flex-basis: 100%; flex: 1; padding: 10px; }\n",
       "    </style>\n",
       "<div class=\"wandb-row\"><div class=\"wandb-col\"><h3>Run history:</h3><br/><table class=\"wandb\"><tr><td>epoch</td><td>▁▁▁▁▂▂▂▂▂▃▃▃▃▃▃▄▄▄▄▄▅▅▅▅▅▅▆▆▆▆▆▇▇▇▇▇▇███</td></tr><tr><td>train_loss</td><td>▇█▇█▇▆▄▂▂▂▂▁▁▁▁▁▁▁▁▁▁▁▁▁▁▁▁▁▁▁▁▁▁▁▁▁▁▁▁▁</td></tr><tr><td>trainer/global_step</td><td>▁▁▁▁▂▂▂▂▂▃▃▃▃▃▃▄▄▄▄▄▅▅▅▅▅▅▆▆▆▆▆▆▇▇▇▇▇███</td></tr><tr><td>val_loss</td><td>█████▇▄▂▂▁▁▁▁▁▁▁▁▁▁▁▁▁▁▁▁▁▁▁▁▁▁▁▁▁▁▁▁▁▁▁</td></tr></table><br/></div><div class=\"wandb-col\"><h3>Run summary:</h3><br/><table class=\"wandb\"><tr><td>epoch</td><td>99</td></tr><tr><td>train_loss</td><td>1502593664.0</td></tr><tr><td>trainer/global_step</td><td>499</td></tr><tr><td>val_loss</td><td>880455040.0</td></tr></table><br/></div></div>"
      ],
      "text/plain": [
       "<IPython.core.display.HTML object>"
      ]
     },
     "metadata": {},
     "output_type": "display_data"
    },
    {
     "data": {
      "text/html": [
       " View run <strong style=\"color:#cdcd00\">Timothy_7MCBOSZC</strong> at: <a href='https://wandb.ai/deepsat/House%20Pricing%20Fit/runs/wibicqbp' target=\"_blank\">https://wandb.ai/deepsat/House%20Pricing%20Fit/runs/wibicqbp</a><br/> View project at: <a href='https://wandb.ai/deepsat/House%20Pricing%20Fit' target=\"_blank\">https://wandb.ai/deepsat/House%20Pricing%20Fit</a><br/>Synced 6 W&B file(s), 0 media file(s), 0 artifact file(s) and 0 other file(s)"
      ],
      "text/plain": [
       "<IPython.core.display.HTML object>"
      ]
     },
     "metadata": {},
     "output_type": "display_data"
    },
    {
     "data": {
      "text/html": [
       "Find logs at: <code>./wandb/run-20240422_000459-wibicqbp/logs</code>"
      ],
      "text/plain": [
       "<IPython.core.display.HTML object>"
      ]
     },
     "metadata": {},
     "output_type": "display_data"
    }
   ],
   "source": [
    "import os\n",
    "import wandb\n",
    "import torch\n",
    "from lightning import Trainer\n",
    "from pytorch_lightning.loggers import WandbLogger\n",
    "from lightning.pytorch.callbacks import ModelCheckpoint\n",
    "from lightning.pytorch.callbacks.early_stopping import EarlyStopping\n",
    "from src.model import NeuralNetwork\n",
    "from src.data import HousePricingDataModule\n",
    "from src.utils.utility import fake_name\n",
    "\n",
    "project_name = os.environ[\"WANDB_NAME\"]\n",
    "\n",
    "patience = int(os.environ[\"PATIENCE\"])\n",
    "max_epochs = int(os.environ[\"MAX_EPOCHS\"])\n",
    "batch_size = int(os.environ[\"BATCH_SIZE\"])\n",
    "learning_rate = float(os.environ[\"LEARNING_RATE\"])\n",
    "validation_size = float(os.environ[\"VALIDATION_SIZE\"])\n",
    "accelerator = \"gpu\" if torch.cuda.is_available() else \"cpu\"\n",
    "\n",
    "# Preparing data to be used\n",
    "data_module = HousePricingDataModule(\n",
    "    batch_size=batch_size,\n",
    "    validation_size=validation_size,\n",
    ")\n",
    "data_module.prepare_data()\n",
    "\n",
    "in_features = data_module.data_features()\n",
    "\n",
    "# Setting up the training configuration\n",
    "config = {\n",
    "    \"accelerator\": accelerator,\n",
    "    \"max_epochs\": max_epochs,\n",
    "    \"patience\": patience,\n",
    "    \"lr\": learning_rate,\n",
    "    \"batch_size\": batch_size,\n",
    "    \"in_features\": in_features,\n",
    "    \"validation_size\": validation_size,\n",
    "}\n",
    "\n",
    "artifacts_dir = dict()\n",
    "\n",
    "for i in range(3):\n",
    "\n",
    "    run_name = fake_name()\n",
    "\n",
    "    wandb.init(\n",
    "        job_type=\"training\",\n",
    "        name=run_name,\n",
    "        project=project_name,\n",
    "        config=config,\n",
    "    )\n",
    "\n",
    "    print(f\"[INFO]: Run configuration: {config}\")\n",
    "\n",
    "    # Defining the model to be training\n",
    "    model = NeuralNetwork(input_size=wandb.config[\"in_features\"], lr=wandb.config[\"lr\"])\n",
    "\n",
    "    checkpoint_name = f\"{wandb.run.name}-{wandb.run.id}\"\n",
    "\n",
    "    # Defining the logger instance the lighning will use as default logging\n",
    "    logger = WandbLogger(checkpoint_name=checkpoint_name)\n",
    "\n",
    "    # Define how the model registry work\n",
    "    checkpoint_callback = ModelCheckpoint(\n",
    "        every_n_epochs=1,\n",
    "        monitor=\"val_loss\",\n",
    "        mode=\"min\",\n",
    "        save_top_k=2,\n",
    "        filename=\"house_pricing-{epoch:02d}-{val_loss:.2f}\",\n",
    "    )\n",
    "\n",
    "    # Defining early stop configuration\n",
    "    early_stopping_callback = EarlyStopping(\n",
    "        monitor=\"val_loss\",\n",
    "        mode=\"min\",\n",
    "        verbose=True,\n",
    "        patience=wandb.config[\"patience\"],\n",
    "    )\n",
    "\n",
    "    # Defines the training instance\n",
    "    trainer = Trainer(\n",
    "        accelerator=wandb.config[\"accelerator\"],\n",
    "        max_epochs=wandb.config[\"max_epochs\"],\n",
    "        logger=logger,\n",
    "        log_every_n_steps=1,\n",
    "        callbacks=[checkpoint_callback, early_stopping_callback],\n",
    "    )\n",
    "\n",
    "    trainer.fit(model, datamodule=data_module)\n",
    "\n",
    "    artifacts_dir[run_name] = checkpoint_callback.best_model_path\n",
    "\n",
    "    wandb.finish()"
   ]
  },
  {
   "cell_type": "code",
   "execution_count": 9,
   "metadata": {},
   "outputs": [
    {
     "data": {
      "text/plain": [
       "{'Kayla_SN0K08HK': './lightning_logs/ydlqfd0c/checkpoints/house-pricing-epoch=99-val_loss=885112896.00.ckpt',\n",
       " 'Brian_6OFMOICS': './lightning_logs/imp8z3cs/checkpoints/house-pricing-epoch=99-val_loss=864983424.00.ckpt',\n",
       " 'Timothy_7MCBOSZC': './lightning_logs/wibicqbp/checkpoints/house-pricing-epoch=99-val_loss=880455040.00.ckpt'}"
      ]
     },
     "execution_count": 9,
     "metadata": {},
     "output_type": "execute_result"
    }
   ],
   "source": [
    "artifacts_dir"
   ]
  },
  {
   "cell_type": "code",
   "execution_count": 14,
   "metadata": {},
   "outputs": [
    {
     "data": {
      "text/html": [
       "<div>\n",
       "<style scoped>\n",
       "    .dataframe tbody tr th:only-of-type {\n",
       "        vertical-align: middle;\n",
       "    }\n",
       "\n",
       "    .dataframe tbody tr th {\n",
       "        vertical-align: top;\n",
       "    }\n",
       "\n",
       "    .dataframe thead th {\n",
       "        text-align: right;\n",
       "    }\n",
       "</style>\n",
       "<table border=\"1\" class=\"dataframe\">\n",
       "  <thead>\n",
       "    <tr style=\"text-align: right;\">\n",
       "      <th></th>\n",
       "      <th>RunExperimentName</th>\n",
       "      <th>BestModelPath</th>\n",
       "    </tr>\n",
       "  </thead>\n",
       "  <tbody>\n",
       "    <tr>\n",
       "      <th>0</th>\n",
       "      <td>Kayla_SN0K08HK</td>\n",
       "      <td>./lightning_logs/ydlqfd0c/checkpoints/house-pr...</td>\n",
       "    </tr>\n",
       "    <tr>\n",
       "      <th>1</th>\n",
       "      <td>Brian_6OFMOICS</td>\n",
       "      <td>./lightning_logs/imp8z3cs/checkpoints/house-pr...</td>\n",
       "    </tr>\n",
       "    <tr>\n",
       "      <th>2</th>\n",
       "      <td>Timothy_7MCBOSZC</td>\n",
       "      <td>./lightning_logs/wibicqbp/checkpoints/house-pr...</td>\n",
       "    </tr>\n",
       "  </tbody>\n",
       "</table>\n",
       "</div>"
      ],
      "text/plain": [
       "  RunExperimentName                                      BestModelPath\n",
       "0    Kayla_SN0K08HK  ./lightning_logs/ydlqfd0c/checkpoints/house-pr...\n",
       "1    Brian_6OFMOICS  ./lightning_logs/imp8z3cs/checkpoints/house-pr...\n",
       "2  Timothy_7MCBOSZC  ./lightning_logs/wibicqbp/checkpoints/house-pr..."
      ]
     },
     "execution_count": 14,
     "metadata": {},
     "output_type": "execute_result"
    }
   ],
   "source": [
    "import pandas as pd\n",
    "\n",
    "artifacts_df = pd.DataFrame(columns=[\"RunExperimentName\", \"BestModelPath\"])\n",
    "artifacts_df[\"RunExperimentName\"] = artifacts_dir.keys()\n",
    "artifacts_df[\"BestModelPath\"] = artifacts_dir.values()\n",
    "\n",
    "artifacts_df"
   ]
  },
  {
   "cell_type": "code",
   "execution_count": 15,
   "metadata": {},
   "outputs": [],
   "source": [
    "artifacts_df.to_csv(\"artifacts.csv\", index=None)"
   ]
  }
 ],
 "metadata": {
  "kernelspec": {
   "display_name": "pricehousing",
   "language": "python",
   "name": "python3"
  },
  "language_info": {
   "codemirror_mode": {
    "name": "ipython",
    "version": 3
   },
   "file_extension": ".py",
   "mimetype": "text/x-python",
   "name": "python",
   "nbconvert_exporter": "python",
   "pygments_lexer": "ipython3",
   "version": "3.9.19"
  }
 },
 "nbformat": 4,
 "nbformat_minor": 2
}
