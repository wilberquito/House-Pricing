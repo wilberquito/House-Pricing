{
 "cells": [
  {
   "cell_type": "markdown",
   "metadata": {},
   "source": [
    "# House Pricing data module"
   ]
  },
  {
   "cell_type": "code",
   "execution_count": 1,
   "metadata": {},
   "outputs": [
    {
     "data": {
      "text/plain": [
       "'/root/repos/lightning/HousePricing'"
      ]
     },
     "execution_count": 1,
     "metadata": {},
     "output_type": "execute_result"
    }
   ],
   "source": [
    "import os\n",
    "from pathlib import Path\n",
    "\n",
    "p = Path.cwd()\n",
    "os.chdir(p.parent)\n",
    "os.getcwd()"
   ]
  },
  {
   "cell_type": "code",
   "execution_count": 1,
   "metadata": {},
   "outputs": [
    {
     "name": "stdout",
     "output_type": "stream",
     "text": [
      "[INFO]: Preprocessing training dataframe...\n",
      "[INFO]: Dropping columns with full of NA or Identifiers. Current dataframe shape: (1460, 81)\n",
      "[INFO]: Dropped columns with full of NA or Identifiers. Current dataframe shape: (1460, 74)\n",
      "[INFO]: Dropping categories types with few ocurrence. Current dataframe shape: (1460, 74)\n",
      "[INFO]: Few ocurrences removed. Current dataframe shape: (1443, 74)\n",
      "[INFO]: Dropping columns which contains just one type of category. Current dataframe shape: (1443, 74)\n",
      "[INFO]: Columns with just one type of categroy dropped. Current dataframe shape: (1443, 73)\n",
      "[INFO]: Preprocessing predict dataframe...\n",
      "[INFO]: Dropping columns with full of NA or Identifiers. Current dataframe shape: (1459, 80)\n",
      "[INFO]: Dropped columns with full of NA or Identifiers. Current dataframe shape: (1459, 73)\n",
      "--- Stage: fit ---\n",
      "[INFO]: Setting up fit dataloader\n",
      "--- Stage: test ---\n",
      "[INFO]: Setting up test dataloader\n",
      "--- Stage: predict ---\n",
      "[INFO]: Setting up predict dataloader\n",
      "2\n",
      "2\n",
      "2\n",
      "1\n"
     ]
    }
   ],
   "source": [
    "from src.data import HousePricingDataModule\n",
    "\n",
    "housing = HousePricingDataModule()\n",
    "housing.prepare_data()\n",
    "\n",
    "for stage in [\"fit\", \"test\", \"predict\"]:\n",
    "    print(f\"--- Stage: {stage} ---\")\n",
    "    housing.setup(stage=stage)\n",
    "\n",
    "for batch in housing.train_dataloader():\n",
    "    print(len(batch))\n",
    "    break\n",
    "\n",
    "for batch in housing.val_dataloader():\n",
    "    print(len(batch))\n",
    "    break\n",
    "\n",
    "for batch in housing.test_dataloader():\n",
    "    print(len(batch))\n",
    "    break\n",
    "\n",
    "for batch in housing.predict_dataloader():\n",
    "    print(len(batch))\n",
    "    break"
   ]
  },
  {
   "cell_type": "code",
   "execution_count": 2,
   "metadata": {},
   "outputs": [
    {
     "name": "stdout",
     "output_type": "stream",
     "text": [
      "{'inputs': tensor([[-0.1633, -0.4829, -0.2611,  ...,  0.0000,  0.0000,  0.0000],\n",
      "        [ 0.5415, -0.0095,  0.4148,  ...,  0.0000,  1.0000,  0.0000],\n",
      "        [-0.8681, -0.0095,  0.3655,  ...,  0.0000,  1.0000,  0.0000],\n",
      "        ...,\n",
      "        [-0.8681, -0.4829, -0.2692,  ...,  0.0000,  0.0000,  1.0000],\n",
      "        [-0.8681,  0.8426,  0.1060,  ...,  0.0000,  0.0000,  1.0000],\n",
      "        [-0.8681, -0.0095,  0.7047,  ...,  0.0000,  1.0000,  0.0000]]), 'target': tensor([126000., 187500., 139600., 317000.,  84000., 137500., 211000., 237000.,\n",
      "        145500.,  94500., 274900., 158000., 133700., 230000., 198500., 157000.,\n",
      "        241000., 415298., 160200., 135000., 262500., 110500., 135000., 185750.,\n",
      "        121600., 127500., 194201., 207000., 114500., 392000., 394432., 228000.])}\n"
     ]
    }
   ],
   "source": [
    "for batch in housing.test_dataloader():\n",
    "    print(batch)\n",
    "    break"
   ]
  }
 ],
 "metadata": {
  "kernelspec": {
   "display_name": "pricehousing",
   "language": "python",
   "name": "python3"
  },
  "language_info": {
   "codemirror_mode": {
    "name": "ipython",
    "version": 3
   },
   "file_extension": ".py",
   "mimetype": "text/x-python",
   "name": "python",
   "nbconvert_exporter": "python",
   "pygments_lexer": "ipython3",
   "version": "3.9.19"
  }
 },
 "nbformat": 4,
 "nbformat_minor": 2
}
