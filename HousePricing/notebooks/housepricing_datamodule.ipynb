{
 "cells": [
  {
   "cell_type": "markdown",
   "metadata": {},
   "source": [
    "# House Pricing data module"
   ]
  },
  {
   "cell_type": "code",
   "execution_count": 1,
   "metadata": {},
   "outputs": [
    {
     "data": {
      "text/plain": [
       "'/root/repos/lightning/HousePricing'"
      ]
     },
     "execution_count": 1,
     "metadata": {},
     "output_type": "execute_result"
    }
   ],
   "source": [
    "import os\n",
    "from pathlib import Path\n",
    "\n",
    "p = Path.cwd()\n",
    "os.chdir(p.parent)\n",
    "os.getcwd()"
   ]
  },
  {
   "cell_type": "code",
   "execution_count": 2,
   "metadata": {},
   "outputs": [
    {
     "name": "stdout",
     "output_type": "stream",
     "text": [
      "[INFO]: Skipping downloading data. Data is already downloaded\n",
      "[INFO]: Dropping columns with full of NA or Identifiers. Current dataframe shape: (1314, 81)\n",
      "[INFO]: Dropped columns with full of NA or Identifiers. Current dataframe shape: (1314, 74)\n",
      "[INFO]: Dropping categories types with few ocurrence. Current dataframe shape: (1314, 74)\n",
      "[INFO]: Few ocurrences removed. Current dataframe shape: (1295, 74)\n",
      "[INFO]: Dropping columns which contains just one type of category. Current dataframe shape: (1295, 74)\n",
      "[INFO]: Columns with just one type of categroy dropped. Current dataframe shape: (1295, 73)\n",
      "[INFO]: Dropping columns with full of NA or Identifiers. Current dataframe shape: (146, 81)\n",
      "[INFO]: Dropped columns with full of NA or Identifiers. Current dataframe shape: (146, 74)\n",
      "[INFO]: Dropping columns with full of NA or Identifiers. Current dataframe shape: (1459, 80)\n",
      "[INFO]: Dropped columns with full of NA or Identifiers. Current dataframe shape: (1459, 73)\n",
      "[INFO]: Set up datasets: dict_keys(['fit', 'test', 'predict'])\n"
     ]
    }
   ],
   "source": [
    "from src.data import HousePricingDataModule\n",
    "\n",
    "housing = HousePricingDataModule()\n",
    "housing.prepare_data()"
   ]
  },
  {
   "cell_type": "code",
   "execution_count": 3,
   "metadata": {},
   "outputs": [
    {
     "name": "stdout",
     "output_type": "stream",
     "text": [
      "[INFO]: Train dataset size: 1166\n",
      "[INFO]: Validation dataset size: 129\n",
      "[INFO]: Train dataloader size: 37\n",
      "[INFO]: Validation dataloader size: 2\n",
      "[INFO]: Test dataloader size: 2\n",
      "[INFO]: Predict dataloader size: 12\n"
     ]
    }
   ],
   "source": [
    "for stage in [\"fit\", \"test\", \"predict\"]:\n",
    "    housing.setup(stage=stage)\n",
    "\n",
    "for batch in housing.train_dataloader():\n",
    "    break\n",
    "\n",
    "for batch in housing.val_dataloader():\n",
    "    break\n",
    "\n",
    "for batch in housing.test_dataloader():\n",
    "    break\n",
    "\n",
    "for batch in housing.predict_dataloader():\n",
    "    break"
   ]
  },
  {
   "cell_type": "code",
   "execution_count": 4,
   "metadata": {},
   "outputs": [
    {
     "name": "stdout",
     "output_type": "stream",
     "text": [
      "[INFO]: Test dataloader size: 2\n",
      "{'inputs': tensor([[0.0000, 0.1678, 0.0333,  ..., 0.0000, 1.0000, 0.0000],\n",
      "        [0.2353, 0.2637, 0.0512,  ..., 0.0000, 1.0000, 0.0000],\n",
      "        [0.0588, 0.1199, 0.0358,  ..., 0.0000, 1.0000, 0.0000],\n",
      "        ...,\n",
      "        [0.0000, 0.1644, 0.0571,  ..., 0.0000, 1.0000, 0.0000],\n",
      "        [0.2353, 0.1644, 0.0350,  ..., 0.0000, 1.0000, 0.0000],\n",
      "        [0.1176, 0.0993, 0.0365,  ..., 0.0000, 1.0000, 0.0000]]), 'target': tensor([154500., 325000., 115000., 159000., 315500.,  75500., 311500., 146000.,\n",
      "         84500., 135500., 145000., 130000.,  81000., 214000., 181000., 134500.,\n",
      "        183500., 135000., 118400., 226000., 155000., 210000., 173500., 129000.,\n",
      "        192000., 153900., 181134., 141000., 181000., 208900., 127000., 284000.,\n",
      "        200500., 135750., 255000., 140000., 138000., 219500., 310000.,  97000.,\n",
      "        114500., 205000., 119500., 253293., 128500., 117500., 115000., 127000.,\n",
      "        451950., 144000., 119000., 196000., 115000., 287000., 144500., 260000.,\n",
      "        213000., 175000., 107000., 107500.,  68500., 154000., 317000., 264132.,\n",
      "        283463., 243000., 109000., 305000.,  93500., 176000., 118858., 134000.,\n",
      "        109008.,  93500., 611657., 173000., 348000., 341000., 141000., 124900.,\n",
      "        118000.,  67000., 113000.,  91300., 149500., 133000., 266000., 190000.,\n",
      "        155900., 155835., 153500., 152000., 124500., 301000., 136500., 169990.,\n",
      "        205000., 183900., 204900., 260000., 163500., 224900., 244000., 132000.,\n",
      "        194000., 156500., 156000., 275000., 145000., 135000.,  60000., 124000.,\n",
      "        127000., 137500., 213500., 119000., 107900., 123000., 112000., 284000.,\n",
      "        133000., 149000., 169000., 207000., 175000., 137000., 236000.,  79500.])}\n"
     ]
    }
   ],
   "source": [
    "for batch in housing.test_dataloader():\n",
    "    print(batch)\n",
    "    break"
   ]
  }
 ],
 "metadata": {
  "kernelspec": {
   "display_name": "pricehousing",
   "language": "python",
   "name": "python3"
  },
  "language_info": {
   "codemirror_mode": {
    "name": "ipython",
    "version": 3
   },
   "file_extension": ".py",
   "mimetype": "text/x-python",
   "name": "python",
   "nbconvert_exporter": "python",
   "pygments_lexer": "ipython3",
   "version": "3.9.19"
  }
 },
 "nbformat": 4,
 "nbformat_minor": 2
}
